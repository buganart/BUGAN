{
  "nbformat": 4,
  "nbformat_minor": 0,
  "metadata": {
    "colab": {
      "name": "custom dataset of script_VAEGAN_voxelsize1_lightning.ipynb",
      "provenance": [],
      "collapsed_sections": [],
      "machine_shape": "hm",
      "include_colab_link": true
    },
    "kernelspec": {
      "name": "python3",
      "display_name": "Python 3"
    },
    "accelerator": "GPU",
    "widgets": {
      "application/vnd.jupyter.widget-state+json": {
        "9fbd1d3ec03b46868a15f2ffa088d95e": {
          "model_module": "@jupyter-widgets/controls",
          "model_name": "HBoxModel",
          "state": {
            "_view_name": "HBoxView",
            "_dom_classes": [],
            "_model_name": "HBoxModel",
            "_view_module": "@jupyter-widgets/controls",
            "_model_module_version": "1.5.0",
            "_view_count": null,
            "_view_module_version": "1.5.0",
            "box_style": "",
            "layout": "IPY_MODEL_4b828f50567d4a94bcfd30ad7343b5a1",
            "_model_module": "@jupyter-widgets/controls",
            "children": [
              "IPY_MODEL_e265b23448f34bbb98e8603834bc3ea1",
              "IPY_MODEL_87982f44f63c4019853b3b3bc672c907"
            ]
          }
        },
        "4b828f50567d4a94bcfd30ad7343b5a1": {
          "model_module": "@jupyter-widgets/base",
          "model_name": "LayoutModel",
          "state": {
            "_view_name": "LayoutView",
            "grid_template_rows": null,
            "right": null,
            "justify_content": null,
            "_view_module": "@jupyter-widgets/base",
            "overflow": null,
            "_model_module_version": "1.2.0",
            "_view_count": null,
            "flex_flow": "row wrap",
            "width": "100%",
            "min_width": null,
            "border": null,
            "align_items": null,
            "bottom": null,
            "_model_module": "@jupyter-widgets/base",
            "top": null,
            "grid_column": null,
            "overflow_y": null,
            "overflow_x": null,
            "grid_auto_flow": null,
            "grid_area": null,
            "grid_template_columns": null,
            "flex": null,
            "_model_name": "LayoutModel",
            "justify_items": null,
            "grid_row": null,
            "max_height": null,
            "align_content": null,
            "visibility": null,
            "align_self": null,
            "height": null,
            "min_height": null,
            "padding": null,
            "grid_auto_rows": null,
            "grid_gap": null,
            "max_width": null,
            "order": null,
            "_view_module_version": "1.2.0",
            "grid_template_areas": null,
            "object_position": null,
            "object_fit": null,
            "grid_auto_columns": null,
            "margin": null,
            "display": "inline-flex",
            "left": null
          }
        },
        "e265b23448f34bbb98e8603834bc3ea1": {
          "model_module": "@jupyter-widgets/controls",
          "model_name": "FloatProgressModel",
          "state": {
            "_view_name": "ProgressView",
            "style": "IPY_MODEL_c87e91fc579a425daa990345dc691964",
            "_dom_classes": [],
            "description": "Epoch 0:  14%",
            "_model_name": "FloatProgressModel",
            "bar_style": "danger",
            "max": 1089,
            "_view_module": "@jupyter-widgets/controls",
            "_model_module_version": "1.5.0",
            "value": 148,
            "_view_count": null,
            "_view_module_version": "1.5.0",
            "orientation": "horizontal",
            "min": 0,
            "description_tooltip": null,
            "_model_module": "@jupyter-widgets/controls",
            "layout": "IPY_MODEL_8735a08f3f1c421bad86221cf4055bcc"
          }
        },
        "87982f44f63c4019853b3b3bc672c907": {
          "model_module": "@jupyter-widgets/controls",
          "model_name": "HTMLModel",
          "state": {
            "_view_name": "HTMLView",
            "style": "IPY_MODEL_b11321286068482e9118d3a631573c60",
            "_dom_classes": [],
            "description": "",
            "_model_name": "HTMLModel",
            "placeholder": "​",
            "_view_module": "@jupyter-widgets/controls",
            "_model_module_version": "1.5.0",
            "value": " 148/1089 [02:34&lt;16:20,  1.04s/it, loss=1.655, v_num=3pv3, vae_loss_step=3.34, vae_loss=3.34, dloss_step=0.00175, dloss=0.00175]",
            "_view_count": null,
            "_view_module_version": "1.5.0",
            "description_tooltip": null,
            "_model_module": "@jupyter-widgets/controls",
            "layout": "IPY_MODEL_2847281fa284451f9e959eadc24bfdb7"
          }
        },
        "c87e91fc579a425daa990345dc691964": {
          "model_module": "@jupyter-widgets/controls",
          "model_name": "ProgressStyleModel",
          "state": {
            "_view_name": "StyleView",
            "_model_name": "ProgressStyleModel",
            "description_width": "initial",
            "_view_module": "@jupyter-widgets/base",
            "_model_module_version": "1.5.0",
            "_view_count": null,
            "_view_module_version": "1.2.0",
            "bar_color": null,
            "_model_module": "@jupyter-widgets/controls"
          }
        },
        "8735a08f3f1c421bad86221cf4055bcc": {
          "model_module": "@jupyter-widgets/base",
          "model_name": "LayoutModel",
          "state": {
            "_view_name": "LayoutView",
            "grid_template_rows": null,
            "right": null,
            "justify_content": null,
            "_view_module": "@jupyter-widgets/base",
            "overflow": null,
            "_model_module_version": "1.2.0",
            "_view_count": null,
            "flex_flow": null,
            "width": null,
            "min_width": null,
            "border": null,
            "align_items": null,
            "bottom": null,
            "_model_module": "@jupyter-widgets/base",
            "top": null,
            "grid_column": null,
            "overflow_y": null,
            "overflow_x": null,
            "grid_auto_flow": null,
            "grid_area": null,
            "grid_template_columns": null,
            "flex": "2",
            "_model_name": "LayoutModel",
            "justify_items": null,
            "grid_row": null,
            "max_height": null,
            "align_content": null,
            "visibility": null,
            "align_self": null,
            "height": null,
            "min_height": null,
            "padding": null,
            "grid_auto_rows": null,
            "grid_gap": null,
            "max_width": null,
            "order": null,
            "_view_module_version": "1.2.0",
            "grid_template_areas": null,
            "object_position": null,
            "object_fit": null,
            "grid_auto_columns": null,
            "margin": null,
            "display": null,
            "left": null
          }
        },
        "b11321286068482e9118d3a631573c60": {
          "model_module": "@jupyter-widgets/controls",
          "model_name": "DescriptionStyleModel",
          "state": {
            "_view_name": "StyleView",
            "_model_name": "DescriptionStyleModel",
            "description_width": "",
            "_view_module": "@jupyter-widgets/base",
            "_model_module_version": "1.5.0",
            "_view_count": null,
            "_view_module_version": "1.2.0",
            "_model_module": "@jupyter-widgets/controls"
          }
        },
        "2847281fa284451f9e959eadc24bfdb7": {
          "model_module": "@jupyter-widgets/base",
          "model_name": "LayoutModel",
          "state": {
            "_view_name": "LayoutView",
            "grid_template_rows": null,
            "right": null,
            "justify_content": null,
            "_view_module": "@jupyter-widgets/base",
            "overflow": null,
            "_model_module_version": "1.2.0",
            "_view_count": null,
            "flex_flow": null,
            "width": null,
            "min_width": null,
            "border": null,
            "align_items": null,
            "bottom": null,
            "_model_module": "@jupyter-widgets/base",
            "top": null,
            "grid_column": null,
            "overflow_y": null,
            "overflow_x": null,
            "grid_auto_flow": null,
            "grid_area": null,
            "grid_template_columns": null,
            "flex": null,
            "_model_name": "LayoutModel",
            "justify_items": null,
            "grid_row": null,
            "max_height": null,
            "align_content": null,
            "visibility": null,
            "align_self": null,
            "height": null,
            "min_height": null,
            "padding": null,
            "grid_auto_rows": null,
            "grid_gap": null,
            "max_width": null,
            "order": null,
            "_view_module_version": "1.2.0",
            "grid_template_areas": null,
            "object_position": null,
            "object_fit": null,
            "grid_auto_columns": null,
            "margin": null,
            "display": null,
            "left": null
          }
        }
      }
    }
  },
  "cells": [
    {
      "cell_type": "markdown",
      "metadata": {
        "id": "view-in-github",
        "colab_type": "text"
      },
      "source": [
        "<a href=\"https://colab.research.google.com/github/buganart/BUGAN/blob/master/custom_dataset_of_script_VAEGAN_voxelsize1_lightning.ipynb\" target=\"_parent\"><img src=\"https://colab.research.google.com/assets/colab-badge.svg\" alt=\"Open In Colab\"/></a>"
      ]
    },
    {
      "cell_type": "code",
      "metadata": {
        "id": "sQtEpYYRh9LM",
        "outputId": "9765fbf0-8db0-4bb3-e70c-c804860e0f86",
        "colab": {
          "base_uri": "https://localhost:8080/",
          "height": 34
        }
      },
      "source": [
        "#mount google drive\n",
        "from google.colab import output\n",
        "from google.colab import drive\n",
        "drive.mount('/content/drive')"
      ],
      "execution_count": null,
      "outputs": [
        {
          "output_type": "stream",
          "text": [
            "Drive already mounted at /content/drive; to attempt to forcibly remount, call drive.mount(\"/content/drive\", force_remount=True).\n"
          ],
          "name": "stdout"
        }
      ]
    },
    {
      "cell_type": "markdown",
      "metadata": {
        "id": "oTJKuhlsmIQQ"
      },
      "source": [
        "#Information"
      ]
    },
    {
      "cell_type": "code",
      "metadata": {
        "id": "1b-Vx_QVHLXH"
      },
      "source": [
        "#set id = None if you want to start a new run\n",
        "#set id = \"run_id\" if you want to resume a run (for example: id = \"u9imsvva\")\n",
        "#id of the current run is shown below in the cell with wandb.init() (the cell 6)\n",
        "id = None\n",
        "#please enter project name (either \"handtool-gan\" or \"tree-gan\")\n",
        "project_name = \"tree-gan\"\n",
        "#enter zip file location after drive/My Drive/ (for example: drive/My Drive/h/a.zip, then enter \"h/a.zip\")\n",
        "zipfile_location = \"IRCMS_GAN_collaborative_database/Research/Peter/Tree_3D_models_obj_auto_generated/sessions/simplified/tree-session-2020-09-14_23-23-Friedrich_2-target-face-num-1000.zip\"  "
      ],
      "execution_count": null,
      "outputs": []
    },
    {
      "cell_type": "markdown",
      "metadata": {
        "id": "fUduMFlzmKmO"
      },
      "source": [
        "#env"
      ]
    },
    {
      "cell_type": "code",
      "metadata": {
        "id": "D3jIEKP7i4Nt"
      },
      "source": [
        "#right click shared folder IRCMS_GAN_collaborative_database and \"Add shortcut to Drive\" to My drive\n",
        "%cd drive/My Drive/IRCMS_GAN_collaborative_database/Experiments/\n",
        "if project_name == \"tree-gan\":\n",
        "    %cd colab-treegan/\n",
        "else:\n",
        "    %cd colab-handtool/\n",
        "\n",
        "#record paths to resources\n",
        "zipfile_loc_list = zipfile_location.split(\"/\")\n",
        "zipfile_name = zipfile_loc_list[-1]\n",
        "zipfile_title = \".\".join(zipfile_name.split(\".\")[:-1])\n",
        "\n",
        "# data_path = \"../../../../../My Drive/Hand-Tool-Data-Set/\"    #take care of .shortcut-targets-by-id/\"folder-id\"/ folders\n",
        "data_path = \"../../../../../../drive/My Drive/\" + (\"/\".join(zipfile_loc_list[:-1]))\n",
        "run_path = \"./\"\n",
        "\n",
        "!apt-get update\n",
        "\n",
        "!pip install pytorch-lightning\n",
        "!pip install trimesh\n",
        "!pip install wandb==0.9.7\n",
        "!apt install -y xvfb\n",
        "!pip install trimesh xvfbwrapper\n",
        "output.clear()"
      ],
      "execution_count": null,
      "outputs": []
    },
    {
      "cell_type": "markdown",
      "metadata": {
        "id": "nYpnFurJt0Pu"
      },
      "source": [
        "#add libraries, and login to wandb"
      ]
    },
    {
      "cell_type": "code",
      "metadata": {
        "id": "NU8OYjiWtzeo"
      },
      "source": [
        "import io\n",
        "from io import BytesIO\n",
        "import os\n",
        "import zipfile\n",
        "import trimesh\n",
        "import numpy as np\n",
        "\n",
        "\n",
        "import torch\n",
        "import torch.nn as nn\n",
        "import torch.nn.functional as F\n",
        "import torch.optim as optim\n",
        "from torchsummary import summary\n",
        "from torch.utils.data import DataLoader, TensorDataset\n",
        "device = torch.device(\"cuda:0\" if torch.cuda.is_available() else \"cpu\")\n",
        "device\n",
        "\n",
        "import pytorch_lightning as pl\n",
        "from pytorch_lightning.loggers import WandbLogger\n",
        "\n",
        "# Ignore excessive warnings\n",
        "import logging\n",
        "logging.propagate = False \n",
        "logging.getLogger().setLevel(logging.ERROR)\n",
        "\n",
        "# WandB – Import the wandb library\n",
        "import wandb\n",
        "\n",
        "from xvfbwrapper import Xvfb"
      ],
      "execution_count": null,
      "outputs": []
    },
    {
      "cell_type": "code",
      "metadata": {
        "id": "V_fQzoLaVP2U"
      },
      "source": [
        "!wandb login\n",
        "output.clear()"
      ],
      "execution_count": null,
      "outputs": []
    },
    {
      "cell_type": "code",
      "metadata": {
        "id": "Y2lZ9OiNchg0",
        "outputId": "d9045f70-38c3-4daf-bb96-a6fe87ca8031",
        "colab": {
          "base_uri": "https://localhost:8080/",
          "height": 134
        }
      },
      "source": [
        "#id None to start a new run. For resuming run, put the id of the run below\n",
        "# id = None\n",
        "resume = False\n",
        "if id is None:\n",
        "    id = wandb.util.generate_id()\n",
        "else:\n",
        "    resume = True\n",
        "\n",
        "run = wandb.init(project=project_name, id=id, entity=\"bugan\", resume=True, dir=run_path)\n",
        "print(\"run id: \" + str(wandb.run.id))\n",
        "print(\"run name: \" + str(wandb.run.name))\n",
        "wandb.watch_called = False\n",
        "wandb.run.save_code = True"
      ],
      "execution_count": null,
      "outputs": [
        {
          "output_type": "display_data",
          "data": {
            "text/html": [
              "\n",
              "                Logging results to <a href=\"https://wandb.com\" target=\"_blank\">Weights & Biases</a> <a href=\"https://docs.wandb.com/integrations/jupyter.html\" target=\"_blank\">(Documentation)</a>.<br/>\n",
              "                Project page: <a href=\"https://app.wandb.ai/bugan/tree-gan\" target=\"_blank\">https://app.wandb.ai/bugan/tree-gan</a><br/>\n",
              "                Run page: <a href=\"https://app.wandb.ai/bugan/tree-gan/runs/11jq3pv3\" target=\"_blank\">https://app.wandb.ai/bugan/tree-gan/runs/11jq3pv3</a><br/>\n",
              "            "
            ],
            "text/plain": [
              "<IPython.core.display.HTML object>"
            ]
          },
          "metadata": {
            "tags": []
          }
        },
        {
          "output_type": "stream",
          "text": [
            "\u001b[34m\u001b[1mwandb\u001b[0m: Wandb version 0.10.5 is available!  To upgrade, please run:\n",
            "\u001b[34m\u001b[1mwandb\u001b[0m:  $ pip install wandb --upgrade\n"
          ],
          "name": "stderr"
        },
        {
          "output_type": "stream",
          "text": [
            "run id: 11jq3pv3\n",
            "run name: 11jq3pv3\n"
          ],
          "name": "stdout"
        }
      ]
    },
    {
      "cell_type": "code",
      "metadata": {
        "id": "Ww3zbHkxAw8B",
        "outputId": "ffd1b2aa-f8db-4667-be0e-c72e7647ade8",
        "colab": {
          "base_uri": "https://localhost:8080/",
          "height": 50
        }
      },
      "source": [
        "#keep track of hyperparams\n",
        "config = wandb.config\n",
        "\n",
        "config.batch_size = 8\n",
        "config.array_size = 32\n",
        "\n",
        "config.z_size = 128\n",
        "config.gen_num_layer_unit = [256, 1024, 512, 128]\n",
        "config.dis_num_layer_unit = [32, 64, 128, 128]\n",
        "config.leakyReLU = False    #leakyReLU implementation still not in modelPL\n",
        "config.balance_voxel_in_space = False\n",
        "\n",
        "config.epochs = 3000\n",
        "config.vae_lr = 0.0025\n",
        "config.vae_encoder_layer = 1\n",
        "config.vae_decoder_layer = 2\n",
        "config.d_lr = 0.00005            \n",
        "config.d_layer = 1\n",
        "config.vae_recon_loss_factor = 1\n",
        "config.seed = 1234\n",
        "config.log_image_interval = 5\n",
        "config.log_mesh_interval = 50\n",
        "config.data_augmentation = True\n",
        "config.num_augment_data = 4\n",
        "\n",
        "config.vae_opt = \"Adam\"\n",
        "config.dis_opt = \"Adam\""
      ],
      "execution_count": null,
      "outputs": [
        {
          "output_type": "stream",
          "text": [
            "\u001b[34m\u001b[1mwandb\u001b[0m: Wandb version 0.10.5 is available!  To upgrade, please run:\n",
            "\u001b[34m\u001b[1mwandb\u001b[0m:  $ pip install wandb --upgrade\n"
          ],
          "name": "stderr"
        }
      ]
    },
    {
      "cell_type": "markdown",
      "metadata": {
        "id": "Alz0eunxK9hI"
      },
      "source": [
        "#dataset"
      ]
    },
    {
      "cell_type": "code",
      "metadata": {
        "id": "whLlZwwAoKuR",
        "outputId": "171615f9-c986-4afb-cde4-9cfb7d8df8d1",
        "colab": {
          "base_uri": "https://localhost:8080/",
          "height": 50
        }
      },
      "source": [
        "### load our package\n",
        "\n",
        "#clone then install\n",
        "# !git clone https://github.com/buganart/BUGAN repo\n",
        "# !pip install -e ./repo/\n",
        "# import site\n",
        "# site.main()\n",
        "\n",
        "#directly install using pip\n",
        "!pip install git+https://github.com/buganart/BUGAN.git#egg=bugan\n",
        "output.clear()\n",
        "\n",
        "\n",
        "from bugan.functionsPL import *\n",
        "from bugan.modelsPL import VAEGAN, VAE, Discriminator, Generator\n",
        "\n",
        "# from functionsPL import *\n",
        "# from modelsPL import VAEGAN, VAE, Discriminator, Generator\n",
        "\n",
        "run.tags.append(\"VAEGAN\")\n",
        "run.group = \"VAEGAN\"\n",
        "\n",
        "###     load dataset\n",
        "np.random.seed(config.seed)\n",
        "# dataModule = DataModule(config, run)\n",
        "# config.num_data = dataModule.size\n",
        "\n",
        "class DataModule_custom(pl.LightningDataModule):\n",
        "\n",
        "    def __init__(self, config, run, filepath):\n",
        "        super().__init__()\n",
        "        self.config = config\n",
        "        self.run = run\n",
        "        self.dataset_artifact = None\n",
        "        self.dataset = None\n",
        "        self.size = 0\n",
        "        self.filepath = filepath\n",
        "\n",
        "    def prepare_data(self):\n",
        "        #process zipfile path information\n",
        "        zipfile_loc_list = self.filepath.split(\"/\")\n",
        "        zipfile_name = zipfile_loc_list[-1]\n",
        "        zipfile_title = \".\".join(zipfile_name.split(\".\")[:-1])\n",
        "            #check if exist .npy (the npy and zip files should be in the same location)\n",
        "        npy_path = \"/\".join(zipfile_loc_list[:-1]) + zipfile_title + \".npy\"\n",
        "        if os.path.isfile(npy_path):\n",
        "            print(zipfile_title + \".npy file already exists!\")\n",
        "            self.filepath = npy_path\n",
        "            return\n",
        "        #process zip file\n",
        "        zf = zipfile.ZipFile(self.filepath, 'r')\n",
        "        #array to hold process information\n",
        "        data = []\n",
        "        failed = []\n",
        "        dataset_array = []\n",
        "        for file_name in zf.namelist():\n",
        "            if file_name.endswith(\".obj\"):\n",
        "                try:\n",
        "                    # print(file_name)\n",
        "                    file = zf.open(file_name, \"r\")\n",
        "                    file = BytesIO(file.read())\n",
        "                    m = trimesh.load(file, file_type=\"obj\", force='mesh')\n",
        "                    array = mesh2arrayCentered(m, array_length = 32)\n",
        "                    # #get filename that can be read by trimesh\n",
        "                    data.append(file_name)\n",
        "                    dataset_array.append(array)\n",
        "                except IndexError:\n",
        "                    failed.append(file_name)\n",
        "                    print(file_name+\" failed\")\n",
        "        #save as numpy array\n",
        "        dataset_array = np.stack(dataset_array, axis=0)\n",
        "        np.save(npy_path, dataset_array)\n",
        "        self.filepath = npy_path\n",
        "        print(\"processed dataset_array shape: \" + str(dataset_array.shape))\n",
        "        print(\"number of failed data: \" + str(len(failed)))\n",
        "        return\n",
        "\n",
        "    def setup(self, stage=None):\n",
        "        config = self.config\n",
        "        dataset = np.load(self.filepath)\n",
        "                \n",
        "        #now all the returned array contains multiple samples\n",
        "        self.size = dataset.shape[0]\n",
        "        self.dataset = torch.unsqueeze(torch.tensor(dataset), 1)\n",
        "\n",
        "    def train_dataloader(self):\n",
        "        config = self.config\n",
        "        tensor_dataset = TensorDataset(self.dataset)\n",
        "        return DataLoader(tensor_dataset, batch_size=config.batch_size, shuffle=True)\n",
        "        \n",
        "config.dataset = zipfile_title\n",
        "dataModule = DataModule_custom(config, run, os.path.join(data_path, zipfile_name))\n",
        "config.num_data = dataModule.size"
      ],
      "execution_count": null,
      "outputs": [
        {
          "output_type": "stream",
          "text": [
            "\u001b[34m\u001b[1mwandb\u001b[0m: Wandb version 0.10.5 is available!  To upgrade, please run:\n",
            "\u001b[34m\u001b[1mwandb\u001b[0m:  $ pip install wandb --upgrade\n"
          ],
          "name": "stderr"
        }
      ]
    },
    {
      "cell_type": "markdown",
      "metadata": {
        "id": "O1TU9N4Y8se3"
      },
      "source": [
        "#train"
      ]
    },
    {
      "cell_type": "code",
      "metadata": {
        "id": "2vzV_Mzfd_MZ",
        "outputId": "d9261ff1-cbba-4767-9224-11a3ddaca18e",
        "colab": {
          "base_uri": "https://localhost:8080/",
          "height": 690,
          "referenced_widgets": [
            "9fbd1d3ec03b46868a15f2ffa088d95e",
            "4b828f50567d4a94bcfd30ad7343b5a1",
            "e265b23448f34bbb98e8603834bc3ea1",
            "87982f44f63c4019853b3b3bc672c907",
            "c87e91fc579a425daa990345dc691964",
            "8735a08f3f1c421bad86221cf4055bcc",
            "b11321286068482e9118d3a631573c60",
            "2847281fa284451f9e959eadc24bfdb7"
          ]
        }
      },
      "source": [
        "#set seed\n",
        "torch.manual_seed(config.seed)\n",
        "torch.autograd.set_detect_anomaly(True)\n",
        "\n",
        "#render setup\n",
        "vdisplay = Xvfb()\n",
        "vdisplay.start()\n",
        "\n",
        "#wandb logger setup\n",
        "wandb_logger = WandbLogger(experiment=run, log_model=True)\n",
        "\n",
        "checkpoint_path = os.path.join(wandb.run.dir, 'checkpoint.ckpt')\n",
        "\n",
        "if resume:\n",
        "    #get file from the wandb cloud\n",
        "    load_checkpoint_from_cloud(checkpoint_path = 'checkpoint.ckpt')\n",
        "    #restore training state completely\n",
        "    trainer = pl.Trainer(max_epochs = config.epochs, logger=wandb_logger, checkpoint_callback = None, resume_from_checkpoint = checkpoint_path)\n",
        "else:\n",
        "    trainer = pl.Trainer(max_epochs = config.epochs, logger=wandb_logger, checkpoint_callback = None)\n",
        "\n",
        "#model\n",
        "vaegan = VAEGAN(config, trainer, save_model_path = checkpoint_path).to(device)\n",
        "wandb_logger.watch(vaegan)\n",
        "\n",
        "trainer.fit(vaegan, dataModule)"
      ],
      "execution_count": null,
      "outputs": [
        {
          "output_type": "stream",
          "text": [
            "GPU available: True, used: False\n",
            "TPU available: False, using: 0 TPU cores\n",
            "/usr/local/lib/python3.6/dist-packages/pytorch_lightning/utilities/distributed.py:45: UserWarning: GPU available but not used. Set the --gpus flag when calling the script.\n",
            "  warnings.warn(*args, **kwargs)\n"
          ],
          "name": "stderr"
        },
        {
          "output_type": "stream",
          "text": [
            "tree-session-2020-09-14_23-23-Friedrich_2-target-face-num-1000.npy file already exists!\n"
          ],
          "name": "stdout"
        },
        {
          "output_type": "stream",
          "text": [
            "\u001b[34m\u001b[1mwandb\u001b[0m: Wandb version 0.10.5 is available!  To upgrade, please run:\n",
            "\u001b[34m\u001b[1mwandb\u001b[0m:  $ pip install wandb --upgrade\n",
            "\n",
            "  | Name          | Type          | Params\n",
            "------------------------------------------------\n",
            "0 | vae           | VAE           | 62 M  \n",
            "1 | discriminator | Discriminator | 1 M   \n",
            "/usr/local/lib/python3.6/dist-packages/pytorch_lightning/utilities/distributed.py:45: UserWarning: The dataloader, train dataloader, does not have many workers which may be a bottleneck. Consider increasing the value of the `num_workers` argument` (try 4 which is the number of cpus on this machine) in the `DataLoader` init to improve performance.\n",
            "  warnings.warn(*args, **kwargs)\n"
          ],
          "name": "stderr"
        },
        {
          "output_type": "display_data",
          "data": {
            "application/vnd.jupyter.widget-view+json": {
              "model_id": "9fbd1d3ec03b46868a15f2ffa088d95e",
              "version_minor": 0,
              "version_major": 2
            },
            "text/plain": [
              "HBox(children=(FloatProgress(value=1.0, bar_style='info', description='Training', layout=Layout(flex='2'), max…"
            ]
          },
          "metadata": {
            "tags": []
          }
        },
        {
          "output_type": "stream",
          "text": [
            "/usr/local/lib/python3.6/dist-packages/torch/nn/functional.py:3121: UserWarning: Default upsampling behavior when mode=trilinear is changed to align_corners=False since 0.4.0. Please specify align_corners=True if the old behavior is desired. See the documentation of nn.Upsample for details.\n",
            "  \"See the documentation of nn.Upsample for details.\".format(mode))\n",
            "/usr/local/lib/python3.6/dist-packages/torch/nn/functional.py:1625: UserWarning: nn.functional.sigmoid is deprecated. Use torch.sigmoid instead.\n",
            "  warnings.warn(\"nn.functional.sigmoid is deprecated. Use torch.sigmoid instead.\")\n",
            "/usr/local/lib/python3.6/dist-packages/pytorch_lightning/utilities/distributed.py:45: UserWarning: \n",
            "        TrainResult and EvalResult were deprecated in 0.9.1 and support will drop in 1.0.0.\n",
            "        Use self.log and .write from the LightningModule to log metrics and write predictions.\n",
            "        training_step can now only return a scalar (for the loss) or a dictionary with anything you want.\n",
            "\n",
            "        Option 1:\n",
            "        return loss\n",
            "\n",
            "        Option 2:\n",
            "        return {'loss': loss, 'anything_else': ...}\n",
            "\n",
            "        Option 3:\n",
            "        return {'loss': loss, 'hiddens': hiddens, 'anything_else': ...}\n",
            "            \n",
            "  warnings.warn(*args, **kwargs)\n"
          ],
          "name": "stderr"
        },
        {
          "output_type": "stream",
          "text": [
            "\n"
          ],
          "name": "stdout"
        },
        {
          "output_type": "stream",
          "text": [
            "/usr/local/lib/python3.6/dist-packages/pytorch_lightning/utilities/distributed.py:45: UserWarning: Detected KeyboardInterrupt, attempting graceful shutdown...\n",
            "  warnings.warn(*args, **kwargs)\n"
          ],
          "name": "stderr"
        },
        {
          "output_type": "execute_result",
          "data": {
            "text/plain": [
              "1"
            ]
          },
          "metadata": {
            "tags": []
          },
          "execution_count": 9
        }
      ]
    }
  ]
}