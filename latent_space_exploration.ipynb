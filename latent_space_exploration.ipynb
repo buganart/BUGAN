{
  "nbformat": 4,
  "nbformat_minor": 0,
  "metadata": {
    "colab": {
      "name": "latent_space_exploration.ipynb",
      "provenance": [],
      "collapsed_sections": [],
      "machine_shape": "hm",
      "include_colab_link": true
    },
    "kernelspec": {
      "name": "python3",
      "display_name": "Python 3"
    },
    "accelerator": "GPU"
  },
  "cells": [
    {
      "cell_type": "markdown",
      "metadata": {
        "id": "view-in-github",
        "colab_type": "text"
      },
      "source": [
        "<a href=\"https://colab.research.google.com/github/buganart/BUGAN/blob/master/latent_space_exploration.ipynb\" target=\"_parent\"><img src=\"https://colab.research.google.com/assets/colab-badge.svg\" alt=\"Open In Colab\"/></a>"
      ]
    },
    {
      "cell_type": "markdown",
      "metadata": {
        "id": "LwbGaO5aJS8y"
      },
      "source": [
        "Before starting please save the notebook in your drive by clicking on `File -> Save a copy in drive`"
      ]
    },
    {
      "cell_type": "code",
      "metadata": {
        "id": "sQtEpYYRh9LM",
        "cellView": "form"
      },
      "source": [
        "#@markdown Mount google drive.\n",
        "from google.colab import output\n",
        "from google.colab import drive\n",
        "drive.mount('/content/drive')\n",
        "\n",
        "# Check if we have linked the folder\n",
        "from pathlib import Path\n",
        "if not Path(\"/content/drive/My Drive/IRCMS_GAN_collaborative_database\").exists():\n",
        "    print(\n",
        "        \"Shortcut to our shared drive folder doesn't exits.\\n\\n\"\n",
        "        \"\\t1. Go to the google drive web UI\\n\"\n",
        "        \"\\t2. Right click shared folder IRCMS_GAN_collaborative_database and click \\\"Add shortcut to Drive\\\"\"\n",
        "    )"
      ],
      "execution_count": null,
      "outputs": []
    },
    {
      "cell_type": "code",
      "metadata": {
        "id": "1b-Vx_QVHLXH"
      },
      "source": [
        "#@title Configure dataset\n",
        "#@markdown - choose whether to use wandb id or use checkpoint_path to select checkpoint file\n",
        "is_wandb_id = True    #@param {type:\"boolean\"}\n",
        "\n",
        "#@markdown Choice 1: wandb id and project_name to select checkpoint file\n",
        "#@markdown - will be ignored if is_wandb_id = False\n",
        "#@markdown - set `\"run_id\"` to resume a run (for example: `u9imsvva`)\n",
        "#@markdown - The id of the current run is shown below in the cell with `wandb.init()` or you can find it in the wandb web UI.\n",
        "id = \"60ukopye\" #@param {type:\"string\"}\n",
        "#@markdown - Enter project name (either `handtool-gan` or `tree-gan`)\n",
        "project_name = \"tree-gan\" #@param [\"tree-gan\", \"handtool-gan\"]\n",
        "\n",
        "#@markdown Choice 2: file path to select checkpoint file\n",
        "#@markdown - will be ignored if is_wandb_id = True\n",
        "#@markdown - For example via the file browser on the left to locate and right click to copy the path.)\n",
        "#@markdown - file folder example: `/content/drive/My Drive/h/k` \n",
        "ckpt_file_location = f\"/content/drive/My Drive/IRCMS_GAN_collaborative_database/Experiments/exportObjects/{id}\" #@param {type:\"string\"}\n",
        "\n",
        "#@markdown Enter 2 files location to specify 2 latent vectors.   \n",
        "#@markdown - For example via the file browser on the left to locate and right click to copy the path.)\n",
        "#@markdown - file folder example: `/content/drive/My Drive/h/k` \n",
        "file1 = \"/content/drive/My Drive/IRCMS_GAN_collaborative_database/Research/Peter/Tree_3D_models_obj/obj_files/old_1.obj\" #@param {type:\"string\"}\n",
        "file2 = \"/content/drive/My Drive/IRCMS_GAN_collaborative_database/Research/Peter/Tree_3D_models_obj/obj_files/maple_example2.obj\" #@param {type:\"string\"}\n",
        "\n",
        "#@markdown Enter how many samples to generate\n",
        "test_num_samples = 20    #@param {type:\"integer\"}\n",
        "#@markdown Enter export location (folder/directory).   \n",
        "#@markdown - For example via the file browser on the left to locate and right click to copy the path.)\n",
        "#@markdown - file folder example: `/content/drive/My Drive/h/k` \n",
        "export_location = f\"/content/drive/My Drive/IRCMS_GAN_collaborative_database/Experiments/exportObjects/{id}\" #@param {type:\"string\"}\n",
        "\n",
        "\n",
        "\n",
        "print(\"is_wandb_id:\", is_wandb_id)\n",
        "if is_wandb_id:\n",
        "    print(\"id:\", id)\n",
        "else:\n",
        "    print(\"ckpt_file_location:\", ckpt_file_location)\n",
        "print(\"export_location:\", export_location)\n"
      ],
      "execution_count": null,
      "outputs": []
    },
    {
      "cell_type": "code",
      "metadata": {
        "id": "bp1sqgZf5lRv"
      },
      "source": [
        "#@markdown Install wandb and log in\n",
        "if is_wandb_id:\n",
        "    !pip install wandb\n",
        "    output.clear()\n",
        "    import wandb\n",
        "    !wandb login\n",
        "    run = wandb.init(project=project_name, id=id, entity=\"bugan\", resume=True, dir=\"./\")\n",
        "    output.clear()\n",
        "    print(\"run id: \" + str(wandb.run.id))\n",
        "    print(\"run name: \" + str(wandb.run.name))\n",
        "    print(\"ok!\")"
      ],
      "execution_count": null,
      "outputs": []
    },
    {
      "cell_type": "markdown",
      "metadata": {
        "id": "fUduMFlzmKmO"
      },
      "source": [
        "# To just train a model, no edits should be required in any cells below."
      ]
    },
    {
      "cell_type": "code",
      "metadata": {
        "id": "D3jIEKP7i4Nt"
      },
      "source": [
        "import os\n",
        "from pathlib import Path\n",
        "os.environ[\"WANDB_MODE\"] = \"dryrun\"\n",
        "\n",
        "%cd /content/drive/My Drive/IRCMS_GAN_collaborative_database/Experiments/\n",
        "\n",
        "run_path = \"./\"\n",
        "\n",
        "!apt-get update\n",
        "\n",
        "!pip install pytorch-lightning\n",
        "!pip install trimesh\n",
        "!apt install -y xvfb\n",
        "!pip install trimesh xvfbwrapper\n",
        "#bugan package\n",
        "!pip install -U git+https://github.com/buganart/BUGAN.git#egg=bugan\n",
        "output.clear()\n",
        "print('ok!')"
      ],
      "execution_count": null,
      "outputs": []
    },
    {
      "cell_type": "code",
      "metadata": {
        "id": "NU8OYjiWtzeo"
      },
      "source": [
        "import io\n",
        "from io import BytesIO\n",
        "import zipfile\n",
        "import trimesh\n",
        "import numpy as np\n",
        "\n",
        "\n",
        "import torch\n",
        "import torch.nn as nn\n",
        "import torch.nn.functional as F\n",
        "import torch.optim as optim\n",
        "device = torch.device(\"cuda:0\" if torch.cuda.is_available() else \"cpu\")\n",
        "device\n",
        "\n",
        "import pytorch_lightning as pl\n",
        "from pytorch_lightning.loggers import WandbLogger\n",
        "\n",
        "\n",
        "from bugan.functionsPL import *\n",
        "from bugan.modelsPL import VAEGAN\n",
        "\n",
        "# Ignore excessive warnings\n",
        "import logging\n",
        "logging.propagate = False \n",
        "logging.getLogger().setLevel(logging.ERROR)\n",
        "\n",
        "from xvfbwrapper import Xvfb"
      ],
      "execution_count": null,
      "outputs": []
    },
    {
      "cell_type": "markdown",
      "metadata": {
        "id": "XZ04363JY9Yt"
      },
      "source": [
        "#load model"
      ]
    },
    {
      "cell_type": "code",
      "metadata": {
        "id": "O5H_WnkNY_aE"
      },
      "source": [
        "if is_wandb_id:\n",
        "    checkpoint_path = os.path.join(wandb.run.dir, 'checkpoint.ckpt')\n",
        "    load_checkpoint_from_cloud(checkpoint_path = 'checkpoint.ckpt')\n",
        "else:\n",
        "    checkpoint_path = ckpt_file_location\n",
        "    \n",
        "vaegan = VAEGAN.load_from_checkpoint(checkpoint_path)\n",
        "vaegan = vaegan.eval().to(device)"
      ],
      "execution_count": null,
      "outputs": []
    },
    {
      "cell_type": "markdown",
      "metadata": {
        "id": "sPuEGujJirJl"
      },
      "source": [
        "#latent space walk (currently only for VAE/VAEGAN)"
      ]
    },
    {
      "cell_type": "code",
      "metadata": {
        "id": "taH1etQDiv8z"
      },
      "source": [
        "#obtain latent vector\n",
        "vae = vaegan.vae\n",
        "\n",
        "file_loc = [file1,file2]\n",
        "latent_array = []\n",
        "for f_loc in file_loc:\n",
        "    f = Path(f_loc)\n",
        "    m = trimesh.load(f, force=\"mesh\")\n",
        "    # m.show()\n",
        "    m = mesh2arrayCentered(m, array_length=32)\n",
        "    m = m[np.newaxis,np.newaxis,:,:,:]\n",
        "    m = torch.Tensor(m).float().type_as(vae.vae_encoder.dis_fc1[0].weight)\n",
        "    m_rec, z, _ = vae(m, output_all=True)\n",
        "    latent_array.append(z[0].detach().cpu().numpy())\n",
        "    m_rec = m_rec.detach().cpu().numpy()\n",
        "    m_rec = m_rec[0,0,:,:,:]\n",
        "    m_rec_bool_array = m_rec > 0\n",
        "    voxelmesh = netarray2mesh(m_rec_bool_array)\n",
        "    # voxelmesh.show()"
      ],
      "execution_count": null,
      "outputs": []
    },
    {
      "cell_type": "code",
      "metadata": {
        "id": "JiO3NSqPoW6I"
      },
      "source": [
        "#latent space walk\n",
        "latent_vectors = np.linspace(latent_array[0], latent_array[1], num=test_num_samples)\n",
        "# print(latent_vectors.shape)\n",
        "\n",
        "#genereate meshes from the latent_vectors\n",
        "latent_vectors = torch.Tensor(latent_vectors).float().type_as(vae.vae_encoder.dis_fc1[0].weight)\n",
        "meshes = vae.vae_decoder(latent_vectors)[:, 0, :, :, :]\n",
        "meshes = meshes.detach().cpu().numpy()\n",
        "\n",
        "#create directory\n",
        "export_location = Path(export_location)\n",
        "print(export_location.exists())\n",
        "if not export_location.exists():\n",
        "    export_location.mkdir(parents=True)\n",
        "\n",
        "for n in range(test_num_samples):\n",
        "    sample_tree_array = meshes[n] > 0\n",
        "    voxelmesh = netarray2mesh(sample_tree_array)\n",
        "    export_path = export_location / f\"sample_{n}.obj\"\n",
        "    voxelmesh.export(file_obj=export_path, file_type=\"obj\")\n",
        "print(\"ok!\")"
      ],
      "execution_count": null,
      "outputs": []
    }
  ]
}