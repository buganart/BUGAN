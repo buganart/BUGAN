{
  "nbformat": 4,
  "nbformat_minor": 0,
  "metadata": {
    "colab": {
      "name": "fid_score.ipynb",
      "provenance": [],
      "collapsed_sections": [],
      "machine_shape": "hm",
      "include_colab_link": true
    },
    "kernelspec": {
      "name": "python3",
      "display_name": "Python 3"
    },
    "accelerator": "GPU"
  },
  "cells": [
    {
      "cell_type": "markdown",
      "metadata": {
        "id": "view-in-github",
        "colab_type": "text"
      },
      "source": [
        "<a href=\"https://colab.research.google.com/github/buganart/BUGAN/blob/master/fid_score.ipynb\" target=\"_parent\"><img src=\"https://colab.research.google.com/assets/colab-badge.svg\" alt=\"Open In Colab\"/></a>"
      ]
    },
    {
      "cell_type": "code",
      "metadata": {
        "id": "sQtEpYYRh9LM",
        "cellView": "form",
        "outputId": "a66d9335-cf83-4374-dd0d-43fc6ef0920b",
        "colab": {
          "base_uri": "https://localhost:8080/"
        }
      },
      "source": [
        "#@markdown Mount google drive.\n",
        "from google.colab import output\n",
        "from google.colab import drive\n",
        "drive.mount('/content/drive')\n",
        "\n",
        "# Check if we have linked the folder\n",
        "from pathlib import Path\n",
        "if not Path(\"/content/drive/My Drive/IRCMS_GAN_collaborative_database\").exists():\n",
        "    print(\n",
        "        \"Shortcut to our shared drive folder doesn't exits.\\n\\n\"\n",
        "        \"\\t1. Go to the google drive web UI\\n\"\n",
        "        \"\\t2. Right click shared folder IRCMS_GAN_collaborative_database and click \\\"Add shortcut to Drive\\\"\"\n",
        "    )"
      ],
      "execution_count": 1,
      "outputs": [
        {
          "output_type": "stream",
          "text": [
            "Drive already mounted at /content/drive; to attempt to forcibly remount, call drive.mount(\"/content/drive\", force_remount=True).\n"
          ],
          "name": "stdout"
        }
      ]
    },
    {
      "cell_type": "markdown",
      "metadata": {
        "id": "0ai4r2uTlrS6"
      },
      "source": [
        "The FID score script is based on pytorch_fid package"
      ]
    },
    {
      "cell_type": "code",
      "metadata": {
        "id": "syG3U_voOkvu",
        "outputId": "bc3a54e5-5e15-4e8a-8594-db1d941de65d",
        "colab": {
          "base_uri": "https://localhost:8080/"
        }
      },
      "source": [
        "#@title calculate FID score given 2 directories containing images\n",
        "#@markdown Enter images of 3D object dataset location.  \n",
        "#@markdown - For example via the file browser on the left to locate and right click to copy the path.)\n",
        "#@markdown - file folder example: `/content/drive/My Drive/h/k` \n",
        "real_location = \"/content/drive/My Drive/IRCMS_GAN_collaborative_database/Experiments/exportObjects/dataset_ply_out/img_folder\" #@param {type:\"string\"}\n",
        "\n",
        "#@markdown Enter images of generated 3D objects location.\n",
        "#@markdown - For example via the file browser on the left to locate and right click to copy the path.)\n",
        "#@markdown - file folder example: `/content/drive/My Drive/h/k`\n",
        "generated_location = \"/content/drive/My Drive/IRCMS_GAN_collaborative_database/Experiments/exportObjects/172mqt5l/img_folder\" #@param {type:\"string\"}\n",
        "\n",
        "print(\"real_location:\", real_location)\n",
        "print(\"generated_location:\", generated_location)"
      ],
      "execution_count": 2,
      "outputs": [
        {
          "output_type": "stream",
          "text": [
            "real_location: /content/drive/My Drive/IRCMS_GAN_collaborative_database/Experiments/exportObjects/172mqt5l/img_folder\n",
            "generated_location: /content/drive/My Drive/IRCMS_GAN_collaborative_database/Experiments/exportObjects/172mqt5l/img_folder\n"
          ],
          "name": "stdout"
        }
      ]
    },
    {
      "cell_type": "code",
      "metadata": {
        "id": "e5wLC0hflmcx"
      },
      "source": [
        "!pip install pytorch-fid\n",
        "output.clear()\n",
        "from pytorch_fid.fid_score import *\n",
        "import torch"
      ],
      "execution_count": 3,
      "outputs": []
    },
    {
      "cell_type": "code",
      "metadata": {
        "id": "pGX8LEdqJlOR"
      },
      "source": [
        "def create_model(device, dims):\n",
        "    from pytorch_fid.inception import InceptionV3\n",
        "    block_idx = InceptionV3.BLOCK_INDEX_BY_DIM[dims]\n",
        "    model = InceptionV3([block_idx]).to(device)\n",
        "    return model"
      ],
      "execution_count": 4,
      "outputs": []
    },
    {
      "cell_type": "code",
      "metadata": {
        "id": "iTZHD2FQmOmX"
      },
      "source": [
        "#reference: https://github.com/mseitzer/pytorch-fid/blob/master/pytorch_fid/fid_score.py\n",
        "\n",
        "paths = [str(generated_location), str(real_location)]\n",
        "batch_size = 64\n",
        "device = torch.device('cuda' if (torch.cuda.is_available()) else 'cpu')\n",
        "dims = 2048     #Dimensionality of Inception features to use. By default, uses pool3 features'\n",
        "\n",
        "#calculate statistics for all paths\n",
        "model = create_model(device, dims)\n",
        "file_ext = ['.png', '.jpg']\n",
        "for i in range(len(paths)):\n",
        "    path = Path(paths[i])\n",
        "    if path.suffix == \".npz\":\n",
        "        continue\n",
        "    else:\n",
        "        path_summary = path / \"summary.npz\"\n",
        "    #check if summary file exists (if not it will create one)\n",
        "    if not path_summary.exists():\n",
        "        files = [\n",
        "            file\n",
        "            for file in path.rglob(\"*.*\")\n",
        "            if file.suffix in file_ext and not \"__MACOSX\" in str(file)\n",
        "        ]\n",
        "        m, s = calculate_activation_statistics(files, model, batch_size, dims, device)\n",
        "        np.savez(str(path_summary), mu=m, sigma=s)\n",
        "    #change path to summary file\n",
        "    paths[i] = str(path_summary)\n",
        "\n",
        "#calculate fid score\n",
        "fid_value = calculate_fid_given_paths(paths, batch_size, device, dims)\n",
        "print(fid_value)"
      ],
      "execution_count": null,
      "outputs": []
    }
  ]
}