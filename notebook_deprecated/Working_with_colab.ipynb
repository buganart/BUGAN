{
  "nbformat": 4,
  "nbformat_minor": 0,
  "metadata": {
    "colab": {
      "name": "Working with colab.ipynb",
      "provenance": [],
      "toc_visible": true,
      "authorship_tag": "ABX9TyPHkEc1VFgRqVlfUmbhal0I",
      "include_colab_link": true
    },
    "kernelspec": {
      "name": "python3",
      "display_name": "Python 3"
    }
  },
  "cells": [
    {
      "cell_type": "markdown",
      "metadata": {
        "id": "view-in-github",
        "colab_type": "text"
      },
      "source": [
        "<a href=\"https://colab.research.google.com/github/pacnpacn/BUGAN/blob/master/Working_with_colab.ipynb\" target=\"_parent\"><img src=\"https://colab.research.google.com/assets/colab-badge.svg\" alt=\"Open In Colab\"/></a>"
      ]
    },
    {
      "cell_type": "markdown",
      "metadata": {
        "id": "QAeh5xYU1TeC",
        "colab_type": "text"
      },
      "source": [
        "# Working with colab"
      ]
    },
    {
      "cell_type": "markdown",
      "metadata": {
        "id": "VlcmQ8vU4sbA",
        "colab_type": "text"
      },
      "source": [
        "## Getting our code from github"
      ]
    },
    {
      "cell_type": "markdown",
      "metadata": {
        "id": "AUHxS_oL214c",
        "colab_type": "text"
      },
      "source": [
        "Clone our repository to `/content/repo`."
      ]
    },
    {
      "cell_type": "code",
      "metadata": {
        "id": "tqvzqSow1cMb",
        "colab_type": "code",
        "colab": {
          "base_uri": "https://localhost:8080/",
          "height": 103
        },
        "outputId": "da2baac8-997f-47e5-9806-d9da588afe0c"
      },
      "source": [
        "!git clone https://github.com/pacnpacn/BUGAN /content/repo"
      ],
      "execution_count": 4,
      "outputs": [
        {
          "output_type": "stream",
          "text": [
            "Cloning into '/content/repo'...\n",
            "remote: Enumerating objects: 3, done.\u001b[K\n",
            "remote: Counting objects: 100% (3/3), done.\u001b[K\n",
            "remote: Total 3 (delta 0), reused 3 (delta 0), pack-reused 0\u001b[K\n",
            "Unpacking objects: 100% (3/3), done.\n"
          ],
          "name": "stdout"
        }
      ]
    },
    {
      "cell_type": "markdown",
      "metadata": {
        "id": "-8wIjDbT4yT1",
        "colab_type": "text"
      },
      "source": [
        "Switch working directory to the repository and list the content."
      ]
    },
    {
      "cell_type": "code",
      "metadata": {
        "id": "1SDINCHZ43Bq",
        "colab_type": "code",
        "colab": {
          "base_uri": "https://localhost:8080/",
          "height": 51
        },
        "outputId": "9e755c02-3035-4d68-d357-0efd064c7e85"
      },
      "source": [
        "%cd /content/repo\n",
        "!ls"
      ],
      "execution_count": 6,
      "outputs": [
        {
          "output_type": "stream",
          "text": [
            "/content/repo\n",
            "README.md\n"
          ],
          "name": "stdout"
        }
      ]
    },
    {
      "cell_type": "markdown",
      "metadata": {
        "id": "-1UcC2IW7NhK",
        "colab_type": "text"
      },
      "source": [
        "To fetch the latest changes use `git pull`.\n"
      ]
    },
    {
      "cell_type": "code",
      "metadata": {
        "id": "E1IpGb-z7M1Q",
        "colab_type": "code",
        "colab": {
          "base_uri": "https://localhost:8080/",
          "height": 224
        },
        "outputId": "fe5ac117-8ed2-4525-ebc6-060fdb6bfb1f"
      },
      "source": [
        "!git pull"
      ],
      "execution_count": 9,
      "outputs": [
        {
          "output_type": "stream",
          "text": [
            "remote: Enumerating objects: 4, done.\u001b[K\n",
            "remote: Counting objects:  25% (1/4)\u001b[K\rremote: Counting objects:  50% (2/4)\u001b[K\rremote: Counting objects:  75% (3/4)\u001b[K\rremote: Counting objects: 100% (4/4)\u001b[K\rremote: Counting objects: 100% (4/4), done.\u001b[K\n",
            "remote: Compressing objects:  33% (1/3)\u001b[K\rremote: Compressing objects:  66% (2/3)\u001b[K\rremote: Compressing objects: 100% (3/3)\u001b[K\rremote: Compressing objects: 100% (3/3), done.\u001b[K\n",
            "remote: Total 3 (delta 0), reused 3 (delta 0), pack-reused 0\u001b[K\n",
            "Unpacking objects:  33% (1/3)   \rUnpacking objects:  66% (2/3)   \rUnpacking objects: 100% (3/3)   \rUnpacking objects: 100% (3/3), done.\n",
            "From https://github.com/pacnpacn/BUGAN\n",
            "   1af80f6..aeea360  master     -> origin/master\n",
            "Updating 1af80f6..aeea360\n",
            "Fast-forward\n",
            " .gitignore | 138 \u001b[32m+++++++++++++++++++++++++++++++++++++++++++++++++++++++++++++\u001b[m\n",
            " 1 file changed, 138 insertions(+)\n",
            " create mode 100644 .gitignore\n"
          ],
          "name": "stdout"
        }
      ]
    },
    {
      "cell_type": "markdown",
      "metadata": {
        "id": "uqyQZkRG3HNS",
        "colab_type": "text"
      },
      "source": [
        "## Saving work to github from colab\n",
        "\n",
        "If you just want to save the notebook you are working on. Go to \"File\" -> \"Save a copy in GitHub\".\n",
        "\n",
        "If we want to push other files to GitHub we need to authenticate either via ssh-keys, a token or username and password.\n",
        "\n",
        "[todo]\n",
        "\n"
      ]
    },
    {
      "cell_type": "markdown",
      "metadata": {
        "id": "q7jaqs_V2wxE",
        "colab_type": "text"
      },
      "source": [
        "## Mount google drive. \n",
        "\n",
        "Note: **this allows this notebook to access your entire google drive**. Use with care and only if you trust the notebook.\n",
        "\n",
        "Follow the instructions in the output after running the cell below."
      ]
    },
    {
      "cell_type": "code",
      "metadata": {
        "id": "mULC7ETN3HP1",
        "colab_type": "code",
        "colab": {}
      },
      "source": [
        "from google.colab import drive\n",
        "drive.mount('/content/drive')"
      ],
      "execution_count": null,
      "outputs": []
    },
    {
      "cell_type": "markdown",
      "metadata": {
        "id": "hgNaXUuf4EBB",
        "colab_type": "text"
      },
      "source": [
        "How to make a shared drive folder appear?\n",
        "\n",
        "Go to google drive → \"Shared with me\"  → \"Research\" → Right click → \"Add shortcut to drive\"\n",
        "\n",
        "The folder will appear at `/content/drive/My\\ Drive/Research` inside the colab notebook once your drive is mounted."
      ]
    },
    {
      "cell_type": "code",
      "metadata": {
        "id": "6LSf67Kr6JEX",
        "colab_type": "code",
        "colab": {
          "base_uri": "https://localhost:8080/",
          "height": 86
        },
        "outputId": "77d3521d-0812-4ad6-84e2-5a606fda718b"
      },
      "source": [
        "!ls /content/drive/My\\ Drive/Research"
      ],
      "execution_count": 8,
      "outputs": [
        {
          "output_type": "stream",
          "text": [
            " Daniel\t\t   'Initial Development Workflow.gdoc'\t Peter\n",
            " Francois\t    Lab_website_reporting.gdoc\t\t Recorded_Media\n",
            " GAN_Outline.gdoc   Logins.gdoc\t\t\t\t Roberto\n",
            " Images\t\t    Mathis_Ryan_Team_Timeline.gdoc\n"
          ],
          "name": "stdout"
        }
      ]
    }
  ]
}