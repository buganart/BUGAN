{
  "nbformat": 4,
  "nbformat_minor": 0,
  "metadata": {
    "colab": {
      "name": "Trimesh XVFB Offscreen Render.ipynb",
      "provenance": [],
      "collapsed_sections": [],
      "authorship_tag": "ABX9TyMTdcOiiDk6REcY2ZIo4iBm",
      "include_colab_link": true
    },
    "kernelspec": {
      "name": "python3",
      "display_name": "Python 3"
    }
  },
  "cells": [
    {
      "cell_type": "markdown",
      "metadata": {
        "id": "view-in-github",
        "colab_type": "text"
      },
      "source": [
        "<a href=\"https://colab.research.google.com/github/buganart/BUGAN/blob/master/Trimesh_XVFB_Offscreen_Render.ipynb\" target=\"_parent\"><img src=\"https://colab.research.google.com/assets/colab-badge.svg\" alt=\"Open In Colab\"/></a>"
      ]
    },
    {
      "cell_type": "code",
      "metadata": {
        "id": "eaJh_qjcjXbQ",
        "colab_type": "code",
        "colab": {
          "base_uri": "https://localhost:8080/",
          "height": 588
        },
        "outputId": "bae9ea78-8088-42c1-f667-07b002b61504"
      },
      "source": [
        "!apt install -y xvfb\n",
        "%pip install trimesh xvfbwrapper"
      ],
      "execution_count": 1,
      "outputs": [
        {
          "output_type": "stream",
          "text": [
            "Reading package lists... Done\n",
            "Building dependency tree       \n",
            "Reading state information... Done\n",
            "The following package was automatically installed and is no longer required:\n",
            "  libnvidia-common-440\n",
            "Use 'apt autoremove' to remove it.\n",
            "The following NEW packages will be installed:\n",
            "  xvfb\n",
            "0 upgraded, 1 newly installed, 0 to remove and 35 not upgraded.\n",
            "Need to get 784 kB of archives.\n",
            "After this operation, 2,266 kB of additional disk space will be used.\n",
            "Get:1 http://archive.ubuntu.com/ubuntu bionic-updates/universe amd64 xvfb amd64 2:1.19.6-1ubuntu4.4 [784 kB]\n",
            "Fetched 784 kB in 1s (992 kB/s)\n",
            "Selecting previously unselected package xvfb.\n",
            "(Reading database ... 144487 files and directories currently installed.)\n",
            "Preparing to unpack .../xvfb_2%3a1.19.6-1ubuntu4.4_amd64.deb ...\n",
            "Unpacking xvfb (2:1.19.6-1ubuntu4.4) ...\n",
            "Setting up xvfb (2:1.19.6-1ubuntu4.4) ...\n",
            "Processing triggers for man-db (2.8.3-2ubuntu0.1) ...\n",
            "Collecting trimesh\n",
            "\u001b[?25l  Downloading https://files.pythonhosted.org/packages/ff/f0/390e5318507be5c938e9b5714c40aa3ea6e8862f9cdaa7091b48eb0293cf/trimesh-3.8.1-py3-none-any.whl (621kB)\n",
            "\u001b[K     |████████████████████████████████| 624kB 2.7MB/s \n",
            "\u001b[?25hCollecting xvfbwrapper\n",
            "  Downloading https://files.pythonhosted.org/packages/57/b6/4920eabda9b49630dea58745e79f9919aba6408d460afe758bf6e9b21a04/xvfbwrapper-0.2.9.tar.gz\n",
            "Requirement already satisfied: numpy in /usr/local/lib/python3.6/dist-packages (from trimesh) (1.18.5)\n",
            "Requirement already satisfied: setuptools in /usr/local/lib/python3.6/dist-packages (from trimesh) (49.2.0)\n",
            "Building wheels for collected packages: xvfbwrapper\n",
            "  Building wheel for xvfbwrapper (setup.py) ... \u001b[?25l\u001b[?25hdone\n",
            "  Created wheel for xvfbwrapper: filename=xvfbwrapper-0.2.9-cp36-none-any.whl size=5010 sha256=af9f6891f6b55777b9109803e8af65a5e956bab4914304560d64a30a589a972a\n",
            "  Stored in directory: /root/.cache/pip/wheels/10/f2/61/cacfaf84b352c223761ea8d19616e3b5ac5c27364da72863f0\n",
            "Successfully built xvfbwrapper\n",
            "Installing collected packages: trimesh, xvfbwrapper\n",
            "Successfully installed trimesh-3.8.1 xvfbwrapper-0.2.9\n"
          ],
          "name": "stdout"
        }
      ]
    },
    {
      "cell_type": "code",
      "metadata": {
        "id": "8LcmKp88nZ8v",
        "colab_type": "code",
        "colab": {}
      },
      "source": [
        "from xvfbwrapper import Xvfb\n",
        "\n",
        "vdisplay = Xvfb()\n",
        "vdisplay.start()"
      ],
      "execution_count": 2,
      "outputs": []
    },
    {
      "cell_type": "code",
      "metadata": {
        "id": "7Hk648cAqA0j",
        "colab_type": "code",
        "colab": {
          "base_uri": "https://localhost:8080/",
          "height": 207
        },
        "outputId": "9efd586a-8fbc-46dd-c7a1-bd899e2e89e1"
      },
      "source": [
        "!wget https://raw.githubusercontent.com/mikedh/trimesh/master/models/rabbit.obj"
      ],
      "execution_count": 3,
      "outputs": [
        {
          "output_type": "stream",
          "text": [
            "--2020-08-17 09:07:40--  https://raw.githubusercontent.com/mikedh/trimesh/master/models/rabbit.obj\n",
            "Resolving raw.githubusercontent.com (raw.githubusercontent.com)... 151.101.0.133, 151.101.64.133, 151.101.128.133, ...\n",
            "Connecting to raw.githubusercontent.com (raw.githubusercontent.com)|151.101.0.133|:443... connected.\n",
            "HTTP request sent, awaiting response... 200 OK\n",
            "Length: 76673 (75K) [text/plain]\n",
            "Saving to: ‘rabbit.obj’\n",
            "\n",
            "\rrabbit.obj            0%[                    ]       0  --.-KB/s               \rrabbit.obj          100%[===================>]  74.88K  --.-KB/s    in 0.03s   \n",
            "\n",
            "2020-08-17 09:07:40 (2.56 MB/s) - ‘rabbit.obj’ saved [76673/76673]\n",
            "\n"
          ],
          "name": "stdout"
        }
      ]
    },
    {
      "cell_type": "code",
      "metadata": {
        "id": "ltRahfMZjb69",
        "colab_type": "code",
        "colab": {
          "base_uri": "https://localhost:8080/",
          "height": 68
        },
        "outputId": "1bd44da1-8051-4d56-b404-5fa023c733b9"
      },
      "source": [
        "import trimesh\n",
        "mesh = trimesh.load(\"rabbit.obj\")\n",
        "scene = mesh.scene()\n",
        "\n",
        "png = scene.save_image(resolution=[600, 600],)\n",
        "with open(\"zan.png\", \"wb\") as f:\n",
        "    f.write(png)"
      ],
      "execution_count": 5,
      "outputs": [
        {
          "output_type": "stream",
          "text": [
            "unable to load materials from: rabbit.mtl\n",
            "faces have mixed data, using slow fallback!\n",
            "specified material (default)  not loaded!\n"
          ],
          "name": "stderr"
        }
      ]
    },
    {
      "cell_type": "code",
      "metadata": {
        "id": "fTsRdfSSjshT",
        "colab_type": "code",
        "colab": {
          "base_uri": "https://localhost:8080/",
          "height": 617
        },
        "outputId": "ebedfe08-0d2d-4492-ce4f-335ce6b90d3e"
      },
      "source": [
        "from IPython.display import Image\n",
        "Image('zan.png')"
      ],
      "execution_count": 6,
      "outputs": [
        {
          "output_type": "execute_result",
          "data": {
            "image/png": "[encoded data removed]",
            "text/plain": [
              "<IPython.core.display.Image object>"
            ]
          },
          "metadata": {
            "tags": []
          },
          "execution_count": 6
        }
      ]
    },
    {
      "cell_type": "code",
      "metadata": {
        "id": "lOi5RnngrGUZ",
        "colab_type": "code",
        "colab": {}
      },
      "source": [
        ""
      ],
      "execution_count": null,
      "outputs": []
    }
  ]
}