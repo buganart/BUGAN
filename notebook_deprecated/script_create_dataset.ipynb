{
  "nbformat": 4,
  "nbformat_minor": 0,
  "metadata": {
    "colab": {
      "name": "script_create_dataset.ipynb",
      "provenance": [],
      "collapsed_sections": [
        "nYpnFurJt0Pu"
      ],
      "include_colab_link": true
    },
    "kernelspec": {
      "name": "python3",
      "display_name": "Python 3"
    }
  },
  "cells": [
    {
      "cell_type": "markdown",
      "metadata": {
        "id": "view-in-github",
        "colab_type": "text"
      },
      "source": [
        "<a href=\"https://colab.research.google.com/github/buganart/BUGAN/blob/master/script_create_dataset.ipynb\" target=\"_parent\"><img src=\"https://colab.research.google.com/assets/colab-badge.svg\" alt=\"Open In Colab\"/></a>"
      ]
    },
    {
      "cell_type": "code",
      "metadata": {
        "id": "sQtEpYYRh9LM",
        "colab_type": "code",
        "colab": {
          "base_uri": "https://localhost:8080/",
          "height": 121
        },
        "outputId": "8d904bb6-9817-459f-d9de-f217025483ed"
      },
      "source": [
        "from google.colab import output\n",
        "\n",
        "#mount google drive\n",
        "from google.colab import drive\n",
        "drive.mount('/content/drive')"
      ],
      "execution_count": 1,
      "outputs": [
        {
          "output_type": "stream",
          "text": [
            "Go to this URL in a browser: https://accounts.google.com/o/oauth2/auth?client_id=947318989803-6bn6qk8qdgf4n4g3pfee6491hc0brc4i.apps.googleusercontent.com&redirect_uri=urn%3aietf%3awg%3aoauth%3a2.0%3aoob&response_type=code&scope=email%20https%3a%2f%2fwww.googleapis.com%2fauth%2fdocs.test%20https%3a%2f%2fwww.googleapis.com%2fauth%2fdrive%20https%3a%2f%2fwww.googleapis.com%2fauth%2fdrive.photos.readonly%20https%3a%2f%2fwww.googleapis.com%2fauth%2fpeopleapi.readonly\n",
            "\n",
            "Enter your authorization code:\n",
            "··········\n",
            "Mounted at /content/drive\n"
          ],
          "name": "stdout"
        }
      ]
    },
    {
      "cell_type": "code",
      "metadata": {
        "id": "D3jIEKP7i4Nt",
        "colab_type": "code",
        "colab": {
          "base_uri": "https://localhost:8080/",
          "height": 34
        },
        "outputId": "8593ca49-2841-4956-8bfc-bffd0fd1f3f3"
      },
      "source": [
        "#right click shared folder IRCMS_GAN_collaborative_database and \"Add shortcut to Drive\" to My drive\n",
        "%cd drive/My Drive/IRCMS_GAN_collaborative_database/\n",
        "\n",
        "#record paths to resources\n",
        "data_path = \"Research/Peter/Tree_3D_models_obj/obj_files/\"\n",
        "run_path = \"Experiments/colab-treegan/\"\n",
        "\n",
        "# !ls Research/Peter/Tree_3D_models_obj/obj_files/"
      ],
      "execution_count": 2,
      "outputs": [
        {
          "output_type": "stream",
          "text": [
            "/content/drive/.shortcut-targets-by-id/1ylB2p6N0qQ-G4OsBuwcZ9C0tsqVu9ww4/IRCMS_GAN_collaborative_database\n"
          ],
          "name": "stdout"
        }
      ]
    },
    {
      "cell_type": "code",
      "metadata": {
        "id": "0LzAiBuWu6pw",
        "colab_type": "code",
        "colab": {}
      },
      "source": [
        "!pip install trimesh\n",
        "!pip install wandb -q\n",
        "output.clear()"
      ],
      "execution_count": 3,
      "outputs": []
    },
    {
      "cell_type": "code",
      "metadata": {
        "id": "NU8OYjiWtzeo",
        "colab_type": "code",
        "colab": {}
      },
      "source": [
        "import trimesh\n",
        "import numpy as np\n",
        "import torch\n",
        "import wandb"
      ],
      "execution_count": 4,
      "outputs": []
    },
    {
      "cell_type": "markdown",
      "metadata": {
        "id": "nYpnFurJt0Pu",
        "colab_type": "text"
      },
      "source": [
        "#trimesh function playground"
      ]
    },
    {
      "cell_type": "code",
      "metadata": {
        "id": "Fi-AW_jq9kgh",
        "colab_type": "code",
        "colab": {
          "base_uri": "https://localhost:8080/",
          "height": 0
        },
        "outputId": "f8bdbb2e-2cb3-4d6b-b94e-a6dc53d8d046"
      },
      "source": [
        "m = trimesh.load(data_path+\"old_1.obj\", force='mesh')\n",
        "# print(type(m))\n",
        "print(m.extents)\n",
        "m.show()\n",
        "v = m.voxelized(0.5)\n",
        "print(type(v))\n",
        "# v.show()\n",
        "print(v.matrix.shape)"
      ],
      "execution_count": 5,
      "outputs": [
        {
          "output_type": "stream",
          "text": [
            "unable to load materials from: old_1.mtl\n",
            "concatenating texture: may result in visual artifacts\n"
          ],
          "name": "stderr"
        },
        {
          "output_type": "stream",
          "text": [
            "[119.344006 126.597565  95.574131]\n",
            "<class 'trimesh.voxel.base.VoxelGrid'>\n",
            "(240, 254, 192)\n"
          ],
          "name": "stdout"
        }
      ]
    },
    {
      "cell_type": "code",
      "metadata": {
        "id": "Jeub8lB-F_DO",
        "colab_type": "code",
        "colab": {
          "base_uri": "https://localhost:8080/",
          "height": 0
        },
        "outputId": "ab089a9b-c8d9-4148-cbd4-cb33cbfbf39a"
      },
      "source": [
        "n = m.apply_transform(trimesh.transformations.scale_matrix(64/126.597565))\n",
        "print(n.extents)\n",
        "nv = n.voxelized(1)\n",
        "print(type(nv))\n",
        "# v.show()\n",
        "print(nv.matrix.shape)\n",
        "print(type(nv.matrix))"
      ],
      "execution_count": 6,
      "outputs": [
        {
          "output_type": "stream",
          "text": [
            "[60.3330434  64.         48.31644577]\n",
            "<class 'trimesh.voxel.base.VoxelGrid'>\n",
            "(61, 65, 49)\n",
            "<class 'numpy.ndarray'>\n"
          ],
          "name": "stdout"
        }
      ]
    },
    {
      "cell_type": "markdown",
      "metadata": {
        "id": "rSmZkuoSj3Dd",
        "colab_type": "text"
      },
      "source": [
        "#process all files"
      ]
    },
    {
      "cell_type": "code",
      "metadata": {
        "id": "1WunSvIgRk8v",
        "colab_type": "code",
        "colab": {}
      },
      "source": [
        "def mesh2arrayCentered(mesh, voxel_size = 1, array_length = 64):\n",
        "    #given array length 64, voxel size 2, then output array size is [128,128,128]\n",
        "    array_size = np.ceil(np.array([array_length, array_length, array_length]) / voxel_size).astype(int)\n",
        "    vox_array = np.zeros(array_size, dtype=int)\n",
        "    #scale mesh extent to fit array_length\n",
        "    max_length = np.max(np.array(mesh.extents))\n",
        "    mesh = mesh.apply_transform(trimesh.transformations.scale_matrix((array_length-1)/max_length))  #now the extent is [array_length**3]\n",
        "    v = mesh.voxelized(voxel_size)  #max voxel array length = array_length / voxel_size\n",
        "\n",
        "    return v.matrix"
      ],
      "execution_count": 7,
      "outputs": []
    },
    {
      "cell_type": "code",
      "metadata": {
        "id": "ekXAvy4Ah3jk",
        "colab_type": "code",
        "colab": {
          "base_uri": "https://localhost:8080/",
          "height": 1000
        },
        "outputId": "c4979662-3c4c-4be5-8c84-2abe7d309674"
      },
      "source": [
        "import os\n",
        "\n",
        "data = []\n",
        "for file_name in os.listdir(data_path):\n",
        "    if file_name.endswith(\".obj\"):\n",
        "        try:\n",
        "            m = trimesh.load(data_path+file_name, force='mesh')\n",
        "            array = mesh2arrayCentered(m)\n",
        "            print(array.shape)\n",
        "            #get filename that can be read by trimesh\n",
        "            data.append(file_name)\n",
        "        except IndexError:\n",
        "            print(\"failed\")"
      ],
      "execution_count": 8,
      "outputs": [
        {
          "output_type": "stream",
          "text": [
            "unable to load materials from: old_1.mtl\n",
            "concatenating texture: may result in visual artifacts\n"
          ],
          "name": "stderr"
        },
        {
          "output_type": "stream",
          "text": [
            "(60, 64, 49)\n"
          ],
          "name": "stdout"
        },
        {
          "output_type": "stream",
          "text": [
            "unable to load materials from: old_2.mtl\n",
            "concatenating texture: may result in visual artifacts\n"
          ],
          "name": "stderr"
        },
        {
          "output_type": "stream",
          "text": [
            "(51, 64, 56)\n"
          ],
          "name": "stdout"
        },
        {
          "output_type": "stream",
          "text": [
            "unable to load materials from: old_3.mtl\n",
            "concatenating texture: may result in visual artifacts\n"
          ],
          "name": "stderr"
        },
        {
          "output_type": "stream",
          "text": [
            "(57, 64, 54)\n"
          ],
          "name": "stdout"
        },
        {
          "output_type": "stream",
          "text": [
            "unable to load materials from: maple_example2.mtl\n",
            "specified material (maple_example2_0)  not loaded!\n"
          ],
          "name": "stderr"
        },
        {
          "output_type": "stream",
          "text": [
            "(62, 57, 64)\n"
          ],
          "name": "stdout"
        },
        {
          "output_type": "stream",
          "text": [
            "unable to load materials from: pn_tall_straight_1.mtl\n"
          ],
          "name": "stderr"
        },
        {
          "output_type": "stream",
          "text": [
            "(33, 64, 34)\n"
          ],
          "name": "stdout"
        },
        {
          "output_type": "stream",
          "text": [
            "unable to load materials from: pn_tall_straight_old_1.mtl\n"
          ],
          "name": "stderr"
        },
        {
          "output_type": "stream",
          "text": [
            "(48, 64, 45)\n"
          ],
          "name": "stdout"
        },
        {
          "output_type": "stream",
          "text": [
            "unable to load materials from: formal_upright_1_1.mtl\n"
          ],
          "name": "stderr"
        },
        {
          "output_type": "stream",
          "text": [
            "(50, 64, 55)\n"
          ],
          "name": "stdout"
        },
        {
          "output_type": "stream",
          "text": [
            "unable to load materials from: formal_upright_1_2.mtl\n"
          ],
          "name": "stderr"
        },
        {
          "output_type": "stream",
          "text": [
            "(44, 64, 60)\n"
          ],
          "name": "stdout"
        },
        {
          "output_type": "stream",
          "text": [
            "unable to load materials from: formal_upright_1_3.mtl\n"
          ],
          "name": "stderr"
        },
        {
          "output_type": "stream",
          "text": [
            "(54, 64, 57)\n"
          ],
          "name": "stdout"
        },
        {
          "output_type": "stream",
          "text": [
            "unable to load materials from: formal_upright_1_4.mtl\n"
          ],
          "name": "stderr"
        },
        {
          "output_type": "stream",
          "text": [
            "(57, 64, 57)\n"
          ],
          "name": "stdout"
        },
        {
          "output_type": "stream",
          "text": [
            "unable to load materials from: formal_upright_1_5.mtl\n"
          ],
          "name": "stderr"
        },
        {
          "output_type": "stream",
          "text": [
            "(54, 64, 56)\n"
          ],
          "name": "stdout"
        },
        {
          "output_type": "stream",
          "text": [
            "unable to load materials from: formal_upright_1_6.mtl\n"
          ],
          "name": "stderr"
        },
        {
          "output_type": "stream",
          "text": [
            "(53, 64, 55)\n"
          ],
          "name": "stdout"
        },
        {
          "output_type": "stream",
          "text": [
            "unable to load materials from: formal_upright_1_7.mtl\n"
          ],
          "name": "stderr"
        },
        {
          "output_type": "stream",
          "text": [
            "(52, 64, 53)\n"
          ],
          "name": "stdout"
        },
        {
          "output_type": "stream",
          "text": [
            "unable to load materials from: formal_upright_1_9.mtl\n"
          ],
          "name": "stderr"
        },
        {
          "output_type": "stream",
          "text": [
            "(50, 64, 55)\n"
          ],
          "name": "stdout"
        },
        {
          "output_type": "stream",
          "text": [
            "unable to load materials from: formal_upright_1_10.mtl\n"
          ],
          "name": "stderr"
        },
        {
          "output_type": "stream",
          "text": [
            "(49, 64, 63)\n"
          ],
          "name": "stdout"
        },
        {
          "output_type": "stream",
          "text": [
            "unable to load materials from: formal_upright_1_8.mtl\n"
          ],
          "name": "stderr"
        },
        {
          "output_type": "stream",
          "text": [
            "(48, 64, 55)\n"
          ],
          "name": "stdout"
        },
        {
          "output_type": "stream",
          "text": [
            "unable to load materials from: informal_upright_1_1.mtl\n"
          ],
          "name": "stderr"
        },
        {
          "output_type": "stream",
          "text": [
            "(64, 54, 46)\n"
          ],
          "name": "stdout"
        },
        {
          "output_type": "stream",
          "text": [
            "unable to load materials from: informal_upright_1_2.mtl\n"
          ],
          "name": "stderr"
        },
        {
          "output_type": "stream",
          "text": [
            "(64, 59, 53)\n"
          ],
          "name": "stdout"
        },
        {
          "output_type": "stream",
          "text": [
            "unable to load materials from: informal_upright_1_3.mtl\n"
          ],
          "name": "stderr"
        },
        {
          "output_type": "stream",
          "text": [
            "(60, 64, 63)\n"
          ],
          "name": "stdout"
        },
        {
          "output_type": "stream",
          "text": [
            "unable to load materials from: informal_upright_1_4.mtl\n"
          ],
          "name": "stderr"
        },
        {
          "output_type": "stream",
          "text": [
            "(64, 55, 44)\n"
          ],
          "name": "stdout"
        },
        {
          "output_type": "stream",
          "text": [
            "unable to load materials from: informal_upright_1_5.mtl\n"
          ],
          "name": "stderr"
        },
        {
          "output_type": "stream",
          "text": [
            "(64, 53, 45)\n"
          ],
          "name": "stdout"
        },
        {
          "output_type": "stream",
          "text": [
            "unable to load materials from: informal_upright_1_6.mtl\n"
          ],
          "name": "stderr"
        },
        {
          "output_type": "stream",
          "text": [
            "(64, 55, 43)\n"
          ],
          "name": "stdout"
        },
        {
          "output_type": "stream",
          "text": [
            "unable to load materials from: informal_upright_1_7.mtl\n"
          ],
          "name": "stderr"
        },
        {
          "output_type": "stream",
          "text": [
            "(64, 55, 44)\n"
          ],
          "name": "stdout"
        },
        {
          "output_type": "stream",
          "text": [
            "unable to load materials from: informal_upright_1_8.mtl\n"
          ],
          "name": "stderr"
        },
        {
          "output_type": "stream",
          "text": [
            "(64, 61, 53)\n"
          ],
          "name": "stdout"
        },
        {
          "output_type": "stream",
          "text": [
            "unable to load materials from: informal_upright_1_9.mtl\n"
          ],
          "name": "stderr"
        },
        {
          "output_type": "stream",
          "text": [
            "(64, 58, 52)\n"
          ],
          "name": "stdout"
        },
        {
          "output_type": "stream",
          "text": [
            "unable to load materials from: informal_upright_1_10.mtl\n"
          ],
          "name": "stderr"
        },
        {
          "output_type": "stream",
          "text": [
            "(64, 58, 56)\n"
          ],
          "name": "stdout"
        },
        {
          "output_type": "stream",
          "text": [
            "unable to load materials from: leaning_1.mtl\n"
          ],
          "name": "stderr"
        },
        {
          "output_type": "stream",
          "text": [
            "(57, 64, 59)\n"
          ],
          "name": "stdout"
        },
        {
          "output_type": "stream",
          "text": [
            "unable to load materials from: leaning_2.mtl\n"
          ],
          "name": "stderr"
        },
        {
          "output_type": "stream",
          "text": [
            "(58, 64, 55)\n"
          ],
          "name": "stdout"
        },
        {
          "output_type": "stream",
          "text": [
            "unable to load materials from: leaning_3.mtl\n"
          ],
          "name": "stderr"
        },
        {
          "output_type": "stream",
          "text": [
            "(64, 64, 60)\n"
          ],
          "name": "stdout"
        },
        {
          "output_type": "stream",
          "text": [
            "unable to load materials from: leaning_4.mtl\n"
          ],
          "name": "stderr"
        },
        {
          "output_type": "stream",
          "text": [
            "(60, 64, 53)\n"
          ],
          "name": "stdout"
        },
        {
          "output_type": "stream",
          "text": [
            "unable to load materials from: leaning_5.mtl\n"
          ],
          "name": "stderr"
        },
        {
          "output_type": "stream",
          "text": [
            "(60, 64, 57)\n"
          ],
          "name": "stdout"
        },
        {
          "output_type": "stream",
          "text": [
            "unable to load materials from: leaning_6.mtl\n"
          ],
          "name": "stderr"
        },
        {
          "output_type": "stream",
          "text": [
            "(60, 64, 55)\n"
          ],
          "name": "stdout"
        },
        {
          "output_type": "stream",
          "text": [
            "unable to load materials from: leaning_7.mtl\n"
          ],
          "name": "stderr"
        },
        {
          "output_type": "stream",
          "text": [
            "(58, 64, 54)\n"
          ],
          "name": "stdout"
        },
        {
          "output_type": "stream",
          "text": [
            "unable to load materials from: leaning_8.mtl\n"
          ],
          "name": "stderr"
        },
        {
          "output_type": "stream",
          "text": [
            "(64, 62, 56)\n"
          ],
          "name": "stdout"
        },
        {
          "output_type": "stream",
          "text": [
            "unable to load materials from: leaning_9.mtl\n"
          ],
          "name": "stderr"
        },
        {
          "output_type": "stream",
          "text": [
            "(59, 64, 58)\n"
          ],
          "name": "stdout"
        },
        {
          "output_type": "stream",
          "text": [
            "unable to load materials from: leaning_10.mtl\n"
          ],
          "name": "stderr"
        },
        {
          "output_type": "stream",
          "text": [
            "(59, 64, 58)\n"
          ],
          "name": "stdout"
        },
        {
          "output_type": "stream",
          "text": [
            "unable to load materials from: windswept_1_1.mtl\n"
          ],
          "name": "stderr"
        },
        {
          "output_type": "stream",
          "text": [
            "(64, 36, 56)\n"
          ],
          "name": "stdout"
        },
        {
          "output_type": "stream",
          "text": [
            "unable to load materials from: windswept_1_2.mtl\n"
          ],
          "name": "stderr"
        },
        {
          "output_type": "stream",
          "text": [
            "(64, 34, 51)\n"
          ],
          "name": "stdout"
        },
        {
          "output_type": "stream",
          "text": [
            "unable to load materials from: windswept_1_3.mtl\n"
          ],
          "name": "stderr"
        },
        {
          "output_type": "stream",
          "text": [
            "(64, 53, 48)\n"
          ],
          "name": "stdout"
        },
        {
          "output_type": "stream",
          "text": [
            "unable to load materials from: windswept_1_4.mtl\n"
          ],
          "name": "stderr"
        },
        {
          "output_type": "stream",
          "text": [
            "(60, 47, 64)\n"
          ],
          "name": "stdout"
        },
        {
          "output_type": "stream",
          "text": [
            "unable to load materials from: windswept_1_5.mtl\n"
          ],
          "name": "stderr"
        },
        {
          "output_type": "stream",
          "text": [
            "(55, 40, 64)\n"
          ],
          "name": "stdout"
        },
        {
          "output_type": "stream",
          "text": [
            "unable to load materials from: windswept_1_6.mtl\n"
          ],
          "name": "stderr"
        },
        {
          "output_type": "stream",
          "text": [
            "(64, 30, 49)\n"
          ],
          "name": "stdout"
        },
        {
          "output_type": "stream",
          "text": [
            "unable to load materials from: windswept_1_7.mtl\n"
          ],
          "name": "stderr"
        },
        {
          "output_type": "stream",
          "text": [
            "(64, 32, 60)\n"
          ],
          "name": "stdout"
        },
        {
          "output_type": "stream",
          "text": [
            "unable to load materials from: windswept_1_8.mtl\n"
          ],
          "name": "stderr"
        },
        {
          "output_type": "stream",
          "text": [
            "(64, 52, 55)\n"
          ],
          "name": "stdout"
        },
        {
          "output_type": "stream",
          "text": [
            "unable to load materials from: windswept_1_9.mtl\n"
          ],
          "name": "stderr"
        },
        {
          "output_type": "stream",
          "text": [
            "(64, 48, 48)\n"
          ],
          "name": "stdout"
        },
        {
          "output_type": "stream",
          "text": [
            "unable to load materials from: windswept_1_10.mtl\n"
          ],
          "name": "stderr"
        },
        {
          "output_type": "stream",
          "text": [
            "(63, 44, 64)\n"
          ],
          "name": "stdout"
        },
        {
          "output_type": "stream",
          "text": [
            "unable to load materials from: semi_cascade_1_1.mtl\n"
          ],
          "name": "stderr"
        },
        {
          "output_type": "stream",
          "text": [
            "(64, 44, 61)\n"
          ],
          "name": "stdout"
        },
        {
          "output_type": "stream",
          "text": [
            "unable to load materials from: semi_cascade_1_2.mtl\n"
          ],
          "name": "stderr"
        },
        {
          "output_type": "stream",
          "text": [
            "(64, 44, 52)\n"
          ],
          "name": "stdout"
        },
        {
          "output_type": "stream",
          "text": [
            "unable to load materials from: semi_cascade_1_3.mtl\n"
          ],
          "name": "stderr"
        },
        {
          "output_type": "stream",
          "text": [
            "(64, 47, 50)\n"
          ],
          "name": "stdout"
        },
        {
          "output_type": "stream",
          "text": [
            "unable to load materials from: semi_cascade_1_4.mtl\n"
          ],
          "name": "stderr"
        },
        {
          "output_type": "stream",
          "text": [
            "(64, 46, 59)\n"
          ],
          "name": "stdout"
        },
        {
          "output_type": "stream",
          "text": [
            "unable to load materials from: semi_cascade_1_5.mtl\n"
          ],
          "name": "stderr"
        },
        {
          "output_type": "stream",
          "text": [
            "(64, 48, 54)\n"
          ],
          "name": "stdout"
        },
        {
          "output_type": "stream",
          "text": [
            "unable to load materials from: semi_cascade_1_6.mtl\n"
          ],
          "name": "stderr"
        },
        {
          "output_type": "stream",
          "text": [
            "(64, 47, 61)\n"
          ],
          "name": "stdout"
        },
        {
          "output_type": "stream",
          "text": [
            "unable to load materials from: semi_cascade_1_7.mtl\n"
          ],
          "name": "stderr"
        },
        {
          "output_type": "stream",
          "text": [
            "(64, 46, 47)\n"
          ],
          "name": "stdout"
        },
        {
          "output_type": "stream",
          "text": [
            "unable to load materials from: semi_cascade_1_8.mtl\n"
          ],
          "name": "stderr"
        },
        {
          "output_type": "stream",
          "text": [
            "(64, 48, 53)\n"
          ],
          "name": "stdout"
        },
        {
          "output_type": "stream",
          "text": [
            "unable to load materials from: semi_cascade_1_9.mtl\n"
          ],
          "name": "stderr"
        },
        {
          "output_type": "stream",
          "text": [
            "(64, 43, 53)\n"
          ],
          "name": "stdout"
        },
        {
          "output_type": "stream",
          "text": [
            "unable to load materials from: semi_cascade_1_10.mtl\n"
          ],
          "name": "stderr"
        },
        {
          "output_type": "stream",
          "text": [
            "(64, 46, 55)\n"
          ],
          "name": "stdout"
        },
        {
          "output_type": "stream",
          "text": [
            "unable to load materials from: double_trunk_1_1.mtl\n"
          ],
          "name": "stderr"
        },
        {
          "output_type": "stream",
          "text": [
            "(46, 64, 46)\n"
          ],
          "name": "stdout"
        },
        {
          "output_type": "stream",
          "text": [
            "unable to load materials from: double_trunk_1_2.mtl\n"
          ],
          "name": "stderr"
        },
        {
          "output_type": "stream",
          "text": [
            "(38, 64, 48)\n"
          ],
          "name": "stdout"
        },
        {
          "output_type": "stream",
          "text": [
            "unable to load materials from: double_trunk_1_3.mtl\n"
          ],
          "name": "stderr"
        },
        {
          "output_type": "stream",
          "text": [
            "(40, 64, 43)\n"
          ],
          "name": "stdout"
        },
        {
          "output_type": "stream",
          "text": [
            "unable to load materials from: double_trunk_1_4.mtl\n"
          ],
          "name": "stderr"
        },
        {
          "output_type": "stream",
          "text": [
            "(42, 64, 49)\n"
          ],
          "name": "stdout"
        },
        {
          "output_type": "stream",
          "text": [
            "unable to load materials from: double_trunk_1_5.mtl\n"
          ],
          "name": "stderr"
        },
        {
          "output_type": "stream",
          "text": [
            "(38, 64, 45)\n"
          ],
          "name": "stdout"
        },
        {
          "output_type": "stream",
          "text": [
            "unable to load materials from: double_trunk_1_6.mtl\n"
          ],
          "name": "stderr"
        },
        {
          "output_type": "stream",
          "text": [
            "(44, 64, 46)\n"
          ],
          "name": "stdout"
        },
        {
          "output_type": "stream",
          "text": [
            "unable to load materials from: double_trunk_1_7.mtl\n"
          ],
          "name": "stderr"
        },
        {
          "output_type": "stream",
          "text": [
            "(42, 64, 47)\n"
          ],
          "name": "stdout"
        },
        {
          "output_type": "stream",
          "text": [
            "unable to load materials from: double_trunk_1_8.mtl\n"
          ],
          "name": "stderr"
        },
        {
          "output_type": "stream",
          "text": [
            "(39, 64, 44)\n"
          ],
          "name": "stdout"
        },
        {
          "output_type": "stream",
          "text": [
            "unable to load materials from: double_trunk_1_9.mtl\n"
          ],
          "name": "stderr"
        },
        {
          "output_type": "stream",
          "text": [
            "(39, 64, 47)\n"
          ],
          "name": "stdout"
        },
        {
          "output_type": "stream",
          "text": [
            "unable to load materials from: double_trunk_1_10.mtl\n"
          ],
          "name": "stderr"
        },
        {
          "output_type": "stream",
          "text": [
            "(36, 64, 49)\n"
          ],
          "name": "stdout"
        },
        {
          "output_type": "stream",
          "text": [
            "unable to load materials from: group_1_1.mtl\n"
          ],
          "name": "stderr"
        },
        {
          "output_type": "stream",
          "text": [
            "(59, 58, 64)\n"
          ],
          "name": "stdout"
        },
        {
          "output_type": "stream",
          "text": [
            "unable to load materials from: group_1_2.mtl\n"
          ],
          "name": "stderr"
        },
        {
          "output_type": "stream",
          "text": [
            "(53, 59, 64)\n"
          ],
          "name": "stdout"
        },
        {
          "output_type": "stream",
          "text": [
            "unable to load materials from: group_1_3.mtl\n"
          ],
          "name": "stderr"
        },
        {
          "output_type": "stream",
          "text": [
            "(57, 64, 60)\n"
          ],
          "name": "stdout"
        },
        {
          "output_type": "stream",
          "text": [
            "unable to load materials from: group_1_4.mtl\n"
          ],
          "name": "stderr"
        },
        {
          "output_type": "stream",
          "text": [
            "(64, 63, 55)\n"
          ],
          "name": "stdout"
        },
        {
          "output_type": "stream",
          "text": [
            "unable to load materials from: group_1_5.mtl\n"
          ],
          "name": "stderr"
        },
        {
          "output_type": "stream",
          "text": [
            "(57, 61, 64)\n"
          ],
          "name": "stdout"
        },
        {
          "output_type": "stream",
          "text": [
            "unable to load materials from: group_1_6.mtl\n"
          ],
          "name": "stderr"
        },
        {
          "output_type": "stream",
          "text": [
            "(60, 62, 64)\n"
          ],
          "name": "stdout"
        },
        {
          "output_type": "stream",
          "text": [
            "unable to load materials from: group_1_7.mtl\n"
          ],
          "name": "stderr"
        },
        {
          "output_type": "stream",
          "text": [
            "(51, 60, 64)\n"
          ],
          "name": "stdout"
        },
        {
          "output_type": "stream",
          "text": [
            "unable to load materials from: group_1_8.mtl\n"
          ],
          "name": "stderr"
        },
        {
          "output_type": "stream",
          "text": [
            "(64, 64, 57)\n"
          ],
          "name": "stdout"
        },
        {
          "output_type": "stream",
          "text": [
            "unable to load materials from: group_1_9.mtl\n"
          ],
          "name": "stderr"
        },
        {
          "output_type": "stream",
          "text": [
            "(54, 56, 64)\n"
          ],
          "name": "stdout"
        },
        {
          "output_type": "stream",
          "text": [
            "unable to load materials from: group_1_10.mtl\n"
          ],
          "name": "stderr"
        },
        {
          "output_type": "stream",
          "text": [
            "(55, 64, 63)\n"
          ],
          "name": "stdout"
        },
        {
          "output_type": "stream",
          "text": [
            "unable to load materials from: raft_1_1.mtl\n"
          ],
          "name": "stderr"
        },
        {
          "output_type": "stream",
          "text": [
            "(64, 45, 50)\n"
          ],
          "name": "stdout"
        },
        {
          "output_type": "stream",
          "text": [
            "unable to load materials from: raft_1_2.mtl\n"
          ],
          "name": "stderr"
        },
        {
          "output_type": "stream",
          "text": [
            "(64, 43, 51)\n"
          ],
          "name": "stdout"
        },
        {
          "output_type": "stream",
          "text": [
            "unable to load materials from: raft_1_4.mtl\n"
          ],
          "name": "stderr"
        },
        {
          "output_type": "stream",
          "text": [
            "(64, 43, 55)\n"
          ],
          "name": "stdout"
        },
        {
          "output_type": "stream",
          "text": [
            "unable to load materials from: raft_1_3.mtl\n"
          ],
          "name": "stderr"
        },
        {
          "output_type": "stream",
          "text": [
            "(63, 51, 64)\n"
          ],
          "name": "stdout"
        },
        {
          "output_type": "stream",
          "text": [
            "unable to load materials from: raft_1_5.mtl\n"
          ],
          "name": "stderr"
        },
        {
          "output_type": "stream",
          "text": [
            "(64, 44, 48)\n"
          ],
          "name": "stdout"
        },
        {
          "output_type": "stream",
          "text": [
            "unable to load materials from: raft_1_6.mtl\n"
          ],
          "name": "stderr"
        },
        {
          "output_type": "stream",
          "text": [
            "(64, 50, 59)\n"
          ],
          "name": "stdout"
        },
        {
          "output_type": "stream",
          "text": [
            "unable to load materials from: raft_1_7.mtl\n"
          ],
          "name": "stderr"
        },
        {
          "output_type": "stream",
          "text": [
            "(64, 44, 57)\n"
          ],
          "name": "stdout"
        },
        {
          "output_type": "stream",
          "text": [
            "unable to load materials from: raft_1_8.mtl\n"
          ],
          "name": "stderr"
        },
        {
          "output_type": "stream",
          "text": [
            "(64, 52, 62)\n"
          ],
          "name": "stdout"
        },
        {
          "output_type": "stream",
          "text": [
            "unable to load materials from: raft_1_9.mtl\n"
          ],
          "name": "stderr"
        },
        {
          "output_type": "stream",
          "text": [
            "(64, 46, 58)\n"
          ],
          "name": "stdout"
        },
        {
          "output_type": "stream",
          "text": [
            "unable to load materials from: raft_1_10.mtl\n"
          ],
          "name": "stderr"
        },
        {
          "output_type": "stream",
          "text": [
            "(64, 48, 61)\n"
          ],
          "name": "stdout"
        },
        {
          "output_type": "stream",
          "text": [
            "unable to load materials from: formal_upright_2_1.mtl\n"
          ],
          "name": "stderr"
        },
        {
          "output_type": "stream",
          "text": [
            "(31, 64, 32)\n"
          ],
          "name": "stdout"
        },
        {
          "output_type": "stream",
          "text": [
            "unable to load materials from: formal_upright_2_2.mtl\n"
          ],
          "name": "stderr"
        },
        {
          "output_type": "stream",
          "text": [
            "(33, 64, 31)\n"
          ],
          "name": "stdout"
        },
        {
          "output_type": "stream",
          "text": [
            "unable to load materials from: formal_upright_2_3.mtl\n"
          ],
          "name": "stderr"
        },
        {
          "output_type": "stream",
          "text": [
            "(32, 64, 34)\n"
          ],
          "name": "stdout"
        },
        {
          "output_type": "stream",
          "text": [
            "unable to load materials from: formal_upright_2_4.mtl\n"
          ],
          "name": "stderr"
        },
        {
          "output_type": "stream",
          "text": [
            "(37, 64, 35)\n"
          ],
          "name": "stdout"
        },
        {
          "output_type": "stream",
          "text": [
            "unable to load materials from: formal_upright_2_5.mtl\n"
          ],
          "name": "stderr"
        },
        {
          "output_type": "stream",
          "text": [
            "(37, 64, 32)\n"
          ],
          "name": "stdout"
        },
        {
          "output_type": "stream",
          "text": [
            "unable to load materials from: formal_upright_2_6.mtl\n"
          ],
          "name": "stderr"
        },
        {
          "output_type": "stream",
          "text": [
            "(34, 64, 32)\n"
          ],
          "name": "stdout"
        },
        {
          "output_type": "stream",
          "text": [
            "unable to load materials from: formal_upright_2_7.mtl\n"
          ],
          "name": "stderr"
        },
        {
          "output_type": "stream",
          "text": [
            "(31, 64, 34)\n"
          ],
          "name": "stdout"
        },
        {
          "output_type": "stream",
          "text": [
            "unable to load materials from: formal_upright_2_8.mtl\n"
          ],
          "name": "stderr"
        },
        {
          "output_type": "stream",
          "text": [
            "(32, 64, 35)\n"
          ],
          "name": "stdout"
        },
        {
          "output_type": "stream",
          "text": [
            "unable to load materials from: formal_upright_2_10.mtl\n"
          ],
          "name": "stderr"
        },
        {
          "output_type": "stream",
          "text": [
            "(33, 64, 34)\n"
          ],
          "name": "stdout"
        },
        {
          "output_type": "stream",
          "text": [
            "unable to load materials from: formal_upright_2_9.mtl\n"
          ],
          "name": "stderr"
        },
        {
          "output_type": "stream",
          "text": [
            "(29, 64, 34)\n"
          ],
          "name": "stdout"
        },
        {
          "output_type": "stream",
          "text": [
            "unable to load materials from: informal_upright_2_1.mtl\n"
          ],
          "name": "stderr"
        },
        {
          "output_type": "stream",
          "text": [
            "(55, 64, 50)\n"
          ],
          "name": "stdout"
        },
        {
          "output_type": "stream",
          "text": [
            "unable to load materials from: informal_upright_2_2.mtl\n"
          ],
          "name": "stderr"
        },
        {
          "output_type": "stream",
          "text": [
            "(64, 57, 48)\n"
          ],
          "name": "stdout"
        },
        {
          "output_type": "stream",
          "text": [
            "unable to load materials from: informal_upright_2_3.mtl\n"
          ],
          "name": "stderr"
        },
        {
          "output_type": "stream",
          "text": [
            "(55, 64, 59)\n"
          ],
          "name": "stdout"
        },
        {
          "output_type": "stream",
          "text": [
            "unable to load materials from: informal_upright_2_4.mtl\n"
          ],
          "name": "stderr"
        },
        {
          "output_type": "stream",
          "text": [
            "(57, 64, 55)\n"
          ],
          "name": "stdout"
        },
        {
          "output_type": "stream",
          "text": [
            "unable to load materials from: informal_upright_2_5.mtl\n"
          ],
          "name": "stderr"
        },
        {
          "output_type": "stream",
          "text": [
            "(51, 64, 51)\n"
          ],
          "name": "stdout"
        },
        {
          "output_type": "stream",
          "text": [
            "unable to load materials from: informal_upright_2_6.mtl\n"
          ],
          "name": "stderr"
        },
        {
          "output_type": "stream",
          "text": [
            "(64, 61, 52)\n"
          ],
          "name": "stdout"
        },
        {
          "output_type": "stream",
          "text": [
            "unable to load materials from: informal_upright_2_7.mtl\n"
          ],
          "name": "stderr"
        },
        {
          "output_type": "stream",
          "text": [
            "(55, 64, 56)\n"
          ],
          "name": "stdout"
        },
        {
          "output_type": "stream",
          "text": [
            "unable to load materials from: informal_upright_2_8.mtl\n"
          ],
          "name": "stderr"
        },
        {
          "output_type": "stream",
          "text": [
            "(57, 64, 55)\n"
          ],
          "name": "stdout"
        },
        {
          "output_type": "stream",
          "text": [
            "unable to load materials from: informal_upright_2_9.mtl\n"
          ],
          "name": "stderr"
        },
        {
          "output_type": "stream",
          "text": [
            "(64, 55, 49)\n"
          ],
          "name": "stdout"
        },
        {
          "output_type": "stream",
          "text": [
            "unable to load materials from: informal_upright_2_10.mtl\n"
          ],
          "name": "stderr"
        },
        {
          "output_type": "stream",
          "text": [
            "(54, 64, 50)\n"
          ],
          "name": "stdout"
        },
        {
          "output_type": "stream",
          "text": [
            "unable to load materials from: leaning_2_1.mtl\n"
          ],
          "name": "stderr"
        },
        {
          "output_type": "stream",
          "text": [
            "(64, 64, 50)\n"
          ],
          "name": "stdout"
        },
        {
          "output_type": "stream",
          "text": [
            "unable to load materials from: leaning_2_2.mtl\n"
          ],
          "name": "stderr"
        },
        {
          "output_type": "stream",
          "text": [
            "(48, 64, 53)\n"
          ],
          "name": "stdout"
        },
        {
          "output_type": "stream",
          "text": [
            "unable to load materials from: leaning_2_3.mtl\n"
          ],
          "name": "stderr"
        },
        {
          "output_type": "stream",
          "text": [
            "(54, 64, 54)\n"
          ],
          "name": "stdout"
        },
        {
          "output_type": "stream",
          "text": [
            "unable to load materials from: leaning_2_4.mtl\n"
          ],
          "name": "stderr"
        },
        {
          "output_type": "stream",
          "text": [
            "(46, 64, 52)\n"
          ],
          "name": "stdout"
        },
        {
          "output_type": "stream",
          "text": [
            "unable to load materials from: leaning_2_5.mtl\n"
          ],
          "name": "stderr"
        },
        {
          "output_type": "stream",
          "text": [
            "(53, 64, 53)\n"
          ],
          "name": "stdout"
        },
        {
          "output_type": "stream",
          "text": [
            "unable to load materials from: leaning_2_6.mtl\n"
          ],
          "name": "stderr"
        },
        {
          "output_type": "stream",
          "text": [
            "(56, 64, 52)\n"
          ],
          "name": "stdout"
        },
        {
          "output_type": "stream",
          "text": [
            "unable to load materials from: leaning_2_8.mtl\n"
          ],
          "name": "stderr"
        },
        {
          "output_type": "stream",
          "text": [
            "(60, 64, 50)\n"
          ],
          "name": "stdout"
        },
        {
          "output_type": "stream",
          "text": [
            "unable to load materials from: leaning_2_10.mtl\n"
          ],
          "name": "stderr"
        },
        {
          "output_type": "stream",
          "text": [
            "(52, 64, 50)\n"
          ],
          "name": "stdout"
        },
        {
          "output_type": "stream",
          "text": [
            "unable to load materials from: leaning_2_7.mtl\n"
          ],
          "name": "stderr"
        },
        {
          "output_type": "stream",
          "text": [
            "(49, 64, 53)\n"
          ],
          "name": "stdout"
        },
        {
          "output_type": "stream",
          "text": [
            "unable to load materials from: leaning_2_9.mtl\n"
          ],
          "name": "stderr"
        },
        {
          "output_type": "stream",
          "text": [
            "(60, 64, 57)\n"
          ],
          "name": "stdout"
        },
        {
          "output_type": "stream",
          "text": [
            "unable to load materials from: windswept_2_1.mtl\n"
          ],
          "name": "stderr"
        },
        {
          "output_type": "stream",
          "text": [
            "(64, 35, 38)\n"
          ],
          "name": "stdout"
        },
        {
          "output_type": "stream",
          "text": [
            "unable to load materials from: windswept_2_2.mtl\n"
          ],
          "name": "stderr"
        },
        {
          "output_type": "stream",
          "text": [
            "(64, 38, 45)\n"
          ],
          "name": "stdout"
        },
        {
          "output_type": "stream",
          "text": [
            "unable to load materials from: windswept_2_3.mtl\n"
          ],
          "name": "stderr"
        },
        {
          "output_type": "stream",
          "text": [
            "(64, 36, 39)\n"
          ],
          "name": "stdout"
        },
        {
          "output_type": "stream",
          "text": [
            "unable to load materials from: windswept_2_4.mtl\n"
          ],
          "name": "stderr"
        },
        {
          "output_type": "stream",
          "text": [
            "(64, 35, 40)\n"
          ],
          "name": "stdout"
        },
        {
          "output_type": "stream",
          "text": [
            "unable to load materials from: windswept_2_5.mtl\n"
          ],
          "name": "stderr"
        },
        {
          "output_type": "stream",
          "text": [
            "(64, 38, 39)\n"
          ],
          "name": "stdout"
        },
        {
          "output_type": "stream",
          "text": [
            "unable to load materials from: windswept_2_6.mtl\n"
          ],
          "name": "stderr"
        },
        {
          "output_type": "stream",
          "text": [
            "(64, 34, 39)\n"
          ],
          "name": "stdout"
        },
        {
          "output_type": "stream",
          "text": [
            "unable to load materials from: windswept_2_7.mtl\n"
          ],
          "name": "stderr"
        },
        {
          "output_type": "stream",
          "text": [
            "(64, 38, 38)\n"
          ],
          "name": "stdout"
        },
        {
          "output_type": "stream",
          "text": [
            "unable to load materials from: windswept_2_8.mtl\n"
          ],
          "name": "stderr"
        },
        {
          "output_type": "stream",
          "text": [
            "(64, 42, 35)\n"
          ],
          "name": "stdout"
        },
        {
          "output_type": "stream",
          "text": [
            "unable to load materials from: windswept_2_9.mtl\n"
          ],
          "name": "stderr"
        },
        {
          "output_type": "stream",
          "text": [
            "(64, 42, 42)\n"
          ],
          "name": "stdout"
        },
        {
          "output_type": "stream",
          "text": [
            "unable to load materials from: windswept_2_10.mtl\n"
          ],
          "name": "stderr"
        },
        {
          "output_type": "stream",
          "text": [
            "(64, 36, 39)\n"
          ],
          "name": "stdout"
        },
        {
          "output_type": "stream",
          "text": [
            "unable to load materials from: semi_cascade_2_1.mtl\n"
          ],
          "name": "stderr"
        },
        {
          "output_type": "stream",
          "text": [
            "(57, 64, 48)\n"
          ],
          "name": "stdout"
        },
        {
          "output_type": "stream",
          "text": [
            "unable to load materials from: semi_cascade_2_2.mtl\n"
          ],
          "name": "stderr"
        },
        {
          "output_type": "stream",
          "text": [
            "(57, 64, 46)\n"
          ],
          "name": "stdout"
        },
        {
          "output_type": "stream",
          "text": [
            "unable to load materials from: semi_cascade_2_3.mtl\n"
          ],
          "name": "stderr"
        },
        {
          "output_type": "stream",
          "text": [
            "(59, 64, 47)\n"
          ],
          "name": "stdout"
        },
        {
          "output_type": "stream",
          "text": [
            "unable to load materials from: semi_cascade_2_4.mtl\n"
          ],
          "name": "stderr"
        },
        {
          "output_type": "stream",
          "text": [
            "(58, 64, 48)\n"
          ],
          "name": "stdout"
        },
        {
          "output_type": "stream",
          "text": [
            "unable to load materials from: semi_cascade_2_5.mtl\n"
          ],
          "name": "stderr"
        },
        {
          "output_type": "stream",
          "text": [
            "(59, 64, 42)\n"
          ],
          "name": "stdout"
        },
        {
          "output_type": "stream",
          "text": [
            "unable to load materials from: semi_cascade_2_6.mtl\n"
          ],
          "name": "stderr"
        },
        {
          "output_type": "stream",
          "text": [
            "(59, 64, 52)\n"
          ],
          "name": "stdout"
        },
        {
          "output_type": "stream",
          "text": [
            "unable to load materials from: semi_cascade_2_7.mtl\n"
          ],
          "name": "stderr"
        },
        {
          "output_type": "stream",
          "text": [
            "(58, 64, 43)\n"
          ],
          "name": "stdout"
        },
        {
          "output_type": "stream",
          "text": [
            "unable to load materials from: semi_cascade_2_8.mtl\n"
          ],
          "name": "stderr"
        },
        {
          "output_type": "stream",
          "text": [
            "(62, 64, 45)\n"
          ],
          "name": "stdout"
        },
        {
          "output_type": "stream",
          "text": [
            "unable to load materials from: semi_cascade_2_9.mtl\n"
          ],
          "name": "stderr"
        },
        {
          "output_type": "stream",
          "text": [
            "(58, 64, 44)\n"
          ],
          "name": "stdout"
        },
        {
          "output_type": "stream",
          "text": [
            "unable to load materials from: semi_cascade_2_10.mtl\n"
          ],
          "name": "stderr"
        },
        {
          "output_type": "stream",
          "text": [
            "(58, 64, 43)\n"
          ],
          "name": "stdout"
        },
        {
          "output_type": "stream",
          "text": [
            "unable to load materials from: double_trunk_2_1.mtl\n"
          ],
          "name": "stderr"
        },
        {
          "output_type": "stream",
          "text": [
            "(60, 64, 42)\n"
          ],
          "name": "stdout"
        },
        {
          "output_type": "stream",
          "text": [
            "unable to load materials from: double_trunk_2_2.mtl\n"
          ],
          "name": "stderr"
        },
        {
          "output_type": "stream",
          "text": [
            "(59, 64, 41)\n"
          ],
          "name": "stdout"
        },
        {
          "output_type": "stream",
          "text": [
            "unable to load materials from: double_trunk_2_3.mtl\n"
          ],
          "name": "stderr"
        },
        {
          "output_type": "stream",
          "text": [
            "(57, 64, 39)\n"
          ],
          "name": "stdout"
        },
        {
          "output_type": "stream",
          "text": [
            "unable to load materials from: double_trunk_2_4.mtl\n"
          ],
          "name": "stderr"
        },
        {
          "output_type": "stream",
          "text": [
            "(59, 64, 42)\n"
          ],
          "name": "stdout"
        },
        {
          "output_type": "stream",
          "text": [
            "unable to load materials from: double_trunk_2_5.mtl\n"
          ],
          "name": "stderr"
        },
        {
          "output_type": "stream",
          "text": [
            "(56, 64, 42)\n"
          ],
          "name": "stdout"
        },
        {
          "output_type": "stream",
          "text": [
            "unable to load materials from: double_trunk_2_6.mtl\n"
          ],
          "name": "stderr"
        },
        {
          "output_type": "stream",
          "text": [
            "(59, 64, 46)\n"
          ],
          "name": "stdout"
        },
        {
          "output_type": "stream",
          "text": [
            "unable to load materials from: double_trunk_2_7.mtl\n"
          ],
          "name": "stderr"
        },
        {
          "output_type": "stream",
          "text": [
            "(55, 64, 46)\n"
          ],
          "name": "stdout"
        },
        {
          "output_type": "stream",
          "text": [
            "unable to load materials from: double_trunk_2_8.mtl\n"
          ],
          "name": "stderr"
        },
        {
          "output_type": "stream",
          "text": [
            "(57, 64, 41)\n"
          ],
          "name": "stdout"
        },
        {
          "output_type": "stream",
          "text": [
            "unable to load materials from: double_trunk_2_9.mtl\n"
          ],
          "name": "stderr"
        },
        {
          "output_type": "stream",
          "text": [
            "(53, 64, 44)\n"
          ],
          "name": "stdout"
        },
        {
          "output_type": "stream",
          "text": [
            "unable to load materials from: double_trunk_2_10.mtl\n"
          ],
          "name": "stderr"
        },
        {
          "output_type": "stream",
          "text": [
            "(58, 64, 43)\n"
          ],
          "name": "stdout"
        },
        {
          "output_type": "stream",
          "text": [
            "unable to load materials from: group_2_1.mtl\n"
          ],
          "name": "stderr"
        },
        {
          "output_type": "stream",
          "text": [
            "failed\n"
          ],
          "name": "stdout"
        },
        {
          "output_type": "stream",
          "text": [
            "unable to load materials from: group_2_2.mtl\n"
          ],
          "name": "stderr"
        },
        {
          "output_type": "stream",
          "text": [
            "failed\n"
          ],
          "name": "stdout"
        },
        {
          "output_type": "stream",
          "text": [
            "unable to load materials from: group_2_3.mtl\n"
          ],
          "name": "stderr"
        },
        {
          "output_type": "stream",
          "text": [
            "failed\n"
          ],
          "name": "stdout"
        },
        {
          "output_type": "stream",
          "text": [
            "unable to load materials from: group_2_4.mtl\n"
          ],
          "name": "stderr"
        },
        {
          "output_type": "stream",
          "text": [
            "failed\n"
          ],
          "name": "stdout"
        },
        {
          "output_type": "stream",
          "text": [
            "unable to load materials from: group_2_5.mtl\n"
          ],
          "name": "stderr"
        },
        {
          "output_type": "stream",
          "text": [
            "failed\n"
          ],
          "name": "stdout"
        },
        {
          "output_type": "stream",
          "text": [
            "unable to load materials from: group_2_6.mtl\n"
          ],
          "name": "stderr"
        },
        {
          "output_type": "stream",
          "text": [
            "failed\n"
          ],
          "name": "stdout"
        },
        {
          "output_type": "stream",
          "text": [
            "unable to load materials from: group_2_7.mtl\n"
          ],
          "name": "stderr"
        },
        {
          "output_type": "stream",
          "text": [
            "failed\n"
          ],
          "name": "stdout"
        },
        {
          "output_type": "stream",
          "text": [
            "unable to load materials from: group_2_8.mtl\n"
          ],
          "name": "stderr"
        },
        {
          "output_type": "stream",
          "text": [
            "failed\n"
          ],
          "name": "stdout"
        },
        {
          "output_type": "stream",
          "text": [
            "unable to load materials from: group_2_9.mtl\n"
          ],
          "name": "stderr"
        },
        {
          "output_type": "stream",
          "text": [
            "failed\n"
          ],
          "name": "stdout"
        },
        {
          "output_type": "stream",
          "text": [
            "unable to load materials from: group_2_10.mtl\n"
          ],
          "name": "stderr"
        },
        {
          "output_type": "stream",
          "text": [
            "failed\n"
          ],
          "name": "stdout"
        },
        {
          "output_type": "stream",
          "text": [
            "unable to load materials from: raft_2_1.mtl\n"
          ],
          "name": "stderr"
        },
        {
          "output_type": "stream",
          "text": [
            "failed\n"
          ],
          "name": "stdout"
        },
        {
          "output_type": "stream",
          "text": [
            "unable to load materials from: raft_2_2.mtl\n"
          ],
          "name": "stderr"
        },
        {
          "output_type": "stream",
          "text": [
            "failed\n"
          ],
          "name": "stdout"
        },
        {
          "output_type": "stream",
          "text": [
            "unable to load materials from: raft_2_3.mtl\n"
          ],
          "name": "stderr"
        },
        {
          "output_type": "stream",
          "text": [
            "failed\n"
          ],
          "name": "stdout"
        },
        {
          "output_type": "stream",
          "text": [
            "unable to load materials from: raft_2_4.mtl\n"
          ],
          "name": "stderr"
        },
        {
          "output_type": "stream",
          "text": [
            "failed\n"
          ],
          "name": "stdout"
        },
        {
          "output_type": "stream",
          "text": [
            "unable to load materials from: raft_2_5.mtl\n"
          ],
          "name": "stderr"
        },
        {
          "output_type": "stream",
          "text": [
            "failed\n"
          ],
          "name": "stdout"
        },
        {
          "output_type": "stream",
          "text": [
            "unable to load materials from: raft_2_6.mtl\n"
          ],
          "name": "stderr"
        },
        {
          "output_type": "stream",
          "text": [
            "failed\n"
          ],
          "name": "stdout"
        },
        {
          "output_type": "stream",
          "text": [
            "unable to load materials from: raft_2_7.mtl\n"
          ],
          "name": "stderr"
        },
        {
          "output_type": "stream",
          "text": [
            "failed\n"
          ],
          "name": "stdout"
        },
        {
          "output_type": "stream",
          "text": [
            "unable to load materials from: raft_2_8.mtl\n"
          ],
          "name": "stderr"
        },
        {
          "output_type": "stream",
          "text": [
            "failed\n"
          ],
          "name": "stdout"
        },
        {
          "output_type": "stream",
          "text": [
            "unable to load materials from: raft_2_9.mtl\n"
          ],
          "name": "stderr"
        },
        {
          "output_type": "stream",
          "text": [
            "failed\n"
          ],
          "name": "stdout"
        },
        {
          "output_type": "stream",
          "text": [
            "unable to load materials from: raft_2_10.mtl\n"
          ],
          "name": "stderr"
        },
        {
          "output_type": "stream",
          "text": [
            "failed\n"
          ],
          "name": "stdout"
        },
        {
          "output_type": "stream",
          "text": [
            "unable to load materials from: mustard_sapling_1_1.mtl\n"
          ],
          "name": "stderr"
        },
        {
          "output_type": "stream",
          "text": [
            "failed\n"
          ],
          "name": "stdout"
        },
        {
          "output_type": "stream",
          "text": [
            "unable to load materials from: mustard_sapling_1_2.mtl\n"
          ],
          "name": "stderr"
        },
        {
          "output_type": "stream",
          "text": [
            "failed\n"
          ],
          "name": "stdout"
        },
        {
          "output_type": "stream",
          "text": [
            "unable to load materials from: mustard_sapling_1_3.mtl\n"
          ],
          "name": "stderr"
        },
        {
          "output_type": "stream",
          "text": [
            "failed\n"
          ],
          "name": "stdout"
        },
        {
          "output_type": "stream",
          "text": [
            "unable to load materials from: mustard_sapling_1_4.mtl\n"
          ],
          "name": "stderr"
        },
        {
          "output_type": "stream",
          "text": [
            "failed\n"
          ],
          "name": "stdout"
        },
        {
          "output_type": "stream",
          "text": [
            "unable to load materials from: mustard_sapling_1_5.mtl\n"
          ],
          "name": "stderr"
        },
        {
          "output_type": "stream",
          "text": [
            "failed\n"
          ],
          "name": "stdout"
        },
        {
          "output_type": "stream",
          "text": [
            "unable to load materials from: mustard_sapling_1_6.mtl\n"
          ],
          "name": "stderr"
        },
        {
          "output_type": "stream",
          "text": [
            "failed\n"
          ],
          "name": "stdout"
        },
        {
          "output_type": "stream",
          "text": [
            "unable to load materials from: mustard_sapling_1_7.mtl\n"
          ],
          "name": "stderr"
        },
        {
          "output_type": "stream",
          "text": [
            "failed\n"
          ],
          "name": "stdout"
        },
        {
          "output_type": "stream",
          "text": [
            "unable to load materials from: mustard_sapling_1_8.mtl\n"
          ],
          "name": "stderr"
        },
        {
          "output_type": "stream",
          "text": [
            "failed\n"
          ],
          "name": "stdout"
        },
        {
          "output_type": "stream",
          "text": [
            "unable to load materials from: mustard_sapling_1_9.mtl\n"
          ],
          "name": "stderr"
        },
        {
          "output_type": "stream",
          "text": [
            "failed\n"
          ],
          "name": "stdout"
        },
        {
          "output_type": "stream",
          "text": [
            "unable to load materials from: mustard_sapling_10.mtl\n"
          ],
          "name": "stderr"
        },
        {
          "output_type": "stream",
          "text": [
            "failed\n"
          ],
          "name": "stdout"
        },
        {
          "output_type": "stream",
          "text": [
            "unable to load materials from: mustard_sapling_2_1.mtl\n"
          ],
          "name": "stderr"
        },
        {
          "output_type": "stream",
          "text": [
            "(34, 64, 28)\n"
          ],
          "name": "stdout"
        },
        {
          "output_type": "stream",
          "text": [
            "unable to load materials from: mustard_sapling_2_2.mtl\n"
          ],
          "name": "stderr"
        },
        {
          "output_type": "stream",
          "text": [
            "(35, 64, 32)\n"
          ],
          "name": "stdout"
        },
        {
          "output_type": "stream",
          "text": [
            "unable to load materials from: mustard_sapling_2_3.mtl\n"
          ],
          "name": "stderr"
        },
        {
          "output_type": "stream",
          "text": [
            "(29, 64, 35)\n"
          ],
          "name": "stdout"
        },
        {
          "output_type": "stream",
          "text": [
            "unable to load materials from: mustard_sapling_2_4.mtl\n"
          ],
          "name": "stderr"
        },
        {
          "output_type": "stream",
          "text": [
            "(29, 64, 36)\n"
          ],
          "name": "stdout"
        },
        {
          "output_type": "stream",
          "text": [
            "unable to load materials from: mustard_sapling_2_5.mtl\n"
          ],
          "name": "stderr"
        },
        {
          "output_type": "stream",
          "text": [
            "(30, 64, 34)\n"
          ],
          "name": "stdout"
        },
        {
          "output_type": "stream",
          "text": [
            "unable to load materials from: mustard_sapling_2_6.mtl\n"
          ],
          "name": "stderr"
        },
        {
          "output_type": "stream",
          "text": [
            "(38, 64, 30)\n"
          ],
          "name": "stdout"
        },
        {
          "output_type": "stream",
          "text": [
            "unable to load materials from: mustard_sapling_2_7.mtl\n"
          ],
          "name": "stderr"
        },
        {
          "output_type": "stream",
          "text": [
            "(33, 64, 27)\n"
          ],
          "name": "stdout"
        },
        {
          "output_type": "stream",
          "text": [
            "unable to load materials from: mustard_sapling_2_8.mtl\n"
          ],
          "name": "stderr"
        },
        {
          "output_type": "stream",
          "text": [
            "(33, 64, 35)\n"
          ],
          "name": "stdout"
        },
        {
          "output_type": "stream",
          "text": [
            "unable to load materials from: mustard_sapling_2_9.mtl\n"
          ],
          "name": "stderr"
        },
        {
          "output_type": "stream",
          "text": [
            "(34, 64, 37)\n"
          ],
          "name": "stdout"
        },
        {
          "output_type": "stream",
          "text": [
            "unable to load materials from: mustard_sapling_2_10.mtl\n"
          ],
          "name": "stderr"
        },
        {
          "output_type": "stream",
          "text": [
            "(29, 64, 34)\n"
          ],
          "name": "stdout"
        },
        {
          "output_type": "stream",
          "text": [
            "unable to load materials from: mustard_reaching_1_1.mtl\n"
          ],
          "name": "stderr"
        },
        {
          "output_type": "stream",
          "text": [
            "(57, 64, 55)\n"
          ],
          "name": "stdout"
        },
        {
          "output_type": "stream",
          "text": [
            "unable to load materials from: mustard_reaching_1_2.mtl\n"
          ],
          "name": "stderr"
        },
        {
          "output_type": "stream",
          "text": [
            "(50, 64, 54)\n"
          ],
          "name": "stdout"
        },
        {
          "output_type": "stream",
          "text": [
            "unable to load materials from: mustard_reaching_1_3.mtl\n"
          ],
          "name": "stderr"
        },
        {
          "output_type": "stream",
          "text": [
            "(51, 64, 54)\n"
          ],
          "name": "stdout"
        },
        {
          "output_type": "stream",
          "text": [
            "unable to load materials from: mustard_reaching_1_4.mtl\n"
          ],
          "name": "stderr"
        },
        {
          "output_type": "stream",
          "text": [
            "(51, 64, 50)\n"
          ],
          "name": "stdout"
        },
        {
          "output_type": "stream",
          "text": [
            "unable to load materials from: mustard_reaching_1_5.mtl\n"
          ],
          "name": "stderr"
        },
        {
          "output_type": "stream",
          "text": [
            "(47, 64, 52)\n"
          ],
          "name": "stdout"
        },
        {
          "output_type": "stream",
          "text": [
            "unable to load materials from: mustard_reaching_1_6.mtl\n"
          ],
          "name": "stderr"
        },
        {
          "output_type": "stream",
          "text": [
            "(53, 64, 50)\n"
          ],
          "name": "stdout"
        },
        {
          "output_type": "stream",
          "text": [
            "unable to load materials from: mustard_reaching_1_7.mtl\n"
          ],
          "name": "stderr"
        },
        {
          "output_type": "stream",
          "text": [
            "(50, 64, 47)\n"
          ],
          "name": "stdout"
        },
        {
          "output_type": "stream",
          "text": [
            "unable to load materials from: mustard_reaching_1_8.mtl\n"
          ],
          "name": "stderr"
        },
        {
          "output_type": "stream",
          "text": [
            "(53, 64, 52)\n"
          ],
          "name": "stdout"
        },
        {
          "output_type": "stream",
          "text": [
            "unable to load materials from: mustard_reaching_1_9.mtl\n"
          ],
          "name": "stderr"
        },
        {
          "output_type": "stream",
          "text": [
            "(54, 64, 59)\n"
          ],
          "name": "stdout"
        },
        {
          "output_type": "stream",
          "text": [
            "unable to load materials from: mustard_reaching_1_10.mtl\n"
          ],
          "name": "stderr"
        },
        {
          "output_type": "stream",
          "text": [
            "(48, 64, 51)\n"
          ],
          "name": "stdout"
        },
        {
          "output_type": "stream",
          "text": [
            "unable to load materials from: zan_gentlemen_1_1.mtl\n"
          ],
          "name": "stderr"
        },
        {
          "output_type": "stream",
          "text": [
            "(35, 64, 34)\n"
          ],
          "name": "stdout"
        },
        {
          "output_type": "stream",
          "text": [
            "unable to load materials from: zan_gentlemen_1_3.mtl\n"
          ],
          "name": "stderr"
        },
        {
          "output_type": "stream",
          "text": [
            "(33, 64, 37)\n"
          ],
          "name": "stdout"
        },
        {
          "output_type": "stream",
          "text": [
            "unable to load materials from: zan_gentlemen_1_2.mtl\n"
          ],
          "name": "stderr"
        },
        {
          "output_type": "stream",
          "text": [
            "(30, 64, 37)\n"
          ],
          "name": "stdout"
        },
        {
          "output_type": "stream",
          "text": [
            "unable to load materials from: zan_gentlemen_1_4.mtl\n"
          ],
          "name": "stderr"
        },
        {
          "output_type": "stream",
          "text": [
            "(34, 64, 36)\n"
          ],
          "name": "stdout"
        },
        {
          "output_type": "stream",
          "text": [
            "unable to load materials from: zan_gentlemen_1_5.mtl\n"
          ],
          "name": "stderr"
        },
        {
          "output_type": "stream",
          "text": [
            "(34, 64, 38)\n"
          ],
          "name": "stdout"
        },
        {
          "output_type": "stream",
          "text": [
            "unable to load materials from: zan_gentlemen_1_6.mtl\n"
          ],
          "name": "stderr"
        },
        {
          "output_type": "stream",
          "text": [
            "(35, 64, 32)\n"
          ],
          "name": "stdout"
        },
        {
          "output_type": "stream",
          "text": [
            "unable to load materials from: zan_gentlemen_1_7.mtl\n"
          ],
          "name": "stderr"
        },
        {
          "output_type": "stream",
          "text": [
            "(38, 64, 32)\n"
          ],
          "name": "stdout"
        },
        {
          "output_type": "stream",
          "text": [
            "unable to load materials from: zan_gentlemen_1_8.mtl\n"
          ],
          "name": "stderr"
        },
        {
          "output_type": "stream",
          "text": [
            "(32, 64, 37)\n"
          ],
          "name": "stdout"
        },
        {
          "output_type": "stream",
          "text": [
            "unable to load materials from: zan_gentlemen_1_9.mtl\n"
          ],
          "name": "stderr"
        },
        {
          "output_type": "stream",
          "text": [
            "(31, 64, 42)\n"
          ],
          "name": "stdout"
        },
        {
          "output_type": "stream",
          "text": [
            "unable to load materials from: zan_gentlemen_1_10.mtl\n"
          ],
          "name": "stderr"
        },
        {
          "output_type": "stream",
          "text": [
            "(29, 64, 37)\n"
          ],
          "name": "stdout"
        },
        {
          "output_type": "stream",
          "text": [
            "unable to load materials from: zan_gentlemen_2_1.mtl\n"
          ],
          "name": "stderr"
        },
        {
          "output_type": "stream",
          "text": [
            "(22, 64, 24)\n"
          ],
          "name": "stdout"
        },
        {
          "output_type": "stream",
          "text": [
            "unable to load materials from: zan_gentlemen_2_2.mtl\n"
          ],
          "name": "stderr"
        },
        {
          "output_type": "stream",
          "text": [
            "(21, 64, 25)\n"
          ],
          "name": "stdout"
        },
        {
          "output_type": "stream",
          "text": [
            "unable to load materials from: zan_gentlemen_2_3.mtl\n"
          ],
          "name": "stderr"
        },
        {
          "output_type": "stream",
          "text": [
            "(22, 64, 25)\n"
          ],
          "name": "stdout"
        },
        {
          "output_type": "stream",
          "text": [
            "unable to load materials from: zan_gentlemen_2_4.mtl\n"
          ],
          "name": "stderr"
        },
        {
          "output_type": "stream",
          "text": [
            "(22, 64, 23)\n"
          ],
          "name": "stdout"
        },
        {
          "output_type": "stream",
          "text": [
            "unable to load materials from: zan_gentlemen_2_5.mtl\n"
          ],
          "name": "stderr"
        },
        {
          "output_type": "stream",
          "text": [
            "(21, 64, 24)\n"
          ],
          "name": "stdout"
        },
        {
          "output_type": "stream",
          "text": [
            "unable to load materials from: zan_gentlemen_2_6.mtl\n"
          ],
          "name": "stderr"
        },
        {
          "output_type": "stream",
          "text": [
            "(21, 64, 27)\n"
          ],
          "name": "stdout"
        },
        {
          "output_type": "stream",
          "text": [
            "unable to load materials from: zan_gentlemen_2_7.mtl\n"
          ],
          "name": "stderr"
        },
        {
          "output_type": "stream",
          "text": [
            "(24, 64, 24)\n"
          ],
          "name": "stdout"
        },
        {
          "output_type": "stream",
          "text": [
            "unable to load materials from: zan_gentlemen_2_8.mtl\n"
          ],
          "name": "stderr"
        },
        {
          "output_type": "stream",
          "text": [
            "(23, 64, 24)\n"
          ],
          "name": "stdout"
        },
        {
          "output_type": "stream",
          "text": [
            "unable to load materials from: zan_gentlemen_2_9.mtl\n"
          ],
          "name": "stderr"
        },
        {
          "output_type": "stream",
          "text": [
            "(22, 64, 27)\n"
          ],
          "name": "stdout"
        },
        {
          "output_type": "stream",
          "text": [
            "unable to load materials from: zan_gentlemen_2_10.mtl\n"
          ],
          "name": "stderr"
        },
        {
          "output_type": "stream",
          "text": [
            "(21, 64, 25)\n"
          ],
          "name": "stdout"
        },
        {
          "output_type": "stream",
          "text": [
            "unable to load materials from: zan_gentlemen_3_1.mtl\n"
          ],
          "name": "stderr"
        },
        {
          "output_type": "stream",
          "text": [
            "(27, 64, 28)\n"
          ],
          "name": "stdout"
        },
        {
          "output_type": "stream",
          "text": [
            "unable to load materials from: zan_gentlemen_3_2.mtl\n"
          ],
          "name": "stderr"
        },
        {
          "output_type": "stream",
          "text": [
            "(27, 64, 25)\n"
          ],
          "name": "stdout"
        },
        {
          "output_type": "stream",
          "text": [
            "unable to load materials from: zan_gentlemen_3_3.mtl\n"
          ],
          "name": "stderr"
        },
        {
          "output_type": "stream",
          "text": [
            "(28, 64, 27)\n"
          ],
          "name": "stdout"
        },
        {
          "output_type": "stream",
          "text": [
            "unable to load materials from: zan_gentlemen_3_4.mtl\n"
          ],
          "name": "stderr"
        },
        {
          "output_type": "stream",
          "text": [
            "(27, 64, 26)\n"
          ],
          "name": "stdout"
        },
        {
          "output_type": "stream",
          "text": [
            "unable to load materials from: zan_gentlemen_3_5.mtl\n"
          ],
          "name": "stderr"
        },
        {
          "output_type": "stream",
          "text": [
            "(28, 64, 27)\n"
          ],
          "name": "stdout"
        },
        {
          "output_type": "stream",
          "text": [
            "unable to load materials from: zan_gentlemen_3_6.mtl\n"
          ],
          "name": "stderr"
        },
        {
          "output_type": "stream",
          "text": [
            "(27, 64, 27)\n"
          ],
          "name": "stdout"
        },
        {
          "output_type": "stream",
          "text": [
            "unable to load materials from: zan_gentlemen_3_7.mtl\n"
          ],
          "name": "stderr"
        },
        {
          "output_type": "stream",
          "text": [
            "(25, 64, 26)\n"
          ],
          "name": "stdout"
        },
        {
          "output_type": "stream",
          "text": [
            "unable to load materials from: zan_gentlemen_3_8.mtl\n"
          ],
          "name": "stderr"
        },
        {
          "output_type": "stream",
          "text": [
            "(27, 64, 29)\n"
          ],
          "name": "stdout"
        },
        {
          "output_type": "stream",
          "text": [
            "unable to load materials from: zan_gentlemen_3_9.mtl\n"
          ],
          "name": "stderr"
        },
        {
          "output_type": "stream",
          "text": [
            "(27, 64, 28)\n"
          ],
          "name": "stdout"
        },
        {
          "output_type": "stream",
          "text": [
            "unable to load materials from: zan_gentlemen_3_10.mtl\n"
          ],
          "name": "stderr"
        },
        {
          "output_type": "stream",
          "text": [
            "(28, 64, 27)\n"
          ],
          "name": "stdout"
        },
        {
          "output_type": "stream",
          "text": [
            "unable to load materials from: zan_gentlemen_4_1.mtl\n"
          ],
          "name": "stderr"
        },
        {
          "output_type": "stream",
          "text": [
            "(31, 64, 33)\n"
          ],
          "name": "stdout"
        },
        {
          "output_type": "stream",
          "text": [
            "unable to load materials from: zan_gentlemen_4_2.mtl\n"
          ],
          "name": "stderr"
        },
        {
          "output_type": "stream",
          "text": [
            "(37, 64, 34)\n"
          ],
          "name": "stdout"
        },
        {
          "output_type": "stream",
          "text": [
            "unable to load materials from: zan_gentlemen_4_3.mtl\n"
          ],
          "name": "stderr"
        },
        {
          "output_type": "stream",
          "text": [
            "(40, 64, 34)\n"
          ],
          "name": "stdout"
        },
        {
          "output_type": "stream",
          "text": [
            "unable to load materials from: zan_gentlemen_4_4.mtl\n"
          ],
          "name": "stderr"
        },
        {
          "output_type": "stream",
          "text": [
            "(39, 64, 32)\n"
          ],
          "name": "stdout"
        },
        {
          "output_type": "stream",
          "text": [
            "unable to load materials from: zan_gentlemen_4_5.mtl\n"
          ],
          "name": "stderr"
        },
        {
          "output_type": "stream",
          "text": [
            "(38, 64, 29)\n"
          ],
          "name": "stdout"
        },
        {
          "output_type": "stream",
          "text": [
            "unable to load materials from: zan_gentlemen_4_6.mtl\n"
          ],
          "name": "stderr"
        },
        {
          "output_type": "stream",
          "text": [
            "(36, 64, 33)\n"
          ],
          "name": "stdout"
        },
        {
          "output_type": "stream",
          "text": [
            "unable to load materials from: zan_gentlemen_4_7.mtl\n"
          ],
          "name": "stderr"
        },
        {
          "output_type": "stream",
          "text": [
            "(30, 64, 32)\n"
          ],
          "name": "stdout"
        },
        {
          "output_type": "stream",
          "text": [
            "unable to load materials from: zan_gentlemen_4_8.mtl\n"
          ],
          "name": "stderr"
        },
        {
          "output_type": "stream",
          "text": [
            "(39, 64, 37)\n"
          ],
          "name": "stdout"
        },
        {
          "output_type": "stream",
          "text": [
            "unable to load materials from: zan_gentlemen_4_9.mtl\n"
          ],
          "name": "stderr"
        },
        {
          "output_type": "stream",
          "text": [
            "(35, 64, 38)\n"
          ],
          "name": "stdout"
        },
        {
          "output_type": "stream",
          "text": [
            "unable to load materials from: zan_gentlemen_4_10.mtl\n"
          ],
          "name": "stderr"
        },
        {
          "output_type": "stream",
          "text": [
            "(40, 64, 34)\n"
          ],
          "name": "stdout"
        },
        {
          "output_type": "stream",
          "text": [
            "unable to load materials from: zan_gentlemen_5_1.mtl.mtl\n"
          ],
          "name": "stderr"
        },
        {
          "output_type": "stream",
          "text": [
            "(35, 64, 29)\n"
          ],
          "name": "stdout"
        },
        {
          "output_type": "stream",
          "text": [
            "unable to load materials from: zan_gentlemen_5_2.mtl\n"
          ],
          "name": "stderr"
        },
        {
          "output_type": "stream",
          "text": [
            "(36, 64, 32)\n"
          ],
          "name": "stdout"
        },
        {
          "output_type": "stream",
          "text": [
            "unable to load materials from: zan_gentlemen_5_3.mtl\n"
          ],
          "name": "stderr"
        },
        {
          "output_type": "stream",
          "text": [
            "(32, 64, 33)\n"
          ],
          "name": "stdout"
        },
        {
          "output_type": "stream",
          "text": [
            "unable to load materials from: zan_gentlemen_5_4.mtl\n"
          ],
          "name": "stderr"
        },
        {
          "output_type": "stream",
          "text": [
            "(34, 64, 33)\n"
          ],
          "name": "stdout"
        },
        {
          "output_type": "stream",
          "text": [
            "unable to load materials from: zan_gentlemen_5_5.mtl\n"
          ],
          "name": "stderr"
        },
        {
          "output_type": "stream",
          "text": [
            "(31, 64, 30)\n"
          ],
          "name": "stdout"
        },
        {
          "output_type": "stream",
          "text": [
            "unable to load materials from: zan_gentlemen_5_6.mtl\n"
          ],
          "name": "stderr"
        },
        {
          "output_type": "stream",
          "text": [
            "(38, 64, 31)\n"
          ],
          "name": "stdout"
        },
        {
          "output_type": "stream",
          "text": [
            "unable to load materials from: zan_gentlemen_5_8.mtl\n"
          ],
          "name": "stderr"
        },
        {
          "output_type": "stream",
          "text": [
            "(35, 64, 34)\n"
          ],
          "name": "stdout"
        },
        {
          "output_type": "stream",
          "text": [
            "unable to load materials from: zan_gentlemen_5_9.mtl\n"
          ],
          "name": "stderr"
        },
        {
          "output_type": "stream",
          "text": [
            "(34, 64, 37)\n"
          ],
          "name": "stdout"
        },
        {
          "output_type": "stream",
          "text": [
            "unable to load materials from: zan_gentlemen_5_10.mtl\n"
          ],
          "name": "stderr"
        },
        {
          "output_type": "stream",
          "text": [
            "(33, 64, 34)\n"
          ],
          "name": "stdout"
        },
        {
          "output_type": "stream",
          "text": [
            "unable to load materials from: zan_gentlemen_5_7.mtl\n"
          ],
          "name": "stderr"
        },
        {
          "output_type": "stream",
          "text": [
            "(32, 64, 27)\n"
          ],
          "name": "stdout"
        }
      ]
    },
    {
      "cell_type": "code",
      "metadata": {
        "id": "iG1E3Gf2Sv7c",
        "colab_type": "code",
        "colab": {
          "base_uri": "https://localhost:8080/",
          "height": 1000
        },
        "outputId": "aec949ae-57f8-446d-9887-e342622e6cbb"
      },
      "source": [
        "data"
      ],
      "execution_count": 9,
      "outputs": [
        {
          "output_type": "execute_result",
          "data": {
            "text/plain": [
              "['old_1.obj',\n",
              " 'old_2.obj',\n",
              " 'old_3.obj',\n",
              " 'maple_example2.obj',\n",
              " 'pn_tall_straight_1.obj',\n",
              " 'pn_tall_straight_old_1.obj',\n",
              " 'formal_upright_1_1.obj',\n",
              " 'formal_upright_1_2.obj',\n",
              " 'formal_upright_1_3.obj',\n",
              " 'formal_upright_1_4.obj',\n",
              " 'formal_upright_1_5.obj',\n",
              " 'formal_upright_1_6.obj',\n",
              " 'formal_upright_1_7.obj',\n",
              " 'formal_upright_1_9.obj',\n",
              " 'formal_upright_1_10.obj',\n",
              " 'formal_upright_1_8.obj',\n",
              " 'informal_upright_1_1.obj',\n",
              " 'informal_upright_1_2.obj',\n",
              " 'informal_upright_1_3.obj',\n",
              " 'informal_upright_1_4.obj',\n",
              " 'informal_upright_1_5.obj',\n",
              " 'informal_upright_1_6.obj',\n",
              " 'informal_upright_1_7.obj',\n",
              " 'informal_upright_1_8.obj',\n",
              " 'informal_upright_1_9.obj',\n",
              " 'informal_upright_1_10.obj',\n",
              " 'leaning_1_1.obj',\n",
              " 'leaning_1_2.obj',\n",
              " 'leaning_1_3.obj',\n",
              " 'leaning_1_4.obj',\n",
              " 'leaning_1_5.obj',\n",
              " 'leaning_1_6.obj',\n",
              " 'leaning_1_7.obj',\n",
              " 'leaning_1_8.obj',\n",
              " 'leaning_1_9.obj',\n",
              " 'leaning_1_10.obj',\n",
              " 'windswept_1_1.obj',\n",
              " 'windswept_1_2.obj',\n",
              " 'windswept_1_3.obj',\n",
              " 'windswept_1_4.obj',\n",
              " 'windswept_1_5.obj',\n",
              " 'windswept_1_6.obj',\n",
              " 'windswept_1_7.obj',\n",
              " 'windswept_1_8.obj',\n",
              " 'windswept_1_9.obj',\n",
              " 'windswept_1_10.obj',\n",
              " 'semi_cascade_1_1.obj',\n",
              " 'semi_cascade_1_2.obj',\n",
              " 'semi_cascade_1_3.obj',\n",
              " 'semi_cascade_1_4.obj',\n",
              " 'semi_cascade_1_5.obj',\n",
              " 'semi_cascade_1_6.obj',\n",
              " 'semi_cascade_1_7.obj',\n",
              " 'semi_cascade_1_8.obj',\n",
              " 'semi_cascade_1_9.obj',\n",
              " 'semi_cascade_1_10.obj',\n",
              " 'double_trunk_1_1.obj',\n",
              " 'double_trunk_1_2.obj',\n",
              " 'double_trunk_1_3.obj',\n",
              " 'double_trunk_1_4.obj',\n",
              " 'double_trunk_1_5.obj',\n",
              " 'double_trunk_1_6.obj',\n",
              " 'double_trunk_1_7.obj',\n",
              " 'double_trunk_1_8.obj',\n",
              " 'double_trunk_1_9.obj',\n",
              " 'double_trunk_1_10.obj',\n",
              " 'group_1_1.obj',\n",
              " 'group_1_2.obj',\n",
              " 'group_1_3.obj',\n",
              " 'group_1_4.obj',\n",
              " 'group_1_5.obj',\n",
              " 'group_1_6.obj',\n",
              " 'group_1_7.obj',\n",
              " 'group_1_8.obj',\n",
              " 'group_1_9.obj',\n",
              " 'group_1_10.obj',\n",
              " 'raft_1_1.obj',\n",
              " 'raft_1_2.obj',\n",
              " 'raft_1_4.obj',\n",
              " 'raft_1_3.obj',\n",
              " 'raft_1_5.obj',\n",
              " 'raft_1_6.obj',\n",
              " 'raft_1_7.obj',\n",
              " 'raft_1_8.obj',\n",
              " 'raft_1_9.obj',\n",
              " 'raft_1_10.obj',\n",
              " 'formal_upright_2_1.obj',\n",
              " 'formal_upright_2_2.obj',\n",
              " 'formal_upright_2_3.obj',\n",
              " 'formal_upright_2_4.obj',\n",
              " 'formal_upright_2_5.obj',\n",
              " 'formal_upright_2_6.obj',\n",
              " 'formal_upright_2_7.obj',\n",
              " 'formal_upright_2_8.obj',\n",
              " 'formal_upright_2_10.obj',\n",
              " 'formal_upright_2_9.obj',\n",
              " 'informal_upright_2_1.obj',\n",
              " 'informal_upright_2_2.obj',\n",
              " 'informal_upright_2_3.obj',\n",
              " 'informal_upright_2_4.obj',\n",
              " 'informal_upright_2_5.obj',\n",
              " 'informal_upright_2_6.obj',\n",
              " 'informal_upright_2_7.obj',\n",
              " 'informal_upright_2_8.obj',\n",
              " 'informal_upright_2_9.obj',\n",
              " 'informal_upright_2_10.obj',\n",
              " 'leaning_2_1.obj',\n",
              " 'leaning_2_2.obj',\n",
              " 'leaning_2_3.obj',\n",
              " 'leaning_2_4.obj',\n",
              " 'leaning_2_5.obj',\n",
              " 'leaning_2_6.obj',\n",
              " 'leaning_2_8.obj',\n",
              " 'leaning_2_10.obj',\n",
              " 'leaning_2_7.obj',\n",
              " 'leaning_2_9.obj',\n",
              " 'windswept_2_1.obj',\n",
              " 'windswept_2_2.obj',\n",
              " 'windswept_2_3.obj',\n",
              " 'windswept_2_4.obj',\n",
              " 'windswept_2_5.obj',\n",
              " 'windswept_2_6.obj',\n",
              " 'windswept_2_7.obj',\n",
              " 'windswept_2_8.obj',\n",
              " 'windswept_2_9.obj',\n",
              " 'windswept_2_10.obj',\n",
              " 'semi_cascade_2_1.obj',\n",
              " 'semi_cascade_2_2.obj',\n",
              " 'semi_cascade_2_3.obj',\n",
              " 'semi_cascade_2_4.obj',\n",
              " 'semi_cascade_2_5.obj',\n",
              " 'semi_cascade_2_6.obj',\n",
              " 'semi_cascade_2_7.obj',\n",
              " 'semi_cascade_2_8.obj',\n",
              " 'semi_cascade_2_9.obj',\n",
              " 'semi_cascade_2_10.obj',\n",
              " 'double_trunk_2_1.obj',\n",
              " 'double_trunk_2_2.obj',\n",
              " 'double_trunk_2_3.obj',\n",
              " 'double_trunk_2_4.obj',\n",
              " 'double_trunk_2_5.obj',\n",
              " 'double_trunk_2_6.obj',\n",
              " 'double_trunk_2_7.obj',\n",
              " 'double_trunk_2_8.obj',\n",
              " 'double_trunk_2_9.obj',\n",
              " 'double_trunk_2_10.obj',\n",
              " 'mustard_sapling_2_1.obj',\n",
              " 'mustard_sapling_2_2.obj',\n",
              " 'mustard_sapling_2_3.obj',\n",
              " 'mustard_sapling_2_4.obj',\n",
              " 'mustard_sapling_2_5.obj',\n",
              " 'mustard_sapling_2_6.obj',\n",
              " 'mustard_sapling_2_7.obj',\n",
              " 'mustard_sapling_2_8.obj',\n",
              " 'mustard_sapling_2_9.obj',\n",
              " 'mustard_sapling_2_10.obj',\n",
              " 'mustard_reaching_1_1.obj',\n",
              " 'mustard_reaching_1_2.obj',\n",
              " 'mustard_reaching_1_3.obj',\n",
              " 'mustard_reaching_1_4.obj',\n",
              " 'mustard_reaching_1_5.obj',\n",
              " 'mustard_reaching_1_6.obj',\n",
              " 'mustard_reaching_1_7.obj',\n",
              " 'mustard_reaching_1_8.obj',\n",
              " 'mustard_reaching_1_9.obj',\n",
              " 'mustard_reaching_1_10.obj',\n",
              " 'zan_gentlemen_1_1.obj',\n",
              " 'zan_gentlemen_1_3.obj',\n",
              " 'zan_gentlemen_1_2.obj',\n",
              " 'zan_gentlemen_1_4.obj',\n",
              " 'zan_gentlemen_1_5.obj',\n",
              " 'zan_gentlemen_1_6.obj',\n",
              " 'zan_gentlemen_1_7.obj',\n",
              " 'zan_gentlemen_1_8.obj',\n",
              " 'zan_gentlemen_1_9.obj',\n",
              " 'zan_gentlemen_1_10.obj',\n",
              " 'zan_gentlemen_2_1.obj',\n",
              " 'zan_gentlemen_2_2.obj',\n",
              " 'zan_gentlemen_2_3.obj',\n",
              " 'zan_gentlemen_2_4.obj',\n",
              " 'zan_gentlemen_2_5.obj',\n",
              " 'zan_gentlemen_2_6.obj',\n",
              " 'zan_gentlemen_2_7.obj',\n",
              " 'zan_gentlemen_2_8.obj',\n",
              " 'zan_gentlemen_2_9.obj',\n",
              " 'zan_gentlemen_2_10.obj',\n",
              " 'zan_gentlemen_3_1.obj',\n",
              " 'zan_gentlemen_3_2.obj',\n",
              " 'zan_gentlemen_3_3.obj',\n",
              " 'zan_gentlemen_3_4.obj',\n",
              " 'zan_gentlemen_3_5.obj',\n",
              " 'zan_gentlemen_3_6.obj',\n",
              " 'zan_gentlemen_3_7.obj',\n",
              " 'zan_gentlemen_3_8.obj',\n",
              " 'zan_gentlemen_3_9.obj',\n",
              " 'zan_gentlemen_3_10.obj',\n",
              " 'zan_gentlemen_4_1.obj',\n",
              " 'zan_gentlemen_4_2.obj',\n",
              " 'zan_gentlemen_4_3.obj',\n",
              " 'zan_gentlemen_4_4.obj',\n",
              " 'zan_gentlemen_4_5.obj',\n",
              " 'zan_gentlemen_4_6.obj',\n",
              " 'zan_gentlemen_4_7.obj',\n",
              " 'zan_gentlemen_4_8.obj',\n",
              " 'zan_gentlemen_4_9.obj',\n",
              " 'zan_gentlemen_4_10.obj',\n",
              " 'zan_gentlemen_5_1.obj',\n",
              " 'zan_gentlemen_5_2.obj',\n",
              " 'zan_gentlemen_5_3.obj',\n",
              " 'zan_gentlemen_5_4.obj',\n",
              " 'zan_gentlemen_5_5.obj',\n",
              " 'zan_gentlemen_5_6.obj',\n",
              " 'zan_gentlemen_5_8.obj',\n",
              " 'zan_gentlemen_5_9.obj',\n",
              " 'zan_gentlemen_5_10.obj',\n",
              " 'zan_gentlemen_5_7.obj']"
            ]
          },
          "metadata": {
            "tags": []
          },
          "execution_count": 9
        }
      ]
    },
    {
      "cell_type": "code",
      "metadata": {
        "id": "odMSetVzgGp4",
        "colab_type": "code",
        "colab": {
          "base_uri": "https://localhost:8080/",
          "height": 54
        },
        "outputId": "29a51eea-ac45-4815-a68d-e57d6e12deb8"
      },
      "source": [
        "#categorize files with filename\n",
        "dataset = {}\n",
        "for filename in data:\n",
        "    filename_splits = filename.split(\"_\")\n",
        "    cat_name_list = []\n",
        "    for s in filename_splits:\n",
        "        if not s[0].isdigit():\n",
        "            cat_name_list.append(s)\n",
        "    cat_name = \"_\".join(cat_name_list)\n",
        "    if cat_name in dataset:\n",
        "        dataset[cat_name].append(filename)\n",
        "    else:\n",
        "        dataset[cat_name] = [filename]\n",
        "    \n",
        "\n",
        "print(dataset.keys())"
      ],
      "execution_count": 10,
      "outputs": [
        {
          "output_type": "stream",
          "text": [
            "dict_keys(['old', 'maple_example2.obj', 'pn_tall_straight', 'pn_tall_straight_old', 'formal_upright', 'informal_upright', 'leaning', 'windswept', 'semi_cascade', 'double_trunk', 'group', 'raft', 'mustard_sapling', 'mustard_reaching', 'zan_gentlemen'])\n"
          ],
          "name": "stdout"
        }
      ]
    },
    {
      "cell_type": "markdown",
      "metadata": {
        "id": "KLHjsSuwAcDW",
        "colab_type": "text"
      },
      "source": [
        "#wandb create artifact dataset"
      ]
    },
    {
      "cell_type": "code",
      "metadata": {
        "id": "ZmFnjlYzAbLJ",
        "colab_type": "code",
        "colab": {}
      },
      "source": [
        "!wandb login\n",
        "output.clear()"
      ],
      "execution_count": 15,
      "outputs": []
    },
    {
      "cell_type": "code",
      "metadata": {
        "id": "RySqix3CBEXv",
        "colab_type": "code",
        "colab": {
          "base_uri": "https://localhost:8080/",
          "height": 67
        },
        "outputId": "1195cbbd-a739-4210-824d-5839db482a17"
      },
      "source": [
        "run = wandb.init(project=\"tree-gan\", job_type=\"create_dataset\", dir=run_path)\n",
        "wandb.run.name = \"create_artifact_dataset\"\n",
        "wandb.watch_called = False"
      ],
      "execution_count": 16,
      "outputs": [
        {
          "output_type": "display_data",
          "data": {
            "text/html": [
              "\n",
              "                Logging results to <a href=\"https://wandb.com\" target=\"_blank\">Weights & Biases</a> <a href=\"https://docs.wandb.com/integrations/jupyter.html\" target=\"_blank\">(Documentation)</a>.<br/>\n",
              "                Project page: <a href=\"https://app.wandb.ai/bugan/tree-gan\" target=\"_blank\">https://app.wandb.ai/bugan/tree-gan</a><br/>\n",
              "                Run page: <a href=\"https://app.wandb.ai/bugan/tree-gan/runs/2fishoxn\" target=\"_blank\">https://app.wandb.ai/bugan/tree-gan/runs/2fishoxn</a><br/>\n",
              "            "
            ],
            "text/plain": [
              "<IPython.core.display.HTML object>"
            ]
          },
          "metadata": {
            "tags": []
          }
        }
      ]
    },
    {
      "cell_type": "code",
      "metadata": {
        "id": "iimxq2xbUPGw",
        "colab_type": "code",
        "colab": {}
      },
      "source": [
        "def create_artifact_dataset(run, name, alias_list, mesh_file_dict):\n",
        "    #create artifact\n",
        "    artifact = wandb.Artifact(\n",
        "            type='dataset',\n",
        "            name=name,\n",
        "            metadata= {\n",
        "                'n_examples': len(data),\n",
        "                'data_path': data_path,\n",
        "                'dir_dict': mesh_file_dict})\n",
        "    #add file location to artifact\n",
        "    for file_cat in mesh_file_dict:\n",
        "        file_list = mesh_file_dict[file_cat]\n",
        "        for file_name in file_list:\n",
        "            artifact.add_file(data_path+file_name, name=file_cat+\"/\"+file_name)\n",
        "        \n",
        "    run.log_artifact(artifact, aliases=alias_list)"
      ],
      "execution_count": 17,
      "outputs": []
    },
    {
      "cell_type": "code",
      "metadata": {
        "id": "RA_5WlhyWdAp",
        "colab_type": "code",
        "colab": {}
      },
      "source": [
        "#create dataset with only all trees\n",
        "create_artifact_dataset(run, \"dataset-tree\", ['full', str(len(data))], dataset)"
      ],
      "execution_count": 18,
      "outputs": []
    },
    {
      "cell_type": "code",
      "metadata": {
        "id": "GZL8K6AzTGQT",
        "colab_type": "code",
        "colab": {}
      },
      "source": [
        "#create dataset with only all trees\n",
        "store_dict = {}\n",
        "store_dict[\"old\"] = [dataset[\"old\"][0]]\n",
        "create_artifact_dataset(run, \"dataset-tree\", ['one', '1'], store_dict)"
      ],
      "execution_count": 19,
      "outputs": []
    },
    {
      "cell_type": "code",
      "metadata": {
        "id": "-xRPpy60THgB",
        "colab_type": "code",
        "colab": {}
      },
      "source": [
        "#create dataset with only all trees\n",
        "store_dict2 = {}\n",
        "store_dict2[\"old\"] = dataset[\"old\"]\n",
        "create_artifact_dataset(run, \"dataset-tree\", ['onetype', '3'], store_dict2)"
      ],
      "execution_count": 20,
      "outputs": []
    }
  ]
}