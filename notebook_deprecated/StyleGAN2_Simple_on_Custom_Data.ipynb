{
  "nbformat": 4,
  "nbformat_minor": 0,
  "metadata": {
    "colab": {
      "name": "StyleGAN2 Simple on Custom Data",
      "provenance": [],
      "collapsed_sections": [],
      "authorship_tag": "ABX9TyNL73LIQhWI/W9+tPG25Nyb",
      "include_colab_link": true
    },
    "kernelspec": {
      "name": "python3",
      "display_name": "Python 3"
    },
    "accelerator": "GPU"
  },
  "cells": [
    {
      "cell_type": "markdown",
      "metadata": {
        "id": "view-in-github",
        "colab_type": "text"
      },
      "source": [
        "<a href=\"https://colab.research.google.com/github/pacnpacn/BUGAN/blob/master/notebook_deprecated/StyleGAN2_Simple_on_Custom_Data.ipynb\" target=\"_parent\"><img src=\"https://colab.research.google.com/assets/colab-badge.svg\" alt=\"Open In Colab\"/></a>"
      ]
    },
    {
      "cell_type": "markdown",
      "metadata": {
        "id": "b1JgIIo8CQvg",
        "colab_type": "text"
      },
      "source": [
        "# StyleGAN2 Simple pytorch\n",
        "\n",
        "https://github.com/lucidrains/stylegan2-pytorch\n",
        "\n",
        "Make sure you have a GPU runtime!"
      ]
    },
    {
      "cell_type": "code",
      "metadata": {
        "id": "DGPrHZfyCk9Y",
        "colab_type": "code",
        "colab": {}
      },
      "source": [
        "# Set a tag for _your_ experiments, for example your name.\n",
        "\n",
        "my_tag = ''\n",
        "assert my_tag, \"Please set a tag above\""
      ],
      "execution_count": null,
      "outputs": []
    },
    {
      "cell_type": "code",
      "metadata": {
        "id": "S_q_ADt3E7mc",
        "colab_type": "code",
        "colab": {}
      },
      "source": [
        "from google.colab import drive\n",
        "drive.mount(\"/content/drive\")"
      ],
      "execution_count": null,
      "outputs": []
    },
    {
      "cell_type": "code",
      "metadata": {
        "id": "cPh88XCjFLCs",
        "colab_type": "code",
        "colab": {}
      },
      "source": [
        "!rsync -avP /content/drive/My\\ Drive/IRCMS_GAN_collaborative_database/Research/Daniel/ALL\\ CROP.zip /content/"
      ],
      "execution_count": null,
      "outputs": []
    },
    {
      "cell_type": "code",
      "metadata": {
        "id": "0Jrx_RAFFWvr",
        "colab_type": "code",
        "colab": {}
      },
      "source": [
        "!unzip -q ALL\\ CROP.zip"
      ],
      "execution_count": null,
      "outputs": []
    },
    {
      "cell_type": "code",
      "metadata": {
        "id": "v6R2Nrc5FbcT",
        "colab_type": "code",
        "colab": {}
      },
      "source": [
        "!pip install stylegan2_pytorch"
      ],
      "execution_count": null,
      "outputs": []
    },
    {
      "cell_type": "code",
      "metadata": {
        "id": "e9_EmDvrD0ec",
        "colab_type": "code",
        "colab": {}
      },
      "source": [
        "import os\n",
        "prefix = f'/content/drive/My Drive/IRCMS_GAN_collaborative_database/Experiments/colab-stylegan2-simple/{my_tag}'\n",
        "\n",
        "run_id = 1\n",
        "experiment_dir = os.path.join(prefix, f'{run_id:04d}')\n",
        "\n",
        "# Inefficient, check which directory exists if this gets too slow.\n",
        "while os.path.exists(experiment_dir):\n",
        "    run_id += 1\n",
        "    experiment_dir = os.path.join(prefix, f'{run_id:04d}')\n",
        "\n",
        "results_dir = os.path.join(experiment_dir, 'results')\n",
        "models_dir = os.path.join(experiment_dir, 'models')\n",
        "print(\"Experiments saved to\", experiment_dir)"
      ],
      "execution_count": null,
      "outputs": []
    },
    {
      "cell_type": "code",
      "metadata": {
        "id": "CBJrd7hfFov7",
        "colab_type": "code",
        "colab": {}
      },
      "source": [
        "!stylegan2_pytorch --data \"ALL CROP\"  --name stock-images --batch_size 8 --aug_prob 0.25 --results_dir \"$results_dir\" --models_dir \"$models_dir\""
      ],
      "execution_count": null,
      "outputs": []
    },
    {
      "cell_type": "code",
      "metadata": {
        "id": "6tTyVubQFiX4",
        "colab_type": "code",
        "colab": {}
      },
      "source": [
        ""
      ],
      "execution_count": null,
      "outputs": []
    }
  ]
}