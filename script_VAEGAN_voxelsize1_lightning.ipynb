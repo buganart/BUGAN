{
  "nbformat": 4,
  "nbformat_minor": 0,
  "metadata": {
    "colab": {
      "name": "script_VAEGAN_voxelsize1_lightning.ipynb",
      "provenance": [],
      "collapsed_sections": [],
      "machine_shape": "hm",
      "include_colab_link": true
    },
    "kernelspec": {
      "name": "python3",
      "display_name": "Python 3"
    },
    "accelerator": "GPU",
    "widgets": {
      "application/vnd.jupyter.widget-state+json": {
        "0e21636428654023a957539a060dca84": {
          "model_module": "@jupyter-widgets/controls",
          "model_name": "HBoxModel",
          "state": {
            "_view_name": "HBoxView",
            "_dom_classes": [],
            "_model_name": "HBoxModel",
            "_view_module": "@jupyter-widgets/controls",
            "_model_module_version": "1.5.0",
            "_view_count": null,
            "_view_module_version": "1.5.0",
            "box_style": "",
            "layout": "IPY_MODEL_d7e4fd7c444f47ce92a3e3f8104fc760",
            "_model_module": "@jupyter-widgets/controls",
            "children": [
              "IPY_MODEL_63e01442279c4674830572ffef7b0439",
              "IPY_MODEL_4ca313791d224d75beb2c86964025a90"
            ]
          }
        },
        "d7e4fd7c444f47ce92a3e3f8104fc760": {
          "model_module": "@jupyter-widgets/base",
          "model_name": "LayoutModel",
          "state": {
            "_view_name": "LayoutView",
            "grid_template_rows": null,
            "right": null,
            "justify_content": null,
            "_view_module": "@jupyter-widgets/base",
            "overflow": null,
            "_model_module_version": "1.2.0",
            "_view_count": null,
            "flex_flow": "row wrap",
            "width": "100%",
            "min_width": null,
            "border": null,
            "align_items": null,
            "bottom": null,
            "_model_module": "@jupyter-widgets/base",
            "top": null,
            "grid_column": null,
            "overflow_y": null,
            "overflow_x": null,
            "grid_auto_flow": null,
            "grid_area": null,
            "grid_template_columns": null,
            "flex": null,
            "_model_name": "LayoutModel",
            "justify_items": null,
            "grid_row": null,
            "max_height": null,
            "align_content": null,
            "visibility": null,
            "align_self": null,
            "height": null,
            "min_height": null,
            "padding": null,
            "grid_auto_rows": null,
            "grid_gap": null,
            "max_width": null,
            "order": null,
            "_view_module_version": "1.2.0",
            "grid_template_areas": null,
            "object_position": null,
            "object_fit": null,
            "grid_auto_columns": null,
            "margin": null,
            "display": "inline-flex",
            "left": null
          }
        },
        "63e01442279c4674830572ffef7b0439": {
          "model_module": "@jupyter-widgets/controls",
          "model_name": "FloatProgressModel",
          "state": {
            "_view_name": "ProgressView",
            "style": "IPY_MODEL_f006b3d3ac614456bacbf60f1788b155",
            "_dom_classes": [],
            "description": "Epoch 165:   0%",
            "_model_name": "FloatProgressModel",
            "bar_style": "danger",
            "max": 2,
            "_view_module": "@jupyter-widgets/controls",
            "_model_module_version": "1.5.0",
            "value": 0,
            "_view_count": null,
            "_view_module_version": "1.5.0",
            "orientation": "horizontal",
            "min": 0,
            "description_tooltip": null,
            "_model_module": "@jupyter-widgets/controls",
            "layout": "IPY_MODEL_90a082e432104b1983d7d604e32c908c"
          }
        },
        "4ca313791d224d75beb2c86964025a90": {
          "model_module": "@jupyter-widgets/controls",
          "model_name": "HTMLModel",
          "state": {
            "_view_name": "HTMLView",
            "style": "IPY_MODEL_1076b74683594f62a4975bf4f99ea081",
            "_dom_classes": [],
            "description": "",
            "_model_name": "HTMLModel",
            "placeholder": "​",
            "_view_module": "@jupyter-widgets/controls",
            "_model_module_version": "1.5.0",
            "value": " 0/2 [00:00&lt;?, ?it/s, loss=1.693, v_num=6, step_vae_loss=3.67, step_dloss=0.00123, epoch_vae_loss=3.26, epoch_dloss=0.00107]",
            "_view_count": null,
            "_view_module_version": "1.5.0",
            "description_tooltip": null,
            "_model_module": "@jupyter-widgets/controls",
            "layout": "IPY_MODEL_fa9515819a3d4dd0a9f065338170ec8b"
          }
        },
        "f006b3d3ac614456bacbf60f1788b155": {
          "model_module": "@jupyter-widgets/controls",
          "model_name": "ProgressStyleModel",
          "state": {
            "_view_name": "StyleView",
            "_model_name": "ProgressStyleModel",
            "description_width": "initial",
            "_view_module": "@jupyter-widgets/base",
            "_model_module_version": "1.5.0",
            "_view_count": null,
            "_view_module_version": "1.2.0",
            "bar_color": null,
            "_model_module": "@jupyter-widgets/controls"
          }
        },
        "90a082e432104b1983d7d604e32c908c": {
          "model_module": "@jupyter-widgets/base",
          "model_name": "LayoutModel",
          "state": {
            "_view_name": "LayoutView",
            "grid_template_rows": null,
            "right": null,
            "justify_content": null,
            "_view_module": "@jupyter-widgets/base",
            "overflow": null,
            "_model_module_version": "1.2.0",
            "_view_count": null,
            "flex_flow": null,
            "width": null,
            "min_width": null,
            "border": null,
            "align_items": null,
            "bottom": null,
            "_model_module": "@jupyter-widgets/base",
            "top": null,
            "grid_column": null,
            "overflow_y": null,
            "overflow_x": null,
            "grid_auto_flow": null,
            "grid_area": null,
            "grid_template_columns": null,
            "flex": "2",
            "_model_name": "LayoutModel",
            "justify_items": null,
            "grid_row": null,
            "max_height": null,
            "align_content": null,
            "visibility": null,
            "align_self": null,
            "height": null,
            "min_height": null,
            "padding": null,
            "grid_auto_rows": null,
            "grid_gap": null,
            "max_width": null,
            "order": null,
            "_view_module_version": "1.2.0",
            "grid_template_areas": null,
            "object_position": null,
            "object_fit": null,
            "grid_auto_columns": null,
            "margin": null,
            "display": null,
            "left": null
          }
        },
        "1076b74683594f62a4975bf4f99ea081": {
          "model_module": "@jupyter-widgets/controls",
          "model_name": "DescriptionStyleModel",
          "state": {
            "_view_name": "StyleView",
            "_model_name": "DescriptionStyleModel",
            "description_width": "",
            "_view_module": "@jupyter-widgets/base",
            "_model_module_version": "1.5.0",
            "_view_count": null,
            "_view_module_version": "1.2.0",
            "_model_module": "@jupyter-widgets/controls"
          }
        },
        "fa9515819a3d4dd0a9f065338170ec8b": {
          "model_module": "@jupyter-widgets/base",
          "model_name": "LayoutModel",
          "state": {
            "_view_name": "LayoutView",
            "grid_template_rows": null,
            "right": null,
            "justify_content": null,
            "_view_module": "@jupyter-widgets/base",
            "overflow": null,
            "_model_module_version": "1.2.0",
            "_view_count": null,
            "flex_flow": null,
            "width": null,
            "min_width": null,
            "border": null,
            "align_items": null,
            "bottom": null,
            "_model_module": "@jupyter-widgets/base",
            "top": null,
            "grid_column": null,
            "overflow_y": null,
            "overflow_x": null,
            "grid_auto_flow": null,
            "grid_area": null,
            "grid_template_columns": null,
            "flex": null,
            "_model_name": "LayoutModel",
            "justify_items": null,
            "grid_row": null,
            "max_height": null,
            "align_content": null,
            "visibility": null,
            "align_self": null,
            "height": null,
            "min_height": null,
            "padding": null,
            "grid_auto_rows": null,
            "grid_gap": null,
            "max_width": null,
            "order": null,
            "_view_module_version": "1.2.0",
            "grid_template_areas": null,
            "object_position": null,
            "object_fit": null,
            "grid_auto_columns": null,
            "margin": null,
            "display": null,
            "left": null
          }
        }
      }
    }
  },
  "cells": [
    {
      "cell_type": "markdown",
      "metadata": {
        "id": "view-in-github",
        "colab_type": "text"
      },
      "source": [
        "<a href=\"https://colab.research.google.com/github/buganart/BUGAN/blob/master/script_VAEGAN_voxelsize1_lightning.ipynb\" target=\"_parent\"><img src=\"https://colab.research.google.com/assets/colab-badge.svg\" alt=\"Open In Colab\"/></a>"
      ]
    },
    {
      "cell_type": "code",
      "metadata": {
        "id": "sQtEpYYRh9LM",
        "colab_type": "code",
        "colab": {
          "base_uri": "https://localhost:8080/",
          "height": 121
        },
        "outputId": "45414ace-7da0-4834-e03a-94ff5a16b6ad"
      },
      "source": [
        "#mount google drive\n",
        "from google.colab import output\n",
        "from google.colab import drive\n",
        "drive.mount('/content/drive')"
      ],
      "execution_count": 1,
      "outputs": [
        {
          "output_type": "stream",
          "text": [
            "Go to this URL in a browser: https://accounts.google.com/o/oauth2/auth?client_id=947318989803-6bn6qk8qdgf4n4g3pfee6491hc0brc4i.apps.googleusercontent.com&redirect_uri=urn%3aietf%3awg%3aoauth%3a2.0%3aoob&scope=email%20https%3a%2f%2fwww.googleapis.com%2fauth%2fdocs.test%20https%3a%2f%2fwww.googleapis.com%2fauth%2fdrive%20https%3a%2f%2fwww.googleapis.com%2fauth%2fdrive.photos.readonly%20https%3a%2f%2fwww.googleapis.com%2fauth%2fpeopleapi.readonly&response_type=code\n",
            "\n",
            "Enter your authorization code:\n",
            "··········\n",
            "Mounted at /content/drive\n"
          ],
          "name": "stdout"
        }
      ]
    },
    {
      "cell_type": "code",
      "metadata": {
        "id": "D3jIEKP7i4Nt",
        "colab_type": "code",
        "colab": {
          "base_uri": "https://localhost:8080/",
          "height": 34
        },
        "outputId": "063ec3ec-f7e0-4c55-c311-a4094639edb3"
      },
      "source": [
        "#right click shared folder IRCMS_GAN_collaborative_database and \"Add shortcut to Drive\" to My drive\n",
        "%cd drive/My Drive/IRCMS_GAN_collaborative_database/Experiments/colab-treegan/\n",
        "\n",
        "#record paths to resources\n",
        "data_path = \"../../Research/Peter/Tree_3D_models_obj/obj_files/\"\n",
        "run_path = \"./\"\n",
        "\n",
        "# !ls"
      ],
      "execution_count": 2,
      "outputs": [
        {
          "output_type": "stream",
          "text": [
            "/content/drive/.shortcut-targets-by-id/1ylB2p6N0qQ-G4OsBuwcZ9C0tsqVu9ww4/IRCMS_GAN_collaborative_database/Experiments/colab-treegan\n"
          ],
          "name": "stdout"
        }
      ]
    },
    {
      "cell_type": "code",
      "metadata": {
        "id": "0LzAiBuWu6pw",
        "colab_type": "code",
        "colab": {
          "base_uri": "https://localhost:8080/",
          "height": 17
        },
        "outputId": "5b2b40f6-48c5-47f9-d3ac-a6db9d3dcded"
      },
      "source": [
        "!pip install pytorch-lightning\n",
        "!pip install trimesh\n",
        "!pip install wandb -q\n",
        "!apt install -y xvfb\n",
        "!pip install trimesh xvfbwrapper\n",
        "output.clear()"
      ],
      "execution_count": 3,
      "outputs": []
    },
    {
      "cell_type": "markdown",
      "metadata": {
        "id": "nYpnFurJt0Pu",
        "colab_type": "text"
      },
      "source": [
        "#add libraries, and login to wandb"
      ]
    },
    {
      "cell_type": "code",
      "metadata": {
        "id": "NU8OYjiWtzeo",
        "colab_type": "code",
        "colab": {}
      },
      "source": [
        "import io\n",
        "import os\n",
        "import trimesh\n",
        "import numpy as np\n",
        "\n",
        "import pytorch_lightning as pl\n",
        "import torch\n",
        "import torch.nn as nn\n",
        "import torch.nn.functional as F\n",
        "import torch.optim as optim\n",
        "from torchsummary import summary\n",
        "from torch.utils.data import DataLoader, TensorDataset\n",
        "device = torch.device(\"cuda:0\" if torch.cuda.is_available() else \"cpu\")\n",
        "device\n",
        "\n",
        "# Ignore excessive warnings\n",
        "import logging\n",
        "logging.propagate = False \n",
        "logging.getLogger().setLevel(logging.ERROR)\n",
        "\n",
        "# WandB – Import the wandb library\n",
        "import wandb\n",
        "\n",
        "from xvfbwrapper import Xvfb"
      ],
      "execution_count": 4,
      "outputs": []
    },
    {
      "cell_type": "code",
      "metadata": {
        "id": "V_fQzoLaVP2U",
        "colab_type": "code",
        "colab": {}
      },
      "source": [
        "!wandb login\n",
        "output.clear()"
      ],
      "execution_count": 5,
      "outputs": []
    },
    {
      "cell_type": "code",
      "metadata": {
        "id": "Y2lZ9OiNchg0",
        "colab_type": "code",
        "colab": {
          "base_uri": "https://localhost:8080/",
          "height": 101
        },
        "outputId": "ef58f653-df90-4fdd-871e-8d2b99cb0a67"
      },
      "source": [
        "#id None to start a new run. For resuming run, put the id of the run below\n",
        "id = None \n",
        "resume = False\n",
        "if id is None:\n",
        "    id = wandb.util.generate_id()\n",
        "else:\n",
        "    resume = True\n",
        "\n",
        "run = wandb.init(project=\"tree-gan\", id=id, resume=\"allow\", dir=run_path)\n",
        "print(\"run id:\" + str(wandb.run.id))\n",
        "print(\"run name: \" + str(wandb.run.name))\n",
        "wandb.watch_called = False\n",
        "wandb.run.save_code = True"
      ],
      "execution_count": 6,
      "outputs": [
        {
          "output_type": "display_data",
          "data": {
            "text/html": [
              "\n",
              "                Logging results to <a href=\"https://wandb.com\" target=\"_blank\">Weights & Biases</a> <a href=\"https://docs.wandb.com/integrations/jupyter.html\" target=\"_blank\">(Documentation)</a>.<br/>\n",
              "                Project page: <a href=\"https://app.wandb.ai/bugan/tree-gan\" target=\"_blank\">https://app.wandb.ai/bugan/tree-gan</a><br/>\n",
              "                Run page: <a href=\"https://app.wandb.ai/bugan/tree-gan/runs/3nerxvor\" target=\"_blank\">https://app.wandb.ai/bugan/tree-gan/runs/3nerxvor</a><br/>\n",
              "            "
            ],
            "text/plain": [
              "<IPython.core.display.HTML object>"
            ]
          },
          "metadata": {
            "tags": []
          }
        },
        {
          "output_type": "stream",
          "text": [
            "run id:3nerxvor\n",
            "run name: 3nerxvor\n"
          ],
          "name": "stdout"
        }
      ]
    },
    {
      "cell_type": "code",
      "metadata": {
        "id": "Ww3zbHkxAw8B",
        "colab_type": "code",
        "colab": {}
      },
      "source": [
        "#keep track of hyperparams\n",
        "config = wandb.config\n",
        "config.dataset = \"dataset-tree:3\"\n",
        "\n",
        "config.batch_size = 8\n",
        "config.array_size = 32\n",
        "\n",
        "config.z_size = 128\n",
        "config.gen_num_layer_unit = [32, 32, 32, 32]\n",
        "config.dis_num_layer_unit = [16, 16, 16, 16]\n",
        "config.leakyReLU = False\n",
        "config.balance_voxel_in_space = False\n",
        "\n",
        "config.epochs = 10\n",
        "config.vae_lr = 0.001\n",
        "config.vae_encoder_layer = 1\n",
        "config.vae_decoder_layer = 2\n",
        "config.d_lr = 0.0003         \n",
        "config.d_layer = 1\n",
        "config.vae_recon_loss_factor = 1\n",
        "config.seed = 1234\n",
        "config.log_image_interval = 5\n",
        "config.log_mesh_interval = 50\n",
        "config.data_augmentation = True\n",
        "config.num_augment_data = 4\n",
        "\n",
        "config.vae_opt = \"Adam\"\n",
        "config.dis_opt = \"Adam\"\n"
      ],
      "execution_count": 7,
      "outputs": []
    },
    {
      "cell_type": "markdown",
      "metadata": {
        "id": "Alz0eunxK9hI",
        "colab_type": "text"
      },
      "source": [
        "#dataset"
      ]
    },
    {
      "cell_type": "code",
      "metadata": {
        "id": "GAO-3L1ShzVH",
        "colab_type": "code",
        "colab": {}
      },
      "source": [
        "#our package\n",
        "\n",
        "#clone then install\n",
        "# !git clone https://github.com/buganart/BUGAN repo\n",
        "# !pip install -e ./repo/\n",
        "# import site\n",
        "# site.main()\n",
        "\n",
        "#directly install using pip\n",
        "# !pip install git+https://github.com/buganart/BUGAN.git#egg=bugan\n",
        "# output.clear()"
      ],
      "execution_count": 8,
      "outputs": []
    },
    {
      "cell_type": "code",
      "metadata": {
        "id": "dBDvWrVigbd5",
        "colab_type": "code",
        "colab": {}
      },
      "source": [
        "# from bugan.functions import *\n",
        "# from bugan.models import VAEGAN, VAE, Discriminator, Generator\n",
        "\n",
        "from functionsPL import *\n",
        "from modelsPL import VAEGAN, VAE, Discriminator, Generator\n",
        "\n",
        "run.tags.append(\"VAEGAN\")\n",
        "run.group = \"VAEGAN\""
      ],
      "execution_count": 9,
      "outputs": []
    },
    {
      "cell_type": "code",
      "metadata": {
        "id": "whLlZwwAoKuR",
        "colab_type": "code",
        "colab": {}
      },
      "source": [
        "np.random.seed(config.seed)\n",
        "dataModule = DataModule(config, run)"
      ],
      "execution_count": 10,
      "outputs": []
    },
    {
      "cell_type": "markdown",
      "metadata": {
        "id": "fbrRSqnqK20W",
        "colab_type": "text"
      },
      "source": [
        "#functions for pytorch network"
      ]
    },
    {
      "cell_type": "markdown",
      "metadata": {
        "id": "O1TU9N4Y8se3",
        "colab_type": "text"
      },
      "source": [
        "#train"
      ]
    },
    {
      "cell_type": "code",
      "metadata": {
        "id": "2vzV_Mzfd_MZ",
        "colab_type": "code",
        "colab": {
          "base_uri": "https://localhost:8080/",
          "height": 1000
        },
        "outputId": "b77531f4-b0d8-4261-9586-b257cf8865aa"
      },
      "source": [
        "#load model\n",
        "vaegan = VAEGAN(config).to(device)\n",
        "\n",
        "# if resume:\n",
        "#     vaegan = load_model(vaegan)\n",
        "summary(vaegan, (1, config.array_size, config.array_size, config.array_size))"
      ],
      "execution_count": 11,
      "outputs": [
        {
          "output_type": "stream",
          "text": [
            "----------------------------------------------------------------\n",
            "        Layer (type)               Output Shape         Param #\n",
            "================================================================\n",
            "            Conv3d-1       [-1, 16, 32, 32, 32]             448\n",
            "       BatchNorm3d-2       [-1, 16, 32, 32, 32]              32\n",
            "              ReLU-3       [-1, 16, 32, 32, 32]               0\n",
            "              ReLU-4       [-1, 16, 32, 32, 32]               0\n",
            "         MaxPool3d-5       [-1, 16, 16, 16, 16]               0\n",
            "            Conv3d-6       [-1, 16, 16, 16, 16]           6,928\n",
            "       BatchNorm3d-7       [-1, 16, 16, 16, 16]              32\n",
            "              ReLU-8       [-1, 16, 16, 16, 16]               0\n",
            "              ReLU-9       [-1, 16, 16, 16, 16]               0\n",
            "        MaxPool3d-10          [-1, 16, 8, 8, 8]               0\n",
            "           Conv3d-11          [-1, 16, 8, 8, 8]           6,928\n",
            "      BatchNorm3d-12          [-1, 16, 8, 8, 8]              32\n",
            "             ReLU-13          [-1, 16, 8, 8, 8]               0\n",
            "             ReLU-14          [-1, 16, 8, 8, 8]               0\n",
            "        MaxPool3d-15          [-1, 16, 4, 4, 4]               0\n",
            "           Conv3d-16          [-1, 16, 4, 4, 4]           6,928\n",
            "      BatchNorm3d-17          [-1, 16, 4, 4, 4]              32\n",
            "             ReLU-18          [-1, 16, 4, 4, 4]               0\n",
            "             ReLU-19          [-1, 16, 4, 4, 4]               0\n",
            "           Linear-20                  [-1, 128]         131,200\n",
            "             ReLU-21                  [-1, 128]               0\n",
            "           Linear-22                    [-1, 1]             129\n",
            "          Sigmoid-23                    [-1, 1]               0\n",
            "    Discriminator-24       [[-1, 1], [-1, 128]]               0\n",
            "           Linear-25                  [-1, 128]          16,512\n",
            "           Linear-26                  [-1, 128]          16,512\n",
            "           Linear-27                  [-1, 512]          66,048\n",
            "  ConvTranspose3d-28          [-1, 32, 4, 4, 4]           6,944\n",
            "      BatchNorm3d-29          [-1, 32, 4, 4, 4]              64\n",
            "             ReLU-30          [-1, 32, 4, 4, 4]               0\n",
            "  ConvTranspose3d-31          [-1, 32, 4, 4, 4]          27,680\n",
            "      BatchNorm3d-32          [-1, 32, 4, 4, 4]              64\n",
            "             ReLU-33          [-1, 32, 4, 4, 4]               0\n",
            "         Upsample-34          [-1, 32, 8, 8, 8]               0\n",
            "  ConvTranspose3d-35          [-1, 32, 8, 8, 8]          27,680\n",
            "      BatchNorm3d-36          [-1, 32, 8, 8, 8]              64\n",
            "             ReLU-37          [-1, 32, 8, 8, 8]               0\n",
            "  ConvTranspose3d-38          [-1, 32, 8, 8, 8]          27,680\n",
            "      BatchNorm3d-39          [-1, 32, 8, 8, 8]              64\n",
            "             ReLU-40          [-1, 32, 8, 8, 8]               0\n",
            "         Upsample-41       [-1, 32, 16, 16, 16]               0\n",
            "  ConvTranspose3d-42       [-1, 32, 16, 16, 16]          27,680\n",
            "      BatchNorm3d-43       [-1, 32, 16, 16, 16]              64\n",
            "             ReLU-44       [-1, 32, 16, 16, 16]               0\n",
            "  ConvTranspose3d-45       [-1, 32, 16, 16, 16]          27,680\n",
            "      BatchNorm3d-46       [-1, 32, 16, 16, 16]              64\n",
            "             ReLU-47       [-1, 32, 16, 16, 16]               0\n",
            "         Upsample-48       [-1, 32, 32, 32, 32]               0\n",
            "  ConvTranspose3d-49       [-1, 32, 32, 32, 32]          27,680\n",
            "      BatchNorm3d-50       [-1, 32, 32, 32, 32]              64\n",
            "             ReLU-51       [-1, 32, 32, 32, 32]               0\n",
            "  ConvTranspose3d-52       [-1, 32, 32, 32, 32]          27,680\n",
            "      BatchNorm3d-53       [-1, 32, 32, 32, 32]              64\n",
            "             ReLU-54       [-1, 32, 32, 32, 32]               0\n",
            "  ConvTranspose3d-55        [-1, 1, 32, 32, 32]             865\n",
            "          Sigmoid-56        [-1, 1, 32, 32, 32]               0\n",
            "        Generator-57        [-1, 1, 32, 32, 32]               0\n",
            "              VAE-58        [-1, 1, 32, 32, 32]               0\n",
            "           Conv3d-59       [-1, 16, 32, 32, 32]             448\n",
            "      BatchNorm3d-60       [-1, 16, 32, 32, 32]              32\n",
            "             ReLU-61       [-1, 16, 32, 32, 32]               0\n",
            "             ReLU-62       [-1, 16, 32, 32, 32]               0\n",
            "        MaxPool3d-63       [-1, 16, 16, 16, 16]               0\n",
            "           Conv3d-64       [-1, 16, 16, 16, 16]           6,928\n",
            "      BatchNorm3d-65       [-1, 16, 16, 16, 16]              32\n",
            "             ReLU-66       [-1, 16, 16, 16, 16]               0\n",
            "             ReLU-67       [-1, 16, 16, 16, 16]               0\n",
            "        MaxPool3d-68          [-1, 16, 8, 8, 8]               0\n",
            "           Conv3d-69          [-1, 16, 8, 8, 8]           6,928\n",
            "      BatchNorm3d-70          [-1, 16, 8, 8, 8]              32\n",
            "             ReLU-71          [-1, 16, 8, 8, 8]               0\n",
            "             ReLU-72          [-1, 16, 8, 8, 8]               0\n",
            "        MaxPool3d-73          [-1, 16, 4, 4, 4]               0\n",
            "           Conv3d-74          [-1, 16, 4, 4, 4]           6,928\n",
            "      BatchNorm3d-75          [-1, 16, 4, 4, 4]              32\n",
            "             ReLU-76          [-1, 16, 4, 4, 4]               0\n",
            "             ReLU-77          [-1, 16, 4, 4, 4]               0\n",
            "           Linear-78                  [-1, 128]         131,200\n",
            "             ReLU-79                  [-1, 128]               0\n",
            "           Linear-80                    [-1, 1]             129\n",
            "          Sigmoid-81                    [-1, 1]               0\n",
            "    Discriminator-82                    [-1, 1]               0\n",
            "================================================================\n",
            "Total params: 606,531\n",
            "Trainable params: 606,531\n",
            "Non-trainable params: 0\n",
            "----------------------------------------------------------------\n",
            "Input size (MB): 0.12\n",
            "Forward/backward pass size (MB): 102.68\n",
            "Params size (MB): 2.31\n",
            "Estimated Total Size (MB): 105.12\n",
            "----------------------------------------------------------------\n"
          ],
          "name": "stdout"
        },
        {
          "output_type": "stream",
          "text": [
            "/usr/local/lib/python3.6/dist-packages/torch/nn/functional.py:3121: UserWarning: Default upsampling behavior when mode=trilinear is changed to align_corners=False since 0.4.0. Please specify align_corners=True if the old behavior is desired. See the documentation of nn.Upsample for details.\n",
            "  \"See the documentation of nn.Upsample for details.\".format(mode))\n"
          ],
          "name": "stderr"
        }
      ]
    },
    {
      "cell_type": "code",
      "metadata": {
        "id": "YFQWIWapYOsN",
        "colab_type": "code",
        "colab": {
          "base_uri": "https://localhost:8080/",
          "height": 405,
          "referenced_widgets": [
            "0e21636428654023a957539a060dca84",
            "d7e4fd7c444f47ce92a3e3f8104fc760",
            "63e01442279c4674830572ffef7b0439",
            "4ca313791d224d75beb2c86964025a90",
            "f006b3d3ac614456bacbf60f1788b155",
            "90a082e432104b1983d7d604e32c908c",
            "1076b74683594f62a4975bf4f99ea081",
            "fa9515819a3d4dd0a9f065338170ec8b"
          ]
        },
        "outputId": "c3ff0dc6-56fb-4a59-88c6-3fed0488155d"
      },
      "source": [
        "#set seed\n",
        "torch.manual_seed(config.seed)\n",
        "torch.autograd.set_detect_anomaly(True)\n",
        "\n",
        "#render setup\n",
        "vdisplay = Xvfb()\n",
        "vdisplay.start()\n",
        "\n",
        "trainer = pl.Trainer()\n",
        "trainer.fit(vaegan, dataModule)"
      ],
      "execution_count": 12,
      "outputs": [
        {
          "output_type": "stream",
          "text": [
            "GPU available: True, used: False\n",
            "TPU available: False, using: 0 TPU cores\n",
            "/usr/local/lib/python3.6/dist-packages/pytorch_lightning/utilities/distributed.py:37: UserWarning: GPU available but not used. Set the --gpus flag when calling the script.\n",
            "  warnings.warn(*args, **kwargs)\n",
            "/usr/local/lib/python3.6/dist-packages/pytorch_lightning/utilities/distributed.py:37: UserWarning: Could not log computational graph since the `model.example_input_array` attribute is not set or `input_array` was not given\n",
            "  warnings.warn(*args, **kwargs)\n",
            "\n",
            "  | Name          | Type          | Params\n",
            "------------------------------------------------\n",
            "0 | vae           | VAE           | 453 K \n",
            "1 | discriminator | Discriminator | 152 K \n",
            "/usr/local/lib/python3.6/dist-packages/pytorch_lightning/utilities/distributed.py:37: UserWarning: The dataloader, train dataloader, does not have many workers which may be a bottleneck. Consider increasing the value of the `num_workers` argument` (try 4 which is the number of cpus on this machine) in the `DataLoader` init to improve performance.\n",
            "  warnings.warn(*args, **kwargs)\n"
          ],
          "name": "stderr"
        },
        {
          "output_type": "display_data",
          "data": {
            "application/vnd.jupyter.widget-view+json": {
              "model_id": "0e21636428654023a957539a060dca84",
              "version_minor": 0,
              "version_major": 2
            },
            "text/plain": [
              "HBox(children=(FloatProgress(value=1.0, bar_style='info', description='Training', layout=Layout(flex='2'), max…"
            ]
          },
          "metadata": {
            "tags": []
          }
        },
        {
          "output_type": "stream",
          "text": [
            "/usr/local/lib/python3.6/dist-packages/torch/nn/functional.py:3121: UserWarning: Default upsampling behavior when mode=trilinear is changed to align_corners=False since 0.4.0. Please specify align_corners=True if the old behavior is desired. See the documentation of nn.Upsample for details.\n",
            "  \"See the documentation of nn.Upsample for details.\".format(mode))\n",
            "/usr/local/lib/python3.6/dist-packages/pytorch_lightning/utilities/distributed.py:37: UserWarning: Detected KeyboardInterrupt, attempting graceful shutdown...\n",
            "  warnings.warn(*args, **kwargs)\n",
            "Saving latest checkpoint..\n"
          ],
          "name": "stderr"
        },
        {
          "output_type": "stream",
          "text": [
            "\n"
          ],
          "name": "stdout"
        },
        {
          "output_type": "execute_result",
          "data": {
            "text/plain": [
              "1"
            ]
          },
          "metadata": {
            "tags": []
          },
          "execution_count": 12
        }
      ]
    }
  ]
}