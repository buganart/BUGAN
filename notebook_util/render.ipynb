{
  "nbformat": 4,
  "nbformat_minor": 0,
  "metadata": {
    "colab": {
      "name": "render.ipynb",
      "provenance": [],
      "collapsed_sections": [],
      "machine_shape": "hm",
      "include_colab_link": true
    },
    "kernelspec": {
      "name": "python3",
      "display_name": "Python 3"
    },
    "accelerator": "GPU"
  },
  "cells": [
    {
      "cell_type": "markdown",
      "metadata": {
        "id": "view-in-github",
        "colab_type": "text"
      },
      "source": [
        "<a href=\"https://colab.research.google.com/github/buganart/BUGAN/blob/master/notebook_util/render.ipynb\" target=\"_parent\"><img src=\"https://colab.research.google.com/assets/colab-badge.svg\" alt=\"Open In Colab\"/></a>"
      ]
    },
    {
      "cell_type": "code",
      "metadata": {
        "id": "sQtEpYYRh9LM",
        "cellView": "form",
        "outputId": "b4168e9c-715b-430a-b8cb-c80d156d36af",
        "colab": {
          "base_uri": "https://localhost:8080/"
        }
      },
      "source": [
        "#@markdown Mount google drive.\n",
        "from google.colab import output\n",
        "from google.colab import drive\n",
        "drive.mount('/content/drive')\n",
        "\n",
        "# Check if we have linked the folder\n",
        "from pathlib import Path\n",
        "if not Path(\"/content/drive/My Drive/IRCMS_GAN_collaborative_database\").exists():\n",
        "    print(\n",
        "        \"Shortcut to our shared drive folder doesn't exits.\\n\\n\"\n",
        "        \"\\t1. Go to the google drive web UI\\n\"\n",
        "        \"\\t2. Right click shared folder IRCMS_GAN_collaborative_database and click \\\"Add shortcut to Drive\\\"\"\n",
        "    )"
      ],
      "execution_count": 1,
      "outputs": [
        {
          "output_type": "stream",
          "text": [
            "Drive already mounted at /content/drive; to attempt to forcibly remount, call drive.mount(\"/content/drive\", force_remount=True).\n"
          ],
          "name": "stdout"
        }
      ]
    },
    {
      "cell_type": "code",
      "metadata": {
        "id": "1b-Vx_QVHLXH",
        "cellView": "both",
        "outputId": "73d1d8ca-411a-4a1b-a19a-f078bd7efcdf",
        "colab": {
          "base_uri": "https://localhost:8080/"
        }
      },
      "source": [
        "#@title render images from 3D objects\n",
        "#@markdown - The id of the run. Only used for specifying data_location and export_location\n",
        "id = \"172mqt5l\" #@param {type:\"string\"}\n",
        "\n",
        "#@markdown Enter 3D objects location.  \n",
        "#@markdown - For example via the file browser on the left to locate and right click to copy the path.)\n",
        "#@markdown - file folder example: `/content/drive/My Drive/h/k` \n",
        "data_location = f\"/content/drive/My Drive/IRCMS_GAN_collaborative_database/Experiments/exportObjects/{id}\" #@param {type:\"string\"}\n",
        "\n",
        "#@markdown Enter export location (folder/directory).   \n",
        "#@markdown - For example via the file browser on the left to locate and right click to copy the path.)\n",
        "#@markdown - file folder example: `/content/drive/My Drive/h/k` \n",
        "export_location = f\"/content/drive/My Drive/IRCMS_GAN_collaborative_database/Experiments/exportObjects/{id}/img_folder\" #@param {type:\"string\"}\n",
        "\n",
        "\n",
        "#@markdown FID score\n",
        "#@markdown - whether or not to calculate fid \n",
        "calculate_fid = False   #@param {type:\"boolean\"}\n",
        "print(\"data_location:\", data_location)\n",
        "print(\"export_location:\", export_location)\n",
        "print(\"calculate_fid:\", calculate_fid)\n"
      ],
      "execution_count": 2,
      "outputs": [
        {
          "output_type": "stream",
          "text": [
            "data_location: /content/drive/My Drive/IRCMS_GAN_collaborative_database/Experiments/exportObjects/172mqt5l\n",
            "export_location: /content/drive/My Drive/IRCMS_GAN_collaborative_database/Experiments/exportObjects/172mqt5l/img_folder\n",
            "calculate_fid: False\n"
          ],
          "name": "stdout"
        }
      ]
    },
    {
      "cell_type": "code",
      "metadata": {
        "id": "D3jIEKP7i4Nt",
        "outputId": "eefbaa9f-3f1f-4e5e-dc42-41774ffb0004",
        "colab": {
          "base_uri": "https://localhost:8080/"
        }
      },
      "source": [
        "#right click shared folder IRCMS_GAN_collaborative_database and \"Add shortcut to Drive\" to My drive\n",
        "%cd drive/My Drive/IRCMS_GAN_collaborative_database/Experiments/colab-treegan/\n",
        "\n",
        "#record paths to resources\n",
        "data_path = \"../../../../../My Drive/Hand-Tool-Data-Set/turbosquid_thingiverse_dataset/dataset_ply_out\"\n",
        "run_path = \"./\"\n",
        "\n",
        "# !ls Research/Peter/Tree_3D_models_obj/obj_files/"
      ],
      "execution_count": 3,
      "outputs": [
        {
          "output_type": "stream",
          "text": [
            "/content/drive/.shortcut-targets-by-id/1ylB2p6N0qQ-G4OsBuwcZ9C0tsqVu9ww4/IRCMS_GAN_collaborative_database/Experiments/colab-treegan\n"
          ],
          "name": "stdout"
        }
      ]
    },
    {
      "cell_type": "code",
      "metadata": {
        "id": "0LzAiBuWu6pw"
      },
      "source": [
        "!apt-get update\n",
        "!pip install trimesh\n",
        "!apt install -y xvfb\n",
        "!pip install xvfbwrapper\n",
        "!pip install wandb==0.9.7\n",
        "output.clear()"
      ],
      "execution_count": 4,
      "outputs": []
    },
    {
      "cell_type": "code",
      "metadata": {
        "id": "NU8OYjiWtzeo"
      },
      "source": [
        "import trimesh\n",
        "import numpy as np\n",
        "import torch\n",
        "import wandb\n",
        "import os\n",
        "import io\n",
        "from io import BytesIO\n",
        "from xvfbwrapper import Xvfb\n",
        "from PIL import Image\n",
        "\n",
        "import zipfile\n",
        "from trimesh.exchange.stl import HeaderError\n",
        "from pathlib import Path"
      ],
      "execution_count": 5,
      "outputs": []
    },
    {
      "cell_type": "code",
      "metadata": {
        "id": "1WunSvIgRk8v"
      },
      "source": [
        "#render setup\n",
        "vdisplay = Xvfb()\n",
        "vdisplay.start()\n",
        "\n",
        "def mesh2Image(voxelmesh):\n",
        "    scene = voxelmesh.scene()\n",
        "    try:\n",
        "        png = scene.save_image(\n",
        "            resolution=[600, 600],\n",
        "        )\n",
        "    except NoSuchDisplayException:\n",
        "        print(\n",
        "            \"NoSuchDisplayException. Renderer not found! Please check configuation so trimesh scene.save_image() can run successfully\"\n",
        "        )\n",
        "    png = io.BytesIO(png)\n",
        "    image = Image.open(png)\n",
        "    return image\n",
        "\n",
        "def rotateMesh(voxelmesh, radians, axes):\n",
        "    assert(len(radians) == len(axes))\n",
        "    for i in range(len(axes)):\n",
        "        ra = radians[i]\n",
        "        ax = axes[i]\n",
        "        voxelmesh = voxelmesh.apply_transform(\n",
        "                trimesh.transformations.rotation_matrix(ra, ax)\n",
        "            )\n",
        "    return voxelmesh\n",
        "\n",
        "def mesh2arrayCentered(mesh, voxel_size=1, array_length=64):\n",
        "    # given array length 64, voxel size 2, then output array size is [128,128,128]\n",
        "    array_size = np.ceil(\n",
        "        np.array([array_length, array_length, array_length]) / voxel_size\n",
        "    ).astype(int)\n",
        "    vox_array = np.zeros(\n",
        "        array_size, dtype=bool\n",
        "    )  # tanh: voxel representation [-1,1], sigmoid: [0,1]\n",
        "    # scale mesh extent to fit array_length\n",
        "    max_length = np.max(np.array(mesh.extents))\n",
        "    mesh = mesh.apply_transform(\n",
        "        trimesh.transformations.scale_matrix((array_length - 1.5) / max_length)\n",
        "    )  # now the extent is [array_length**3]\n",
        "    # return mesh\n",
        "\n",
        "    v = mesh.voxelized(voxel_size)  # max voxel array length = array_length / voxel_size\n",
        "\n",
        "    # find indices in the v.matrix to center it in vox_array\n",
        "    indices = ((array_size - v.matrix.shape) / 2).astype(int)\n",
        "    vox_array[\n",
        "        indices[0] : indices[0] + v.matrix.shape[0],\n",
        "        indices[1] : indices[1] + v.matrix.shape[1],\n",
        "        indices[2] : indices[2] + v.matrix.shape[2],\n",
        "    ] = v.matrix\n",
        "\n",
        "    return vox_array"
      ],
      "execution_count": 6,
      "outputs": []
    },
    {
      "cell_type": "code",
      "metadata": {
        "id": "ekXAvy4Ah3jk",
        "outputId": "ded32968-ff3f-4bbb-e282-d59001650cd9",
        "colab": {
          "base_uri": "https://localhost:8080/"
        }
      },
      "source": [
        "success = []\n",
        "failed = []\n",
        "\n",
        "data_location = Path(data_location)\n",
        "export_location = Path(export_location)\n",
        "#create directory for export_location\n",
        "if not export_location.exists():\n",
        "    export_location.mkdir(parents=True)\n",
        "\n",
        "file_ext = [\".ply\", \".stl\", \".dae\", \".obj\", \".off\", \".misc\", \".gltf\", \".assimp\", \".threemf\" ,\".openctm\" , \".xml_based\", \".binvox\", \".xyz\"]\n",
        "\n",
        "\n",
        "paths = [\n",
        "            path\n",
        "            for path in data_location.rglob(\"*.*\")\n",
        "            if path.suffix in file_ext and not \"__MACOSX\" in str(path)\n",
        "        ]\n",
        "\n",
        "for file_name in paths:\n",
        "    try:\n",
        "        m = trimesh.load(file_name, force='mesh')\n",
        "\n",
        "        #   image viewpoints of meshes\n",
        "        for x in [45, 0, -45]:\n",
        "            for y in [0,90,180,270]:\n",
        "                radians = [a/360 * 2 * np.pi for a in [y,x] ]\n",
        "                axes = [(0,1,0), (1,0,0)]\n",
        "                rot_mesh = rotateMesh(m.copy(), radians, axes)\n",
        "                im = mesh2Image(rot_mesh)\n",
        "                #construct save path\n",
        "                if not (export_location/(\"x\"+str(x)+\"y\"+str(y))).exists():\n",
        "                    (export_location/(\"x\"+str(x)+\"y\"+str(y))).mkdir(parents=True)\n",
        "\n",
        "                path = export_location / (\"x\"+str(x)+\"y\"+str(y)) / (str(file_name.stem)+\".png\")\n",
        "                im.save(path)\n",
        "\n",
        "        success.append(file_name)\n",
        "    except IndexError:\n",
        "        failed.append(file_name)\n",
        "        print(file_name+\" failed\")\n",
        "print(\"number of files successfully rendered:\",len(success))\n",
        "print(\"number of files failed to render:\",len(failed))"
      ],
      "execution_count": 7,
      "outputs": [
        {
          "output_type": "stream",
          "text": [
            "number of files successfully rendered: 20\n",
            "number of files failed to render: 0\n"
          ],
          "name": "stdout"
        }
      ]
    }
  ]
}