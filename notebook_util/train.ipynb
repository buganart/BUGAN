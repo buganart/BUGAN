{
  "nbformat": 4,
  "nbformat_minor": 0,
  "metadata": {
    "colab": {
      "name": "train.ipynb",
      "provenance": [],
      "collapsed_sections": [],
      "machine_shape": "hm",
      "include_colab_link": true
    },
    "kernelspec": {
      "name": "python3",
      "display_name": "Python 3"
    },
    "accelerator": "GPU"
  },
  "cells": [
    {
      "cell_type": "markdown",
      "metadata": {
        "id": "view-in-github",
        "colab_type": "text"
      },
      "source": [
        "<a href=\"https://colab.research.google.com/github/buganart/BUGAN/blob/master/notebook_util/train.ipynb\" target=\"_parent\"><img src=\"https://colab.research.google.com/assets/colab-badge.svg\" alt=\"Open In Colab\"/></a>"
      ]
    },
    {
      "cell_type": "markdown",
      "metadata": {
        "id": "LwbGaO5aJS8y"
      },
      "source": [
        "Before starting please save the notebook in your drive by clicking on `File -> Save a copy in drive`"
      ]
    },
    {
      "cell_type": "code",
      "metadata": {
        "id": "sQtEpYYRh9LM",
        "cellView": "form"
      },
      "source": [
        "#@markdown Mount google drive.\n",
        "from google.colab import output\n",
        "from google.colab import drive\n",
        "drive.mount('/content/drive')\n",
        "\n",
        "# Check if we have linked the folder\n",
        "from pathlib import Path\n",
        "if not Path(\"/content/drive/My Drive/IRCMS_GAN_collaborative_database\").exists():\n",
        "    print(\n",
        "        \"Shortcut to our shared drive folder doesn't exits.\\n\\n\"\n",
        "        \"\\t1. Go to the google drive web UI\\n\"\n",
        "        \"\\t2. Right click shared folder IRCMS_GAN_collaborative_database and click \\\"Add shortcut to Drive\\\"\"\n",
        "    )"
      ],
      "execution_count": null,
      "outputs": []
    },
    {
      "cell_type": "code",
      "metadata": {
        "id": "bp1sqgZf5lRv",
        "cellView": "form"
      },
      "source": [
        "#@markdown Install wandb and log in\n",
        "%pip install wandb\n",
        "output.clear()\n",
        "import wandb\n",
        "from pathlib import Path\n",
        "wandb_drive_netrc_path = Path(\"drive/My Drive/colab/.netrc\")\n",
        "wandb_local_netrc_path = Path(\"/root/.netrc\")\n",
        "if wandb_drive_netrc_path.exists():\n",
        "    import shutil\n",
        "\n",
        "    print(\"Wandb .netrc file found, will use that to log in.\")\n",
        "    shutil.copy(wandb_drive_netrc_path, wandb_local_netrc_path)\n",
        "else:\n",
        "    print(\n",
        "        f\"Wandb config not found at {wandb_drive_netrc_path}.\\n\"\n",
        "        f\"Using manual login.\\n\\n\"\n",
        "        f\"To use auto login in the future, finish the manual login first and then run:\\n\\n\"\n",
        "        f\"\\t!mkdir -p '{wandb_drive_netrc_path.parent}'\\n\"\n",
        "        f\"\\t!cp {wandb_local_netrc_path} '{wandb_drive_netrc_path}'\\n\\n\"\n",
        "        f\"Then that file will be used to login next time.\\n\"\n",
        "    )\n",
        "\n",
        "!wandb login\n",
        "output.clear()\n",
        "print(\"ok!\")"
      ],
      "execution_count": null,
      "outputs": []
    },
    {
      "cell_type": "code",
      "metadata": {
        "id": "1b-Vx_QVHLXH"
      },
      "source": [
        "#@title Configure dataset\n",
        "#@markdown - Leave empty if you want to start a new run\n",
        "#@markdown - Set `\"run_id\"` if you want to resume a run (for example: `u9imsvva`)\n",
        "#@markdown - The id of the current run is shown below in the cell with `wandb.init()` or you can find it in the wandb web UI.\n",
        "resume_id = \"\" #@param {type:\"string\"}\n",
        "#@markdown Enter project name (either `chair-gan`, `handtool-gan` or `tree-gan`)\n",
        "project_name = \"tree-gan\" #@param [\"tree-gan\", \"handtool-gan\", \"chair-gan\"]\n",
        "#@markdown Enter dataset location.  \n",
        "#@markdown - For example via the file browser on the left to locate and right click to copy the path.)\n",
        "#@markdown - zipfile example: `/content/drive/My Drive/h/k/a.zip`\n",
        "#@markdown - file folder example: `/content/drive/My Drive/h/k`\n",
        "#@markdown - if data_location_option is not empty, data_location_option will overwrite data_location_default\n",
        "data_location_default = \"/content/drive/My Drive/IRCMS_GAN_collaborative_database/Research/Peter/Tree_3D_models_obj_auto_generated/sessions/simplified/tree-session-2020-09-14_23-23-Friedrich_2-target-face-num-1000.zip\" #@param [\"/content/drive/My Drive/IRCMS_GAN_collaborative_database/Research/Peter/Tree_3D_models_obj_auto_generated/sessions/simplified/tree-session-2020-09-14_23-23-Friedrich_2-target-face-num-1000.zip\", \"/content/drive/My Drive/IRCMS_GAN_collaborative_database/Research/Peter/Tree_3D_models_obj_auto_generated/sessions/simplified/tree-sessions-2020-09-10-simplified-26k-target-face-num-1000.zip\", \"/content/drive/My Drive/Hand-Tool-Data-Set/turbosquid_thingiverse_dataset/dataset_ply_out_zipped.zip\", \"/content/drive/My Drive/IRCMS_GAN_collaborative_database/Research/Peter/Chairs_Princeton/chair_train.zip\", \"/content/drive/My Drive/IRCMS_GAN_collaborative_database/Research/Peter/Tree_3D_models_obj_auto_generated/sessions/simplified/tree-sessions-2020-09-10-simplified-26k-target-face-num-1000-class-label.zip\",\"/content/drive/My Drive/Hand-Tool-Data-Set/handtool-v3-combined-tnf-1000.zip\"] \n",
        "data_location_option = \"\" #@param {type:\"string\"}\n",
        "#@markdown - For conditional dataset\n",
        "#@markdown - maximum number of classes to extract based on the data_location path\n",
        "num_classes = 10 #@param {type:\"integer\"}\n",
        "#@markdown - choose rotation augmentation on-the-fly \n",
        "#@markdown (augmentation only support file folder in data_location)\n",
        "data_augmentation = True    #@param {type:\"boolean\"}\n",
        "aug_rotation_type = \"axis rotation\"  #@param [\"random rotation\", \"axis rotation\"]\n",
        "#@markdown - specify the rotation axis [x,y,z] (only for aug_rotation_type = \"axis rotation\")\n",
        "rotation_axis_x = 0    #@param {type:\"number\"}\n",
        "rotation_axis_y = 1    #@param {type:\"number\"}\n",
        "rotation_axis_z = 0    #@param {type:\"number\"}\n",
        "\n",
        "#@markdown - resolution of the voxelized array (shape resolution**3)\n",
        "resolution = \"32\"    #@param [32, 64]\n",
        "\n",
        "#@markdown Model\n",
        "#@markdown - select which model to train\n",
        "#@markdown - choosing unconditional models will set num_classes = 0\n",
        "#@markdown to load the dataset in unconditional way\n",
        "selected_model = \"WGAN_GP\"    #@param [\"VAEGAN\", \"GAN\", \"VAE\", \"WGAN\", \"WGAN_GP\", \"CGAN\"]\n",
        "\n",
        "#@markdown WANDB log\n",
        "#@markdown - how many epochs before logging images/3D objects\n",
        "log_interval = 20    #@param {type:\"integer\"}\n",
        "#@markdown - how many samples per log\n",
        "log_num_samples = 4    #@param {type:\"integer\"}\n",
        "\n",
        "#@markdown WANDB run note\n",
        "#@markdown - please describe the reason for running this experiment\n",
        "run_note = \"\" #@param {type:\"string\"}\n",
        "\n",
        "\n",
        "#adjust parameter datatype\n",
        "resolution = int(resolution)\n",
        "if data_location_option:\n",
        "    data_location = data_location_option\n",
        "else:\n",
        "    data_location = data_location_default\n",
        "if data_location.endswith(\".zip\"):\n",
        "    dataset = Path(data_location).stem\n",
        "else:\n",
        "    dataset = \"dataset_array_custom\"\n",
        "if selected_model in [\"VAEGAN\", \"GAN\", \"VAE\", \"WGAN\", \"WGAN_GP\"]:\n",
        "    num_classes = 0\n",
        "\n",
        "colab_config = {\n",
        "    \"aug_rotation_type\": aug_rotation_type,\n",
        "    \"data_augmentation\": data_augmentation,\n",
        "    \"aug_rotation_axis\": (rotation_axis_x,rotation_axis_y,rotation_axis_z),\n",
        "    \"data_location\": data_location,\n",
        "    \"dataset\": dataset,\n",
        "    \"resume_id\": resume_id,\n",
        "    \"selected_model\": selected_model,\n",
        "    \"log_interval\": log_interval,\n",
        "    \"log_num_samples\": log_num_samples,\n",
        "    \"project_name\": project_name,\n",
        "    \"resolution\": resolution,\n",
        "    \"num_classes\": num_classes,\n",
        "}\n",
        "\n",
        "for k, v in colab_config.items():\n",
        "    print(f\"=> {k:20}: {v}\")\n"
      ],
      "execution_count": null,
      "outputs": []
    },
    {
      "cell_type": "markdown",
      "metadata": {
        "id": "fUduMFlzmKmO"
      },
      "source": [
        "# To just train a model, no edits should be required in any cells below."
      ]
    },
    {
      "cell_type": "code",
      "metadata": {
        "id": "D3jIEKP7i4Nt"
      },
      "source": [
        "import os\n",
        "from pathlib import Path\n",
        "# os.environ[\"WANDB_MODE\"] = \"dryrun\"\n",
        "\n",
        "%cd /content/drive/My Drive/IRCMS_GAN_collaborative_database/Experiments/\n",
        "if project_name == \"tree-gan\":\n",
        "    %cd colab-treegan/\n",
        "elif project_name == \"handtool-gan\":\n",
        "    %cd colab-handtool/\n",
        "else:\n",
        "    %cd colab-chair/\n",
        "\n",
        "dataset_path = Path(data_location)\n",
        "run_path = \"./\"\n",
        "\n",
        "!apt-get update\n",
        "\n",
        "!apt install -y xvfb\n",
        "%pip install --upgrade xvfbwrapper\n",
        "output.clear()\n",
        "print('ok!')"
      ],
      "execution_count": null,
      "outputs": []
    },
    {
      "cell_type": "code",
      "metadata": {
        "id": "NU8OYjiWtzeo"
      },
      "source": [
        "from argparse import Namespace, ArgumentParser\n",
        "\n",
        "from xvfbwrapper import Xvfb\n",
        "import torch\n",
        "# import pkg_resources\n",
        "\n",
        "def get_resume_run_config(project_name, resume_id):\n",
        "    # all config will be replaced by the stored one in wandb\n",
        "    api = wandb.Api()\n",
        "    previous_run = api.run(f\"bugan/{project_name}/{resume_id}\")\n",
        "    config = Namespace(**previous_run.config)\n",
        "    return config\n",
        "\n",
        "def get_bugan_package_revision_number():\n",
        "    # version_str = pkg_resources.get_distribution('bugan').version\n",
        "    # rev_number = (version_str.split(\"+g\")[1]).split(\".\")[0]\n",
        "    import bugan\n",
        "    import io, sys\n",
        "    #EXTRACT package version\n",
        "        #switch stdout to temperary stringIO\n",
        "    old_stdout = sys.stdout\n",
        "    temp_stdout = io.StringIO()\n",
        "    sys.stdout = temp_stdout\n",
        "        #get version\n",
        "    %pip freeze | grep bugan\n",
        "    version = temp_stdout.getvalue()\n",
        "    rev_number = version.split(\"+g\")[1].rstrip()\n",
        "        #switch back stdout\n",
        "    sys.stdout = old_stdout\n",
        "    return rev_number"
      ],
      "execution_count": null,
      "outputs": []
    },
    {
      "cell_type": "markdown",
      "metadata": {
        "id": "VkQ6pzbgB8tt"
      },
      "source": [
        "#train setup config and package"
      ]
    },
    {
      "cell_type": "code",
      "metadata": {
        "id": "0KH4t9djZJG-"
      },
      "source": [
        "config = Namespace(**colab_config)\r\n",
        "config.seed = 1234\r\n",
        "config.epochs = 3000\r\n",
        "config.batch_size = 32\r\n",
        "# resume previous run config\r\n",
        "if config.resume_id:\r\n",
        "    project_name = config.project_name\r\n",
        "    resume_id = config.resume_id\r\n",
        "    prev_config = get_resume_run_config(project_name, resume_id)\r\n",
        "    #replace config with prev_config\r\n",
        "    config = vars(config)\r\n",
        "    config.update(vars(prev_config))\r\n",
        "    config = Namespace(**config)\r\n",
        "    #reassign resume_id\r\n",
        "    config.resume_id = resume_id"
      ],
      "execution_count": null,
      "outputs": []
    },
    {
      "cell_type": "code",
      "metadata": {
        "id": "23c1M4uwbFBn"
      },
      "source": [
        "# load bugan package and record revision_number\r\n",
        "if hasattr(config,\"rev_number\"):\r\n",
        "    print(\"loading BUGAN package rev_number\", config.rev_number)\r\n",
        "    %pip install --upgrade git+https://github.com/buganart/BUGAN.git@{config.rev_number}#egg=bugan\r\n",
        "else:\r\n",
        "    print(\"loading BUGAN package latest\")\r\n",
        "    %pip install --upgrade git+https://github.com/buganart/BUGAN.git#egg=bugan\r\n",
        "output.clear()\r\n",
        "\r\n",
        "import bugan\r\n",
        "from bugan.trainPL import (\r\n",
        "    init_wandb_run,\r\n",
        "    setup_datamodule,\r\n",
        "    setup_model,\r\n",
        "    train,\r\n",
        ")\r\n",
        "#record revision number\r\n",
        "config.rev_number = get_bugan_package_revision_number()"
      ],
      "execution_count": null,
      "outputs": []
    },
    {
      "cell_type": "markdown",
      "metadata": {
        "id": "mk1ejH99W-Ax"
      },
      "source": [
        "#training (wandb_init, datamodule, model, train)"
      ]
    },
    {
      "cell_type": "code",
      "metadata": {
        "id": "GXAE9SPGOlrO"
      },
      "source": [
        "run_path = Path(run_path).absolute().parent\r\n",
        "run, config = init_wandb_run(config, run_dir=run_path)#, mode=\"offline\")\r\n",
        "run.notes = run_note"
      ],
      "execution_count": null,
      "outputs": []
    },
    {
      "cell_type": "code",
      "metadata": {
        "id": "i_LFeiD9B9Et"
      },
      "source": [
        "model, extra_trainer_args = setup_model(config, run)\r\n",
        "dataModule = setup_datamodule(config)\r\n",
        "\r\n",
        "if torch.cuda.is_available():\r\n",
        "    extra_trainer_args[\"gpus\"] = -1\r\n",
        "\r\n",
        "#render setup\r\n",
        "vdisplay = Xvfb()\r\n",
        "vdisplay.start()\r\n",
        "\r\n",
        "train(config, run, model, dataModule, extra_trainer_args)"
      ],
      "execution_count": null,
      "outputs": []
    }
  ]
}