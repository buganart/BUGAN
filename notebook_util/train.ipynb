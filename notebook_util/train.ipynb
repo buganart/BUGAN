{
  "nbformat": 4,
  "nbformat_minor": 0,
  "metadata": {
    "accelerator": "GPU",
    "colab": {
      "name": "train.ipynb",
      "provenance": [],
      "collapsed_sections": [],
      "machine_shape": "hm",
      "include_colab_link": true
    },
    "kernelspec": {
      "display_name": "Python 3",
      "name": "python3"
    },
    "widgets": {
      "application/vnd.jupyter.widget-state+json": {
        "0552f08eefe94a37bb95780dd744f4ef": {
          "model_module": "@jupyter-widgets/controls",
          "model_name": "HBoxModel",
          "state": {
            "_view_name": "HBoxView",
            "_dom_classes": [],
            "_model_name": "HBoxModel",
            "_view_module": "@jupyter-widgets/controls",
            "_model_module_version": "1.5.0",
            "_view_count": null,
            "_view_module_version": "1.5.0",
            "box_style": "",
            "layout": "IPY_MODEL_9950d6c09c674cb6aa7eae8d820c58cb",
            "_model_module": "@jupyter-widgets/controls",
            "children": [
              "IPY_MODEL_d90a3468e268435c9da65e5fc9f788ab",
              "IPY_MODEL_ba068d2aed5e498ebc44229e2d463867"
            ]
          }
        },
        "9950d6c09c674cb6aa7eae8d820c58cb": {
          "model_module": "@jupyter-widgets/base",
          "model_name": "LayoutModel",
          "state": {
            "_view_name": "LayoutView",
            "grid_template_rows": null,
            "right": null,
            "justify_content": null,
            "_view_module": "@jupyter-widgets/base",
            "overflow": null,
            "_model_module_version": "1.2.0",
            "_view_count": null,
            "flex_flow": "row wrap",
            "width": "100%",
            "min_width": null,
            "border": null,
            "align_items": null,
            "bottom": null,
            "_model_module": "@jupyter-widgets/base",
            "top": null,
            "grid_column": null,
            "overflow_y": null,
            "overflow_x": null,
            "grid_auto_flow": null,
            "grid_area": null,
            "grid_template_columns": null,
            "flex": null,
            "_model_name": "LayoutModel",
            "justify_items": null,
            "grid_row": null,
            "max_height": null,
            "align_content": null,
            "visibility": null,
            "align_self": null,
            "height": null,
            "min_height": null,
            "padding": null,
            "grid_auto_rows": null,
            "grid_gap": null,
            "max_width": null,
            "order": null,
            "_view_module_version": "1.2.0",
            "grid_template_areas": null,
            "object_position": null,
            "object_fit": null,
            "grid_auto_columns": null,
            "margin": null,
            "display": "inline-flex",
            "left": null
          }
        },
        "d90a3468e268435c9da65e5fc9f788ab": {
          "model_module": "@jupyter-widgets/controls",
          "model_name": "FloatProgressModel",
          "state": {
            "_view_name": "ProgressView",
            "style": "IPY_MODEL_4442657a4ca4482db22c4fcddf97cf29",
            "_dom_classes": [],
            "description": "Epoch 1:   0%",
            "_model_name": "FloatProgressModel",
            "bar_style": "info",
            "max": 225,
            "_view_module": "@jupyter-widgets/controls",
            "_model_module_version": "1.5.0",
            "value": 0,
            "_view_count": null,
            "_view_module_version": "1.5.0",
            "orientation": "horizontal",
            "min": 0,
            "description_tooltip": null,
            "_model_module": "@jupyter-widgets/controls",
            "layout": "IPY_MODEL_82743e5c2a044d8a92e0c75b847f1a2f"
          }
        },
        "ba068d2aed5e498ebc44229e2d463867": {
          "model_module": "@jupyter-widgets/controls",
          "model_name": "HTMLModel",
          "state": {
            "_view_name": "HTMLView",
            "style": "IPY_MODEL_a169d85155374903b868b6b4eb8d25f0",
            "_dom_classes": [],
            "description": "",
            "_model_name": "HTMLModel",
            "placeholder": "​",
            "_view_module": "@jupyter-widgets/controls",
            "_model_module_version": "1.5.0",
            "value": " 0/225 [00:00&lt;?, ?it/s, loss=2.1e+04, v_num=fizp]",
            "_view_count": null,
            "_view_module_version": "1.5.0",
            "description_tooltip": null,
            "_model_module": "@jupyter-widgets/controls",
            "layout": "IPY_MODEL_9d82a6a6f90d495db2c60fa1c6887628"
          }
        },
        "4442657a4ca4482db22c4fcddf97cf29": {
          "model_module": "@jupyter-widgets/controls",
          "model_name": "ProgressStyleModel",
          "state": {
            "_view_name": "StyleView",
            "_model_name": "ProgressStyleModel",
            "description_width": "initial",
            "_view_module": "@jupyter-widgets/base",
            "_model_module_version": "1.5.0",
            "_view_count": null,
            "_view_module_version": "1.2.0",
            "bar_color": null,
            "_model_module": "@jupyter-widgets/controls"
          }
        },
        "82743e5c2a044d8a92e0c75b847f1a2f": {
          "model_module": "@jupyter-widgets/base",
          "model_name": "LayoutModel",
          "state": {
            "_view_name": "LayoutView",
            "grid_template_rows": null,
            "right": null,
            "justify_content": null,
            "_view_module": "@jupyter-widgets/base",
            "overflow": null,
            "_model_module_version": "1.2.0",
            "_view_count": null,
            "flex_flow": null,
            "width": null,
            "min_width": null,
            "border": null,
            "align_items": null,
            "bottom": null,
            "_model_module": "@jupyter-widgets/base",
            "top": null,
            "grid_column": null,
            "overflow_y": null,
            "overflow_x": null,
            "grid_auto_flow": null,
            "grid_area": null,
            "grid_template_columns": null,
            "flex": "2",
            "_model_name": "LayoutModel",
            "justify_items": null,
            "grid_row": null,
            "max_height": null,
            "align_content": null,
            "visibility": null,
            "align_self": null,
            "height": null,
            "min_height": null,
            "padding": null,
            "grid_auto_rows": null,
            "grid_gap": null,
            "max_width": null,
            "order": null,
            "_view_module_version": "1.2.0",
            "grid_template_areas": null,
            "object_position": null,
            "object_fit": null,
            "grid_auto_columns": null,
            "margin": null,
            "display": null,
            "left": null
          }
        },
        "a169d85155374903b868b6b4eb8d25f0": {
          "model_module": "@jupyter-widgets/controls",
          "model_name": "DescriptionStyleModel",
          "state": {
            "_view_name": "StyleView",
            "_model_name": "DescriptionStyleModel",
            "description_width": "",
            "_view_module": "@jupyter-widgets/base",
            "_model_module_version": "1.5.0",
            "_view_count": null,
            "_view_module_version": "1.2.0",
            "_model_module": "@jupyter-widgets/controls"
          }
        },
        "9d82a6a6f90d495db2c60fa1c6887628": {
          "model_module": "@jupyter-widgets/base",
          "model_name": "LayoutModel",
          "state": {
            "_view_name": "LayoutView",
            "grid_template_rows": null,
            "right": null,
            "justify_content": null,
            "_view_module": "@jupyter-widgets/base",
            "overflow": null,
            "_model_module_version": "1.2.0",
            "_view_count": null,
            "flex_flow": null,
            "width": null,
            "min_width": null,
            "border": null,
            "align_items": null,
            "bottom": null,
            "_model_module": "@jupyter-widgets/base",
            "top": null,
            "grid_column": null,
            "overflow_y": null,
            "overflow_x": null,
            "grid_auto_flow": null,
            "grid_area": null,
            "grid_template_columns": null,
            "flex": null,
            "_model_name": "LayoutModel",
            "justify_items": null,
            "grid_row": null,
            "max_height": null,
            "align_content": null,
            "visibility": null,
            "align_self": null,
            "height": null,
            "min_height": null,
            "padding": null,
            "grid_auto_rows": null,
            "grid_gap": null,
            "max_width": null,
            "order": null,
            "_view_module_version": "1.2.0",
            "grid_template_areas": null,
            "object_position": null,
            "object_fit": null,
            "grid_auto_columns": null,
            "margin": null,
            "display": null,
            "left": null
          }
        }
      }
    }
  },
  "cells": [
    {
      "cell_type": "markdown",
      "metadata": {
        "id": "view-in-github",
        "colab_type": "text"
      },
      "source": [
        "<a href=\"https://colab.research.google.com/github/buganart/BUGAN/blob/master/notebook_util/train.ipynb\" target=\"_parent\"><img src=\"https://colab.research.google.com/assets/colab-badge.svg\" alt=\"Open In Colab\"/></a>"
      ]
    },
    {
      "cell_type": "markdown",
      "metadata": {
        "id": "LwbGaO5aJS8y"
      },
      "source": [
        "Before starting please save the notebook in your drive by clicking on `File -> Save a copy in drive`"
      ]
    },
    {
      "cell_type": "code",
      "metadata": {
        "cellView": "form",
        "id": "sQtEpYYRh9LM",
        "colab": {
          "base_uri": "https://localhost:8080/"
        },
        "outputId": "c5996c3d-c13f-499d-8b2e-3b252fb18b70"
      },
      "source": [
        "#@markdown Mount google drive.\n",
        "from google.colab import output\n",
        "from google.colab import drive\n",
        "drive.mount('/content/drive')\n",
        "\n",
        "# Check if we have linked the folder\n",
        "from pathlib import Path\n",
        "if not Path(\"/content/drive/My Drive/IRCMS_GAN_collaborative_database\").exists():\n",
        "    print(\n",
        "        \"Shortcut to our shared drive folder doesn't exits.\\n\\n\"\n",
        "        \"\\t1. Go to the google drive web UI\\n\"\n",
        "        \"\\t2. Right click shared folder IRCMS_GAN_collaborative_database and click \\\"Add shortcut to Drive\\\"\"\n",
        "    )"
      ],
      "execution_count": null,
      "outputs": [
        {
          "output_type": "stream",
          "text": [
            "Mounted at /content/drive\n"
          ],
          "name": "stdout"
        }
      ]
    },
    {
      "cell_type": "code",
      "metadata": {
        "cellView": "form",
        "id": "bp1sqgZf5lRv",
        "colab": {
          "base_uri": "https://localhost:8080/"
        },
        "outputId": "de9f2339-5b04-46b8-d22e-e9d41db513d4"
      },
      "source": [
        "#@markdown Install wandb and log in\n",
        "%pip install wandb\n",
        "output.clear()\n",
        "import wandb\n",
        "from pathlib import Path\n",
        "wandb_drive_netrc_path = Path(\"drive/My Drive/colab/.netrc\")\n",
        "wandb_local_netrc_path = Path(\"/root/.netrc\")\n",
        "if wandb_drive_netrc_path.exists():\n",
        "    import shutil\n",
        "\n",
        "    print(\"Wandb .netrc file found, will use that to log in.\")\n",
        "    shutil.copy(wandb_drive_netrc_path, wandb_local_netrc_path)\n",
        "else:\n",
        "    print(\n",
        "        f\"Wandb config not found at {wandb_drive_netrc_path}.\\n\"\n",
        "        f\"Using manual login.\\n\\n\"\n",
        "        f\"To use auto login in the future, finish the manual login first and then run:\\n\\n\"\n",
        "        f\"\\t!mkdir -p '{wandb_drive_netrc_path.parent}'\\n\"\n",
        "        f\"\\t!cp {wandb_local_netrc_path} '{wandb_drive_netrc_path}'\\n\\n\"\n",
        "        f\"Then that file will be used to login next time.\\n\"\n",
        "    )\n",
        "\n",
        "!wandb login\n",
        "output.clear()\n",
        "print(\"ok!\")"
      ],
      "execution_count": null,
      "outputs": [
        {
          "output_type": "stream",
          "text": [
            "ok!\n"
          ],
          "name": "stdout"
        }
      ]
    },
    {
      "cell_type": "code",
      "metadata": {
        "id": "1b-Vx_QVHLXH",
        "colab": {
          "base_uri": "https://localhost:8080/"
        },
        "cellView": "form",
        "outputId": "bfa15c30-6b04-4c9b-b936-17bd7bf7eca1"
      },
      "source": [
        "#@title Configure dataset\n",
        "#@markdown - Leave empty if you want to start a new run\n",
        "#@markdown - Set `\"run_id\"` if you want to resume a run (for example: `u9imsvva`)\n",
        "#@markdown - The id of the current run is shown below in the cell with `wandb.init()` or you can find it in the wandb web UI.\n",
        "resume_id = \"\" #@param {type:\"string\"}\n",
        "#@markdown Enter project name (either `chair-gan`, `handtool-gan` or `tree-gan`)\n",
        "project_name = \"tree-gan\" #@param [\"tree-gan\", \"handtool-gan\", \"chair-gan\"]\n",
        "#@markdown Enter dataset location.  \n",
        "#@markdown - For example via the file browser on the left to locate and right click to copy the path.)\n",
        "#@markdown - zipfile example: `/content/drive/My Drive/h/k/a.zip`\n",
        "#@markdown - file folder example: `/content/drive/My Drive/h/k`\n",
        "#@markdown - if data_location_option is not empty, data_location_option will overwrite data_location_default\n",
        "data_location_default = \"/content/drive/My Drive/IRCMS_GAN_collaborative_database/Research/Peter/Tree_3D_models_obj_auto_generated/sessions/simplified/tree-sessions-2020-09-10-simplified-26k-target-face-num-1000-class-label.zip\" #@param [\"/content/drive/My Drive/IRCMS_GAN_collaborative_database/Research/Peter/Tree_3D_models_obj_auto_generated/sessions/simplified/tree-session-2020-09-14_23-23-Friedrich_2-target-face-num-1000.zip\", \"/content/drive/My Drive/IRCMS_GAN_collaborative_database/Research/Peter/Tree_3D_models_obj_auto_generated/sessions/simplified/tree-sessions-2020-09-10-simplified-26k-target-face-num-1000.zip\", \"/content/drive/My Drive/Hand-Tool-Data-Set/turbosquid_thingiverse_dataset/dataset_ply_out_zipped.zip\", \"/content/drive/My Drive/IRCMS_GAN_collaborative_database/Research/Peter/Chairs_Princeton/chair_train.zip\", \"/content/drive/My Drive/IRCMS_GAN_collaborative_database/Research/Peter/Tree_3D_models_obj_auto_generated/sessions/simplified/tree-sessions-2020-09-10-simplified-26k-target-face-num-1000-class-label.zip\",\"/content/drive/My Drive/Hand-Tool-Data-Set/handtool-v3-combined-tnf-1000.zip\", \"/content/drive/My Drive/Hand-Tool-Data-Set/Finn-2021-1-7-tnf-1000.zip\"] \n",
        "data_location_option = \"\" #@param {type:\"string\"}\n",
        "#@markdown - For conditional dataset\n",
        "#@markdown - maximum number of classes to extract based on the data_location path\n",
        "num_classes =  5#@param {type:\"integer\"}\n",
        "#@markdown - choose rotation augmentation on-the-fly \n",
        "#@markdown (augmentation only support file folder in data_location)\n",
        "data_augmentation = False    #@param {type:\"boolean\"}\n",
        "aug_rotation_type = \"axis rotation\"  #@param [\"random rotation\", \"axis rotation\"]\n",
        "#@markdown - specify the rotation axis [x,y,z] (only for aug_rotation_type = \"axis rotation\")\n",
        "rotation_axis_x = 0    #@param {type:\"number\"}\n",
        "rotation_axis_y = 1    #@param {type:\"number\"}\n",
        "rotation_axis_z = 0    #@param {type:\"number\"}\n",
        "\n",
        "#@markdown - resolution of the voxelized array (shape resolution**3)\n",
        "resolution = \"64\"    #@param [32, 64]\n",
        "\n",
        "#@markdown Model\n",
        "#@markdown - select which model to train\n",
        "#@markdown - choosing unconditional models will set num_classes = 0\n",
        "#@markdown to load the dataset in unconditional way\n",
        "selected_model = \"CVAEGAN\"    #@param [\"VAEGAN\", \"GAN\", \"VAE\", \"WGAN\", \"WGAN_GP\", \"VAEGAN_GP\", \"CGAN\", \"CVAEGAN\", \"CGAN_Wloss_GP\", \"CVAEGAN_Wloss_GP\"]\n",
        "\n",
        "#@markdown WANDB log\n",
        "#@markdown - how many epochs before logging images/3D objects\n",
        "log_interval = 10    #@param {type:\"integer\"}\n",
        "#@markdown - save a copied checkpoint history (will not be overwritten) for each freq * log_interval.\n",
        "history_checkpoint_frequency = 0    #@param {type:\"integer\"}\n",
        "#@markdown - how many samples per log\n",
        "log_num_samples = 3    #@param {type:\"integer\"}\n",
        "\n",
        "#@markdown WANDB run note\n",
        "#@markdown - please describe the reason for running this experiment\n",
        "run_note = \"testing\" #@param {type:\"string\"}\n",
        "\n",
        "\n",
        "#adjust parameter datatype\n",
        "resolution = int(resolution)\n",
        "if data_location_option:\n",
        "    data_location = data_location_option\n",
        "else:\n",
        "    data_location = data_location_default\n",
        "if data_location.endswith(\".zip\"):\n",
        "    dataset = Path(data_location).stem\n",
        "else:\n",
        "    dataset = \"dataset_array_custom\"\n",
        "if selected_model in [\"VAEGAN\", \"GAN\", \"VAE\", \"WGAN\", \"WGAN_GP\", \"VAEGAN_GP\"]:\n",
        "    num_classes = 0\n",
        "\n",
        "colab_config = {\n",
        "    \"aug_rotation_type\": aug_rotation_type,\n",
        "    \"data_augmentation\": data_augmentation,\n",
        "    \"aug_rotation_axis\": (rotation_axis_x,rotation_axis_y,rotation_axis_z),\n",
        "    \"data_location\": data_location,\n",
        "    \"dataset\": dataset,\n",
        "    \"resume_id\": resume_id,\n",
        "    \"selected_model\": selected_model,\n",
        "    \"history_checkpoint_frequency\"\" history_checkpoint_frequency,\n",
        "    \"log_interval\": log_interval,\n",
        "    \"log_num_samples\": log_num_samples,\n",
        "    \"project_name\": project_name,\n",
        "    \"resolution\": resolution,\n",
        "    \"num_classes\": num_classes,\n",
        "}\n",
        "\n",
        "for k, v in colab_config.items():\n",
        "    print(f\"=> {k:20}: {v}\")\n"
      ],
      "execution_count": null,
      "outputs": [
        {
          "output_type": "stream",
          "text": [
            "=> aug_rotation_type   : axis rotation\n",
            "=> data_augmentation   : False\n",
            "=> aug_rotation_axis   : (0, 1, 0)\n",
            "=> data_location       : /content/drive/My Drive/IRCMS_GAN_collaborative_database/Research/Peter/Tree_3D_models_obj_auto_generated/sessions/simplified/tree-sessions-2020-09-10-simplified-26k-target-face-num-1000-class-label.zip\n",
            "=> dataset             : tree-sessions-2020-09-10-simplified-26k-target-face-num-1000-class-label\n",
            "=> resume_id           : 2ui7fizp\n",
            "=> selected_model      : CVAEGAN\n",
            "=> log_interval        : 10\n",
            "=> log_num_samples     : 3\n",
            "=> project_name        : tree-gan\n",
            "=> resolution          : 64\n",
            "=> num_classes         : 5\n"
          ],
          "name": "stdout"
        }
      ]
    },
    {
      "cell_type": "markdown",
      "metadata": {
        "id": "fUduMFlzmKmO"
      },
      "source": [
        "# To just train a model, no edits should be required in any cells below."
      ]
    },
    {
      "cell_type": "code",
      "metadata": {
        "id": "D3jIEKP7i4Nt",
        "colab": {
          "base_uri": "https://localhost:8080/"
        },
        "outputId": "d308d184-eb3e-4ec5-b74b-11100e769dc7"
      },
      "source": [
        "import os\n",
        "from pathlib import Path\n",
        "# os.environ[\"WANDB_MODE\"] = \"dryrun\"\n",
        "\n",
        "%cd /content/drive/My Drive/IRCMS_GAN_collaborative_database/Experiments/\n",
        "if project_name == \"tree-gan\":\n",
        "    %cd colab-treegan/\n",
        "elif project_name == \"handtool-gan\":\n",
        "    %cd colab-handtool/\n",
        "else:\n",
        "    %cd colab-chair/\n",
        "\n",
        "dataset_path = Path(data_location)\n",
        "run_path = \"./\"\n",
        "\n",
        "!apt-get update\n",
        "\n",
        "!apt install -y xvfb\n",
        "%pip install --upgrade xvfbwrapper\n",
        "output.clear()\n",
        "print('ok!')"
      ],
      "execution_count": null,
      "outputs": [
        {
          "output_type": "stream",
          "text": [
            "ok!\n"
          ],
          "name": "stdout"
        }
      ]
    },
    {
      "cell_type": "code",
      "metadata": {
        "id": "NU8OYjiWtzeo"
      },
      "source": [
        "from argparse import Namespace, ArgumentParser\n",
        "\n",
        "from xvfbwrapper import Xvfb\n",
        "import torch\n",
        "# import pkg_resources\n",
        "\n",
        "def get_resume_run_config(project_name, resume_id):\n",
        "    # all config will be replaced by the stored one in wandb\n",
        "    api = wandb.Api()\n",
        "    previous_run = api.run(f\"bugan/{project_name}/{resume_id}\")\n",
        "    config = Namespace(**previous_run.config)\n",
        "    return config\n",
        "\n",
        "def get_bugan_package_revision_number():\n",
        "    # version_str = pkg_resources.get_distribution('bugan').version\n",
        "    # rev_number = (version_str.split(\"+g\")[1]).split(\".\")[0]\n",
        "    import bugan\n",
        "    import io, sys\n",
        "    #EXTRACT package version\n",
        "        #switch stdout to temperary stringIO\n",
        "    old_stdout = sys.stdout\n",
        "    temp_stdout = io.StringIO()\n",
        "    sys.stdout = temp_stdout\n",
        "        #get version\n",
        "    %pip freeze | grep bugan\n",
        "    version = temp_stdout.getvalue()\n",
        "    rev_number = version.split(\"+g\")[1].rstrip()\n",
        "        #switch back stdout\n",
        "    sys.stdout = old_stdout\n",
        "    return rev_number"
      ],
      "execution_count": null,
      "outputs": []
    },
    {
      "cell_type": "markdown",
      "metadata": {
        "id": "VkQ6pzbgB8tt"
      },
      "source": [
        "#train setup config and package"
      ]
    },
    {
      "cell_type": "code",
      "metadata": {
        "id": "0KH4t9djZJG-"
      },
      "source": [
        "config = Namespace(**colab_config)\n",
        "config.seed = 1234\n",
        "config.epochs = 3000\n",
        "config.batch_size = 8\n",
        "\n",
        "config.kernel_size=5\n",
        "config.fc_size=2\n",
        "config.decoder_num_layer_unit = [256, 512, 256, 128, 128, 64]\n",
        "config.encoder_num_layer_unit = [64, 128, 128, 128, 256, 512]\n",
        "config.dis_num_layer_unit = [64, 128, 128, 128, 256, 512]\n",
        "\n",
        "config.kl_coef=10000\n",
        "config.z_size=512\n",
        "\n",
        "config.d_rec_coef = 10000\n",
        "\n",
        "config.vae_lr = 1e-4\n",
        "config.d_lr = 1e-5\n",
        "\n",
        "# resume previous run config\n",
        "if config.resume_id:\n",
        "    project_name = config.project_name\n",
        "    resume_id = config.resume_id\n",
        "    prev_config = get_resume_run_config(project_name, resume_id)\n",
        "    #replace config with prev_config\n",
        "    config = vars(config)\n",
        "    config.update(vars(prev_config))\n",
        "    config = Namespace(**config)\n",
        "    #reassign resume_id\n",
        "    config.resume_id = resume_id"
      ],
      "execution_count": null,
      "outputs": []
    },
    {
      "cell_type": "code",
      "metadata": {
        "id": "23c1M4uwbFBn"
      },
      "source": [
        "# load bugan package and record revision_number\n",
        "if hasattr(config,\"rev_number\"):\n",
        "    print(\"loading BUGAN package rev_number\", config.rev_number)\n",
        "    %pip install --upgrade git+https://github.com/buganart/BUGAN.git@{config.rev_number}#egg=bugan\n",
        "else:\n",
        "    print(\"loading BUGAN package latest\")\n",
        "    %pip install --upgrade git+https://github.com/buganart/BUGAN.git#egg=bugan\n",
        "output.clear()\n",
        "\n",
        "import bugan\n",
        "from bugan.trainPL import (\n",
        "    init_wandb_run,\n",
        "    setup_datamodule,\n",
        "    setup_model,\n",
        "    train,\n",
        ")\n",
        "#record revision number\n",
        "config.rev_number = get_bugan_package_revision_number()"
      ],
      "execution_count": null,
      "outputs": []
    },
    {
      "cell_type": "markdown",
      "metadata": {
        "id": "mk1ejH99W-Ax"
      },
      "source": [
        "#training (wandb_init, datamodule, model, train)"
      ]
    },
    {
      "cell_type": "code",
      "metadata": {
        "id": "GXAE9SPGOlrO",
        "colab": {
          "base_uri": "https://localhost:8080/",
          "height": 185
        },
        "outputId": "ee9b73c9-7baf-463f-eeed-df09482d65a1"
      },
      "source": [
        "run_path = Path(run_path).absolute().parent\n",
        "run, config = init_wandb_run(config, run_dir=run_path)#, mode=\"offline\")\n",
        "run.notes = run_note"
      ],
      "execution_count": null,
      "outputs": [
        {
          "output_type": "stream",
          "text": [
            "\u001b[34m\u001b[1mwandb\u001b[0m: Currently logged in as: \u001b[33mryan-au\u001b[0m (use `wandb login --relogin` to force relogin)\n",
            "\u001b[34m\u001b[1mwandb\u001b[0m: \u001b[33mWARNING\u001b[0m Tried to auto resume run with id vtcf6k3t but id 2ui7fizp is set.\n"
          ],
          "name": "stderr"
        },
        {
          "output_type": "display_data",
          "data": {
            "text/html": [
              "\n",
              "                Tracking run with wandb version 0.10.23<br/>\n",
              "                Resuming run <strong style=\"color:#cdcd00\">good-snow-875</strong> to <a href=\"https://wandb.ai\" target=\"_blank\">Weights & Biases</a> <a href=\"https://docs.wandb.com/integrations/jupyter.html\" target=\"_blank\">(Documentation)</a>.<br/>\n",
              "                Project page: <a href=\"https://wandb.ai/bugan/tree-gan\" target=\"_blank\">https://wandb.ai/bugan/tree-gan</a><br/>\n",
              "                Run page: <a href=\"https://wandb.ai/bugan/tree-gan/runs/2ui7fizp\" target=\"_blank\">https://wandb.ai/bugan/tree-gan/runs/2ui7fizp</a><br/>\n",
              "                Run data is saved locally in <code>/content/drive/.shortcut-targets-by-id/1ylB2p6N0qQ-G4OsBuwcZ9C0tsqVu9ww4/IRCMS_GAN_collaborative_database/Experiments/wandb/run-20210326_050642-2ui7fizp</code><br/><br/>\n",
              "            "
            ],
            "text/plain": [
              "<IPython.core.display.HTML object>"
            ]
          },
          "metadata": {
            "tags": []
          }
        },
        {
          "output_type": "stream",
          "text": [
            "run id: 2ui7fizp\n",
            "run name: good-snow-875\n"
          ],
          "name": "stdout"
        }
      ]
    },
    {
      "cell_type": "code",
      "metadata": {
        "id": "i_LFeiD9B9Et",
        "colab": {
          "base_uri": "https://localhost:8080/",
          "height": 1000,
          "referenced_widgets": [
            "0552f08eefe94a37bb95780dd744f4ef",
            "9950d6c09c674cb6aa7eae8d820c58cb",
            "d90a3468e268435c9da65e5fc9f788ab",
            "ba068d2aed5e498ebc44229e2d463867",
            "4442657a4ca4482db22c4fcddf97cf29",
            "82743e5c2a044d8a92e0c75b847f1a2f",
            "a169d85155374903b868b6b4eb8d25f0",
            "9d82a6a6f90d495db2c60fa1c6887628"
          ]
        },
        "outputId": "245b359f-7a00-4a93-f907-ade03116949b"
      },
      "source": [
        "model, extra_trainer_args = setup_model(config, run)\n",
        "dataModule = setup_datamodule(config)\n",
        "\n",
        "if torch.cuda.is_available():\n",
        "    extra_trainer_args[\"gpus\"] = -1\n",
        "\n",
        "#render setup\n",
        "vdisplay = Xvfb()\n",
        "vdisplay.start()\n",
        "\n",
        "train(config, run, model, dataModule, extra_trainer_args)"
      ],
      "execution_count": null,
      "outputs": [
        {
          "output_type": "stream",
          "text": [
            "/usr/local/lib/python3.7/dist-packages/bugan/trainPL.py:124: UserWarning: config argument 'config/d_lr' is not one of model arguments.\n",
            "  warnings.warn(f\"config argument '{k}' is not one of model arguments.\")\n",
            "/usr/local/lib/python3.7/dist-packages/bugan/trainPL.py:124: UserWarning: config argument 'config/seed' is not one of model arguments.\n",
            "  warnings.warn(f\"config argument '{k}' is not one of model arguments.\")\n",
            "/usr/local/lib/python3.7/dist-packages/bugan/trainPL.py:124: UserWarning: config argument 'config/epochs' is not one of model arguments.\n",
            "  warnings.warn(f\"config argument '{k}' is not one of model arguments.\")\n",
            "/usr/local/lib/python3.7/dist-packages/bugan/trainPL.py:124: UserWarning: config argument 'config/vae_lr' is not one of model arguments.\n",
            "  warnings.warn(f\"config argument '{k}' is not one of model arguments.\")\n",
            "/usr/local/lib/python3.7/dist-packages/bugan/trainPL.py:124: UserWarning: config argument 'config/z_size' is not one of model arguments.\n",
            "  warnings.warn(f\"config argument '{k}' is not one of model arguments.\")\n",
            "/usr/local/lib/python3.7/dist-packages/bugan/trainPL.py:124: UserWarning: config argument 'config/dataset' is not one of model arguments.\n",
            "  warnings.warn(f\"config argument '{k}' is not one of model arguments.\")\n",
            "/usr/local/lib/python3.7/dist-packages/bugan/trainPL.py:124: UserWarning: config argument 'config/fc_size' is not one of model arguments.\n",
            "  warnings.warn(f\"config argument '{k}' is not one of model arguments.\")\n",
            "/usr/local/lib/python3.7/dist-packages/bugan/trainPL.py:124: UserWarning: config argument 'config/kl_coef' is not one of model arguments.\n",
            "  warnings.warn(f\"config argument '{k}' is not one of model arguments.\")\n",
            "/usr/local/lib/python3.7/dist-packages/bugan/trainPL.py:124: UserWarning: config argument 'config/resume_id' is not one of model arguments.\n",
            "  warnings.warn(f\"config argument '{k}' is not one of model arguments.\")\n",
            "/usr/local/lib/python3.7/dist-packages/bugan/trainPL.py:124: UserWarning: config argument 'config/batch_size' is not one of model arguments.\n",
            "  warnings.warn(f\"config argument '{k}' is not one of model arguments.\")\n",
            "/usr/local/lib/python3.7/dist-packages/bugan/trainPL.py:124: UserWarning: config argument 'config/d_rec_coef' is not one of model arguments.\n",
            "  warnings.warn(f\"config argument '{k}' is not one of model arguments.\")\n",
            "/usr/local/lib/python3.7/dist-packages/bugan/trainPL.py:124: UserWarning: config argument 'config/resolution' is not one of model arguments.\n",
            "  warnings.warn(f\"config argument '{k}' is not one of model arguments.\")\n",
            "/usr/local/lib/python3.7/dist-packages/bugan/trainPL.py:124: UserWarning: config argument 'config/rev_number' is not one of model arguments.\n",
            "  warnings.warn(f\"config argument '{k}' is not one of model arguments.\")\n",
            "/usr/local/lib/python3.7/dist-packages/bugan/trainPL.py:124: UserWarning: config argument 'config/kernel_size' is not one of model arguments.\n",
            "  warnings.warn(f\"config argument '{k}' is not one of model arguments.\")\n",
            "/usr/local/lib/python3.7/dist-packages/bugan/trainPL.py:124: UserWarning: config argument 'config/num_classes' is not one of model arguments.\n",
            "  warnings.warn(f\"config argument '{k}' is not one of model arguments.\")\n",
            "/usr/local/lib/python3.7/dist-packages/bugan/trainPL.py:124: UserWarning: config argument 'config/log_interval' is not one of model arguments.\n",
            "  warnings.warn(f\"config argument '{k}' is not one of model arguments.\")\n",
            "/usr/local/lib/python3.7/dist-packages/bugan/trainPL.py:124: UserWarning: config argument 'config/project_name' is not one of model arguments.\n",
            "  warnings.warn(f\"config argument '{k}' is not one of model arguments.\")\n",
            "/usr/local/lib/python3.7/dist-packages/bugan/trainPL.py:124: UserWarning: config argument 'config/data_location' is not one of model arguments.\n",
            "  warnings.warn(f\"config argument '{k}' is not one of model arguments.\")\n",
            "/usr/local/lib/python3.7/dist-packages/bugan/trainPL.py:124: UserWarning: config argument 'config/selected_model' is not one of model arguments.\n",
            "  warnings.warn(f\"config argument '{k}' is not one of model arguments.\")\n",
            "/usr/local/lib/python3.7/dist-packages/bugan/trainPL.py:124: UserWarning: config argument 'config/log_num_samples' is not one of model arguments.\n",
            "  warnings.warn(f\"config argument '{k}' is not one of model arguments.\")\n",
            "/usr/local/lib/python3.7/dist-packages/bugan/trainPL.py:124: UserWarning: config argument 'config/aug_rotation_axis' is not one of model arguments.\n",
            "  warnings.warn(f\"config argument '{k}' is not one of model arguments.\")\n",
            "/usr/local/lib/python3.7/dist-packages/bugan/trainPL.py:124: UserWarning: config argument 'config/aug_rotation_type' is not one of model arguments.\n",
            "  warnings.warn(f\"config argument '{k}' is not one of model arguments.\")\n",
            "/usr/local/lib/python3.7/dist-packages/bugan/trainPL.py:124: UserWarning: config argument 'config/data_augmentation' is not one of model arguments.\n",
            "  warnings.warn(f\"config argument '{k}' is not one of model arguments.\")\n",
            "/usr/local/lib/python3.7/dist-packages/bugan/trainPL.py:124: UserWarning: config argument 'config/dis_num_layer_unit' is not one of model arguments.\n",
            "  warnings.warn(f\"config argument '{k}' is not one of model arguments.\")\n",
            "/usr/local/lib/python3.7/dist-packages/bugan/trainPL.py:124: UserWarning: config argument 'config/decoder_num_layer_unit' is not one of model arguments.\n",
            "  warnings.warn(f\"config argument '{k}' is not one of model arguments.\")\n",
            "/usr/local/lib/python3.7/dist-packages/bugan/trainPL.py:124: UserWarning: config argument 'config/encoder_num_layer_unit' is not one of model arguments.\n",
            "  warnings.warn(f\"config argument '{k}' is not one of model arguments.\")\n"
          ],
          "name": "stderr"
        },
        {
          "output_type": "stream",
          "text": [
            "file model_args_default/CVAEGAN_default.json not found. Using ArgumentParser arguments as model default.\n",
            "file model_args_default/CVAEGAN_default.json not found. Using ArgumentParser arguments as model default.\n"
          ],
          "name": "stdout"
        },
        {
          "output_type": "stream",
          "text": [
            "\u001b[34m\u001b[1mwandb\u001b[0m: \u001b[33mWARNING\u001b[0m Saving files without folders. If you want to preserve sub directories pass base_path to wandb.save, i.e. wandb.save(\"/mnt/folder/file.h5\", base_path=\"/mnt\")\n"
          ],
          "name": "stderr"
        },
        {
          "output_type": "stream",
          "text": [
            "checkpoint loaded. Save a copy of successfully loaded checkpoint to the cloud.\n"
          ],
          "name": "stdout"
        },
        {
          "output_type": "stream",
          "text": [
            "\u001b[34m\u001b[1mwandb\u001b[0m: \u001b[33mWARNING\u001b[0m Saving files without folders. If you want to preserve sub directories pass base_path to wandb.save, i.e. wandb.save(\"/mnt/folder/file.h5\", base_path=\"/mnt\")\n"
          ],
          "name": "stderr"
        },
        {
          "output_type": "stream",
          "text": [
            "dataset name:  tree-sessions-2020-09-10-simplified-26k-target-face-num-1000-class-label\n",
            "dataset path:  /content/drive/My Drive/IRCMS_GAN_collaborative_database/Research/Peter/Tree_3D_models_obj_auto_generated/sessions/simplified/tree-sessions-2020-09-10-simplified-26k-target-face-num-1000-class-label.zip\n",
            "{'FMgan_coef': 0,\n",
            " 'FMrec_coef': 0,\n",
            " 'accuracy_hack': 1.1,\n",
            " 'activation_leakyReLU_slope': 0.1,\n",
            " 'aug_rotation_axis': [0, 1, 0],\n",
            " 'aug_rotation_type': 'axis rotation',\n",
            " 'batch_size': 8"
          ],
          "name": "stdout"
        },
        {
          "output_type": "stream",
          "text": [
            "GPU available: True, used: True\n",
            "TPU available: None, using: 0 TPU cores\n"
          ],
          "name": "stderr"
        },
        {
          "output_type": "stream",
          "text": [
            ",\n",
            " 'c_rec_coef': 1,\n",
            " 'class_loss': 'CrossEntropyLoss',\n",
            " 'config/aug_rotation_axis': [0, 1, 0],\n",
            " 'config/aug_rotation_type': 'axis rotation',\n",
            " 'config/batch_size': 8,\n",
            " 'config/d_lr': 1e-05,\n",
            " 'config/d_rec_coef': 10000,\n",
            " 'config/data_augmentation': False,\n",
            " 'config/data_location': '/content/drive/My '\n",
            "                         'Drive/IRCMS_GAN_collaborative_database/Research/Peter/Tree_3D_models_obj_auto_generated/sessions/simplified/tree-sessions-2020-09-10-simplified-26k-target-face-num-1000-class-label.zip',\n",
            " 'config/dataset': 'tree-sessions-2020-09-10-simplified-26k-target-face-num-1000-class-label',\n",
            " 'config/decoder_num_layer_unit': [256, 512, 256, 128, 128, 64],\n",
            " 'config/dis_num_layer_unit': [64, 128, 128, 128, 256, 512],\n",
            " 'config/encoder_num_layer_unit': [64, 128, 128, 128, 256, 512],\n",
            " 'config/epochs': 3000,\n",
            " 'config/fc_size': 2,\n",
            " 'config/kernel_size': 5,\n",
            " 'config/kl_coef': 10000,\n",
            " 'config/log_interval': 10,\n",
            " 'config/log_num_samples': 3,\n",
            " 'config/num_classes': 5,\n",
            " 'config/project_name': 'tree-gan',\n",
            " 'config/resolution': 64,\n",
            " 'config/resume_id': '',\n",
            " 'config/rev_number': '4069df6',\n",
            " 'config/seed': 1234,\n",
            " 'config/selected_model': 'CVAEGAN',\n",
            " 'config/vae_lr': 0.0001,\n",
            " 'config/z_size': 512,\n",
            " 'd_lr': 1e-05,\n",
            " 'd_rec_coef': 10000,\n",
            " 'data_augmentation': False,\n",
            " 'data_location': '/content/drive/My '\n",
            "                  'Drive/IRCMS_GAN_collaborative_database/Research/Peter/Tree_3D_models_obj_auto_generated/sessions/simplified/tree-sessions-2020-09-10-simplified-26k-target-face-num-1000-class-label.zip',\n",
            " 'dataset': 'tree-sessions-2020-09-10-simplified-26k-target-face-num-1000-class-label',\n",
            " 'decoder_num_layer_unit': [256, 512, 256, 128, 128, 64],\n",
            " 'dis_num_layer_unit': [64, 128, 128, 128, 256, 512],\n",
            " 'dis_opt': 'Adam',\n",
            " 'dropout_prob': 0,\n",
            " 'encoder_num_layer_unit': [64, 128, 128, 128, 256, 512],\n",
            " 'epochs': 3000,\n",
            " 'fc_size': 2,\n",
            " 'instance_noise': 0,\n",
            " 'instance_noise_per_batch': True,\n",
            " 'kernel_size': 5,\n",
            " 'kl_coef': 10000,\n",
            " 'label_flip_prob': 0,\n",
            " 'label_loss': 'BCELoss',\n",
            " 'label_noise': 0,\n",
            " 'linear_annealed_instance_noise_epoch': 1000,\n",
            " 'log_interval': 10,\n",
            " 'log_num_samples': 3,\n",
            " 'num_classes': 5,\n",
            " 'project_name': 'tree-gan',\n",
            " 'rec_loss': 'MSELoss',\n",
            " 'resolution': 64,\n",
            " 'resume_id': '2ui7fizp',\n",
            " 'rev_number': '4069df6',\n",
            " 'seed': 1234,\n",
            " 'selected_model': 'CVAEGAN',\n",
            " 'spectral_norm': False,\n",
            " 'use_simple_3dgan_struct': False,\n",
            " 'vae_lr': 0.0001,\n",
            " 'vae_opt': 'Adam',\n",
            " 'z_size': 512}\n",
            "Processed dataset /content/drive/My Drive/IRCMS_GAN_collaborative_database/Research/Peter/Tree_3D_models_obj_auto_generated/sessions/simplified/tree-sessions-2020-09-10-simplified-26k-target-face-num-1000-class-label_res64_c5.npz already exists.\n"
          ],
          "name": "stdout"
        },
        {
          "output_type": "stream",
          "text": [
            "LOCAL_RANK: 0 - CUDA_VISIBLE_DEVICES: [0]\n",
            "\n",
            "  | Name          | Type          | Params\n",
            "------------------------------------------------\n",
            "0 | vae           | VAE           | 69.5 M\n",
            "1 | discriminator | Discriminator | 25.6 M\n",
            "2 | classifier    | Discriminator | 25.6 M\n",
            "------------------------------------------------\n",
            "120 M     Trainable params\n",
            "0         Non-trainable params\n",
            "120 M     Total params\n",
            "482.935   Total estimated model params size (MB)\n",
            "/usr/local/lib/python3.7/dist-packages/pytorch_lightning/utilities/distributed.py:52: UserWarning: No checkpoint file exists at `resume_from_checkpoint`. Start from scratch\n",
            "  warnings.warn(*args, **kwargs)\n",
            "/usr/local/lib/python3.7/dist-packages/torch/utils/data/dataloader.py:477: UserWarning: This DataLoader will create 8 worker processes in total. Our suggested max number of worker in current system is 4, which is smaller than what this DataLoader is going to create. Please be aware that excessive worker creation might get DataLoader running slow or even freeze, lower the worker number to avoid potential slowness/freeze if necessary.\n",
            "  cpuset_checked))\n"
          ],
          "name": "stderr"
        },
        {
          "output_type": "display_data",
          "data": {
            "application/vnd.jupyter.widget-view+json": {
              "model_id": "0552f08eefe94a37bb95780dd744f4ef",
              "version_minor": 0,
              "version_major": 2
            },
            "text/plain": [
              "HBox(children=(FloatProgress(value=1.0, bar_style='info', description='Training', layout=Layout(flex='2'), max…"
            ]
          },
          "metadata": {
            "tags": []
          }
        },
        {
          "output_type": "stream",
          "text": [
            "/usr/local/lib/python3.7/dist-packages/torch/nn/functional.py:1698: UserWarning: nn.functional.tanh is deprecated. Use torch.tanh instead.\n",
            "  warnings.warn(\"nn.functional.tanh is deprecated. Use torch.tanh instead.\")\n",
            "\u001b[34m\u001b[1mwandb\u001b[0m: \u001b[33mWARNING\u001b[0m Saving files without folders. If you want to preserve sub directories pass base_path to wandb.save, i.e. wandb.save(\"/mnt/folder/file.h5\", base_path=\"/mnt\")\n",
            "/usr/local/lib/python3.7/dist-packages/torch/utils/data/dataloader.py:477: UserWarning: This DataLoader will create 8 worker processes in total. Our suggested max number of worker in current system is 4, which is smaller than what this DataLoader is going to create. Please be aware that excessive worker creation might get DataLoader running slow or even freeze, lower the worker number to avoid potential slowness/freeze if necessary.\n",
            "  cpuset_checked))\n",
            "/usr/local/lib/python3.7/dist-packages/torch/nn/functional.py:1698: UserWarning: nn.functional.tanh is deprecated. Use torch.tanh instead.\n",
            "  warnings.warn(\"nn.functional.tanh is deprecated. Use torch.tanh instead.\")\n"
          ],
          "name": "stderr"
        }
      ]
    }
  ]
}