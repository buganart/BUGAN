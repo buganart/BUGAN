{
  "nbformat": 4,
  "nbformat_minor": 0,
  "metadata": {
    "accelerator": "GPU",
    "colab": {
      "name": "train.ipynb",
      "provenance": [],
      "collapsed_sections": [
        "fUduMFlzmKmO",
        "VkQ6pzbgB8tt",
        "mk1ejH99W-Ax"
      ],
      "machine_shape": "hm",
      "include_colab_link": true
    },
    "kernelspec": {
      "display_name": "Python 3",
      "name": "python3"
    },
    "widgets": {
      "application/vnd.jupyter.widget-state+json": {
        "560279600ac641699d542b65a95586bb": {
          "model_module": "@jupyter-widgets/controls",
          "model_name": "HBoxModel",
          "state": {
            "_view_name": "HBoxView",
            "_dom_classes": [],
            "_model_name": "HBoxModel",
            "_view_module": "@jupyter-widgets/controls",
            "_model_module_version": "1.5.0",
            "_view_count": null,
            "_view_module_version": "1.5.0",
            "box_style": "",
            "layout": "IPY_MODEL_d5f215e1a9ec42108051f3f5fea13bd2",
            "_model_module": "@jupyter-widgets/controls",
            "children": [
              "IPY_MODEL_ca2fa3dd80d34549ae011e655f60d4cf",
              "IPY_MODEL_e545b322ff9c4518859f94bffd58b29c"
            ]
          }
        },
        "d5f215e1a9ec42108051f3f5fea13bd2": {
          "model_module": "@jupyter-widgets/base",
          "model_name": "LayoutModel",
          "state": {
            "_view_name": "LayoutView",
            "grid_template_rows": null,
            "right": null,
            "justify_content": null,
            "_view_module": "@jupyter-widgets/base",
            "overflow": null,
            "_model_module_version": "1.2.0",
            "_view_count": null,
            "flex_flow": "row wrap",
            "width": "100%",
            "min_width": null,
            "border": null,
            "align_items": null,
            "bottom": null,
            "_model_module": "@jupyter-widgets/base",
            "top": null,
            "grid_column": null,
            "overflow_y": null,
            "overflow_x": null,
            "grid_auto_flow": null,
            "grid_area": null,
            "grid_template_columns": null,
            "flex": null,
            "_model_name": "LayoutModel",
            "justify_items": null,
            "grid_row": null,
            "max_height": null,
            "align_content": null,
            "visibility": null,
            "align_self": null,
            "height": null,
            "min_height": null,
            "padding": null,
            "grid_auto_rows": null,
            "grid_gap": null,
            "max_width": null,
            "order": null,
            "_view_module_version": "1.2.0",
            "grid_template_areas": null,
            "object_position": null,
            "object_fit": null,
            "grid_auto_columns": null,
            "margin": null,
            "display": "inline-flex",
            "left": null
          }
        },
        "ca2fa3dd80d34549ae011e655f60d4cf": {
          "model_module": "@jupyter-widgets/controls",
          "model_name": "FloatProgressModel",
          "state": {
            "_view_name": "ProgressView",
            "style": "IPY_MODEL_b57b19c339764fbf83dc02beab727d95",
            "_dom_classes": [],
            "description": "Epoch 0:   0%",
            "_model_name": "FloatProgressModel",
            "bar_style": "info",
            "max": 643,
            "_view_module": "@jupyter-widgets/controls",
            "_model_module_version": "1.5.0",
            "value": 0,
            "_view_count": null,
            "_view_module_version": "1.5.0",
            "orientation": "horizontal",
            "min": 0,
            "description_tooltip": null,
            "_model_module": "@jupyter-widgets/controls",
            "layout": "IPY_MODEL_755055085f7940c29bd6b6f54f9f60e8"
          }
        },
        "e545b322ff9c4518859f94bffd58b29c": {
          "model_module": "@jupyter-widgets/controls",
          "model_name": "HTMLModel",
          "state": {
            "_view_name": "HTMLView",
            "style": "IPY_MODEL_912afabbbdca46869d2b2040e3ccac7c",
            "_dom_classes": [],
            "description": "",
            "_model_name": "HTMLModel",
            "placeholder": "​",
            "_view_module": "@jupyter-widgets/controls",
            "_model_module_version": "1.5.0",
            "value": " 0/643 [00:00&lt;?, ?it/s]",
            "_view_count": null,
            "_view_module_version": "1.5.0",
            "description_tooltip": null,
            "_model_module": "@jupyter-widgets/controls",
            "layout": "IPY_MODEL_fb15463658e14be3bae217f041181e32"
          }
        },
        "b57b19c339764fbf83dc02beab727d95": {
          "model_module": "@jupyter-widgets/controls",
          "model_name": "ProgressStyleModel",
          "state": {
            "_view_name": "StyleView",
            "_model_name": "ProgressStyleModel",
            "description_width": "initial",
            "_view_module": "@jupyter-widgets/base",
            "_model_module_version": "1.5.0",
            "_view_count": null,
            "_view_module_version": "1.2.0",
            "bar_color": null,
            "_model_module": "@jupyter-widgets/controls"
          }
        },
        "755055085f7940c29bd6b6f54f9f60e8": {
          "model_module": "@jupyter-widgets/base",
          "model_name": "LayoutModel",
          "state": {
            "_view_name": "LayoutView",
            "grid_template_rows": null,
            "right": null,
            "justify_content": null,
            "_view_module": "@jupyter-widgets/base",
            "overflow": null,
            "_model_module_version": "1.2.0",
            "_view_count": null,
            "flex_flow": null,
            "width": null,
            "min_width": null,
            "border": null,
            "align_items": null,
            "bottom": null,
            "_model_module": "@jupyter-widgets/base",
            "top": null,
            "grid_column": null,
            "overflow_y": null,
            "overflow_x": null,
            "grid_auto_flow": null,
            "grid_area": null,
            "grid_template_columns": null,
            "flex": "2",
            "_model_name": "LayoutModel",
            "justify_items": null,
            "grid_row": null,
            "max_height": null,
            "align_content": null,
            "visibility": null,
            "align_self": null,
            "height": null,
            "min_height": null,
            "padding": null,
            "grid_auto_rows": null,
            "grid_gap": null,
            "max_width": null,
            "order": null,
            "_view_module_version": "1.2.0",
            "grid_template_areas": null,
            "object_position": null,
            "object_fit": null,
            "grid_auto_columns": null,
            "margin": null,
            "display": null,
            "left": null
          }
        },
        "912afabbbdca46869d2b2040e3ccac7c": {
          "model_module": "@jupyter-widgets/controls",
          "model_name": "DescriptionStyleModel",
          "state": {
            "_view_name": "StyleView",
            "_model_name": "DescriptionStyleModel",
            "description_width": "",
            "_view_module": "@jupyter-widgets/base",
            "_model_module_version": "1.5.0",
            "_view_count": null,
            "_view_module_version": "1.2.0",
            "_model_module": "@jupyter-widgets/controls"
          }
        },
        "fb15463658e14be3bae217f041181e32": {
          "model_module": "@jupyter-widgets/base",
          "model_name": "LayoutModel",
          "state": {
            "_view_name": "LayoutView",
            "grid_template_rows": null,
            "right": null,
            "justify_content": null,
            "_view_module": "@jupyter-widgets/base",
            "overflow": null,
            "_model_module_version": "1.2.0",
            "_view_count": null,
            "flex_flow": null,
            "width": null,
            "min_width": null,
            "border": null,
            "align_items": null,
            "bottom": null,
            "_model_module": "@jupyter-widgets/base",
            "top": null,
            "grid_column": null,
            "overflow_y": null,
            "overflow_x": null,
            "grid_auto_flow": null,
            "grid_area": null,
            "grid_template_columns": null,
            "flex": null,
            "_model_name": "LayoutModel",
            "justify_items": null,
            "grid_row": null,
            "max_height": null,
            "align_content": null,
            "visibility": null,
            "align_self": null,
            "height": null,
            "min_height": null,
            "padding": null,
            "grid_auto_rows": null,
            "grid_gap": null,
            "max_width": null,
            "order": null,
            "_view_module_version": "1.2.0",
            "grid_template_areas": null,
            "object_position": null,
            "object_fit": null,
            "grid_auto_columns": null,
            "margin": null,
            "display": null,
            "left": null
          }
        }
      }
    }
  },
  "cells": [
    {
      "cell_type": "markdown",
      "metadata": {
        "id": "view-in-github",
        "colab_type": "text"
      },
      "source": [
        "<a href=\"https://colab.research.google.com/github/buganart/BUGAN/blob/master/notebook_util/train.ipynb\" target=\"_parent\"><img src=\"https://colab.research.google.com/assets/colab-badge.svg\" alt=\"Open In Colab\"/></a>"
      ]
    },
    {
      "cell_type": "markdown",
      "metadata": {
        "id": "LwbGaO5aJS8y"
      },
      "source": [
        "Before starting please save the notebook in your drive by clicking on `File -> Save a copy in drive`"
      ]
    },
    {
      "cell_type": "code",
      "metadata": {
        "cellView": "form",
        "colab": {
          "base_uri": "https://localhost:8080/"
        },
        "id": "KunCMqz-uaTV",
        "outputId": "bede9f28-3531-4d00-db7a-6496eb7aa639"
      },
      "source": [
        "#@markdown Check GPU, should be a Tesla V100\n",
        "!nvidia-smi -L\n",
        "import os\n",
        "print(f\"We have {os.cpu_count()} CPU cores.\")"
      ],
      "execution_count": 1,
      "outputs": [
        {
          "output_type": "stream",
          "text": [
            "GPU 0: Tesla T4 (UUID: GPU-ef0eccc0-d4aa-1211-345a-4a07908949c1)\n",
            "We have 2 CPU cores.\n"
          ],
          "name": "stdout"
        }
      ]
    },
    {
      "cell_type": "code",
      "metadata": {
        "cellView": "form",
        "id": "sQtEpYYRh9LM",
        "colab": {
          "base_uri": "https://localhost:8080/"
        },
        "outputId": "933adf6b-20bc-4af2-dbe4-17f25c5668c6"
      },
      "source": [
        "#@markdown Mount google drive.\n",
        "from google.colab import output\n",
        "from google.colab import drive\n",
        "drive.mount('/content/drive')\n",
        "\n",
        "# Check if we have linked the folder\n",
        "from pathlib import Path\n",
        "if not Path(\"/content/drive/My Drive/IRCMS_GAN_collaborative_database\").exists():\n",
        "    print(\n",
        "        \"Shortcut to our shared drive folder doesn't exits.\\n\\n\"\n",
        "        \"\\t1. Go to the google drive web UI\\n\"\n",
        "        \"\\t2. Right click shared folder IRCMS_GAN_collaborative_database and click \\\"Add shortcut to Drive\\\"\"\n",
        "    )"
      ],
      "execution_count": 2,
      "outputs": [
        {
          "output_type": "stream",
          "text": [
            "Drive already mounted at /content/drive; to attempt to forcibly remount, call drive.mount(\"/content/drive\", force_remount=True).\n"
          ],
          "name": "stdout"
        }
      ]
    },
    {
      "cell_type": "code",
      "metadata": {
        "id": "bp1sqgZf5lRv",
        "colab": {
          "base_uri": "https://localhost:8080/"
        },
        "cellView": "form",
        "outputId": "8b4b8b94-9942-4519-976e-ad9cc5031119"
      },
      "source": [
        "#@markdown Install wandb and log in\n",
        "%pip install wandb\n",
        "output.clear()\n",
        "import wandb\n",
        "from pathlib import Path\n",
        "wandb_drive_netrc_path = Path(\"drive/My Drive/colab/.netrc\")\n",
        "wandb_local_netrc_path = Path(\"/root/.netrc\")\n",
        "if wandb_drive_netrc_path.exists():\n",
        "    import shutil\n",
        "\n",
        "    print(\"Wandb .netrc file found, will use that to log in.\")\n",
        "    shutil.copy(wandb_drive_netrc_path, wandb_local_netrc_path)\n",
        "else:\n",
        "    print(\n",
        "        f\"Wandb config not found at {wandb_drive_netrc_path}.\\n\"\n",
        "        f\"Using manual login.\\n\\n\"\n",
        "        f\"To use auto login in the future, finish the manual login first and then run:\\n\\n\"\n",
        "        f\"\\t!mkdir -p '{wandb_drive_netrc_path.parent}'\\n\"\n",
        "        f\"\\t!cp {wandb_local_netrc_path} '{wandb_drive_netrc_path}'\\n\\n\"\n",
        "        f\"Then that file will be used to login next time.\\n\"\n",
        "    )\n",
        "\n",
        "!wandb login\n",
        "output.clear()\n",
        "print(\"ok!\")"
      ],
      "execution_count": 3,
      "outputs": [
        {
          "output_type": "stream",
          "text": [
            "ok!\n"
          ],
          "name": "stdout"
        }
      ]
    },
    {
      "cell_type": "code",
      "metadata": {
        "id": "1b-Vx_QVHLXH",
        "colab": {
          "base_uri": "https://localhost:8080/"
        },
        "cellView": "form",
        "outputId": "8faca59c-792d-49ec-a943-878ec9c525ba"
      },
      "source": [
        "#@title Configure dataset\n",
        "#@markdown - Leave empty if you want to start a new run\n",
        "#@markdown - Set `\"run_id\"` if you want to resume a run (for example: `u9imsvva`)\n",
        "#@markdown - The id of the current run is shown below in the cell with `wandb.init()` or you can find it in the wandb web UI.\n",
        "resume_id = \"\" #@param {type:\"string\"}\n",
        "#@markdown Enter project name\n",
        "#@markdown - the name of the wandb project in the format of {entity}/{project_name}\n",
        "#@markdown - \"bugan/tree-gan\", \"bugan/handtool-gan\", \"bugan/chair-gan\" are private project reserved for bugan.\n",
        "#@markdown - \"bugan/stylegan2-open\" is a open project, which act as a testing ground for the public.\n",
        "#@markdown - In case you want the experiment results upload to your project, fill it in project_name_option.\n",
        "#@markdown - if project_name_option is not empty, project_name_option will overwrite project_name\n",
        "project_name = \"bugan/bu-3dgan-open\" #@param [\"bugan/tree-gan\", \"bugan/handtool-gan\", \"bugan/chair-gan\", \"bugan/bu-3dgan-open\"]\n",
        "project_name_option = \"\" #@param {type:\"string\"}\n",
        "\n",
        "#@markdown Enter dataset location.  \n",
        "#@markdown - For example via the file browser on the left to locate and right click to copy the path.)\n",
        "#@markdown - zipfile example: `/content/drive/My Drive/h/k/a.zip`\n",
        "#@markdown - file folder example: `/content/drive/My Drive/h/k`\n",
        "#@markdown - if data_location_option is not empty, data_location_option will overwrite data_location_default\n",
        "#@markdown - Note that the paths in the data_location_default are not available to the public. Please specify your own dataset path on your Drive to data_location_option\n",
        "data_location_default = \"/content/drive/My Drive/Hand-Tool-Data-Set/handtool-v4-cleaned-tnf-1000.zip\" #@param [\"/content/drive/My Drive/IRCMS_GAN_collaborative_database/Research/Peter/Tree_3D_models_obj_auto_generated/sessions/simplified/tree-session-2020-09-14_23-23-Friedrich_2-target-face-num-1000.zip\", \"/content/drive/My Drive/IRCMS_GAN_collaborative_database/Research/Peter/Tree_3D_models_obj_auto_generated/sessions/simplified/tree-sessions-2020-09-10-simplified-26k-target-face-num-1000.zip\", \"/content/drive/My Drive/Hand-Tool-Data-Set/turbosquid_thingiverse_dataset/dataset_ply_out_zipped.zip\", \"/content/drive/My Drive/IRCMS_GAN_collaborative_database/Research/Peter/Chairs_Princeton/chair_train.zip\", \"/content/drive/My Drive/IRCMS_GAN_collaborative_database/Research/Peter/Tree_3D_models_obj_auto_generated/sessions/simplified/tree-sessions-2020-09-10-simplified-26k-target-face-num-1000-class-label.zip\",\"/content/drive/My Drive/Hand-Tool-Data-Set/handtool-v3-combined-tnf-1000.zip\", \"/content/drive/My Drive/Hand-Tool-Data-Set/Finn-2021-1-7-tnf-1000.zip\", \"/content/drive/My Drive/Hand-Tool-Data-Set/handtool-v4-cleaned-tnf-1000.zip\"] \n",
        "data_location_option = \"\" #@param {type:\"string\"}\n",
        "#@markdown - For conditional dataset\n",
        "#@markdown - maximum number of classes to extract based on the data_location path\n",
        "num_classes =  0#@param {type:\"integer\"}\n",
        "#@markdown - choose rotation augmentation on-the-fly \n",
        "#@markdown (augmentation only support file folder in data_location)\n",
        "data_augmentation = False    #@param {type:\"boolean\"}\n",
        "aug_rotation_type = \"axis rotation\"  #@param [\"random rotation\", \"axis rotation\"]\n",
        "#@markdown - specify the rotation axis [x,y,z] (only for aug_rotation_type = \"axis rotation\")\n",
        "rotation_axis_x = 0    #@param {type:\"number\"}\n",
        "rotation_axis_y = 1    #@param {type:\"number\"}\n",
        "rotation_axis_z = 0    #@param {type:\"number\"}\n",
        "\n",
        "#@markdown - resolution of the voxelized array (shape resolution**3)\n",
        "resolution = \"64\"    #@param [32, 64]\n",
        "\n",
        "#@markdown Model\n",
        "#@markdown - select which model to train\n",
        "#@markdown - choosing unconditional models will set num_classes = 0\n",
        "#@markdown to load the dataset in unconditional way\n",
        "selected_model = \"VAEGAN\"    #@param [\"VAEGAN\", \"GAN\", \"VAE\", \"WGAN\", \"WGAN_GP\", \"VAEGAN_GP\", \"CGAN\", \"CVAEGAN\", \"CGAN_Wloss_GP\", \"CVAEGAN_Wloss_GP\"]\n",
        "\n",
        "#@markdown WANDB log\n",
        "#@markdown - how many epochs before logging images/3D objects\n",
        "log_interval = 10    #@param {type:\"integer\"}\n",
        "#@markdown - save a copied checkpoint history (will not be overwritten) for each freq * log_interval.\n",
        "history_checkpoint_frequency = 2    #@param {type:\"integer\"}\n",
        "#@markdown - how many samples per log\n",
        "log_num_samples = 3    #@param {type:\"integer\"}\n",
        "\n",
        "#@markdown WANDB run note\n",
        "#@markdown - please describe the reason for running this experiment\n",
        "run_note = \"testing\" #@param {type:\"string\"}\n",
        "\n",
        "\n",
        "#adjust parameter datatype\n",
        "resolution = int(resolution)\n",
        "##project_name_option\n",
        "if project_name_option:\n",
        "    project_name = project_name_option\n",
        "    if \"/\" in project_name:\n",
        "        #validate\n",
        "        project_list = project_name.split(\"/\")\n",
        "        if len(project_list[0]) < 1:\n",
        "            print(\"\\\"/\\\" exists, but entity is empty.\")\n",
        "            print(f\"set entity as login entity, and set project_name: {project_list[1]}\")\n",
        "            project_name = project_list[1]\n",
        "        if len(project_list[1]) < 1:\n",
        "            raise Exception(\"\\\"/\\\" exists, but project_name is empty.\")\n",
        "\n",
        "##data_location\n",
        "if data_location_option:\n",
        "    data_location = data_location_option\n",
        "else:\n",
        "    data_location = data_location_default\n",
        "if data_location.endswith(\".zip\"):\n",
        "    dataset = Path(data_location).stem\n",
        "else:\n",
        "    dataset = \"dataset_array_custom\"\n",
        "if selected_model in [\"VAEGAN\", \"GAN\", \"VAE\", \"WGAN\", \"WGAN_GP\", \"VAEGAN_GP\"]:\n",
        "    num_classes = 0\n",
        "\n",
        "colab_config = {\n",
        "    \"aug_rotation_type\": aug_rotation_type,\n",
        "    \"data_augmentation\": data_augmentation,\n",
        "    \"aug_rotation_axis\": (rotation_axis_x,rotation_axis_y,rotation_axis_z),\n",
        "    \"data_location\": data_location,\n",
        "    \"dataset\": dataset,\n",
        "    \"resume_id\": resume_id,\n",
        "    \"selected_model\": selected_model,\n",
        "    \"history_checkpoint_frequency\": history_checkpoint_frequency,\n",
        "    \"log_interval\": log_interval,\n",
        "    \"log_num_samples\": log_num_samples,\n",
        "    \"project_name\": project_name,\n",
        "    \"resolution\": resolution,\n",
        "    \"num_classes\": num_classes,\n",
        "}\n",
        "\n",
        "for k, v in colab_config.items():\n",
        "    print(f\"=> {k:20}: {v}\")\n"
      ],
      "execution_count": 4,
      "outputs": [
        {
          "output_type": "stream",
          "text": [
            "=> aug_rotation_type   : axis rotation\n",
            "=> data_augmentation   : False\n",
            "=> aug_rotation_axis   : (0, 1, 0)\n",
            "=> data_location       : /content/drive/My Drive/Hand-Tool-Data-Set/handtool-v4-cleaned-tnf-1000.zip\n",
            "=> dataset             : handtool-v4-cleaned-tnf-1000\n",
            "=> resume_id           : \n",
            "=> selected_model      : VAEGAN\n",
            "=> history_checkpoint_frequency: 2\n",
            "=> log_interval        : 10\n",
            "=> log_num_samples     : 3\n",
            "=> project_name        : bugan/bu-3dgan-open\n",
            "=> resolution          : 64\n",
            "=> num_classes         : 0\n"
          ],
          "name": "stdout"
        }
      ]
    },
    {
      "cell_type": "markdown",
      "metadata": {
        "id": "fUduMFlzmKmO"
      },
      "source": [
        "# To just train a model, no edits should be required in any cells below."
      ]
    },
    {
      "cell_type": "code",
      "metadata": {
        "id": "D3jIEKP7i4Nt",
        "colab": {
          "base_uri": "https://localhost:8080/"
        },
        "outputId": "31773e57-1f9c-467b-97ed-497465bdd1b0"
      },
      "source": [
        "import os\n",
        "from pathlib import Path\n",
        "# os.environ[\"WANDB_MODE\"] = \"dryrun\"\n",
        "\n",
        "%cd /content/drive/My Drive/IRCMS_GAN_collaborative_database/Experiments/\n",
        "if project_name == \"tree-gan\":\n",
        "    %cd colab-treegan/\n",
        "elif project_name == \"handtool-gan\":\n",
        "    %cd colab-handtool/\n",
        "else:\n",
        "    %cd colab-chair/\n",
        "\n",
        "dataset_path = Path(data_location)\n",
        "run_path = \"./\"\n",
        "\n",
        "!apt-get update\n",
        "\n",
        "!apt install -y xvfb\n",
        "%pip install --upgrade xvfbwrapper\n",
        "output.clear()\n",
        "print('ok!')"
      ],
      "execution_count": 5,
      "outputs": [
        {
          "output_type": "stream",
          "text": [
            "ok!\n"
          ],
          "name": "stdout"
        }
      ]
    },
    {
      "cell_type": "code",
      "metadata": {
        "id": "NU8OYjiWtzeo"
      },
      "source": [
        "from argparse import Namespace, ArgumentParser\n",
        "\n",
        "from xvfbwrapper import Xvfb\n",
        "import torch\n",
        "# import pkg_resources\n",
        "\n",
        "def get_resume_run_config(project_name, resume_id):\n",
        "    # all config will be replaced by the stored one in wandb\n",
        "    api = wandb.Api()\n",
        "    previous_run = api.run(f\"bugan/{project_name}/{resume_id}\")\n",
        "    config = Namespace(**previous_run.config)\n",
        "    return config\n",
        "\n",
        "def get_bugan_package_revision_number():\n",
        "    # version_str = pkg_resources.get_distribution('bugan').version\n",
        "    # rev_number = (version_str.split(\"+g\")[1]).split(\".\")[0]\n",
        "    import bugan\n",
        "    import io, sys\n",
        "    #EXTRACT package version\n",
        "        #switch stdout to temperary stringIO\n",
        "    old_stdout = sys.stdout\n",
        "    temp_stdout = io.StringIO()\n",
        "    sys.stdout = temp_stdout\n",
        "        #get version\n",
        "    %pip freeze | grep bugan\n",
        "    version = temp_stdout.getvalue()\n",
        "    rev_number = version.split(\"+g\")[1].rstrip()\n",
        "        #switch back stdout\n",
        "    sys.stdout = old_stdout\n",
        "    return rev_number"
      ],
      "execution_count": 6,
      "outputs": []
    },
    {
      "cell_type": "markdown",
      "metadata": {
        "id": "VkQ6pzbgB8tt"
      },
      "source": [
        "#train setup config and package"
      ]
    },
    {
      "cell_type": "code",
      "metadata": {
        "id": "0KH4t9djZJG-"
      },
      "source": [
        "config = Namespace(**colab_config)\n",
        "config.seed = 1234\n",
        "config.epochs = 3000\n",
        "config.batch_size = 8\n",
        "\n",
        "config.trim_class_offset=0\n",
        "\n",
        "config.kernel_size=5\n",
        "config.fc_size=2\n",
        "if config.resolution == 64:\n",
        "    config.decoder_num_layer_unit = [128,256,512,256,128,64]\n",
        "    config.encoder_num_layer_unit = [64,128,128,256,256,128]\n",
        "    config.dis_num_layer_unit = [64,128,128,256,256,128]\n",
        "else:\n",
        "    #resolution = 32\n",
        "    config.decoder_num_layer_unit = [128,256,512,256,128]\n",
        "    config.encoder_num_layer_unit = [128,128,256,256,128]\n",
        "    config.dis_num_layer_unit = [128,128,256,256,128]\n",
        "\n",
        "config.kl_coef=30000\n",
        "config.z_size=128\n",
        "\n",
        "config.d_rec_coef = 1000\n",
        "config.c_rec_coef = 300\n",
        "\n",
        "config.vae_lr = 0.001\n",
        "config.d_lr = 0.00001\n",
        "\n",
        "config.FMgan_coef = 1000\n",
        "config.FMrec_coef = 30\n",
        "\n",
        "config.label_noise = 0.01\n",
        "\n",
        "# resume previous run config\n",
        "if config.resume_id:\n",
        "    project_name = config.project_name\n",
        "    resume_id = config.resume_id\n",
        "    prev_config = get_resume_run_config(project_name, resume_id)\n",
        "    #replace config with prev_config\n",
        "    config = vars(config)\n",
        "    config.update(vars(prev_config))\n",
        "    config = Namespace(**config)\n",
        "    #reassign resume_id\n",
        "    config.resume_id = resume_id"
      ],
      "execution_count": 7,
      "outputs": []
    },
    {
      "cell_type": "code",
      "metadata": {
        "id": "23c1M4uwbFBn",
        "colab": {
          "base_uri": "https://localhost:8080/"
        },
        "outputId": "ea22716f-0d35-434a-a87e-656a3d3896db"
      },
      "source": [
        "# load bugan package and record revision_number\n",
        "if hasattr(config,\"rev_number\"):\n",
        "    print(\"loading BUGAN package rev_number\", config.rev_number)\n",
        "    %pip install --upgrade git+https://github.com/buganart/BUGAN.git@{config.rev_number}#egg=bugan\n",
        "else:\n",
        "    print(\"loading BUGAN package latest\")\n",
        "    %pip install --upgrade git+https://github.com/buganart/BUGAN.git#egg=bugan\n",
        "output.clear()\n",
        "\n",
        "import bugan\n",
        "from bugan.trainPL import (\n",
        "    init_wandb_run,\n",
        "    setup_datamodule,\n",
        "    setup_model,\n",
        "    train,\n",
        ")\n",
        "#record revision number\n",
        "config.rev_number = get_bugan_package_revision_number()"
      ],
      "execution_count": 8,
      "outputs": [
        {
          "output_type": "stream",
          "text": [
            "/usr/local/lib/python3.7/dist-packages/pytorch_lightning/metrics/__init__.py:44: LightningDeprecationWarning: `pytorch_lightning.metrics.*` module has been renamed to `torchmetrics.*` and split off to its own package (https://github.com/PyTorchLightning/metrics) since v1.3 and will be removed in v1.5\n",
            "  \"`pytorch_lightning.metrics.*` module has been renamed to `torchmetrics.*` and split off to its own package\"\n"
          ],
          "name": "stderr"
        }
      ]
    },
    {
      "cell_type": "markdown",
      "metadata": {
        "id": "mk1ejH99W-Ax"
      },
      "source": [
        "#training (wandb_init, datamodule, model, train)"
      ]
    },
    {
      "cell_type": "code",
      "metadata": {
        "id": "GXAE9SPGOlrO",
        "colab": {
          "base_uri": "https://localhost:8080/",
          "height": 185
        },
        "outputId": "95d10a98-9348-4056-eda4-13ceabf780a8"
      },
      "source": [
        "run_path = Path(run_path).absolute().parent\n",
        "run, config = init_wandb_run(config, run_dir=run_path)#, mode=\"offline\")\n",
        "run.notes = run_note"
      ],
      "execution_count": 9,
      "outputs": [
        {
          "output_type": "stream",
          "text": [
            "\u001b[34m\u001b[1mwandb\u001b[0m: Currently logged in as: \u001b[33mryan-au\u001b[0m (use `wandb login --relogin` to force relogin)\n",
            "\u001b[34m\u001b[1mwandb\u001b[0m: \u001b[33mWARNING\u001b[0m Tried to auto resume run with id 3eurndn8 but id 2urfbfrx is set.\n"
          ],
          "name": "stderr"
        },
        {
          "output_type": "display_data",
          "data": {
            "text/html": [
              "\n",
              "                Tracking run with wandb version 0.10.33<br/>\n",
              "                Syncing run <strong style=\"color:#cdcd00\">fine-elevator-1</strong> to <a href=\"https://wandb.ai\" target=\"_blank\">Weights & Biases</a> <a href=\"https://docs.wandb.com/integrations/jupyter.html\" target=\"_blank\">(Documentation)</a>.<br/>\n",
              "                Project page: <a href=\"https://wandb.ai/bugan/bu-3dgan-open\" target=\"_blank\">https://wandb.ai/bugan/bu-3dgan-open</a><br/>\n",
              "                Run page: <a href=\"https://wandb.ai/bugan/bu-3dgan-open/runs/2urfbfrx\" target=\"_blank\">https://wandb.ai/bugan/bu-3dgan-open/runs/2urfbfrx</a><br/>\n",
              "                Run data is saved locally in <code>/content/drive/.shortcut-targets-by-id/1ylB2p6N0qQ-G4OsBuwcZ9C0tsqVu9ww4/IRCMS_GAN_collaborative_database/Experiments/wandb/run-20210630_183453-2urfbfrx</code><br/><br/>\n",
              "            "
            ],
            "text/plain": [
              "<IPython.core.display.HTML object>"
            ]
          },
          "metadata": {
            "tags": []
          }
        },
        {
          "output_type": "stream",
          "text": [
            "run id: 2urfbfrx\n",
            "run name: fine-elevator-1\n"
          ],
          "name": "stdout"
        }
      ]
    },
    {
      "cell_type": "code",
      "metadata": {
        "id": "i_LFeiD9B9Et",
        "colab": {
          "base_uri": "https://localhost:8080/",
          "height": 1000,
          "referenced_widgets": [
            "560279600ac641699d542b65a95586bb",
            "d5f215e1a9ec42108051f3f5fea13bd2",
            "ca2fa3dd80d34549ae011e655f60d4cf",
            "e545b322ff9c4518859f94bffd58b29c",
            "b57b19c339764fbf83dc02beab727d95",
            "755055085f7940c29bd6b6f54f9f60e8",
            "912afabbbdca46869d2b2040e3ccac7c",
            "fb15463658e14be3bae217f041181e32"
          ]
        },
        "outputId": "3a7ebc8c-e9a1-4e9e-b5e8-3f1e507deb52"
      },
      "source": [
        "model, extra_trainer_args = setup_model(config, run)\n",
        "dataModule = setup_datamodule(config)\n",
        "\n",
        "if torch.cuda.is_available():\n",
        "    extra_trainer_args[\"gpus\"] = -1\n",
        "\n",
        "#render setup\n",
        "vdisplay = Xvfb()\n",
        "vdisplay.start()\n",
        "\n",
        "train(config, run, model, dataModule, extra_trainer_args)"
      ],
      "execution_count": null,
      "outputs": [
        {
          "output_type": "stream",
          "text": [
            "dataset name:  handtool-v4-cleaned-tnf-1000\n",
            "dataset path:  /content/drive/My Drive/Hand-Tool-Data-Set/handtool-v4-cleaned-tnf-1000.zip\n"
          ],
          "name": "stdout"
        },
        {
          "output_type": "stream",
          "text": [
            "\u001b[34m\u001b[1mwandb\u001b[0m: \u001b[33mWARNING\u001b[0m Saving files without folders. If you want to preserve sub directories pass base_path to wandb.save, i.e. wandb.save(\"/mnt/folder/file.h5\", base_path=\"/mnt\")\n",
            "GPU available: True, used: True\n",
            "TPU available: False, using: 0 TPU cores\n"
          ],
          "name": "stderr"
        },
        {
          "output_type": "stream",
          "text": [
            "{'FMgan_coef': 1000,\n",
            " 'FMrec_coef': 30,\n",
            " 'activation_leakyReLU_slope': 0.01,\n",
            " 'aug_rotation_axis': (0, 1, 0),\n",
            " 'aug_rotation_type': 'axis rotation',\n",
            " 'batch_size': 8,\n",
            " 'c_rec_coef': 300,\n",
            " 'd_lr': 1e-05,\n",
            " 'd_rec_coef': 1000,\n",
            " 'data_augmentation': False,\n",
            " 'data_location': '/content/drive/My '\n",
            "                  'Drive/Hand-Tool-Data-Set/handtool-v4-cleaned-tnf-1000.zip',\n",
            " 'dataset': 'handtool-v4-cleaned-tnf-1000',\n",
            " 'decoder_num_layer_unit': [128, 256, 512, 256, 128, 64],\n",
            " 'dis_num_layer_unit': [64, 128, 128, 256, 256, 128],\n",
            " 'dis_opt': 'Adam',\n",
            " 'dropout_prob': 0.0,\n",
            " 'encoder_num_layer_unit': [64, 128, 128, 256, 256, 128],\n",
            " 'epochs': 3000,\n",
            " 'fc_size': 2,\n",
            " 'history_checkpoint_frequency': 2,\n",
            " 'kernel_size': 5,\n",
            " 'kl_coef': 30000,\n",
            " 'label_loss': 'BCELoss',\n",
            " 'label_noise': 0.01,\n",
            " 'log_interval': 10,\n",
            " 'log_num_samples': 3,\n",
            " 'num_classes': 0,\n",
            " 'project_name': 'bugan/bu-3dgan-open',\n",
            " 'resolution': 64,\n",
            " 'resume_id': '',\n",
            " 'rev_number': 'a9a27bf',\n",
            " 'seed': 1234,\n",
            " 'selected_model': 'VAEGAN',\n",
            " 'trim_class_offset': 0,\n",
            " 'vae_lr': 0.001,\n",
            " 'vae_opt': 'Adam',\n",
            " 'z_size': 128}\n",
            "Processed dataset /content/drive/My Drive/Hand-Tool-Data-Set/handtool-v4-cleaned-tnf-1000_res64_offset0.npy already exists.\n"
          ],
          "name": "stdout"
        },
        {
          "output_type": "stream",
          "text": [
            "LOCAL_RANK: 0 - CUDA_VISIBLE_DEVICES: [0]\n",
            "\n",
            "  | Name          | Type          | Params\n",
            "------------------------------------------------\n",
            "0 | vae           | VAE           | 61.7 M\n",
            "1 | discriminator | Discriminator | 19.5 M\n",
            "------------------------------------------------\n",
            "81.2 M    Trainable params\n",
            "0         Non-trainable params\n",
            "81.2 M    Total params\n",
            "324.832   Total estimated model params size (MB)\n"
          ],
          "name": "stderr"
        },
        {
          "output_type": "display_data",
          "data": {
            "application/vnd.jupyter.widget-view+json": {
              "model_id": "560279600ac641699d542b65a95586bb",
              "version_minor": 0,
              "version_major": 2
            },
            "text/plain": [
              "HBox(children=(FloatProgress(value=1.0, bar_style='info', description='Training', layout=Layout(flex='2'), max…"
            ]
          },
          "metadata": {
            "tags": []
          }
        },
        {
          "output_type": "stream",
          "text": [
            "/usr/local/lib/python3.7/dist-packages/torch/nn/functional.py:1794: UserWarning: nn.functional.tanh is deprecated. Use torch.tanh instead.\n",
            "  warnings.warn(\"nn.functional.tanh is deprecated. Use torch.tanh instead.\")\n"
          ],
          "name": "stderr"
        }
      ]
    }
  ]
}