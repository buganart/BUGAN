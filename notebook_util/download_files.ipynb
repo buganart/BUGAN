{
  "nbformat": 4,
  "nbformat_minor": 0,
  "metadata": {
    "colab": {
      "name": "download_files.ipynb",
      "provenance": [],
      "collapsed_sections": [],
      "machine_shape": "hm",
      "include_colab_link": true
    },
    "kernelspec": {
      "name": "python3",
      "display_name": "Python 3"
    },
    "accelerator": "GPU"
  },
  "cells": [
    {
      "cell_type": "markdown",
      "metadata": {
        "id": "view-in-github",
        "colab_type": "text"
      },
      "source": [
        "<a href=\"https://colab.research.google.com/github/buganart/BUGAN/blob/master/notebook_util/download_files.ipynb\" target=\"_parent\"><img src=\"https://colab.research.google.com/assets/colab-badge.svg\" alt=\"Open In Colab\"/></a>"
      ]
    },
    {
      "cell_type": "markdown",
      "metadata": {
        "id": "LwbGaO5aJS8y"
      },
      "source": [
        "Before starting please save the notebook in your drive by clicking on `File -> Save a copy in drive`"
      ]
    },
    {
      "cell_type": "code",
      "metadata": {
        "id": "sQtEpYYRh9LM",
        "cellView": "form",
        "colab": {
          "base_uri": "https://localhost:8080/"
        },
        "outputId": "ce58458d-8d8f-40a5-d3a2-85d031dde851"
      },
      "source": [
        "#@markdown Mount google drive.\n",
        "from google.colab import output\n",
        "from google.colab import drive\n",
        "drive.mount('/content/drive')\n",
        "\n",
        "# Check if we have linked the folder\n",
        "from pathlib import Path\n",
        "if not Path(\"/content/drive/My Drive/IRCMS_GAN_collaborative_database\").exists():\n",
        "    print(\n",
        "        \"Shortcut to our shared drive folder doesn't exits.\\n\\n\"\n",
        "        \"\\t1. Go to the google drive web UI\\n\"\n",
        "        \"\\t2. Right click shared folder IRCMS_GAN_collaborative_database and click \\\"Add shortcut to Drive\\\"\"\n",
        "    )"
      ],
      "execution_count": 1,
      "outputs": [
        {
          "output_type": "stream",
          "text": [
            "Mounted at /content/drive\n"
          ],
          "name": "stdout"
        }
      ]
    },
    {
      "cell_type": "code",
      "metadata": {
        "colab": {
          "base_uri": "https://localhost:8080/"
        },
        "cellView": "form",
        "id": "Am0fHAabZw7H",
        "outputId": "5d5cb4d8-535c-4256-f5d3-2d30da6c303b"
      },
      "source": [
        "#@markdown Install wandb and log in\n",
        "%pip install wandb\n",
        "output.clear()\n",
        "import wandb\n",
        "wandb_drive_netrc_path = Path(\"drive/My Drive/colab/.netrc\")\n",
        "wandb_local_netrc_path = Path(\"/root/.netrc\")\n",
        "if wandb_drive_netrc_path.exists():\n",
        "    import shutil\n",
        "\n",
        "    print(\"Wandb .netrc file found, will use that to log in.\")\n",
        "    shutil.copy(wandb_drive_netrc_path, wandb_local_netrc_path)\n",
        "else:\n",
        "    print(\n",
        "        f\"Wandb config not found at {wandb_drive_netrc_path}.\\n\"\n",
        "        f\"Using manual login.\\n\\n\"\n",
        "        f\"To use auto login in the future, finish the manual login first and then run:\\n\\n\"\n",
        "        f\"\\t!mkdir -p '{wandb_drive_netrc_path.parent}'\\n\"\n",
        "        f\"\\t!cp {wandb_local_netrc_path} '{wandb_drive_netrc_path}'\\n\\n\"\n",
        "        f\"Then that file will be used to login next time.\\n\"\n",
        "    )\n",
        "\n",
        "!wandb login\n",
        "output.clear()\n",
        "print(\"ok!\")"
      ],
      "execution_count": 2,
      "outputs": [
        {
          "output_type": "stream",
          "text": [
            "ok!\n"
          ],
          "name": "stdout"
        }
      ]
    },
    {
      "cell_type": "code",
      "metadata": {
        "id": "1b-Vx_QVHLXH",
        "colab": {
          "base_uri": "https://localhost:8080/"
        },
        "outputId": "5c58b9d3-593b-419e-bdee-deebed726574"
      },
      "source": [
        "#@title Configure dataset\n",
        "#@markdown - choose whether to use wandb id or use checkpoint_path to select checkpoint file\n",
        "\n",
        "#@markdown Choice 1: wandb id and project_name to select checkpoint file\n",
        "#@markdown - set `\"run_id\"` to resume a run (for example: `u9imsvva`)\n",
        "#@markdown - The id of the current run is shown below in the cell with `wandb.init()` or you can find it in the wandb web UI.\n",
        "id = \"39dop3ic\" #@param {type:\"string\"}\n",
        "#@markdown Enter project name (either `chair-gan`, `handtool-gan` or `tree-gan`)\n",
        "project_name = \"handtool-gan\" #@param [\"tree-gan\", \"handtool-gan\", \"chair-gan\"]\n",
        "\n",
        "#@markdown Enter export location (folder/directory).   \n",
        "export_location = f\"/content/drive/My Drive/IRCMS_GAN_collaborative_database/Experiments/RunFileDirectory/{id}\" #@param {type:\"string\"}\n",
        "\n",
        "\n",
        "\n",
        "if (not id) or (not project_name):\n",
        "    raise Exception(\"Please set id and project_name!\")\n",
        "\n",
        "\n",
        "print(\"id:\", id)\n",
        "print(\"project_name:\", project_name)\n",
        "print(\"export_location:\", export_location)\n"
      ],
      "execution_count": 3,
      "outputs": [
        {
          "output_type": "stream",
          "text": [
            "id: 39dop3ic\n",
            "project_name: handtool-gan\n",
            "export_location: /content/drive/My Drive/IRCMS_GAN_collaborative_database/Experiments/RunFileDirectory/39dop3ic\n"
          ],
          "name": "stdout"
        }
      ]
    },
    {
      "cell_type": "code",
      "metadata": {
        "id": "bp1sqgZf5lRv",
        "colab": {
          "base_uri": "https://localhost:8080/"
        },
        "outputId": "34442dc2-82ad-4f8c-ad13-1cc1dd4ce90b"
      },
      "source": [
        "import os\n",
        "from argparse import Namespace, ArgumentParser\n",
        "from pathlib import Path\n",
        "#@markdown download files\n",
        "os.environ[\"WANDB_MODE\"] = \"dryrun\"\n",
        "\n",
        "export_location = Path(export_location)\n",
        "if not export_location.exists():\n",
        "    export_location.mkdir(parents=True)\n",
        "%cd {export_location}\n",
        "\n",
        "\n",
        "entity=\"bugan\"\n",
        "rev_number = None\n",
        "\n",
        "#read information (run config, etc) stored online\n",
        "    #all config will be replaced by the stored one in wandb\n",
        "api = wandb.Api()\n",
        "previous_run = api.run(f\"{entity}/{project_name}/{id}\")\n",
        "for file in previous_run.files():\n",
        "    file.download(replace=True)\n",
        "\n",
        "#zip files in the directory\n",
        "# !zip -r /content/file.zip .\n",
        "# from google.colab import files\n",
        "# files.download(\"/content/file.zip\")\n",
        "\n",
        "output.clear()\n",
        "print(\"ok!\")"
      ],
      "execution_count": 4,
      "outputs": [
        {
          "output_type": "stream",
          "text": [
            "ok!\n"
          ],
          "name": "stdout"
        }
      ]
    }
  ]
}