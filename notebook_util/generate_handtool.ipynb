{
  "nbformat": 4,
  "nbformat_minor": 0,
  "metadata": {
    "colab": {
      "name": "generate_handtool.ipynb",
      "provenance": [],
      "collapsed_sections": [],
      "machine_shape": "hm",
      "include_colab_link": true
    },
    "kernelspec": {
      "name": "python3",
      "display_name": "Python 3"
    }
  },
  "cells": [
    {
      "cell_type": "markdown",
      "metadata": {
        "id": "view-in-github",
        "colab_type": "text"
      },
      "source": [
        "<a href=\"https://colab.research.google.com/github/buganart/BUGAN/blob/master/notebook_util/generate_handtool.ipynb\" target=\"_parent\"><img src=\"https://colab.research.google.com/assets/colab-badge.svg\" alt=\"Open In Colab\"/></a>"
      ]
    },
    {
      "cell_type": "markdown",
      "metadata": {
        "id": "LwbGaO5aJS8y"
      },
      "source": [
        "Before starting please save the notebook in your drive by clicking on `File -> Save a copy in drive`"
      ]
    },
    {
      "cell_type": "code",
      "metadata": {
        "id": "sQtEpYYRh9LM",
        "cellView": "form"
      },
      "source": [
        "#@markdown Mount google drive.\n",
        "from google.colab import output\n",
        "from google.colab import drive\n",
        "drive.mount('/content/drive')\n",
        "\n",
        "# Check if we have linked the folder\n",
        "from pathlib import Path\n",
        "if not Path(\"/content/drive/My Drive/IRCMS_GAN_collaborative_database\").exists():\n",
        "    print(\n",
        "        \"Shortcut to our shared drive folder doesn't exits.\\n\\n\"\n",
        "        \"\\t1. Go to the google drive web UI\\n\"\n",
        "        \"\\t2. Right click shared folder IRCMS_GAN_collaborative_database and click \\\"Add shortcut to Drive\\\"\"\n",
        "    )"
      ],
      "execution_count": null,
      "outputs": []
    },
    {
      "cell_type": "markdown",
      "metadata": {
        "id": "FJnfvZCha84J"
      },
      "source": [
        "# Description\n",
        "\n",
        "This notebook is used for generating 3D mesh objects based on trained runs in the wandb project \"bugan/handtool-gan\". For training models, please go to [train.ipynb](https://github.com/buganart/BUGAN/blob/master/notebook_util/train.ipynb). \n",
        "\n",
        "---\n",
        "\n",
        "\n",
        "\n",
        "# Instruction for generating handtool mesh\n",
        "The trained model is loaded from the pretrained saved checkpoint. \n",
        "\n",
        "After running all the cells in the notebook, the final cell will generate and display 1 handtool mesh. A download button is shown there to download the mesh from the browser.\n",
        "\n",
        "The mesh is generated randomly from the model. For generating another handtool meshes, just rerun the last cell."
      ]
    },
    {
      "cell_type": "code",
      "metadata": {
        "cellView": "form",
        "id": "uwGo5imWp6gZ"
      },
      "source": [
        "#@markdown ### Post process generated mesh\n",
        "#@markdown whether to post process meshes\n",
        "post_process = True #@param {type:\"boolean\"}\n",
        "#@markdown remove clusters that has no points in the unit sphere of radius.\n",
        "#@markdown - casting sphere of radius in the center of the cube voxel space.\n",
        "#@markdown - keep cluster that has at least 1 point in the sphere, those has no points in the sphere will be discarded.\n",
        "#@markdown - For resolution=64, radius of the sphere that fit the cube voxel space is 32.\n",
        "radius=28 #@param {type:\"number\"}\n",
        "#@markdown remove clusters that has less than point_threshold points.\n",
        "point_threshold = 50 #@param {type:\"integer\"}\n",
        "\n",
        "\n",
        "temp_location = Path(\"/tmp/generated/\")\n",
        "temp_location.mkdir(parents=True, exist_ok=True)\n",
        "mesh_index = 0"
      ],
      "execution_count": null,
      "outputs": []
    },
    {
      "cell_type": "code",
      "metadata": {
        "id": "bp1sqgZf5lRv",
        "cellView": "form"
      },
      "source": [
        "from argparse import Namespace, ArgumentParser\n",
        "#@markdown Install wandb and log in\n",
        "\n",
        "!pip install wandb\n",
        "output.clear()\n",
        "#find wandb API key file to auto login\n",
        "import wandb\n",
        "wandb_drive_netrc_path = Path(\"drive/My Drive/colab/.netrc\")\n",
        "wandb_local_netrc_path = Path(\"/root/.netrc\")\n",
        "if wandb_drive_netrc_path.exists():\n",
        "    import shutil\n",
        "\n",
        "    print(\"Wandb .netrc file found, will use that to log in.\")\n",
        "    shutil.copy(wandb_drive_netrc_path, wandb_local_netrc_path)\n",
        "else:\n",
        "    print(\n",
        "        f\"Wandb config not found at {wandb_drive_netrc_path}.\\n\"\n",
        "        f\"Using manual login.\\n\\n\"\n",
        "        f\"To use auto login in the future, finish the manual login first and then run:\\n\\n\"\n",
        "        f\"\\t!mkdir -p '{wandb_drive_netrc_path.parent}'\\n\"\n",
        "        f\"\\t!cp {wandb_local_netrc_path} '{wandb_drive_netrc_path}'\\n\\n\"\n",
        "        f\"Then that file will be used to login next time.\\n\"\n",
        "    )\n",
        "\n",
        "!wandb login\n",
        "\n",
        "output.clear()\n",
        "print(\"ok!\")"
      ],
      "execution_count": null,
      "outputs": []
    },
    {
      "cell_type": "markdown",
      "metadata": {
        "id": "fUduMFlzmKmO"
      },
      "source": [
        "# To just load the model, no edits should be required in any cells below."
      ]
    },
    {
      "cell_type": "code",
      "metadata": {
        "id": "D3jIEKP7i4Nt",
        "cellView": "form"
      },
      "source": [
        "#@markdown package and functions\n",
        "import numpy as np\n",
        "from numpy.random import randint\n",
        "import os\n",
        "import sys\n",
        "import subprocess\n",
        "import torch\n",
        "import ipywidgets\n",
        "from google.colab import files\n",
        "from IPython.display import display\n",
        "device = torch.device(\"cuda:0\" if torch.cuda.is_available() else \"cpu\")\n",
        "from pathlib import Path\n",
        "os.environ[\"WANDB_MODE\"] = \"dryrun\"\n",
        "\n",
        "%pip install --upgrade git+https://github.com/buganart/BUGAN.git#egg=bugan\n",
        "\n",
        "run_path = \"/content/drive/My Drive/IRCMS_GAN_collaborative_database/Experiments/\"\n",
        "\n",
        "from bugan.trainPL import _get_models\n",
        "from bugan.functionsPL import netarray2mesh, eval_cluster\n",
        "\n",
        "def install_bugan_package(rev_number=None):\n",
        "    if rev_number:\n",
        "        subprocess.check_call(\n",
        "            [\n",
        "                sys.executable,\n",
        "                \"-m\",\n",
        "                \"pip\",\n",
        "                \"install\",\n",
        "                \"--upgrade\",\n",
        "                f\"git+https://github.com/buganart/BUGAN.git@{rev_number}#egg=bugan\",\n",
        "            ]\n",
        "        )\n",
        "    else:\n",
        "        subprocess.check_call(\n",
        "            [\n",
        "                sys.executable,\n",
        "                \"-m\",\n",
        "                \"pip\",\n",
        "                \"install\",\n",
        "                \"--upgrade\",\n",
        "                \"git+https://github.com/buganart/BUGAN.git#egg=bugan\",\n",
        "            ]\n",
        "        )\n",
        "\n",
        "\n",
        "def load_model(selected_model, ckpt_filePath, package_rev_number=None):\n",
        "    MODEL_CLASS = _get_models(selected_model)\n",
        "    try:\n",
        "        # restore bugan version\n",
        "        install_bugan_package(rev_number=package_rev_number)\n",
        "        model = MODEL_CLASS.load_from_checkpoint(ckpt_filePath)\n",
        "    except Exception as e:\n",
        "        print(e)\n",
        "        # try newest bugan version\n",
        "        install_bugan_package()\n",
        "        model = MODEL_CLASS.load_from_checkpoint(ckpt_filePath)\n",
        "\n",
        "    model = model.eval()#.to(device)\n",
        "    return model\n",
        "\n",
        "# load model\n",
        "def generateFromCheckpoint(model, class_index=None, num_samples=1):\n",
        "    try:\n",
        "        #assume conditional model\n",
        "        sample_trees = model.generate_tree(c=class_index, num_trees=num_samples)\n",
        "    except Exception as e:\n",
        "        print(e)\n",
        "        print(\"generate with class label does not work. Now generate without label\")\n",
        "        #assume unconditional model\n",
        "        sample_trees = model.generate_tree(num_trees=num_samples)\n",
        "\n",
        "    for n in range(num_samples):\n",
        "        sample_tree_array = sample_trees[n]\n",
        "        if post_process:\n",
        "            sample_tree_array = post_process_array(sample_tree_array)\n",
        "        voxelmesh = netarray2mesh(sample_tree_array)\n",
        "    return voxelmesh\n",
        "\n",
        "\n",
        "\n",
        "# post processing array\n",
        "def cluster_in_sphere(voxel_index_list, center, radius):\n",
        "    center = np.array(center)\n",
        "    for v in voxel_index_list:\n",
        "        v = np.array(v)\n",
        "        dist = np.linalg.norm(v-center)\n",
        "        if dist < radius:\n",
        "            return True\n",
        "    return False\n",
        "\n",
        "def post_process_array(boolarray):\n",
        "    boolarray = boolarray > 0\n",
        "    cluster = eval_cluster(boolarray)\n",
        "\n",
        "    #post process\n",
        "    process_cluster = []\n",
        "    for l in cluster:\n",
        "        l = list(l)\n",
        "        if len(l) < point_threshold:\n",
        "            continue\n",
        "        if not cluster_in_sphere(l, np.array(boolarray.shape) / 2, radius):\n",
        "            continue\n",
        "        process_cluster.append(l)\n",
        "\n",
        "    #point form back to array form\n",
        "    processed_tree = np.zeros_like(boolarray)\n",
        "    for c in process_cluster:\n",
        "        for index in c:\n",
        "            i,j,k = index\n",
        "            processed_tree[i,j,k] = 1\n",
        "    return processed_tree\n",
        "\n",
        "output.clear()\n",
        "print('ok!')"
      ],
      "execution_count": null,
      "outputs": []
    },
    {
      "cell_type": "code",
      "metadata": {
        "id": "Awhj6FkO2zv6",
        "cellView": "form"
      },
      "source": [
        "#@markdown load model\n",
        "resume_id_list = [\"10sosgxw\", \"jo4p0rrf\", \"2c2icqhk\", \"1o4mittv\"]\n",
        "selected_index = randint(len(resume_id_list))\n",
        "resume_id = resume_id_list[selected_index]\n",
        "rev_number = None\n",
        "\n",
        "#read information (run config, etc) stored online\n",
        "    #all config will be replaced by the stored one in wandb\n",
        "api = wandb.Api()\n",
        "run = api.run(f\"bugan/handtool-gan/{resume_id}\")\n",
        "config = Namespace(**run.config)\n",
        "    #load selected_model, rev_number in the config\n",
        "if hasattr(config, \"selected_model\"):\n",
        "    selected_model = config.selected_model\n",
        "if hasattr(config, \"rev_number\"):\n",
        "    rev_number = config.rev_number\n",
        "\n",
        "print(\"model_id:\", resume_id)\n",
        "\n",
        "try:\n",
        "    ckpt_file = run.file(\"checkpoint.ckpt\").download(replace=True)\n",
        "    model = load_model(selected_model, ckpt_file.name, rev_number)\n",
        "except Exception as e:\n",
        "    print(e)\n",
        "    print(\"loading from checkpoint.ckpt failed. Try checkpoint_prev.ckpt\")\n",
        "    ckpt_file = run.file(\"checkpoint_prev.ckpt\").download(replace=True)\n",
        "    model = load_model(selected_model, ckpt_file.name, rev_number)"
      ],
      "execution_count": null,
      "outputs": []
    },
    {
      "cell_type": "code",
      "metadata": {
        "id": "O5H_WnkNY_aE",
        "cellView": "form"
      },
      "source": [
        "#@markdown generate samples\n",
        "mesh_index += 1\n",
        "def on_buttonDownload_clicked(b):\n",
        "    files.download(export_path)\n",
        "buttonDownload = ipywidgets.widgets.Button(description=\"Download\")\n",
        "display(buttonDownload)\n",
        "buttonDownload.on_click(on_buttonDownload_clicked)\n",
        "\n",
        "voxelmesh = generateFromCheckpoint(model)\n",
        "save_filename = f\"sample{mesh_index}.obj\"\n",
        "export_path = temp_location / save_filename\n",
        "voxelmesh.export(file_obj=export_path, file_type=\"obj\")\n",
        "\n",
        "\n",
        "#fix rendering by copy mesh\n",
        "voxelmesh = voxelmesh.copy()\n",
        "voxelmesh.show()"
      ],
      "execution_count": null,
      "outputs": []
    }
  ]
}