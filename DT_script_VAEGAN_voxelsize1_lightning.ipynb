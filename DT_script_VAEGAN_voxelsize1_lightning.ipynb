{
  "nbformat": 4,
  "nbformat_minor": 0,
  "metadata": {
    "colab": {
      "name": "DT script_VAEGAN_voxelsize1_lightning.ipynb",
      "provenance": [],
      "collapsed_sections": [],
      "machine_shape": "hm",
      "include_colab_link": true
    },
    "kernelspec": {
      "name": "python3",
      "display_name": "Python 3"
    },
    "accelerator": "GPU",
    "widgets": {
      "application/vnd.jupyter.widget-state+json": {
        "52cb3c51bbc445369d188ed822c64431": {
          "model_module": "@jupyter-widgets/controls",
          "model_name": "HBoxModel",
          "state": {
            "_view_name": "HBoxView",
            "_dom_classes": [],
            "_model_name": "HBoxModel",
            "_view_module": "@jupyter-widgets/controls",
            "_model_module_version": "1.5.0",
            "_view_count": null,
            "_view_module_version": "1.5.0",
            "box_style": "",
            "layout": "IPY_MODEL_9c28450623324cc48aad22c2d15c0cf1",
            "_model_module": "@jupyter-widgets/controls",
            "children": [
              "IPY_MODEL_185888d7852440e99f43cc4e9ef59132",
              "IPY_MODEL_f0e836b496f74de1bfe08002ee789943"
            ]
          }
        },
        "9c28450623324cc48aad22c2d15c0cf1": {
          "model_module": "@jupyter-widgets/base",
          "model_name": "LayoutModel",
          "state": {
            "_view_name": "LayoutView",
            "grid_template_rows": null,
            "right": null,
            "justify_content": null,
            "_view_module": "@jupyter-widgets/base",
            "overflow": null,
            "_model_module_version": "1.2.0",
            "_view_count": null,
            "flex_flow": "row wrap",
            "width": "100%",
            "min_width": null,
            "border": null,
            "align_items": null,
            "bottom": null,
            "_model_module": "@jupyter-widgets/base",
            "top": null,
            "grid_column": null,
            "overflow_y": null,
            "overflow_x": null,
            "grid_auto_flow": null,
            "grid_area": null,
            "grid_template_columns": null,
            "flex": null,
            "_model_name": "LayoutModel",
            "justify_items": null,
            "grid_row": null,
            "max_height": null,
            "align_content": null,
            "visibility": null,
            "align_self": null,
            "height": null,
            "min_height": null,
            "padding": null,
            "grid_auto_rows": null,
            "grid_gap": null,
            "max_width": null,
            "order": null,
            "_view_module_version": "1.2.0",
            "grid_template_areas": null,
            "object_position": null,
            "object_fit": null,
            "grid_auto_columns": null,
            "margin": null,
            "display": "inline-flex",
            "left": null
          }
        },
        "185888d7852440e99f43cc4e9ef59132": {
          "model_module": "@jupyter-widgets/controls",
          "model_name": "FloatProgressModel",
          "state": {
            "_view_name": "ProgressView",
            "style": "IPY_MODEL_3c1bd5981f744a46b11d0c8cd071a648",
            "_dom_classes": [],
            "description": "Epoch 1:  34%",
            "_model_name": "FloatProgressModel",
            "bar_style": "info",
            "max": 1089,
            "_view_module": "@jupyter-widgets/controls",
            "_model_module_version": "1.5.0",
            "value": 376,
            "_view_count": null,
            "_view_module_version": "1.5.0",
            "orientation": "horizontal",
            "min": 0,
            "description_tooltip": null,
            "_model_module": "@jupyter-widgets/controls",
            "layout": "IPY_MODEL_3393fbc13cc94931b99503ae72364ea9"
          }
        },
        "f0e836b496f74de1bfe08002ee789943": {
          "model_module": "@jupyter-widgets/controls",
          "model_name": "HTMLModel",
          "state": {
            "_view_name": "HTMLView",
            "style": "IPY_MODEL_2c0a2cbae3494fafb8d89be290345283",
            "_dom_classes": [],
            "description": "",
            "_model_name": "HTMLModel",
            "placeholder": "​",
            "_view_module": "@jupyter-widgets/controls",
            "_model_module_version": "1.5.0",
            "value": " 375/1089 [12:45&lt;24:18,  2.04s/it, loss=3.654, v_num=aqjq, step_vae_loss=8.47, step_dloss=3.29e-5, epoch_vae_loss=5.87, epoch_dloss=0.0102]",
            "_view_count": null,
            "_view_module_version": "1.5.0",
            "description_tooltip": null,
            "_model_module": "@jupyter-widgets/controls",
            "layout": "IPY_MODEL_979d763837a941f9ab4d83645db2b975"
          }
        },
        "3c1bd5981f744a46b11d0c8cd071a648": {
          "model_module": "@jupyter-widgets/controls",
          "model_name": "ProgressStyleModel",
          "state": {
            "_view_name": "StyleView",
            "_model_name": "ProgressStyleModel",
            "description_width": "initial",
            "_view_module": "@jupyter-widgets/base",
            "_model_module_version": "1.5.0",
            "_view_count": null,
            "_view_module_version": "1.2.0",
            "bar_color": null,
            "_model_module": "@jupyter-widgets/controls"
          }
        },
        "3393fbc13cc94931b99503ae72364ea9": {
          "model_module": "@jupyter-widgets/base",
          "model_name": "LayoutModel",
          "state": {
            "_view_name": "LayoutView",
            "grid_template_rows": null,
            "right": null,
            "justify_content": null,
            "_view_module": "@jupyter-widgets/base",
            "overflow": null,
            "_model_module_version": "1.2.0",
            "_view_count": null,
            "flex_flow": null,
            "width": null,
            "min_width": null,
            "border": null,
            "align_items": null,
            "bottom": null,
            "_model_module": "@jupyter-widgets/base",
            "top": null,
            "grid_column": null,
            "overflow_y": null,
            "overflow_x": null,
            "grid_auto_flow": null,
            "grid_area": null,
            "grid_template_columns": null,
            "flex": "2",
            "_model_name": "LayoutModel",
            "justify_items": null,
            "grid_row": null,
            "max_height": null,
            "align_content": null,
            "visibility": null,
            "align_self": null,
            "height": null,
            "min_height": null,
            "padding": null,
            "grid_auto_rows": null,
            "grid_gap": null,
            "max_width": null,
            "order": null,
            "_view_module_version": "1.2.0",
            "grid_template_areas": null,
            "object_position": null,
            "object_fit": null,
            "grid_auto_columns": null,
            "margin": null,
            "display": null,
            "left": null
          }
        },
        "2c0a2cbae3494fafb8d89be290345283": {
          "model_module": "@jupyter-widgets/controls",
          "model_name": "DescriptionStyleModel",
          "state": {
            "_view_name": "StyleView",
            "_model_name": "DescriptionStyleModel",
            "description_width": "",
            "_view_module": "@jupyter-widgets/base",
            "_model_module_version": "1.5.0",
            "_view_count": null,
            "_view_module_version": "1.2.0",
            "_model_module": "@jupyter-widgets/controls"
          }
        },
        "979d763837a941f9ab4d83645db2b975": {
          "model_module": "@jupyter-widgets/base",
          "model_name": "LayoutModel",
          "state": {
            "_view_name": "LayoutView",
            "grid_template_rows": null,
            "right": null,
            "justify_content": null,
            "_view_module": "@jupyter-widgets/base",
            "overflow": null,
            "_model_module_version": "1.2.0",
            "_view_count": null,
            "flex_flow": null,
            "width": null,
            "min_width": null,
            "border": null,
            "align_items": null,
            "bottom": null,
            "_model_module": "@jupyter-widgets/base",
            "top": null,
            "grid_column": null,
            "overflow_y": null,
            "overflow_x": null,
            "grid_auto_flow": null,
            "grid_area": null,
            "grid_template_columns": null,
            "flex": null,
            "_model_name": "LayoutModel",
            "justify_items": null,
            "grid_row": null,
            "max_height": null,
            "align_content": null,
            "visibility": null,
            "align_self": null,
            "height": null,
            "min_height": null,
            "padding": null,
            "grid_auto_rows": null,
            "grid_gap": null,
            "max_width": null,
            "order": null,
            "_view_module_version": "1.2.0",
            "grid_template_areas": null,
            "object_position": null,
            "object_fit": null,
            "grid_auto_columns": null,
            "margin": null,
            "display": null,
            "left": null
          }
        }
      }
    }
  },
  "cells": [
    {
      "cell_type": "markdown",
      "metadata": {
        "id": "view-in-github",
        "colab_type": "text"
      },
      "source": [
        "<a href=\"https://colab.research.google.com/github/buganart/BUGAN/blob/master/DT_script_VAEGAN_voxelsize1_lightning.ipynb\" target=\"_parent\"><img src=\"https://colab.research.google.com/assets/colab-badge.svg\" alt=\"Open In Colab\"/></a>"
      ]
    },
    {
      "cell_type": "code",
      "metadata": {
        "id": "sQtEpYYRh9LM",
        "outputId": "f8ba7cde-0660-4820-f97f-5a373894ab4d",
        "colab": {
          "base_uri": "https://localhost:8080/",
          "height": 34
        }
      },
      "source": [
        "#mount google drive\n",
        "from google.colab import output\n",
        "from google.colab import drive\n",
        "drive.mount('/content/drive')"
      ],
      "execution_count": 1,
      "outputs": [
        {
          "output_type": "stream",
          "text": [
            "Mounted at /content/drive\n"
          ],
          "name": "stdout"
        }
      ]
    },
    {
      "cell_type": "code",
      "metadata": {
        "id": "D3jIEKP7i4Nt",
        "outputId": "7471b140-fc0d-4a86-de4e-5de9681a6010",
        "colab": {
          "base_uri": "https://localhost:8080/",
          "height": 17
        }
      },
      "source": [
        "#right click shared folder IRCMS_GAN_collaborative_database and \"Add shortcut to Drive\" to My drive\n",
        "%cd drive/My Drive/IRCMS_GAN_collaborative_database/Experiments/colab-treegan/\n",
        "\n",
        "#record paths to resources\n",
        "data_path = \"../../Research/Peter/Tree_3D_models_obj_auto_generated/sessions/simplified/\"\n",
        "run_path = \"./\"\n",
        "\n",
        "!apt-get update\n",
        "\n",
        "!pip install pytorch-lightning==0.9.0\n",
        "!pip install trimesh\n",
        "!pip install wandb==0.9.7\n",
        "!apt install -y xvfb\n",
        "!pip install trimesh xvfbwrapper\n",
        "output.clear()"
      ],
      "execution_count": 2,
      "outputs": []
    },
    {
      "cell_type": "markdown",
      "metadata": {
        "id": "nYpnFurJt0Pu"
      },
      "source": [
        "#add libraries, and login to wandb"
      ]
    },
    {
      "cell_type": "code",
      "metadata": {
        "id": "NU8OYjiWtzeo"
      },
      "source": [
        "import io\n",
        "import os\n",
        "import trimesh\n",
        "import numpy as np\n",
        "\n",
        "\n",
        "\n",
        "import torch\n",
        "import torch.nn as nn\n",
        "import torch.nn.functional as F\n",
        "import torch.optim as optim\n",
        "from torchsummary import summary\n",
        "from torch.utils.data import DataLoader, TensorDataset\n",
        "device = torch.device(\"cuda:0\" if torch.cuda.is_available() else \"cpu\")\n",
        "device\n",
        "\n",
        "import pytorch_lightning as pl\n",
        "from pytorch_lightning.loggers import WandbLogger\n",
        "\n",
        "# Ignore excessive warnings\n",
        "import logging\n",
        "logging.propagate = False \n",
        "logging.getLogger().setLevel(logging.ERROR)\n",
        "\n",
        "# WandB – Import the wandb library\n",
        "import wandb\n",
        "\n",
        "from xvfbwrapper import Xvfb"
      ],
      "execution_count": 3,
      "outputs": []
    },
    {
      "cell_type": "code",
      "metadata": {
        "id": "V_fQzoLaVP2U"
      },
      "source": [
        "!wandb login\n",
        "output.clear()"
      ],
      "execution_count": 4,
      "outputs": []
    },
    {
      "cell_type": "code",
      "metadata": {
        "id": "Y2lZ9OiNchg0",
        "outputId": "0a545e0d-9c4d-45df-9d2f-0c2810e558aa",
        "colab": {
          "base_uri": "https://localhost:8080/",
          "height": 134
        }
      },
      "source": [
        "#id None to start a new run. For resuming run, put the id of the run below\n",
        "id = None \n",
        "resume = False\n",
        "if id is None:\n",
        "    id = wandb.util.generate_id()\n",
        "else:\n",
        "    resume = True\n",
        "\n",
        "run = wandb.init(project=\"tree-gan\", id=id, entity=\"bugan\", resume=True, dir=run_path)\n",
        "print(\"run id: \" + str(wandb.run.id))\n",
        "print(\"run name: \" + str(wandb.run.name))\n",
        "wandb.watch_called = False\n",
        "wandb.run.save_code = True"
      ],
      "execution_count": 5,
      "outputs": [
        {
          "output_type": "display_data",
          "data": {
            "text/html": [
              "\n",
              "                Logging results to <a href=\"https://wandb.com\" target=\"_blank\">Weights & Biases</a> <a href=\"https://docs.wandb.com/integrations/jupyter.html\" target=\"_blank\">(Documentation)</a>.<br/>\n",
              "                Project page: <a href=\"https://app.wandb.ai/bugan/tree-gan\" target=\"_blank\">https://app.wandb.ai/bugan/tree-gan</a><br/>\n",
              "                Run page: <a href=\"https://app.wandb.ai/bugan/tree-gan/runs/351kaqjq\" target=\"_blank\">https://app.wandb.ai/bugan/tree-gan/runs/351kaqjq</a><br/>\n",
              "            "
            ],
            "text/plain": [
              "<IPython.core.display.HTML object>"
            ]
          },
          "metadata": {
            "tags": []
          }
        },
        {
          "output_type": "stream",
          "text": [
            "\u001b[34m\u001b[1mwandb\u001b[0m: Wandb version 0.10.5 is available!  To upgrade, please run:\n",
            "\u001b[34m\u001b[1mwandb\u001b[0m:  $ pip install wandb --upgrade\n"
          ],
          "name": "stderr"
        },
        {
          "output_type": "stream",
          "text": [
            "run id: 351kaqjq\n",
            "run name: 351kaqjq\n"
          ],
          "name": "stdout"
        }
      ]
    },
    {
      "cell_type": "code",
      "metadata": {
        "id": "Ww3zbHkxAw8B"
      },
      "source": [
        "#keep track of hyperparams\n",
        "#wandb.config\n",
        "config = {}\n",
        "\n",
        "config[\"batch_size\"] = 8\n",
        "config[\"array_size\"] = 32\n",
        "\n",
        "config[\"z_size\"] = 128\n",
        "config[\"gen_num_layer_unit\"] = [256, 1024, 512, 128]\n",
        "config[\"dis_num_layer_unit\"] = [32, 64, 128, 128]\n",
        "config[\"leakyReLU\"] = False    #leakyReLU implementation still not in modelPL\n",
        "config[\"balance_voxel_in_space\"] = False\n",
        "\n",
        "config[\"epochs\"] = 1000\n",
        "config[\"vae_lr\"] = 0.0025\n",
        "config[\"vae_encoder_layer\"] = 1\n",
        "config[\"vae_decoder_layer\"] = 2\n",
        "config[\"d_lr\"] = 0.00005            \n",
        "config[\"d_layer\"] = 1\n",
        "config[\"vae_recon_loss_factor\"] = 1\n",
        "config[\"seed\"] = 1234\n",
        "config[\"log_image_interval\"] = 5\n",
        "config[\"log_mesh_interval\"] = 50\n",
        "config[\"data_augmentation\"] = True\n",
        "config[\"num_augment_data\"] = 4\n",
        "\n",
        "config[\"vae_opt\"] = \"Adam\"\n",
        "config[\"dis_opt\"] = \"Adam\"\n",
        "\n",
        "config[\"dataset\"] = \"dataset_array_Friedrich_2_8710.npy\"\n",
        "\n",
        "#cast config to namespace\n",
        "from argparse import Namespace\n",
        "config = Namespace(**config)"
      ],
      "execution_count": 6,
      "outputs": []
    },
    {
      "cell_type": "markdown",
      "metadata": {
        "id": "Alz0eunxK9hI"
      },
      "source": [
        "#dataset"
      ]
    },
    {
      "cell_type": "code",
      "metadata": {
        "id": "whLlZwwAoKuR"
      },
      "source": [
        "### load our package\n",
        "\n",
        "#clone then install\n",
        "# !git clone https://github.com/buganart/BUGAN repo\n",
        "# !pip install -e ./repo/\n",
        "# import site\n",
        "# site.main()\n",
        "\n",
        "#directly install using pip\n",
        "!pip install git+https://github.com/buganart/BUGAN.git#egg=bugan\n",
        "output.clear()\n",
        "from pytorch_lightning.callbacks.base import Callback\n",
        "\n",
        "from bugan.functionsPL import *\n",
        "from bugan.modelsDT import VAEGAN, VAE, Discriminator, Generator\n",
        "\n",
        "# from functionsPL import *\n",
        "# from modelsPL import VAEGAN, VAE, Discriminator, Generator\n",
        "\n",
        "run.tags.append(\"VAEGAN\")\n",
        "run.group = \"VAEGAN\"\n",
        "\n",
        "###     load dataset\n",
        "np.random.seed(config.seed)\n",
        "\n",
        "class DataModule_custom(pl.LightningDataModule):\n",
        "\n",
        "    def __init__(self, config, run, filename):\n",
        "        super().__init__()\n",
        "        self.config = config\n",
        "        self.run = run\n",
        "        self.dataset_artifact = None\n",
        "        self.dataset = None\n",
        "        self.size = 0\n",
        "        self.filename = filename\n",
        "\n",
        "    def prepare_data(self):\n",
        "        return\n",
        "\n",
        "    def setup(self, stage=None):\n",
        "        config = self.config\n",
        "        dataset = np.load(os.path.join(data_path, self.filename))\n",
        "                \n",
        "        #now all the returned array contains multiple samples\n",
        "        self.size = dataset.shape[0]\n",
        "        self.dataset = torch.unsqueeze(torch.tensor(dataset), 1)\n",
        "\n",
        "    def train_dataloader(self):\n",
        "        config = self.config\n",
        "        tensor_dataset = TensorDataset(self.dataset)\n",
        "        return DataLoader(tensor_dataset, batch_size=config.batch_size, shuffle=True)\n",
        "        \n",
        "dataModule = DataModule_custom(config, run, config.dataset)\n",
        "config.num_data = dataModule.size"
      ],
      "execution_count": 7,
      "outputs": []
    },
    {
      "cell_type": "markdown",
      "metadata": {
        "id": "O1TU9N4Y8se3"
      },
      "source": [
        "#train"
      ]
    },
    {
      "cell_type": "code",
      "metadata": {
        "id": "2vzV_Mzfd_MZ",
        "outputId": "302bfd9f-b77b-4eef-c36e-b74b726db78a",
        "colab": {
          "base_uri": "https://localhost:8080/",
          "height": 522,
          "referenced_widgets": [
            "52cb3c51bbc445369d188ed822c64431",
            "9c28450623324cc48aad22c2d15c0cf1",
            "185888d7852440e99f43cc4e9ef59132",
            "f0e836b496f74de1bfe08002ee789943",
            "3c1bd5981f744a46b11d0c8cd071a648",
            "3393fbc13cc94931b99503ae72364ea9",
            "2c0a2cbae3494fafb8d89be290345283",
            "979d763837a941f9ab4d83645db2b975"
          ]
        }
      },
      "source": [
        "#set seed\n",
        "torch.manual_seed(config.seed)\n",
        "torch.autograd.set_detect_anomaly(True)\n",
        "\n",
        "#render setup\n",
        "vdisplay = Xvfb()\n",
        "vdisplay.start()\n",
        "\n",
        "#wandb logger setup\n",
        "wandb_logger = WandbLogger(experiment=run, log_model=True)\n",
        "#log config\n",
        "wandb.config.update(config)\n",
        "\n",
        "checkpoint_path = os.path.join(wandb.run.dir, 'checkpoint.ckpt')\n",
        "callbacks = [SaveWandbCallback(config.log_image_interval, checkpoint_path)]\n",
        "\n",
        "if resume:\n",
        "    #get file from the wandb cloud\n",
        "    load_checkpoint_from_cloud(checkpoint_path = 'checkpoint.ckpt')\n",
        "    #restore training state completely\n",
        "    trainer = pl.Trainer(max_epochs = config.epochs, logger=wandb_logger, callbacks=callbacks,\\\n",
        "                         checkpoint_callback = None, resume_from_checkpoint = checkpoint_path, gpus=-1, distributed_backend='ddp')\n",
        "else:\n",
        "    trainer = pl.Trainer(max_epochs = config.epochs, logger=wandb_logger, callbacks=callbacks,\\\n",
        "                         checkpoint_callback = None, gpus=-1, distributed_backend='ddp')\n",
        "\n",
        "#model\n",
        "vaegan = VAEGAN(config).to(device)\n",
        "wandb_logger.watch(vaegan)\n",
        "\n",
        "trainer.fit(vaegan, dataModule)"
      ],
      "execution_count": null,
      "outputs": [
        {
          "output_type": "stream",
          "text": [
            "\u001b[34m\u001b[1mwandb\u001b[0m: Wandb version 0.10.5 is available!  To upgrade, please run:\n",
            "\u001b[34m\u001b[1mwandb\u001b[0m:  $ pip install wandb --upgrade\n",
            "GPU available: True, used: True\n",
            "TPU available: False, using: 0 TPU cores\n",
            "CUDA_VISIBLE_DEVICES: [0]\n",
            "/usr/local/lib/python3.6/dist-packages/pytorch_lightning/utilities/distributed.py:37: UserWarning: WORLD_SIZE environment variable (2) is not equal to the computed world size (1). Ignored.\n",
            "  warnings.warn(*args, **kwargs)\n",
            "initializing ddp: GLOBAL_RANK: 0, MEMBER: 1/1\n",
            "----------------------------------------------------------------------------------------------------\n",
            "distributed_backend=ddp\n",
            "All DDP processes registered. Starting ddp with 1 processes\n",
            "----------------------------------------------------------------------------------------------------\n",
            "\n",
            "  | Name          | Type          | Params\n",
            "------------------------------------------------\n",
            "0 | vae           | VAE           | 62 M  \n",
            "1 | discriminator | Discriminator | 1 M   \n",
            "/usr/local/lib/python3.6/dist-packages/pytorch_lightning/utilities/distributed.py:37: UserWarning: The dataloader, train dataloader, does not have many workers which may be a bottleneck. Consider increasing the value of the `num_workers` argument` (try 4 which is the number of cpus on this machine) in the `DataLoader` init to improve performance.\n",
            "  warnings.warn(*args, **kwargs)\n"
          ],
          "name": "stderr"
        },
        {
          "output_type": "display_data",
          "data": {
            "application/vnd.jupyter.widget-view+json": {
              "model_id": "52cb3c51bbc445369d188ed822c64431",
              "version_minor": 0,
              "version_major": 2
            },
            "text/plain": [
              "HBox(children=(FloatProgress(value=1.0, bar_style='info', description='Training', layout=Layout(flex='2'), max…"
            ]
          },
          "metadata": {
            "tags": []
          }
        },
        {
          "output_type": "stream",
          "text": [
            "/usr/local/lib/python3.6/dist-packages/torch/nn/functional.py:3121: UserWarning: Default upsampling behavior when mode=trilinear is changed to align_corners=False since 0.4.0. Please specify align_corners=True if the old behavior is desired. See the documentation of nn.Upsample for details.\n",
            "  \"See the documentation of nn.Upsample for details.\".format(mode))\n",
            "/usr/local/lib/python3.6/dist-packages/torch/nn/functional.py:1625: UserWarning: nn.functional.sigmoid is deprecated. Use torch.sigmoid instead.\n",
            "  warnings.warn(\"nn.functional.sigmoid is deprecated. Use torch.sigmoid instead.\")\n",
            "/usr/local/lib/python3.6/dist-packages/torch/nn/functional.py:3121: UserWarning: Default upsampling behavior when mode=trilinear is changed to align_corners=False since 0.4.0. Please specify align_corners=True if the old behavior is desired. See the documentation of nn.Upsample for details.\n",
            "  \"See the documentation of nn.Upsample for details.\".format(mode))\n",
            "/usr/local/lib/python3.6/dist-packages/torch/nn/functional.py:1625: UserWarning: nn.functional.sigmoid is deprecated. Use torch.sigmoid instead.\n",
            "  warnings.warn(\"nn.functional.sigmoid is deprecated. Use torch.sigmoid instead.\")\n"
          ],
          "name": "stderr"
        }
      ]
    }
  ]
}