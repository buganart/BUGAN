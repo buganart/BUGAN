{
  "nbformat": 4,
  "nbformat_minor": 0,
  "metadata": {
    "colab": {
      "name": "script_load3Dobj.ipynb",
      "provenance": [],
      "collapsed_sections": [],
      "include_colab_link": true
    },
    "kernelspec": {
      "name": "python3",
      "display_name": "Python 3"
    }
  },
  "cells": [
    {
      "cell_type": "markdown",
      "metadata": {
        "id": "view-in-github",
        "colab_type": "text"
      },
      "source": [
        "<a href=\"https://colab.research.google.com/github/pacnpacn/BUGAN/blob/master/script_load3Dobj.ipynb\" target=\"_parent\"><img src=\"https://colab.research.google.com/assets/colab-badge.svg\" alt=\"Open In Colab\"/></a>"
      ]
    },
    {
      "cell_type": "code",
      "metadata": {
        "id": "sQtEpYYRh9LM",
        "colab_type": "code",
        "colab": {
          "base_uri": "https://localhost:8080/",
          "height": 34
        },
        "outputId": "2059d704-dca8-4d87-aa79-8085c74b20ca"
      },
      "source": [
        "#mount google drive\n",
        "from google.colab import drive\n",
        "drive.mount('/content/drive')"
      ],
      "execution_count": null,
      "outputs": [
        {
          "output_type": "stream",
          "text": [
            "Drive already mounted at /content/drive; to attempt to forcibly remount, call drive.mount(\"/content/drive\", force_remount=True).\n"
          ],
          "name": "stdout"
        }
      ]
    },
    {
      "cell_type": "code",
      "metadata": {
        "id": "D3jIEKP7i4Nt",
        "colab_type": "code",
        "colab": {
          "base_uri": "https://localhost:8080/",
          "height": 68
        },
        "outputId": "a0ecd921-58ae-4eaf-860b-b90869fd387a"
      },
      "source": [
        "#right click shared folder IRCMS_GAN_collaborative_database and \"Add shortcut to Drive\" to My drive\n",
        "%cd drive/My Drive/IRCMS_GAN_collaborative_database/Research/Peter/Tree_3D_models_obj/\n",
        "!ls"
      ],
      "execution_count": null,
      "outputs": [
        {
          "output_type": "stream",
          "text": [
            "/content/drive/.shortcut-targets-by-id/1ylB2p6N0qQ-G4OsBuwcZ9C0tsqVu9ww4/IRCMS_GAN_collaborative_database/Research/Peter/Tree_3D_models_obj\n",
            "maple_1.obj  maple_3.obj  old_2.obj  script_load3Dobj.ipynb\n",
            "maple_2.obj  old_1.obj\t  old_3.obj\n"
          ],
          "name": "stdout"
        }
      ]
    },
    {
      "cell_type": "code",
      "metadata": {
        "id": "H7YBXytR981F",
        "colab_type": "code",
        "colab": {}
      },
      "source": [
        "#reference: http://jamesgregson.ca/loadsave-wavefront-obj-files-in-python.html\n",
        "import numpy as np\n",
        "\n",
        "class WavefrontOBJ:\n",
        "    def __init__( self, default_mtl='default_mtl' ):\n",
        "        self.path      = None               # path of loaded object\n",
        "        self.mtllibs   = []                 # .mtl files references via mtllib\n",
        "        self.mtls      = [ default_mtl ]    # materials referenced\n",
        "        self.mtlid     = []                 # indices into self.mtls for each polygon\n",
        "        self.vertices  = []                 # vertices as an Nx3 or Nx6 array (per vtx colors)\n",
        "        self.normals   = []                 # normals\n",
        "        self.texcoords = []                 # texture coordinates\n",
        "        self.polygons  = []                 # M*Nv*3 array, Nv=# of vertices, stored as vid,tid,nid (-1 for N/A)\n",
        "\n",
        "def load_obj( filename: str, default_mtl='default_mtl', triangulate=False ) -> WavefrontOBJ:\n",
        "    \"\"\"Reads a .obj file from disk and returns a WavefrontOBJ instance\n",
        "\n",
        "    Handles only very rudimentary reading and contains no error handling!\n",
        "\n",
        "    Does not handle:\n",
        "        - relative indexing\n",
        "        - subobjects or groups\n",
        "        - lines, splines, beziers, etc.\n",
        "    \"\"\"\n",
        "    # parses a vertex record as either vid, vid/tid, vid//nid or vid/tid/nid\n",
        "    # and returns a 3-tuple where unparsed values are replaced with -1\n",
        "    def parse_vertex( vstr ):\n",
        "        vals = vstr.split('/')\n",
        "        vid = int(vals[0])-1\n",
        "        tid = int(vals[1])-1 if len(vals) > 1 and vals[1] else -1\n",
        "        nid = int(vals[2])-1 if len(vals) > 2 else -1\n",
        "        return (vid,tid,nid)\n",
        "\n",
        "    with open( filename, 'r' ) as objf:\n",
        "        obj = WavefrontOBJ(default_mtl=default_mtl)\n",
        "        obj.path = filename\n",
        "        cur_mat = obj.mtls.index(default_mtl)\n",
        "        for line in objf:\n",
        "            toks = line.split()\n",
        "            if not toks:\n",
        "                continue\n",
        "            if toks[0] == 'v':\n",
        "                obj.vertices.append( [ float(v) for v in toks[1:]] )\n",
        "            elif toks[0] == 'vn':\n",
        "                obj.normals.append( [ float(v) for v in toks[1:]] )\n",
        "            elif toks[0] == 'vt':\n",
        "                obj.texcoords.append( [ float(v) for v in toks[1:]] )\n",
        "            elif toks[0] == 'f':\n",
        "                poly = [ parse_vertex(vstr) for vstr in toks[1:] ]\n",
        "                if triangulate:\n",
        "                    for i in range(2,len(poly)):\n",
        "                        obj.mtlid.append( cur_mat )\n",
        "                        obj.polygons.append( (poly[0], poly[i-1], poly[i] ) )\n",
        "                else:\n",
        "                    obj.mtlid.append(cur_mat)\n",
        "                    obj.polygons.append( poly )\n",
        "            elif toks[0] == 'mtllib':\n",
        "                obj.mtllibs.append( toks[1] )\n",
        "            elif toks[0] == 'usemtl':\n",
        "                if toks[1] not in obj.mtls:\n",
        "                    obj.mtls.append(toks[1])\n",
        "                cur_mat = obj.mtls.index( toks[1] )\n",
        "        return obj\n",
        "\n",
        "def save_obj( obj: WavefrontOBJ, filename: str ):\n",
        "    \"\"\"Saves a WavefrontOBJ object to a file\n",
        "\n",
        "    Warning: Contains no error checking!\n",
        "\n",
        "    \"\"\"\n",
        "    with open( filename, 'w' ) as ofile:\n",
        "        for mlib in obj.mtllibs:\n",
        "            ofile.write('mtllib {}\\n'.format(mlib))\n",
        "        for vtx in obj.vertices:\n",
        "            ofile.write('v '+' '.join(['{}'.format(v) for v in vtx])+'\\n')\n",
        "        for tex in obj.texcoords:\n",
        "            ofile.write('vt '+' '.join(['{}'.format(vt) for vt in tex])+'\\n')\n",
        "        for nrm in obj.normals:\n",
        "            ofile.write('vn '+' '.join(['{}'.format(vn) for vn in nrm])+'\\n')\n",
        "        if not obj.mtlid:\n",
        "            obj.mtlid = [-1] * len(obj.polygons)\n",
        "        poly_idx = np.argsort( np.array( obj.mtlid ) )\n",
        "        cur_mat = -1\n",
        "        for pid in poly_idx:\n",
        "            if obj.mtlid[pid] != cur_mat:\n",
        "                cur_mat = obj.mtlid[pid]\n",
        "                ofile.write('usemtl {}\\n'.format(obj.mtls[cur_mat]))\n",
        "            pstr = 'f '\n",
        "            for v in obj.polygons[pid]:\n",
        "                # UGLY!\n",
        "                vstr = '{}/{}/{} '.format(v[0]+1,v[1]+1 if v[1] >= 0 else 'X', v[2]+1 if v[2] >= 0 else 'X' )\n",
        "                vstr = vstr.replace('/X/','//').replace('/X ', ' ')\n",
        "                pstr += vstr\n",
        "            ofile.write( pstr+'\\n')"
      ],
      "execution_count": null,
      "outputs": []
    },
    {
      "cell_type": "code",
      "metadata": {
        "id": "l6JceVl06R_s",
        "colab_type": "code",
        "colab": {}
      },
      "source": [
        "obj = load_obj('maple_1.obj')"
      ],
      "execution_count": null,
      "outputs": []
    },
    {
      "cell_type": "code",
      "metadata": {
        "id": "1snPlJCG-IIb",
        "colab_type": "code",
        "colab": {
          "base_uri": "https://localhost:8080/",
          "height": 34
        },
        "outputId": "39a658dc-0737-4157-daf2-0103cb8a92a5"
      },
      "source": [
        "obj.__dict__.keys()"
      ],
      "execution_count": null,
      "outputs": [
        {
          "output_type": "execute_result",
          "data": {
            "text/plain": [
              "dict_keys(['path', 'mtllibs', 'mtls', 'mtlid', 'vertices', 'normals', 'texcoords', 'polygons'])"
            ]
          },
          "metadata": {
            "tags": []
          },
          "execution_count": 83
        }
      ]
    },
    {
      "cell_type": "code",
      "metadata": {
        "id": "VB7kkTNT-UIT",
        "colab_type": "code",
        "colab": {
          "base_uri": "https://localhost:8080/",
          "height": 34
        },
        "outputId": "82799b48-f06e-4845-82c9-faed4891ce15"
      },
      "source": [
        "print(len(obj.vertices))\n",
        "#print(obj.vertices)\n"
      ],
      "execution_count": null,
      "outputs": [
        {
          "output_type": "stream",
          "text": [
            "21289\n"
          ],
          "name": "stdout"
        }
      ]
    },
    {
      "cell_type": "code",
      "metadata": {
        "id": "8QzTbDAD-a9z",
        "colab_type": "code",
        "colab": {
          "base_uri": "https://localhost:8080/",
          "height": 34
        },
        "outputId": "54d92d4f-a095-4c0b-caf3-e39da2025a59"
      },
      "source": [
        "print(len(obj.normals))\n",
        "#print(obj.normals)"
      ],
      "execution_count": null,
      "outputs": [
        {
          "output_type": "stream",
          "text": [
            "21289\n"
          ],
          "name": "stdout"
        }
      ]
    },
    {
      "cell_type": "code",
      "metadata": {
        "id": "S3jrHFm4-tsi",
        "colab_type": "code",
        "colab": {
          "base_uri": "https://localhost:8080/",
          "height": 34
        },
        "outputId": "3be83c11-5738-4d68-d7a7-561ec37fd14b"
      },
      "source": [
        "print(len(obj.texcoords))\n",
        "#print(obj.texcoords)"
      ],
      "execution_count": null,
      "outputs": [
        {
          "output_type": "stream",
          "text": [
            "21289\n"
          ],
          "name": "stdout"
        }
      ]
    },
    {
      "cell_type": "code",
      "metadata": {
        "id": "JuYYAXDQ_BsT",
        "colab_type": "code",
        "colab": {
          "base_uri": "https://localhost:8080/",
          "height": 34
        },
        "outputId": "70529319-1f9a-45ab-cafc-34a742c045c1"
      },
      "source": [
        "#checked polygon indices are off by 1\n",
        "print(len(obj.polygons))\n",
        "#print(obj.polygons)"
      ],
      "execution_count": null,
      "outputs": [
        {
          "output_type": "stream",
          "text": [
            "35002\n"
          ],
          "name": "stdout"
        }
      ]
    }
  ]
}