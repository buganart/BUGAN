{
  "nbformat": 4,
  "nbformat_minor": 0,
  "metadata": {
    "colab": {
      "name": "script_load3Dobj.ipynb",
      "provenance": [],
      "collapsed_sections": [],
      "include_colab_link": true
    },
    "kernelspec": {
      "name": "python3",
      "display_name": "Python 3"
    },
    "accelerator": "GPU"
  },
  "cells": [
    {
      "cell_type": "markdown",
      "metadata": {
        "id": "view-in-github",
        "colab_type": "text"
      },
      "source": [
        "<a href=\"https://colab.research.google.com/github/pacnpacn/BUGAN/blob/master/script_load3Dobj.ipynb\" target=\"_parent\"><img src=\"https://colab.research.google.com/assets/colab-badge.svg\" alt=\"Open In Colab\"/></a>"
      ]
    },
    {
      "cell_type": "code",
      "metadata": {
        "id": "sQtEpYYRh9LM",
        "colab_type": "code",
        "colab": {
          "base_uri": "https://localhost:8080/",
          "height": 34
        },
        "outputId": "41cdb12e-e1bc-4a3b-ad28-db0bd6b1ba62"
      },
      "source": [
        "#mount google drive\n",
        "from google.colab import drive\n",
        "drive.mount('/content/drive')"
      ],
      "execution_count": 18,
      "outputs": [
        {
          "output_type": "stream",
          "text": [
            "Drive already mounted at /content/drive; to attempt to forcibly remount, call drive.mount(\"/content/drive\", force_remount=True).\n"
          ],
          "name": "stdout"
        }
      ]
    },
    {
      "cell_type": "code",
      "metadata": {
        "id": "D3jIEKP7i4Nt",
        "colab_type": "code",
        "colab": {
          "base_uri": "https://localhost:8080/",
          "height": 101
        },
        "outputId": "c90e6dcd-5d73-421d-b48f-29926dc6d7b0"
      },
      "source": [
        "#right click shared folder IRCMS_GAN_collaborative_database and \"Add shortcut to Drive\" to My drive\n",
        "%cd drive/My Drive/IRCMS_GAN_collaborative_database/Research/Peter/Tree_3D_models_obj/\n",
        "!ls"
      ],
      "execution_count": 19,
      "outputs": [
        {
          "output_type": "stream",
          "text": [
            "[Errno 2] No such file or directory: 'drive/My Drive/IRCMS_GAN_collaborative_database/Research/Peter/Tree_3D_models_obj/'\n",
            "/content/drive/.shortcut-targets-by-id/1ylB2p6N0qQ-G4OsBuwcZ9C0tsqVu9ww4/IRCMS_GAN_collaborative_database/Research/Peter/Tree_3D_models_obj\n",
            "maple_1.obj  maple_example2.mtl  old_2.obj  script_load3Dobj.ipynb\n",
            "maple_2.obj  maple_example2.obj  old_3.obj\n",
            "maple_3.obj  old_1.obj\t\t PyMesh\n"
          ],
          "name": "stdout"
        }
      ]
    },
    {
      "cell_type": "code",
      "metadata": {
        "id": "0LzAiBuWu6pw",
        "colab_type": "code",
        "colab": {
          "base_uri": "https://localhost:8080/",
          "height": 742
        },
        "outputId": "d5d5d1ef-f555-4db5-cdab-cdceec818232"
      },
      "source": [
        "!pip install open3d"
      ],
      "execution_count": 20,
      "outputs": [
        {
          "output_type": "stream",
          "text": [
            "Requirement already satisfied: open3d in /usr/local/lib/python3.6/dist-packages (0.10.0.0)\n",
            "Requirement already satisfied: numpy in /usr/local/lib/python3.6/dist-packages (from open3d) (1.18.5)\n",
            "Requirement already satisfied: matplotlib in /usr/local/lib/python3.6/dist-packages (from open3d) (3.2.2)\n",
            "Requirement already satisfied: notebook in /usr/local/lib/python3.6/dist-packages (from open3d) (5.2.2)\n",
            "Requirement already satisfied: widgetsnbextension in /usr/local/lib/python3.6/dist-packages (from open3d) (3.5.1)\n",
            "Requirement already satisfied: ipywidgets in /usr/local/lib/python3.6/dist-packages (from open3d) (7.5.1)\n",
            "Requirement already satisfied: python-dateutil>=2.1 in /usr/local/lib/python3.6/dist-packages (from matplotlib->open3d) (2.8.1)\n",
            "Requirement already satisfied: kiwisolver>=1.0.1 in /usr/local/lib/python3.6/dist-packages (from matplotlib->open3d) (1.2.0)\n",
            "Requirement already satisfied: pyparsing!=2.0.4,!=2.1.2,!=2.1.6,>=2.0.1 in /usr/local/lib/python3.6/dist-packages (from matplotlib->open3d) (2.4.7)\n",
            "Requirement already satisfied: cycler>=0.10 in /usr/local/lib/python3.6/dist-packages (from matplotlib->open3d) (0.10.0)\n",
            "Requirement already satisfied: jinja2 in /usr/local/lib/python3.6/dist-packages (from notebook->open3d) (2.11.2)\n",
            "Requirement already satisfied: nbconvert in /usr/local/lib/python3.6/dist-packages (from notebook->open3d) (5.6.1)\n",
            "Requirement already satisfied: tornado>=4 in /usr/local/lib/python3.6/dist-packages (from notebook->open3d) (4.5.3)\n",
            "Requirement already satisfied: ipykernel in /usr/local/lib/python3.6/dist-packages (from notebook->open3d) (4.10.1)\n",
            "Requirement already satisfied: ipython-genutils in /usr/local/lib/python3.6/dist-packages (from notebook->open3d) (0.2.0)\n",
            "Requirement already satisfied: nbformat in /usr/local/lib/python3.6/dist-packages (from notebook->open3d) (5.0.7)\n",
            "Requirement already satisfied: traitlets>=4.2.1 in /usr/local/lib/python3.6/dist-packages (from notebook->open3d) (4.3.3)\n",
            "Requirement already satisfied: jupyter-client in /usr/local/lib/python3.6/dist-packages (from notebook->open3d) (5.3.5)\n",
            "Requirement already satisfied: jupyter-core in /usr/local/lib/python3.6/dist-packages (from notebook->open3d) (4.6.3)\n",
            "Requirement already satisfied: terminado>=0.3.3; sys_platform != \"win32\" in /usr/local/lib/python3.6/dist-packages (from notebook->open3d) (0.8.3)\n",
            "Requirement already satisfied: ipython>=4.0.0; python_version >= \"3.3\" in /usr/local/lib/python3.6/dist-packages (from ipywidgets->open3d) (5.5.0)\n",
            "Requirement already satisfied: six>=1.5 in /usr/local/lib/python3.6/dist-packages (from python-dateutil>=2.1->matplotlib->open3d) (1.12.0)\n",
            "Requirement already satisfied: MarkupSafe>=0.23 in /usr/local/lib/python3.6/dist-packages (from jinja2->notebook->open3d) (1.1.1)\n",
            "Requirement already satisfied: testpath in /usr/local/lib/python3.6/dist-packages (from nbconvert->notebook->open3d) (0.4.4)\n",
            "Requirement already satisfied: entrypoints>=0.2.2 in /usr/local/lib/python3.6/dist-packages (from nbconvert->notebook->open3d) (0.3)\n",
            "Requirement already satisfied: bleach in /usr/local/lib/python3.6/dist-packages (from nbconvert->notebook->open3d) (3.1.5)\n",
            "Requirement already satisfied: defusedxml in /usr/local/lib/python3.6/dist-packages (from nbconvert->notebook->open3d) (0.6.0)\n",
            "Requirement already satisfied: pygments in /usr/local/lib/python3.6/dist-packages (from nbconvert->notebook->open3d) (2.1.3)\n",
            "Requirement already satisfied: pandocfilters>=1.4.1 in /usr/local/lib/python3.6/dist-packages (from nbconvert->notebook->open3d) (1.4.2)\n",
            "Requirement already satisfied: mistune<2,>=0.8.1 in /usr/local/lib/python3.6/dist-packages (from nbconvert->notebook->open3d) (0.8.4)\n",
            "Requirement already satisfied: jsonschema!=2.5.0,>=2.4 in /usr/local/lib/python3.6/dist-packages (from nbformat->notebook->open3d) (2.6.0)\n",
            "Requirement already satisfied: decorator in /usr/local/lib/python3.6/dist-packages (from traitlets>=4.2.1->notebook->open3d) (4.4.2)\n",
            "Requirement already satisfied: pyzmq>=13 in /usr/local/lib/python3.6/dist-packages (from jupyter-client->notebook->open3d) (19.0.1)\n",
            "Requirement already satisfied: ptyprocess; os_name != \"nt\" in /usr/local/lib/python3.6/dist-packages (from terminado>=0.3.3; sys_platform != \"win32\"->notebook->open3d) (0.6.0)\n",
            "Requirement already satisfied: pexpect; sys_platform != \"win32\" in /usr/local/lib/python3.6/dist-packages (from ipython>=4.0.0; python_version >= \"3.3\"->ipywidgets->open3d) (4.8.0)\n",
            "Requirement already satisfied: simplegeneric>0.8 in /usr/local/lib/python3.6/dist-packages (from ipython>=4.0.0; python_version >= \"3.3\"->ipywidgets->open3d) (0.8.1)\n",
            "Requirement already satisfied: pickleshare in /usr/local/lib/python3.6/dist-packages (from ipython>=4.0.0; python_version >= \"3.3\"->ipywidgets->open3d) (0.7.5)\n",
            "Requirement already satisfied: prompt-toolkit<2.0.0,>=1.0.4 in /usr/local/lib/python3.6/dist-packages (from ipython>=4.0.0; python_version >= \"3.3\"->ipywidgets->open3d) (1.0.18)\n",
            "Requirement already satisfied: setuptools>=18.5 in /usr/local/lib/python3.6/dist-packages (from ipython>=4.0.0; python_version >= \"3.3\"->ipywidgets->open3d) (49.1.0)\n",
            "Requirement already satisfied: packaging in /usr/local/lib/python3.6/dist-packages (from bleach->nbconvert->notebook->open3d) (20.4)\n",
            "Requirement already satisfied: webencodings in /usr/local/lib/python3.6/dist-packages (from bleach->nbconvert->notebook->open3d) (0.5.1)\n",
            "Requirement already satisfied: wcwidth in /usr/local/lib/python3.6/dist-packages (from prompt-toolkit<2.0.0,>=1.0.4->ipython>=4.0.0; python_version >= \"3.3\"->ipywidgets->open3d) (0.2.5)\n"
          ],
          "name": "stdout"
        }
      ]
    },
    {
      "cell_type": "markdown",
      "metadata": {
        "id": "nYpnFurJt0Pu",
        "colab_type": "text"
      },
      "source": [
        "#add open3d to process mesh and point cloud"
      ]
    },
    {
      "cell_type": "code",
      "metadata": {
        "id": "NU8OYjiWtzeo",
        "colab_type": "code",
        "colab": {}
      },
      "source": [
        "import open3d as o3d\n",
        "import numpy as np"
      ],
      "execution_count": 21,
      "outputs": []
    },
    {
      "cell_type": "code",
      "metadata": {
        "id": "4wMHu-3syUMB",
        "colab_type": "code",
        "colab": {
          "base_uri": "https://localhost:8080/",
          "height": 67
        },
        "outputId": "5e99ab1f-87b4-4719-8bc4-19cf3db122ab"
      },
      "source": [
        "mesh = o3d.io.read_triangle_mesh('maple_1.obj')"
      ],
      "execution_count": 22,
      "outputs": [
        {
          "output_type": "stream",
          "text": [
            "\u001b[1;33m[Open3D WARNING] Read OBJ failed: Material file [ maple_1.mtl ] not found.\n",
            "Failed to load material file(s). Use default material.\n",
            "\u001b[0;m\n"
          ],
          "name": "stdout"
        }
      ]
    },
    {
      "cell_type": "code",
      "metadata": {
        "id": "KLvIy56fndmG",
        "colab_type": "code",
        "colab": {}
      },
      "source": [
        "vox = o3d.geometry.VoxelGrid.create_from_triangle_mesh(mesh, 1)  # voxel_size=1. initial:10 mins, after:2 mins per mesh"
      ],
      "execution_count": 23,
      "outputs": []
    },
    {
      "cell_type": "code",
      "metadata": {
        "id": "mwNfhpmK6vfa",
        "colab_type": "code",
        "colab": {
          "base_uri": "https://localhost:8080/",
          "height": 67
        },
        "outputId": "d80b01cd-7840-46bd-da36-d54532fae95f"
      },
      "source": [
        "print(vox.dimension())\n",
        "print(vox.origin)\n",
        "print(vox.voxel_size)"
      ],
      "execution_count": 24,
      "outputs": [
        {
          "output_type": "stream",
          "text": [
            "3\n",
            "[-27.48892593  -8.24259281 -42.37924957]\n",
            "1.0\n"
          ],
          "name": "stdout"
        }
      ]
    },
    {
      "cell_type": "code",
      "metadata": {
        "id": "VCKbSBzmSEnk",
        "colab_type": "code",
        "colab": {
          "base_uri": "https://localhost:8080/",
          "height": 34
        },
        "outputId": "da0e9884-c681-4c8f-e5c6-069153c38a5c"
      },
      "source": [
        "voxels = vox.get_voxels()\n",
        "len(voxels)\n",
        "voxels[0].grid_index"
      ],
      "execution_count": 25,
      "outputs": [
        {
          "output_type": "execute_result",
          "data": {
            "text/plain": [
              "array([61,  4, 39], dtype=int32)"
            ]
          },
          "metadata": {
            "tags": []
          },
          "execution_count": 25
        }
      ]
    },
    {
      "cell_type": "code",
      "metadata": {
        "id": "nsoXTbLwUumC",
        "colab_type": "code",
        "colab": {
          "base_uri": "https://localhost:8080/",
          "height": 185
        },
        "outputId": "1257527d-d5eb-451d-f941-5f3aca7d0c07"
      },
      "source": [
        "box = vox.get_oriented_bounding_box()\n",
        "print(box.center)\n",
        "print(box.extent)\n",
        "print(np.array(box.get_box_points()))"
      ],
      "execution_count": 26,
      "outputs": [
        {
          "output_type": "stream",
          "text": [
            "[  3.51107407  20.25740719 -10.37924957]\n",
            "[62. 57. 64.]\n",
            "[[-27.48892593  -8.24259281 -42.37924957]\n",
            " [ 34.51107407  -8.24259281 -42.37924957]\n",
            " [-27.48892593  48.75740719 -42.37924957]\n",
            " [-27.48892593  -8.24259281  21.62075043]\n",
            " [ 34.51107407  48.75740719  21.62075043]\n",
            " [-27.48892593  48.75740719  21.62075043]\n",
            " [ 34.51107407  -8.24259281  21.62075043]\n",
            " [ 34.51107407  48.75740719 -42.37924957]]\n"
          ],
          "name": "stdout"
        }
      ]
    },
    {
      "cell_type": "code",
      "metadata": {
        "id": "TI0mUuhcV4HA",
        "colab_type": "code",
        "colab": {
          "base_uri": "https://localhost:8080/",
          "height": 185
        },
        "outputId": "72c82448-c642-43e7-970c-4954431a0fa0"
      },
      "source": [
        "boxa = vox.get_axis_aligned_bounding_box()\n",
        "print(boxa.get_center())\n",
        "print(boxa.get_extent())\n",
        "print(np.array(boxa.get_box_points()))"
      ],
      "execution_count": 27,
      "outputs": [
        {
          "output_type": "stream",
          "text": [
            "[  3.51107407  20.25740719 -10.37924957]\n",
            "[62. 57. 64.]\n",
            "[[-27.48892593  -8.24259281 -42.37924957]\n",
            " [ 34.51107407  -8.24259281 -42.37924957]\n",
            " [-27.48892593  48.75740719 -42.37924957]\n",
            " [-27.48892593  -8.24259281  21.62075043]\n",
            " [ 34.51107407  48.75740719  21.62075043]\n",
            " [-27.48892593  48.75740719  21.62075043]\n",
            " [ 34.51107407  -8.24259281  21.62075043]\n",
            " [ 34.51107407  48.75740719 -42.37924957]]\n"
          ],
          "name": "stdout"
        }
      ]
    },
    {
      "cell_type": "code",
      "metadata": {
        "id": "CNABcRkHoDJX",
        "colab_type": "code",
        "colab": {
          "base_uri": "https://localhost:8080/",
          "height": 34
        },
        "outputId": "ddd326f9-f1e0-4d3d-8cf7-2e656343b36f"
      },
      "source": [
        "o3d.io.write_voxel_grid('maple_1_voxel.ply', vox)"
      ],
      "execution_count": 28,
      "outputs": [
        {
          "output_type": "execute_result",
          "data": {
            "text/plain": [
              "True"
            ]
          },
          "metadata": {
            "tags": []
          },
          "execution_count": 28
        }
      ]
    },
    {
      "cell_type": "markdown",
      "metadata": {
        "id": "2wIUAWxVXDnT",
        "colab_type": "text"
      },
      "source": [
        "test other files"
      ]
    },
    {
      "cell_type": "code",
      "metadata": {
        "colab_type": "code",
        "id": "PQjk-y0_XKNl",
        "colab": {
          "base_uri": "https://localhost:8080/",
          "height": 67
        },
        "outputId": "1d815557-2fe6-41d8-ec06-355e3749a4ee"
      },
      "source": [
        "mesh2 = o3d.io.read_triangle_mesh('maple_2.obj')"
      ],
      "execution_count": 29,
      "outputs": [
        {
          "output_type": "stream",
          "text": [
            "\u001b[1;33m[Open3D WARNING] Read OBJ failed: Material file [ maple_2.mtl ] not found.\n",
            "Failed to load material file(s). Use default material.\n",
            "\u001b[0;m\n"
          ],
          "name": "stdout"
        }
      ]
    },
    {
      "cell_type": "code",
      "metadata": {
        "colab_type": "code",
        "id": "_EJdOHSCXKNo",
        "colab": {}
      },
      "source": [
        "vox2 = o3d.geometry.VoxelGrid.create_from_triangle_mesh(mesh2, 1)  # voxel_size=1 for 10 mins"
      ],
      "execution_count": 30,
      "outputs": []
    },
    {
      "cell_type": "code",
      "metadata": {
        "colab_type": "code",
        "id": "pdBMDPfeXKNr",
        "colab": {
          "base_uri": "https://localhost:8080/",
          "height": 67
        },
        "outputId": "b399d4f5-7ab4-4eb3-a029-13e59b324cb5"
      },
      "source": [
        "print(vox2.dimension())\n",
        "print(vox2.origin)\n",
        "print(vox2.voxel_size)"
      ],
      "execution_count": 31,
      "outputs": [
        {
          "output_type": "stream",
          "text": [
            "3\n",
            "[-37.31856537  -7.92582178 -50.0648613 ]\n",
            "1.0\n"
          ],
          "name": "stdout"
        }
      ]
    },
    {
      "cell_type": "code",
      "metadata": {
        "colab_type": "code",
        "id": "DuxEM3oDXKNt",
        "colab": {
          "base_uri": "https://localhost:8080/",
          "height": 34
        },
        "outputId": "cbcd4a11-939c-449a-eeb0-d87f1b75e042"
      },
      "source": [
        "voxels2 = vox2.get_voxels()\n",
        "len(voxels2)\n",
        "voxels2[0].grid_index"
      ],
      "execution_count": 32,
      "outputs": [
        {
          "output_type": "execute_result",
          "data": {
            "text/plain": [
              "array([64, 10, 58], dtype=int32)"
            ]
          },
          "metadata": {
            "tags": []
          },
          "execution_count": 32
        }
      ]
    },
    {
      "cell_type": "code",
      "metadata": {
        "colab_type": "code",
        "id": "l-rCQZDrXKNw",
        "colab": {
          "base_uri": "https://localhost:8080/",
          "height": 185
        },
        "outputId": "923f610c-a5ad-4e12-ad58-4eb4003b4eb0"
      },
      "source": [
        "box2 = vox2.get_oriented_bounding_box()\n",
        "print(box2.center)\n",
        "print(box2.extent)\n",
        "print(np.array(box2.get_box_points()))"
      ],
      "execution_count": 33,
      "outputs": [
        {
          "output_type": "stream",
          "text": [
            "[ -4.81856537  22.57417822 -15.0648613 ]\n",
            "[65. 61. 70.]\n",
            "[[-37.31856537  -7.92582178 -50.0648613 ]\n",
            " [ 27.68143463  -7.92582178 -50.0648613 ]\n",
            " [-37.31856537  53.07417822 -50.0648613 ]\n",
            " [-37.31856537  -7.92582178  19.9351387 ]\n",
            " [ 27.68143463  53.07417822  19.9351387 ]\n",
            " [-37.31856537  53.07417822  19.9351387 ]\n",
            " [ 27.68143463  -7.92582178  19.9351387 ]\n",
            " [ 27.68143463  53.07417822 -50.0648613 ]]\n"
          ],
          "name": "stdout"
        }
      ]
    },
    {
      "cell_type": "code",
      "metadata": {
        "colab_type": "code",
        "id": "g8RZWIwKXKNz",
        "colab": {
          "base_uri": "https://localhost:8080/",
          "height": 185
        },
        "outputId": "4a9f8ed6-d781-4c32-8cd5-44a2e2817d3c"
      },
      "source": [
        "boxa2 = vox2.get_axis_aligned_bounding_box()\n",
        "print(boxa2.get_center())\n",
        "print(boxa2.get_extent())\n",
        "print(np.array(boxa2.get_box_points()))"
      ],
      "execution_count": 34,
      "outputs": [
        {
          "output_type": "stream",
          "text": [
            "[ -4.81856537  22.57417822 -15.0648613 ]\n",
            "[65. 61. 70.]\n",
            "[[-37.31856537  -7.92582178 -50.0648613 ]\n",
            " [ 27.68143463  -7.92582178 -50.0648613 ]\n",
            " [-37.31856537  53.07417822 -50.0648613 ]\n",
            " [-37.31856537  -7.92582178  19.9351387 ]\n",
            " [ 27.68143463  53.07417822  19.9351387 ]\n",
            " [-37.31856537  53.07417822  19.9351387 ]\n",
            " [ 27.68143463  -7.92582178  19.9351387 ]\n",
            " [ 27.68143463  53.07417822 -50.0648613 ]]\n"
          ],
          "name": "stdout"
        }
      ]
    },
    {
      "cell_type": "code",
      "metadata": {
        "id": "1IlyntjrzQjM",
        "colab_type": "code",
        "colab": {
          "base_uri": "https://localhost:8080/",
          "height": 34
        },
        "outputId": "82c03140-7b87-42e1-97a1-8b71a6650305"
      },
      "source": [
        "o3d.io.write_voxel_grid('maple_2_voxel.ply', vox2)"
      ],
      "execution_count": 35,
      "outputs": [
        {
          "output_type": "execute_result",
          "data": {
            "text/plain": [
              "True"
            ]
          },
          "metadata": {
            "tags": []
          },
          "execution_count": 35
        }
      ]
    }
  ]
}