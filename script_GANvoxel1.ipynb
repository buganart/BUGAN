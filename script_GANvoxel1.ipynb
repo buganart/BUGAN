{
  "nbformat": 4,
  "nbformat_minor": 0,
  "metadata": {
    "colab": {
      "name": "script_GANvoxel1.ipynb",
      "provenance": [],
      "collapsed_sections": [
        "Alz0eunxK9hI"
      ],
      "include_colab_link": true
    },
    "kernelspec": {
      "name": "python3",
      "display_name": "Python 3"
    },
    "accelerator": "GPU"
  },
  "cells": [
    {
      "cell_type": "markdown",
      "metadata": {
        "id": "view-in-github",
        "colab_type": "text"
      },
      "source": [
        "<a href=\"https://colab.research.google.com/github/pacnpacn/BUGAN/blob/master/script_GANvoxel1.ipynb\" target=\"_parent\"><img src=\"https://colab.research.google.com/assets/colab-badge.svg\" alt=\"Open In Colab\"/></a>"
      ]
    },
    {
      "cell_type": "code",
      "metadata": {
        "id": "sQtEpYYRh9LM",
        "colab_type": "code",
        "colab": {
          "base_uri": "https://localhost:8080/",
          "height": 34
        },
        "outputId": "f3831643-ff37-4bad-e476-3f085342182a"
      },
      "source": [
        "#mount google drive\n",
        "from google.colab import drive\n",
        "drive.mount('/content/drive')"
      ],
      "execution_count": 1,
      "outputs": [
        {
          "output_type": "stream",
          "text": [
            "Drive already mounted at /content/drive; to attempt to forcibly remount, call drive.mount(\"/content/drive\", force_remount=True).\n"
          ],
          "name": "stdout"
        }
      ]
    },
    {
      "cell_type": "code",
      "metadata": {
        "id": "D3jIEKP7i4Nt",
        "colab_type": "code",
        "colab": {
          "base_uri": "https://localhost:8080/",
          "height": 101
        },
        "outputId": "61cc6824-cce4-46c9-90bc-a2eefdc4e934"
      },
      "source": [
        "#right click shared folder IRCMS_GAN_collaborative_database and \"Add shortcut to Drive\" to My drive\n",
        "%cd drive/My Drive/IRCMS_GAN_collaborative_database/Research/Peter/Tree_3D_models_obj/generated_files/\n",
        "!ls"
      ],
      "execution_count": 2,
      "outputs": [
        {
          "output_type": "stream",
          "text": [
            "/content/drive/.shortcut-targets-by-id/1ylB2p6N0qQ-G4OsBuwcZ9C0tsqVu9ww4/IRCMS_GAN_collaborative_database/Research/Peter/Tree_3D_models_obj/generated_files\n",
            "discriminator.pth\t  maple_1_voxel_size1.ply   old_2_voxel_size03.ply\n",
            "generator.pth\t\t  maple_2_voxel_size03.ply  old_3_voxel_size03.ply\n",
            "maple_1_voxel_size03.ply  maple_3_voxel_size03.ply\n",
            "maple_1_voxel_size05.ply  old_1_voxel_size03.ply\n"
          ],
          "name": "stdout"
        }
      ]
    },
    {
      "cell_type": "code",
      "metadata": {
        "id": "0LzAiBuWu6pw",
        "colab_type": "code",
        "colab": {
          "base_uri": "https://localhost:8080/",
          "height": 742
        },
        "outputId": "8e776ac0-bed2-424c-efdd-0bd9d56d4519"
      },
      "source": [
        "!pip install open3d"
      ],
      "execution_count": 3,
      "outputs": [
        {
          "output_type": "stream",
          "text": [
            "Requirement already satisfied: open3d in /usr/local/lib/python3.6/dist-packages (0.10.0.0)\n",
            "Requirement already satisfied: numpy in /usr/local/lib/python3.6/dist-packages (from open3d) (1.18.5)\n",
            "Requirement already satisfied: widgetsnbextension in /usr/local/lib/python3.6/dist-packages (from open3d) (3.5.1)\n",
            "Requirement already satisfied: notebook in /usr/local/lib/python3.6/dist-packages (from open3d) (5.2.2)\n",
            "Requirement already satisfied: ipywidgets in /usr/local/lib/python3.6/dist-packages (from open3d) (7.5.1)\n",
            "Requirement already satisfied: matplotlib in /usr/local/lib/python3.6/dist-packages (from open3d) (3.2.2)\n",
            "Requirement already satisfied: traitlets>=4.2.1 in /usr/local/lib/python3.6/dist-packages (from notebook->open3d) (4.3.3)\n",
            "Requirement already satisfied: nbconvert in /usr/local/lib/python3.6/dist-packages (from notebook->open3d) (5.6.1)\n",
            "Requirement already satisfied: jupyter-client in /usr/local/lib/python3.6/dist-packages (from notebook->open3d) (5.3.5)\n",
            "Requirement already satisfied: ipython-genutils in /usr/local/lib/python3.6/dist-packages (from notebook->open3d) (0.2.0)\n",
            "Requirement already satisfied: terminado>=0.3.3; sys_platform != \"win32\" in /usr/local/lib/python3.6/dist-packages (from notebook->open3d) (0.8.3)\n",
            "Requirement already satisfied: jupyter-core in /usr/local/lib/python3.6/dist-packages (from notebook->open3d) (4.6.3)\n",
            "Requirement already satisfied: tornado>=4 in /usr/local/lib/python3.6/dist-packages (from notebook->open3d) (4.5.3)\n",
            "Requirement already satisfied: jinja2 in /usr/local/lib/python3.6/dist-packages (from notebook->open3d) (2.11.2)\n",
            "Requirement already satisfied: nbformat in /usr/local/lib/python3.6/dist-packages (from notebook->open3d) (5.0.7)\n",
            "Requirement already satisfied: ipykernel in /usr/local/lib/python3.6/dist-packages (from notebook->open3d) (4.10.1)\n",
            "Requirement already satisfied: ipython>=4.0.0; python_version >= \"3.3\" in /usr/local/lib/python3.6/dist-packages (from ipywidgets->open3d) (5.5.0)\n",
            "Requirement already satisfied: kiwisolver>=1.0.1 in /usr/local/lib/python3.6/dist-packages (from matplotlib->open3d) (1.2.0)\n",
            "Requirement already satisfied: python-dateutil>=2.1 in /usr/local/lib/python3.6/dist-packages (from matplotlib->open3d) (2.8.1)\n",
            "Requirement already satisfied: cycler>=0.10 in /usr/local/lib/python3.6/dist-packages (from matplotlib->open3d) (0.10.0)\n",
            "Requirement already satisfied: pyparsing!=2.0.4,!=2.1.2,!=2.1.6,>=2.0.1 in /usr/local/lib/python3.6/dist-packages (from matplotlib->open3d) (2.4.7)\n",
            "Requirement already satisfied: decorator in /usr/local/lib/python3.6/dist-packages (from traitlets>=4.2.1->notebook->open3d) (4.4.2)\n",
            "Requirement already satisfied: six in /usr/local/lib/python3.6/dist-packages (from traitlets>=4.2.1->notebook->open3d) (1.12.0)\n",
            "Requirement already satisfied: pandocfilters>=1.4.1 in /usr/local/lib/python3.6/dist-packages (from nbconvert->notebook->open3d) (1.4.2)\n",
            "Requirement already satisfied: defusedxml in /usr/local/lib/python3.6/dist-packages (from nbconvert->notebook->open3d) (0.6.0)\n",
            "Requirement already satisfied: pygments in /usr/local/lib/python3.6/dist-packages (from nbconvert->notebook->open3d) (2.1.3)\n",
            "Requirement already satisfied: entrypoints>=0.2.2 in /usr/local/lib/python3.6/dist-packages (from nbconvert->notebook->open3d) (0.3)\n",
            "Requirement already satisfied: testpath in /usr/local/lib/python3.6/dist-packages (from nbconvert->notebook->open3d) (0.4.4)\n",
            "Requirement already satisfied: mistune<2,>=0.8.1 in /usr/local/lib/python3.6/dist-packages (from nbconvert->notebook->open3d) (0.8.4)\n",
            "Requirement already satisfied: bleach in /usr/local/lib/python3.6/dist-packages (from nbconvert->notebook->open3d) (3.1.5)\n",
            "Requirement already satisfied: pyzmq>=13 in /usr/local/lib/python3.6/dist-packages (from jupyter-client->notebook->open3d) (19.0.1)\n",
            "Requirement already satisfied: ptyprocess; os_name != \"nt\" in /usr/local/lib/python3.6/dist-packages (from terminado>=0.3.3; sys_platform != \"win32\"->notebook->open3d) (0.6.0)\n",
            "Requirement already satisfied: MarkupSafe>=0.23 in /usr/local/lib/python3.6/dist-packages (from jinja2->notebook->open3d) (1.1.1)\n",
            "Requirement already satisfied: jsonschema!=2.5.0,>=2.4 in /usr/local/lib/python3.6/dist-packages (from nbformat->notebook->open3d) (2.6.0)\n",
            "Requirement already satisfied: setuptools>=18.5 in /usr/local/lib/python3.6/dist-packages (from ipython>=4.0.0; python_version >= \"3.3\"->ipywidgets->open3d) (49.1.0)\n",
            "Requirement already satisfied: simplegeneric>0.8 in /usr/local/lib/python3.6/dist-packages (from ipython>=4.0.0; python_version >= \"3.3\"->ipywidgets->open3d) (0.8.1)\n",
            "Requirement already satisfied: prompt-toolkit<2.0.0,>=1.0.4 in /usr/local/lib/python3.6/dist-packages (from ipython>=4.0.0; python_version >= \"3.3\"->ipywidgets->open3d) (1.0.18)\n",
            "Requirement already satisfied: pexpect; sys_platform != \"win32\" in /usr/local/lib/python3.6/dist-packages (from ipython>=4.0.0; python_version >= \"3.3\"->ipywidgets->open3d) (4.8.0)\n",
            "Requirement already satisfied: pickleshare in /usr/local/lib/python3.6/dist-packages (from ipython>=4.0.0; python_version >= \"3.3\"->ipywidgets->open3d) (0.7.5)\n",
            "Requirement already satisfied: packaging in /usr/local/lib/python3.6/dist-packages (from bleach->nbconvert->notebook->open3d) (20.4)\n",
            "Requirement already satisfied: webencodings in /usr/local/lib/python3.6/dist-packages (from bleach->nbconvert->notebook->open3d) (0.5.1)\n",
            "Requirement already satisfied: wcwidth in /usr/local/lib/python3.6/dist-packages (from prompt-toolkit<2.0.0,>=1.0.4->ipython>=4.0.0; python_version >= \"3.3\"->ipywidgets->open3d) (0.2.5)\n"
          ],
          "name": "stdout"
        }
      ]
    },
    {
      "cell_type": "markdown",
      "metadata": {
        "id": "nYpnFurJt0Pu",
        "colab_type": "text"
      },
      "source": [
        "#add open3d to process voxel, mesh, and point cloud"
      ]
    },
    {
      "cell_type": "code",
      "metadata": {
        "id": "NU8OYjiWtzeo",
        "colab_type": "code",
        "colab": {
          "base_uri": "https://localhost:8080/",
          "height": 34
        },
        "outputId": "9934b0ba-69d8-400a-9307-fa91e19d0bbb"
      },
      "source": [
        "import open3d as o3d\n",
        "import numpy as np\n",
        "\n",
        "import torch\n",
        "import torch.nn as nn\n",
        "import torch.nn.functional as F\n",
        "import torch.optim as optim\n",
        "from torchsummary import summary\n",
        "from torch.utils.data import DataLoader, TensorDataset\n",
        "device = torch.device(\"cuda:0\" if torch.cuda.is_available() else \"cpu\")\n",
        "device"
      ],
      "execution_count": 4,
      "outputs": [
        {
          "output_type": "execute_result",
          "data": {
            "text/plain": [
              "device(type='cuda', index=0)"
            ]
          },
          "metadata": {
            "tags": []
          },
          "execution_count": 4
        }
      ]
    },
    {
      "cell_type": "markdown",
      "metadata": {
        "id": "Alz0eunxK9hI",
        "colab_type": "text"
      },
      "source": [
        "#dataset"
      ]
    },
    {
      "cell_type": "code",
      "metadata": {
        "id": "PwCa8fUMRcZU",
        "colab_type": "code",
        "colab": {}
      },
      "source": [
        "def voxel2arrayCentered(voxel, tree_size_scale = 1):\n",
        "    array_size = np.array([250, 250, 250])\n",
        "    vox_array = np.zeros(array_size, dtype=int)  \n",
        "    tree_size = np.array(voxel.get_axis_aligned_bounding_box().get_extent())\n",
        "    tree_size = np.ceil(tree_size / tree_size_scale)    #voxel_size = tree_size_scale\n",
        "    tree_center = (np.ceil(tree_size / 2)).astype(int)\n",
        "\n",
        "    vox_list = voxel.get_voxels()\n",
        "    for vox in vox_list:\n",
        "        coord = vox.grid_index\n",
        "        #center the tree\n",
        "        coord = coord - tree_center + (array_size/2)\n",
        "        coord = tuple(coord.astype(int))\n",
        "\n",
        "        vox_array[coord] = 1.\n",
        "\n",
        "    return vox_array"
      ],
      "execution_count": 5,
      "outputs": []
    },
    {
      "cell_type": "code",
      "metadata": {
        "id": "vf2GIoAjLCCP",
        "colab_type": "code",
        "colab": {}
      },
      "source": [
        "#TODO: process all files in the generated file folder to generate dataset \n",
        "# import os\n",
        "\n",
        "# data = []\n",
        "# for file_name in os.listdir():\n",
        "#     if file_name.endswith(\"voxel_size03.ply\"):\n",
        "#         #note that the voxel_size of vox is 0.3, so we scale it back to one for indexing\n",
        "#         data.append(voxel2arrayCentered(o3d.io.read_voxel_grid(file_name), 0.3))\n"
      ],
      "execution_count": 6,
      "outputs": []
    },
    {
      "cell_type": "code",
      "metadata": {
        "id": "oWL99_0Wl-DQ",
        "colab_type": "code",
        "colab": {}
      },
      "source": [
        "dataset = []\n",
        "dataset.append(voxel2arrayCentered(o3d.io.read_voxel_grid('maple_1_voxel_size03.ply'), 0.3))\n",
        "# dataset.append(voxel2arrayCentered(o3d.io.read_voxel_grid('maple_2_voxel_size03.ply'), 0.3))\n",
        "# dataset.append(voxel2arrayCentered(o3d.io.read_voxel_grid('maple_3_voxel_size03.ply'), 0.3))"
      ],
      "execution_count": 7,
      "outputs": []
    },
    {
      "cell_type": "code",
      "metadata": {
        "id": "whLlZwwAoKuR",
        "colab_type": "code",
        "colab": {
          "base_uri": "https://localhost:8080/",
          "height": 34
        },
        "outputId": "95ddc898-a631-4256-af37-b73e67098c4d"
      },
      "source": [
        "dataset = torch.tensor(dataset).float()\n",
        "print(torch.unsqueeze(dataset, -1).shape)\n",
        "tensor_dataset = TensorDataset(torch.unsqueeze(dataset, 1))\n",
        "dataloader = DataLoader(tensor_dataset, batch_size=2)"
      ],
      "execution_count": 8,
      "outputs": [
        {
          "output_type": "stream",
          "text": [
            "torch.Size([1, 250, 250, 250, 1])\n"
          ],
          "name": "stdout"
        }
      ]
    },
    {
      "cell_type": "markdown",
      "metadata": {
        "id": "OIaapsqSK5h2",
        "colab_type": "text"
      },
      "source": [
        "#model description"
      ]
    },
    {
      "cell_type": "code",
      "metadata": {
        "id": "OodI2E4ANdYQ",
        "colab_type": "code",
        "colab": {}
      },
      "source": [
        "#input: 128-d noise vector\n",
        "#output: (250,250,250) array with values in [0,1]\n",
        "\n",
        "class Generator(nn.Module):\n",
        "    def __init__(self):\n",
        "        super(Generator, self).__init__()\n",
        "        self.gen_fc = nn.Linear(128, 16 * 5 * 5 * 5)\n",
        "        self.gen = nn.Sequential(\n",
        "            nn.ConvTranspose3d(16, 32, 5, 2),\n",
        "            nn.BatchNorm3d(32),\n",
        "            nn.ReLU(True),\n",
        "            nn.ConvTranspose3d(32, 32, 5, 2),\n",
        "            nn.BatchNorm3d(32),\n",
        "            nn.ReLU(True),\n",
        "            nn.ConvTranspose3d(32, 32, 5, 2),\n",
        "            nn.BatchNorm3d(32),\n",
        "            nn.ReLU(True),\n",
        "            nn.ConvTranspose3d(32, 32, 3, 2),\n",
        "            nn.BatchNorm3d(32),\n",
        "            nn.ReLU(True),\n",
        "            nn.ConvTranspose3d(32, 16, 3, 2),\n",
        "            nn.BatchNorm3d(16),\n",
        "            nn.ReLU(True),\n",
        "            nn.ConvTranspose3d(16, 1, 4, 1),\n",
        "            nn.Sigmoid()\n",
        "        )\n",
        "\n",
        "    def forward(self, x):\n",
        "\n",
        "        x = self.gen_fc(x)\n",
        "        x = x.view(x.shape[0], 16, 5, 5, 5)\n",
        "        x = self.gen(x)\n",
        "        return x\n",
        "\n",
        "\n",
        "class Discriminator(nn.Module):\n",
        "    def __init__(self):\n",
        "        super(Discriminator, self).__init__()\n",
        "        \n",
        "        self.dis = nn.Sequential(\n",
        "            nn.Conv3d(1, 16, 5, 1),\n",
        "            nn.LeakyReLU(0.1, True),\n",
        "            nn.MaxPool3d((2, 2, 2)),\n",
        "            nn.Conv3d(16, 32, 5, 1),\n",
        "            nn.LeakyReLU(0.1, True),\n",
        "            nn.MaxPool3d((2, 2, 2)),\n",
        "            nn.Conv3d(32, 32, 5, 1),\n",
        "            nn.LeakyReLU(0.1, True),\n",
        "            nn.MaxPool3d((2, 2, 2)),\n",
        "            nn.Conv3d(32, 16, 5, 1),\n",
        "            nn.LeakyReLU(0.1, True),\n",
        "            nn.MaxPool3d((2, 2, 2)),\n",
        "            nn.Conv3d(16, 16, 5, 1),\n",
        "            nn.LeakyReLU(0.1, True),\n",
        "            nn.Conv3d(16, 8, 5, 1),\n",
        "            nn.LeakyReLU(0.1, True),\n",
        "        )\n",
        "\n",
        "        self.dis_fc = nn.Sequential(\n",
        "            nn.Linear(8 * 3 * 3 * 3, 128),\n",
        "            nn.LeakyReLU(0.1, True),\n",
        "            nn.Linear(128, 1),\n",
        "            nn.Sigmoid()\n",
        "        )\n",
        "\n",
        "    def forward(self, x):\n",
        "\n",
        "        x = self.dis(x)\n",
        "        x = x.view(x.shape[0], -1)\n",
        "        x = self.dis_fc(x)\n",
        "        return x"
      ],
      "execution_count": 9,
      "outputs": []
    },
    {
      "cell_type": "code",
      "metadata": {
        "id": "-6CzSW9jATSh",
        "colab_type": "code",
        "colab": {
          "base_uri": "https://localhost:8080/",
          "height": 538
        },
        "outputId": "d213c03b-e52f-4cf6-9c17-e3bb1d772549"
      },
      "source": [
        "G = Generator().to(device)\n",
        "summary(G, (128,))"
      ],
      "execution_count": 10,
      "outputs": [
        {
          "output_type": "stream",
          "text": [
            "----------------------------------------------------------------\n",
            "        Layer (type)               Output Shape         Param #\n",
            "================================================================\n",
            "            Linear-1                 [-1, 2000]         258,000\n",
            "   ConvTranspose3d-2       [-1, 32, 13, 13, 13]          64,032\n",
            "       BatchNorm3d-3       [-1, 32, 13, 13, 13]              64\n",
            "              ReLU-4       [-1, 32, 13, 13, 13]               0\n",
            "   ConvTranspose3d-5       [-1, 32, 29, 29, 29]         128,032\n",
            "       BatchNorm3d-6       [-1, 32, 29, 29, 29]              64\n",
            "              ReLU-7       [-1, 32, 29, 29, 29]               0\n",
            "   ConvTranspose3d-8       [-1, 32, 61, 61, 61]         128,032\n",
            "       BatchNorm3d-9       [-1, 32, 61, 61, 61]              64\n",
            "             ReLU-10       [-1, 32, 61, 61, 61]               0\n",
            "  ConvTranspose3d-11    [-1, 32, 123, 123, 123]          27,680\n",
            "      BatchNorm3d-12    [-1, 32, 123, 123, 123]              64\n",
            "             ReLU-13    [-1, 32, 123, 123, 123]               0\n",
            "  ConvTranspose3d-14    [-1, 16, 247, 247, 247]          13,840\n",
            "      BatchNorm3d-15    [-1, 16, 247, 247, 247]              32\n",
            "             ReLU-16    [-1, 16, 247, 247, 247]               0\n",
            "  ConvTranspose3d-17     [-1, 1, 250, 250, 250]           1,025\n",
            "          Sigmoid-18     [-1, 1, 250, 250, 250]               0\n",
            "================================================================\n",
            "Total params: 620,929\n",
            "Trainable params: 620,929\n",
            "Non-trainable params: 0\n",
            "----------------------------------------------------------------\n",
            "Input size (MB): 0.00\n",
            "Forward/backward pass size (MB): 7305.61\n",
            "Params size (MB): 2.37\n",
            "Estimated Total Size (MB): 7307.97\n",
            "----------------------------------------------------------------\n"
          ],
          "name": "stdout"
        }
      ]
    },
    {
      "cell_type": "code",
      "metadata": {
        "id": "cFZSVCCBIuPq",
        "colab_type": "code",
        "colab": {
          "base_uri": "https://localhost:8080/",
          "height": 571
        },
        "outputId": "751ac333-3b04-4c6c-c12b-c74ff7e3cc74"
      },
      "source": [
        "D = Discriminator().to(device)\n",
        "summary(D, (1, 250, 250, 250))"
      ],
      "execution_count": 11,
      "outputs": [
        {
          "output_type": "stream",
          "text": [
            "----------------------------------------------------------------\n",
            "        Layer (type)               Output Shape         Param #\n",
            "================================================================\n",
            "            Conv3d-1    [-1, 16, 246, 246, 246]           2,016\n",
            "         LeakyReLU-2    [-1, 16, 246, 246, 246]               0\n",
            "         MaxPool3d-3    [-1, 16, 123, 123, 123]               0\n",
            "            Conv3d-4    [-1, 32, 119, 119, 119]          64,032\n",
            "         LeakyReLU-5    [-1, 32, 119, 119, 119]               0\n",
            "         MaxPool3d-6       [-1, 32, 59, 59, 59]               0\n",
            "            Conv3d-7       [-1, 32, 55, 55, 55]         128,032\n",
            "         LeakyReLU-8       [-1, 32, 55, 55, 55]               0\n",
            "         MaxPool3d-9       [-1, 32, 27, 27, 27]               0\n",
            "           Conv3d-10       [-1, 16, 23, 23, 23]          64,016\n",
            "        LeakyReLU-11       [-1, 16, 23, 23, 23]               0\n",
            "        MaxPool3d-12       [-1, 16, 11, 11, 11]               0\n",
            "           Conv3d-13          [-1, 16, 7, 7, 7]          32,016\n",
            "        LeakyReLU-14          [-1, 16, 7, 7, 7]               0\n",
            "           Conv3d-15           [-1, 8, 3, 3, 3]          16,008\n",
            "        LeakyReLU-16           [-1, 8, 3, 3, 3]               0\n",
            "           Linear-17                  [-1, 128]          27,776\n",
            "        LeakyReLU-18                  [-1, 128]               0\n",
            "           Linear-19                    [-1, 1]             129\n",
            "          Sigmoid-20                    [-1, 1]               0\n",
            "================================================================\n",
            "Total params: 334,025\n",
            "Trainable params: 334,025\n",
            "Non-trainable params: 0\n",
            "----------------------------------------------------------------\n",
            "Input size (MB): 59.60\n",
            "Forward/backward pass size (MB): 4823.90\n",
            "Params size (MB): 1.27\n",
            "Estimated Total Size (MB): 4884.78\n",
            "----------------------------------------------------------------\n"
          ],
          "name": "stdout"
        }
      ]
    },
    {
      "cell_type": "markdown",
      "metadata": {
        "id": "fbrRSqnqK20W",
        "colab_type": "text"
      },
      "source": [
        "#train"
      ]
    },
    {
      "cell_type": "code",
      "metadata": {
        "id": "rHZ9sGFVspXr",
        "colab_type": "code",
        "colab": {}
      },
      "source": [
        "def train_model(generator, discriminator, dataloader, lr_gen = 0.0003, lr_dis = 0.0003, num_epochs = 3):   \n",
        "    \n",
        "    generator.to(device)\n",
        "    discriminator.to(device)\n",
        "    \n",
        "    #loss function\n",
        "    criterion = nn.BCELoss(reduction='sum')\n",
        "    #optimizer\n",
        "    dis_optimizer = optim.Adam(discriminator.parameters(), lr=lr_dis)\n",
        "    gen_optimizer = optim.Adam(generator.parameters(), lr=lr_gen)   \n",
        "\n",
        "    generator.train()\n",
        "    discriminator.train()\n",
        "\n",
        "    d_losses = []\n",
        "    g_losses = []\n",
        "    for epoch in range(num_epochs):\n",
        "        d_ep_loss = 0.\n",
        "        g_ep_loss = 0.\n",
        "        for dataset_batch in dataloader:\n",
        "            dataset_batch = dataset_batch[0]\n",
        "            dataset_batch = dataset_batch.to(device)\n",
        "            batch_size = dataset_batch.shape[0]\n",
        "            \n",
        "            #labels\n",
        "            real_label = torch.unsqueeze(torch.ones(batch_size),1).to(device)\n",
        "            fake_label = torch.unsqueeze(torch.zeros(batch_size),1).to(device)\n",
        "\n",
        "            \n",
        "############\n",
        "            #train discriminator\n",
        "            ############\n",
        "            #generate fake trees\n",
        "            z = torch.randn(batch_size, 128).to(device) #128-d noise vector\n",
        "            tree_fake = generator(z)\n",
        "\n",
        "            #real data (data from dataloader)\n",
        "            dout_real = discriminator(dataset_batch)\n",
        "            dloss_real = criterion(dout_real, real_label)\n",
        "            score_real = dout_real\n",
        "            #fake data (data from generator)            \n",
        "            dout_fake = discriminator(tree_fake)\n",
        "            dloss_fake = criterion(dout_fake, fake_label)\n",
        "            score_fake = dout_fake\n",
        "\n",
        "            #loss function (discriminator classify real data vs generated data)\n",
        "            dloss = dloss_real + dloss_fake\n",
        "\n",
        "            #optimize discriminator\n",
        "            dis_optimizer.zero_grad()\n",
        "            dloss.backward()\n",
        "            dis_optimizer.step()\n",
        "\n",
        "            #record loss\n",
        "            d_ep_loss += dloss.detach()\n",
        "\n",
        "            ############\n",
        "            #train generator\n",
        "            ############\n",
        "\n",
        "            #generate fake tree again (not sure)\n",
        "            z = torch.randn(batch_size, 128).to(device) #128-d noise vector\n",
        "            tree_fake = generator(z)\n",
        "            dout_fake = discriminator(tree_fake)\n",
        "            #generator should generate trees that discriminator think they are real\n",
        "            gloss = criterion(dout_fake, real_label)    \n",
        "\n",
        "            #optimize generator\n",
        "            gen_optimizer.zero_grad() \n",
        "            gloss.backward()\n",
        "            gen_optimizer.step()\n",
        "\n",
        "            #record loss\n",
        "            g_ep_loss += gloss.detach()\n",
        "\n",
        "        #after each epoch, record total loss\n",
        "        d_losses.append(d_ep_loss)\n",
        "        g_losses.append(g_ep_loss)\n",
        "        print(\"discriminator epoch\"+str(epoch)+\" : \"+str(d_ep_loss))\n",
        "        print(\"gen_optimizer epoch\"+str(epoch)+\" : \"+str(g_ep_loss))\n",
        "\n",
        "        #save model if necessary\n",
        "        if epoch % 10 == 9:\n",
        "            torch.save(generator.state_dict(), './generator.pth')\n",
        "            torch.save(discriminator.state_dict(), './discriminator.pth')\n",
        "\n",
        "\n",
        "\n",
        "    return generator, discriminator"
      ],
      "execution_count": 12,
      "outputs": []
    },
    {
      "cell_type": "code",
      "metadata": {
        "id": "YFQWIWapYOsN",
        "colab_type": "code",
        "colab": {
          "base_uri": "https://localhost:8080/",
          "height": 1000
        },
        "outputId": "83456cfd-0e77-4ada-e013-03132cc6afff"
      },
      "source": [
        "G = Generator()\n",
        "D = Discriminator()\n",
        "G, D = train_model(G, D, dataloader, num_epochs = 30)       #given dataloader has only 1 model, the training time is 72s per epoch."
      ],
      "execution_count": 13,
      "outputs": [
        {
          "output_type": "stream",
          "text": [
            "discriminator epoch0 : tensor(1.3879, device='cuda:0')\n",
            "gen_optimizer epoch0 : tensor(0.6601, device='cuda:0')\n",
            "discriminator epoch1 : tensor(1.3859, device='cuda:0')\n",
            "gen_optimizer epoch1 : tensor(0.6691, device='cuda:0')\n",
            "discriminator epoch2 : tensor(1.3781, device='cuda:0')\n",
            "gen_optimizer epoch2 : tensor(0.7013, device='cuda:0')\n",
            "discriminator epoch3 : tensor(1.3487, device='cuda:0')\n",
            "gen_optimizer epoch3 : tensor(0.8170, device='cuda:0')\n",
            "discriminator epoch4 : tensor(1.2631, device='cuda:0')\n",
            "gen_optimizer epoch4 : tensor(1.1814, device='cuda:0')\n",
            "discriminator epoch5 : tensor(1.0900, device='cuda:0')\n",
            "gen_optimizer epoch5 : tensor(2.0367, device='cuda:0')\n",
            "discriminator epoch6 : tensor(0.8810, device='cuda:0')\n",
            "gen_optimizer epoch6 : tensor(3.5002, device='cuda:0')\n",
            "discriminator epoch7 : tensor(0.7126, device='cuda:0')\n",
            "gen_optimizer epoch7 : tensor(2.5729, device='cuda:0')\n",
            "discriminator epoch8 : tensor(0.4515, device='cuda:0')\n",
            "gen_optimizer epoch8 : tensor(6.8215, device='cuda:0')\n",
            "discriminator epoch9 : tensor(0.1956, device='cuda:0')\n",
            "gen_optimizer epoch9 : tensor(4.8850, device='cuda:0')\n",
            "discriminator epoch10 : tensor(0.1208, device='cuda:0')\n",
            "gen_optimizer epoch10 : tensor(20.2167, device='cuda:0')\n",
            "discriminator epoch11 : tensor(0.1438, device='cuda:0')\n",
            "gen_optimizer epoch11 : tensor(25.4600, device='cuda:0')\n",
            "discriminator epoch12 : tensor(0.1635, device='cuda:0')\n",
            "gen_optimizer epoch12 : tensor(15.0110, device='cuda:0')\n",
            "discriminator epoch13 : tensor(0.0008, device='cuda:0')\n",
            "gen_optimizer epoch13 : tensor(0.1619, device='cuda:0')\n",
            "discriminator epoch14 : tensor(4.8301, device='cuda:0')\n",
            "gen_optimizer epoch14 : tensor(23.8540, device='cuda:0')\n",
            "discriminator epoch15 : tensor(0.0289, device='cuda:0')\n",
            "gen_optimizer epoch15 : tensor(36.7429, device='cuda:0')\n",
            "discriminator epoch16 : tensor(10.5867, device='cuda:0')\n",
            "gen_optimizer epoch16 : tensor(34.0952, device='cuda:0')\n",
            "discriminator epoch17 : tensor(11.0853, device='cuda:0')\n",
            "gen_optimizer epoch17 : tensor(23.3536, device='cuda:0')\n",
            "discriminator epoch18 : tensor(6.4818, device='cuda:0')\n",
            "gen_optimizer epoch18 : tensor(13.6198, device='cuda:0')\n",
            "discriminator epoch19 : tensor(0.6342, device='cuda:0')\n",
            "gen_optimizer epoch19 : tensor(6.8067, device='cuda:0')\n",
            "discriminator epoch20 : tensor(0.0163, device='cuda:0')\n",
            "gen_optimizer epoch20 : tensor(3.1820, device='cuda:0')\n",
            "discriminator epoch21 : tensor(0.0892, device='cuda:0')\n",
            "gen_optimizer epoch21 : tensor(1.4616, device='cuda:0')\n",
            "discriminator epoch22 : tensor(0.2275, device='cuda:0')\n",
            "gen_optimizer epoch22 : tensor(1.2321, device='cuda:0')\n",
            "discriminator epoch23 : tensor(0.7023, device='cuda:0')\n",
            "gen_optimizer epoch23 : tensor(0.6525, device='cuda:0')\n",
            "discriminator epoch24 : tensor(0.7594, device='cuda:0')\n",
            "gen_optimizer epoch24 : tensor(0.6409, device='cuda:0')\n",
            "discriminator epoch25 : tensor(0.7778, device='cuda:0')\n",
            "gen_optimizer epoch25 : tensor(0.7171, device='cuda:0')\n",
            "discriminator epoch26 : tensor(0.7346, device='cuda:0')\n",
            "gen_optimizer epoch26 : tensor(0.6565, device='cuda:0')\n",
            "discriminator epoch27 : tensor(0.7521, device='cuda:0')\n",
            "gen_optimizer epoch27 : tensor(0.7366, device='cuda:0')\n",
            "discriminator epoch28 : tensor(0.6270, device='cuda:0')\n",
            "gen_optimizer epoch28 : tensor(0.7706, device='cuda:0')\n",
            "discriminator epoch29 : tensor(0.6590, device='cuda:0')\n",
            "gen_optimizer epoch29 : tensor(0.8143, device='cuda:0')\n"
          ],
          "name": "stdout"
        }
      ]
    }
  ]
}