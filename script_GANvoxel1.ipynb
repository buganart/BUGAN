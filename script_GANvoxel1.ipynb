{
  "nbformat": 4,
  "nbformat_minor": 0,
  "metadata": {
    "colab": {
      "name": "script_GANvoxel1.ipynb",
      "provenance": [],
      "collapsed_sections": [],
      "include_colab_link": true
    },
    "kernelspec": {
      "name": "python3",
      "display_name": "Python 3"
    },
    "accelerator": "GPU"
  },
  "cells": [
    {
      "cell_type": "markdown",
      "metadata": {
        "id": "view-in-github",
        "colab_type": "text"
      },
      "source": [
        "<a href=\"https://colab.research.google.com/github/pacnpacn/BUGAN/blob/master/script_GANvoxel1.ipynb\" target=\"_parent\"><img src=\"https://colab.research.google.com/assets/colab-badge.svg\" alt=\"Open In Colab\"/></a>"
      ]
    },
    {
      "cell_type": "code",
      "metadata": {
        "id": "sQtEpYYRh9LM",
        "colab_type": "code",
        "colab": {
          "base_uri": "https://localhost:8080/",
          "height": 34
        },
        "outputId": "ba449c87-1ab0-4299-a08d-5db0f505091c"
      },
      "source": [
        "#mount google drive\n",
        "from google.colab import drive\n",
        "drive.mount('/content/drive')"
      ],
      "execution_count": 1,
      "outputs": [
        {
          "output_type": "stream",
          "text": [
            "Drive already mounted at /content/drive; to attempt to forcibly remount, call drive.mount(\"/content/drive\", force_remount=True).\n"
          ],
          "name": "stdout"
        }
      ]
    },
    {
      "cell_type": "code",
      "metadata": {
        "id": "D3jIEKP7i4Nt",
        "colab_type": "code",
        "colab": {
          "base_uri": "https://localhost:8080/",
          "height": 134
        },
        "outputId": "e2bf005d-57b5-46d6-cb66-7ffae583c606"
      },
      "source": [
        "#right click shared folder IRCMS_GAN_collaborative_database and \"Add shortcut to Drive\" to My drive\n",
        "%cd drive/My Drive/IRCMS_GAN_collaborative_database/Research/Peter/Tree_3D_models_obj/generated_files/\n",
        "!ls"
      ],
      "execution_count": 2,
      "outputs": [
        {
          "output_type": "stream",
          "text": [
            "/content/drive/.shortcut-targets-by-id/1ylB2p6N0qQ-G4OsBuwcZ9C0tsqVu9ww4/IRCMS_GAN_collaborative_database/Research/Peter/Tree_3D_models_obj/generated_files\n",
            "discriminator.pth\t  maple_3_voxel_size03.ply\n",
            "generator.pth\t\t  old_1_voxel_size03.ply\n",
            "maple_1_voxel_size03.ply  old_2_voxel_size03.ply\n",
            "maple_1_voxel_size05.ply  old_3_voxel_size03.ply\n",
            "maple_1_voxel_size1.ply   script_load3Dobj.i_voxel_size03.ply\n",
            "maple_2_voxel_size03.ply  wandb\n"
          ],
          "name": "stdout"
        }
      ]
    },
    {
      "cell_type": "code",
      "metadata": {
        "id": "0LzAiBuWu6pw",
        "colab_type": "code",
        "colab": {
          "base_uri": "https://localhost:8080/",
          "height": 742
        },
        "outputId": "71ba531c-dc94-4b82-a342-ca55f46bc6d3"
      },
      "source": [
        "!pip install open3d\n",
        "!pip install wandb -q"
      ],
      "execution_count": 3,
      "outputs": [
        {
          "output_type": "stream",
          "text": [
            "Requirement already satisfied: open3d in /usr/local/lib/python3.6/dist-packages (0.10.0.0)\n",
            "Requirement already satisfied: widgetsnbextension in /usr/local/lib/python3.6/dist-packages (from open3d) (3.5.1)\n",
            "Requirement already satisfied: numpy in /usr/local/lib/python3.6/dist-packages (from open3d) (1.18.5)\n",
            "Requirement already satisfied: notebook in /usr/local/lib/python3.6/dist-packages (from open3d) (5.2.2)\n",
            "Requirement already satisfied: matplotlib in /usr/local/lib/python3.6/dist-packages (from open3d) (3.2.2)\n",
            "Requirement already satisfied: ipywidgets in /usr/local/lib/python3.6/dist-packages (from open3d) (7.5.1)\n",
            "Requirement already satisfied: nbformat in /usr/local/lib/python3.6/dist-packages (from notebook->open3d) (5.0.7)\n",
            "Requirement already satisfied: jupyter-core in /usr/local/lib/python3.6/dist-packages (from notebook->open3d) (4.6.3)\n",
            "Requirement already satisfied: ipykernel in /usr/local/lib/python3.6/dist-packages (from notebook->open3d) (4.10.1)\n",
            "Requirement already satisfied: jinja2 in /usr/local/lib/python3.6/dist-packages (from notebook->open3d) (2.11.2)\n",
            "Requirement already satisfied: terminado>=0.3.3; sys_platform != \"win32\" in /usr/local/lib/python3.6/dist-packages (from notebook->open3d) (0.8.3)\n",
            "Requirement already satisfied: jupyter-client in /usr/local/lib/python3.6/dist-packages (from notebook->open3d) (5.3.5)\n",
            "Requirement already satisfied: traitlets>=4.2.1 in /usr/local/lib/python3.6/dist-packages (from notebook->open3d) (4.3.3)\n",
            "Requirement already satisfied: nbconvert in /usr/local/lib/python3.6/dist-packages (from notebook->open3d) (5.6.1)\n",
            "Requirement already satisfied: ipython-genutils in /usr/local/lib/python3.6/dist-packages (from notebook->open3d) (0.2.0)\n",
            "Requirement already satisfied: tornado>=4 in /usr/local/lib/python3.6/dist-packages (from notebook->open3d) (4.5.3)\n",
            "Requirement already satisfied: cycler>=0.10 in /usr/local/lib/python3.6/dist-packages (from matplotlib->open3d) (0.10.0)\n",
            "Requirement already satisfied: pyparsing!=2.0.4,!=2.1.2,!=2.1.6,>=2.0.1 in /usr/local/lib/python3.6/dist-packages (from matplotlib->open3d) (2.4.7)\n",
            "Requirement already satisfied: kiwisolver>=1.0.1 in /usr/local/lib/python3.6/dist-packages (from matplotlib->open3d) (1.2.0)\n",
            "Requirement already satisfied: python-dateutil>=2.1 in /usr/local/lib/python3.6/dist-packages (from matplotlib->open3d) (2.8.1)\n",
            "Requirement already satisfied: ipython>=4.0.0; python_version >= \"3.3\" in /usr/local/lib/python3.6/dist-packages (from ipywidgets->open3d) (5.5.0)\n",
            "Requirement already satisfied: jsonschema!=2.5.0,>=2.4 in /usr/local/lib/python3.6/dist-packages (from nbformat->notebook->open3d) (2.6.0)\n",
            "Requirement already satisfied: MarkupSafe>=0.23 in /usr/local/lib/python3.6/dist-packages (from jinja2->notebook->open3d) (1.1.1)\n",
            "Requirement already satisfied: ptyprocess; os_name != \"nt\" in /usr/local/lib/python3.6/dist-packages (from terminado>=0.3.3; sys_platform != \"win32\"->notebook->open3d) (0.6.0)\n",
            "Requirement already satisfied: pyzmq>=13 in /usr/local/lib/python3.6/dist-packages (from jupyter-client->notebook->open3d) (19.0.1)\n",
            "Requirement already satisfied: six in /usr/local/lib/python3.6/dist-packages (from traitlets>=4.2.1->notebook->open3d) (1.15.0)\n",
            "Requirement already satisfied: decorator in /usr/local/lib/python3.6/dist-packages (from traitlets>=4.2.1->notebook->open3d) (4.4.2)\n",
            "Requirement already satisfied: testpath in /usr/local/lib/python3.6/dist-packages (from nbconvert->notebook->open3d) (0.4.4)\n",
            "Requirement already satisfied: pandocfilters>=1.4.1 in /usr/local/lib/python3.6/dist-packages (from nbconvert->notebook->open3d) (1.4.2)\n",
            "Requirement already satisfied: entrypoints>=0.2.2 in /usr/local/lib/python3.6/dist-packages (from nbconvert->notebook->open3d) (0.3)\n",
            "Requirement already satisfied: mistune<2,>=0.8.1 in /usr/local/lib/python3.6/dist-packages (from nbconvert->notebook->open3d) (0.8.4)\n",
            "Requirement already satisfied: defusedxml in /usr/local/lib/python3.6/dist-packages (from nbconvert->notebook->open3d) (0.6.0)\n",
            "Requirement already satisfied: pygments in /usr/local/lib/python3.6/dist-packages (from nbconvert->notebook->open3d) (2.1.3)\n",
            "Requirement already satisfied: bleach in /usr/local/lib/python3.6/dist-packages (from nbconvert->notebook->open3d) (3.1.5)\n",
            "Requirement already satisfied: setuptools>=18.5 in /usr/local/lib/python3.6/dist-packages (from ipython>=4.0.0; python_version >= \"3.3\"->ipywidgets->open3d) (49.1.0)\n",
            "Requirement already satisfied: simplegeneric>0.8 in /usr/local/lib/python3.6/dist-packages (from ipython>=4.0.0; python_version >= \"3.3\"->ipywidgets->open3d) (0.8.1)\n",
            "Requirement already satisfied: pickleshare in /usr/local/lib/python3.6/dist-packages (from ipython>=4.0.0; python_version >= \"3.3\"->ipywidgets->open3d) (0.7.5)\n",
            "Requirement already satisfied: pexpect; sys_platform != \"win32\" in /usr/local/lib/python3.6/dist-packages (from ipython>=4.0.0; python_version >= \"3.3\"->ipywidgets->open3d) (4.8.0)\n",
            "Requirement already satisfied: prompt-toolkit<2.0.0,>=1.0.4 in /usr/local/lib/python3.6/dist-packages (from ipython>=4.0.0; python_version >= \"3.3\"->ipywidgets->open3d) (1.0.18)\n",
            "Requirement already satisfied: packaging in /usr/local/lib/python3.6/dist-packages (from bleach->nbconvert->notebook->open3d) (20.4)\n",
            "Requirement already satisfied: webencodings in /usr/local/lib/python3.6/dist-packages (from bleach->nbconvert->notebook->open3d) (0.5.1)\n",
            "Requirement already satisfied: wcwidth in /usr/local/lib/python3.6/dist-packages (from prompt-toolkit<2.0.0,>=1.0.4->ipython>=4.0.0; python_version >= \"3.3\"->ipywidgets->open3d) (0.2.5)\n"
          ],
          "name": "stdout"
        }
      ]
    },
    {
      "cell_type": "markdown",
      "metadata": {
        "id": "nYpnFurJt0Pu",
        "colab_type": "text"
      },
      "source": [
        "#add libraries, and login to wandb"
      ]
    },
    {
      "cell_type": "code",
      "metadata": {
        "id": "NU8OYjiWtzeo",
        "colab_type": "code",
        "colab": {}
      },
      "source": [
        "import open3d as o3d\n",
        "import numpy as np\n",
        "\n",
        "import torch\n",
        "import torch.nn as nn\n",
        "import torch.nn.functional as F\n",
        "import torch.optim as optim\n",
        "from torchsummary import summary\n",
        "from torch.utils.data import DataLoader, TensorDataset\n",
        "device = torch.device(\"cuda:0\" if torch.cuda.is_available() else \"cpu\")\n",
        "device\n",
        "\n",
        "# Ignore excessive warnings\n",
        "import logging\n",
        "logging.propagate = False \n",
        "logging.getLogger().setLevel(logging.ERROR)\n",
        "\n",
        "# WandB – Import the wandb library\n",
        "import wandb"
      ],
      "execution_count": 4,
      "outputs": []
    },
    {
      "cell_type": "code",
      "metadata": {
        "id": "V_fQzoLaVP2U",
        "colab_type": "code",
        "colab": {
          "base_uri": "https://localhost:8080/",
          "height": 84
        },
        "outputId": "eb8efb16-ac26-4359-e103-b64967f8409b"
      },
      "source": [
        "!wandb login"
      ],
      "execution_count": 5,
      "outputs": [
        {
          "output_type": "stream",
          "text": [
            "\u001b[34m\u001b[1mwandb\u001b[0m: You can find your API key in your browser here: https://app.wandb.ai/authorize\n",
            "\u001b[34m\u001b[1mwandb\u001b[0m: Paste an API key from your profile and hit enter: 3ee9555f5fe9ec64586fefd263b8453dd4b4ea3b\n",
            "\u001b[34m\u001b[1mwandb\u001b[0m: Appending key for api.wandb.ai to your netrc file: /root/.netrc\n",
            "\u001b[32mSuccessfully logged in to Weights & Biases!\u001b[0m\n"
          ],
          "name": "stdout"
        }
      ]
    },
    {
      "cell_type": "code",
      "metadata": {
        "id": "Y2lZ9OiNchg0",
        "colab_type": "code",
        "colab": {
          "base_uri": "https://localhost:8080/",
          "height": 67
        },
        "outputId": "7e2e9f44-9b3b-45a1-975c-25b7ea3c2dc9"
      },
      "source": [
        "\n",
        "wandb.init(project=\"bugan-basicgan\")\n",
        "wandb.watch_called = False"
      ],
      "execution_count": 6,
      "outputs": [
        {
          "output_type": "display_data",
          "data": {
            "text/html": [
              "\n",
              "                Logging results to <a href=\"https://wandb.com\" target=\"_blank\">Weights & Biases</a> <a href=\"https://docs.wandb.com/integrations/jupyter.html\" target=\"_blank\">(Documentation)</a>.<br/>\n",
              "                Project page: <a href=\"https://app.wandb.ai/ryan-au/bugan-basicgan\" target=\"_blank\">https://app.wandb.ai/ryan-au/bugan-basicgan</a><br/>\n",
              "                Run page: <a href=\"https://app.wandb.ai/ryan-au/bugan-basicgan/runs/1zhbkcbp\" target=\"_blank\">https://app.wandb.ai/ryan-au/bugan-basicgan/runs/1zhbkcbp</a><br/>\n",
              "            "
            ],
            "text/plain": [
              "<IPython.core.display.HTML object>"
            ]
          },
          "metadata": {
            "tags": []
          }
        }
      ]
    },
    {
      "cell_type": "code",
      "metadata": {
        "id": "2gr3PMthXkdQ",
        "colab_type": "code",
        "colab": {}
      },
      "source": [
        "#keep track of hyperparams\n",
        "config = wandb.config\n",
        "config.batch_size = 1\n",
        "config.test_batch_size = 1\n",
        "config.epochs = 50\n",
        "config.g_lr = 0.0003\n",
        "config.d_lr = 0.0003               \n",
        "config.seed = 1234\n",
        "config.log_interval = 10"
      ],
      "execution_count": 7,
      "outputs": []
    },
    {
      "cell_type": "markdown",
      "metadata": {
        "id": "Alz0eunxK9hI",
        "colab_type": "text"
      },
      "source": [
        "#dataset"
      ]
    },
    {
      "cell_type": "code",
      "metadata": {
        "id": "PwCa8fUMRcZU",
        "colab_type": "code",
        "colab": {}
      },
      "source": [
        "def voxel2arrayCentered(voxel, tree_size_scale = 1):\n",
        "    array_size = np.array([250, 250, 250])\n",
        "    vox_array = np.zeros(array_size, dtype=int)  \n",
        "    tree_size = np.array(voxel.get_axis_aligned_bounding_box().get_extent())\n",
        "    tree_size = np.ceil(tree_size / tree_size_scale)    #voxel_size = tree_size_scale\n",
        "    tree_center = (np.ceil(tree_size / 2)).astype(int)\n",
        "\n",
        "    vox_list = voxel.get_voxels()\n",
        "    for vox in vox_list:\n",
        "        coord = vox.grid_index\n",
        "        #center the tree\n",
        "        coord = coord - tree_center + (array_size/2)\n",
        "        coord = tuple(coord.astype(int))\n",
        "\n",
        "        vox_array[coord] = 1.\n",
        "\n",
        "    return vox_array.astype(bool)"
      ],
      "execution_count": 8,
      "outputs": []
    },
    {
      "cell_type": "code",
      "metadata": {
        "id": "vf2GIoAjLCCP",
        "colab_type": "code",
        "colab": {
          "base_uri": "https://localhost:8080/",
          "height": 134
        },
        "outputId": "90e08251-9a45-4b23-b7f1-9b55f378fec4"
      },
      "source": [
        "#process all files in the generated file folder to generate dataset \n",
        "import os\n",
        "\n",
        "dataset = []\n",
        "for file_name in os.listdir():\n",
        "    if file_name.endswith(\"voxel_size03.ply\"):\n",
        "        #note that the voxel_size of vox is 0.3, so we scale it back to one for indexing\n",
        "        print(file_name)\n",
        "        dataset.append(voxel2arrayCentered(o3d.io.read_voxel_grid(file_name), 0.3))\n"
      ],
      "execution_count": 9,
      "outputs": [
        {
          "output_type": "stream",
          "text": [
            "maple_2_voxel_size03.ply\n",
            "maple_3_voxel_size03.ply\n",
            "maple_1_voxel_size03.ply\n",
            "script_load3Dobj.i_voxel_size03.ply\n",
            "old_1_voxel_size03.ply\n",
            "old_2_voxel_size03.ply\n",
            "old_3_voxel_size03.ply\n"
          ],
          "name": "stdout"
        }
      ]
    },
    {
      "cell_type": "code",
      "metadata": {
        "id": "whLlZwwAoKuR",
        "colab_type": "code",
        "colab": {
          "base_uri": "https://localhost:8080/",
          "height": 34
        },
        "outputId": "e10f3803-8a02-40f6-c6da-70263bc1d008"
      },
      "source": [
        "dataset = torch.tensor(dataset)\n",
        "print(torch.unsqueeze(dataset, -1).shape)\n",
        "tensor_dataset = TensorDataset(torch.unsqueeze(dataset, 1))\n",
        "dataloader = DataLoader(tensor_dataset, batch_size=config.batch_size)"
      ],
      "execution_count": 10,
      "outputs": [
        {
          "output_type": "stream",
          "text": [
            "torch.Size([7, 250, 250, 250, 1])\n"
          ],
          "name": "stdout"
        }
      ]
    },
    {
      "cell_type": "markdown",
      "metadata": {
        "id": "OIaapsqSK5h2",
        "colab_type": "text"
      },
      "source": [
        "#model description"
      ]
    },
    {
      "cell_type": "code",
      "metadata": {
        "id": "OodI2E4ANdYQ",
        "colab_type": "code",
        "colab": {}
      },
      "source": [
        "#input: 128-d noise vector\n",
        "#output: (250,250,250) array with values in [0,1]\n",
        "\n",
        "class Generator(nn.Module):\n",
        "    def __init__(self):\n",
        "        super(Generator, self).__init__()\n",
        "        self.gen_fc = nn.Linear(128, 16 * 5 * 5 * 5)\n",
        "        self.gen = nn.Sequential(\n",
        "            nn.ConvTranspose3d(16, 32, 5, 2),\n",
        "            nn.BatchNorm3d(32),\n",
        "            nn.ReLU(True),\n",
        "            nn.ConvTranspose3d(32, 32, 5, 2),\n",
        "            nn.BatchNorm3d(32),\n",
        "            nn.ReLU(True),\n",
        "            nn.ConvTranspose3d(32, 32, 5, 2),\n",
        "            nn.BatchNorm3d(32),\n",
        "            nn.ReLU(True),\n",
        "            nn.ConvTranspose3d(32, 32, 3, 2),\n",
        "            nn.BatchNorm3d(32),\n",
        "            nn.ReLU(True),\n",
        "            nn.ConvTranspose3d(32, 16, 3, 2),\n",
        "            nn.BatchNorm3d(16),\n",
        "            nn.ReLU(True),\n",
        "            nn.ConvTranspose3d(16, 1, 4, 1),\n",
        "            nn.Sigmoid()\n",
        "        )\n",
        "\n",
        "    def forward(self, x):\n",
        "\n",
        "        x = self.gen_fc(x)\n",
        "        x = x.view(x.shape[0], 16, 5, 5, 5)\n",
        "        x = self.gen(x)\n",
        "        return x\n",
        "\n",
        "\n",
        "class Discriminator(nn.Module):\n",
        "    def __init__(self):\n",
        "        super(Discriminator, self).__init__()\n",
        "        \n",
        "        self.dis = nn.Sequential(\n",
        "            nn.Conv3d(1, 16, 5, 1),\n",
        "            nn.LeakyReLU(0.1, True),\n",
        "            nn.MaxPool3d((2, 2, 2)),\n",
        "            nn.Conv3d(16, 32, 5, 1),\n",
        "            nn.LeakyReLU(0.1, True),\n",
        "            nn.MaxPool3d((2, 2, 2)),\n",
        "            nn.Conv3d(32, 32, 5, 1),\n",
        "            nn.LeakyReLU(0.1, True),\n",
        "            nn.MaxPool3d((2, 2, 2)),\n",
        "            nn.Conv3d(32, 16, 5, 1),\n",
        "            nn.LeakyReLU(0.1, True),\n",
        "            nn.MaxPool3d((2, 2, 2)),\n",
        "            nn.Conv3d(16, 16, 5, 1),\n",
        "            nn.LeakyReLU(0.1, True),\n",
        "            nn.Conv3d(16, 8, 5, 1),\n",
        "            nn.LeakyReLU(0.1, True),\n",
        "        )\n",
        "\n",
        "        self.dis_fc = nn.Sequential(\n",
        "            nn.Linear(8 * 3 * 3 * 3, 128),\n",
        "            nn.LeakyReLU(0.1, True),\n",
        "            nn.Linear(128, 1),\n",
        "            nn.Sigmoid()\n",
        "        )\n",
        "\n",
        "    def forward(self, x):\n",
        "\n",
        "        x = self.dis(x)\n",
        "        x = x.view(x.shape[0], -1)\n",
        "        x = self.dis_fc(x)\n",
        "        return x"
      ],
      "execution_count": 11,
      "outputs": []
    },
    {
      "cell_type": "code",
      "metadata": {
        "id": "-6CzSW9jATSh",
        "colab_type": "code",
        "colab": {
          "base_uri": "https://localhost:8080/",
          "height": 538
        },
        "outputId": "b865897b-9233-4576-bd48-f3a25af010c5"
      },
      "source": [
        "G = Generator().to(device)\n",
        "summary(G, (128,))"
      ],
      "execution_count": 12,
      "outputs": [
        {
          "output_type": "stream",
          "text": [
            "----------------------------------------------------------------\n",
            "        Layer (type)               Output Shape         Param #\n",
            "================================================================\n",
            "            Linear-1                 [-1, 2000]         258,000\n",
            "   ConvTranspose3d-2       [-1, 32, 13, 13, 13]          64,032\n",
            "       BatchNorm3d-3       [-1, 32, 13, 13, 13]              64\n",
            "              ReLU-4       [-1, 32, 13, 13, 13]               0\n",
            "   ConvTranspose3d-5       [-1, 32, 29, 29, 29]         128,032\n",
            "       BatchNorm3d-6       [-1, 32, 29, 29, 29]              64\n",
            "              ReLU-7       [-1, 32, 29, 29, 29]               0\n",
            "   ConvTranspose3d-8       [-1, 32, 61, 61, 61]         128,032\n",
            "       BatchNorm3d-9       [-1, 32, 61, 61, 61]              64\n",
            "             ReLU-10       [-1, 32, 61, 61, 61]               0\n",
            "  ConvTranspose3d-11    [-1, 32, 123, 123, 123]          27,680\n",
            "      BatchNorm3d-12    [-1, 32, 123, 123, 123]              64\n",
            "             ReLU-13    [-1, 32, 123, 123, 123]               0\n",
            "  ConvTranspose3d-14    [-1, 16, 247, 247, 247]          13,840\n",
            "      BatchNorm3d-15    [-1, 16, 247, 247, 247]              32\n",
            "             ReLU-16    [-1, 16, 247, 247, 247]               0\n",
            "  ConvTranspose3d-17     [-1, 1, 250, 250, 250]           1,025\n",
            "          Sigmoid-18     [-1, 1, 250, 250, 250]               0\n",
            "================================================================\n",
            "Total params: 620,929\n",
            "Trainable params: 620,929\n",
            "Non-trainable params: 0\n",
            "----------------------------------------------------------------\n",
            "Input size (MB): 0.00\n",
            "Forward/backward pass size (MB): 7305.61\n",
            "Params size (MB): 2.37\n",
            "Estimated Total Size (MB): 7307.97\n",
            "----------------------------------------------------------------\n"
          ],
          "name": "stdout"
        }
      ]
    },
    {
      "cell_type": "code",
      "metadata": {
        "id": "cFZSVCCBIuPq",
        "colab_type": "code",
        "colab": {
          "base_uri": "https://localhost:8080/",
          "height": 571
        },
        "outputId": "5d1fab91-d105-4454-9076-f998bb84417e"
      },
      "source": [
        "D = Discriminator().to(device)\n",
        "summary(D, (1, 250, 250, 250))"
      ],
      "execution_count": 13,
      "outputs": [
        {
          "output_type": "stream",
          "text": [
            "----------------------------------------------------------------\n",
            "        Layer (type)               Output Shape         Param #\n",
            "================================================================\n",
            "            Conv3d-1    [-1, 16, 246, 246, 246]           2,016\n",
            "         LeakyReLU-2    [-1, 16, 246, 246, 246]               0\n",
            "         MaxPool3d-3    [-1, 16, 123, 123, 123]               0\n",
            "            Conv3d-4    [-1, 32, 119, 119, 119]          64,032\n",
            "         LeakyReLU-5    [-1, 32, 119, 119, 119]               0\n",
            "         MaxPool3d-6       [-1, 32, 59, 59, 59]               0\n",
            "            Conv3d-7       [-1, 32, 55, 55, 55]         128,032\n",
            "         LeakyReLU-8       [-1, 32, 55, 55, 55]               0\n",
            "         MaxPool3d-9       [-1, 32, 27, 27, 27]               0\n",
            "           Conv3d-10       [-1, 16, 23, 23, 23]          64,016\n",
            "        LeakyReLU-11       [-1, 16, 23, 23, 23]               0\n",
            "        MaxPool3d-12       [-1, 16, 11, 11, 11]               0\n",
            "           Conv3d-13          [-1, 16, 7, 7, 7]          32,016\n",
            "        LeakyReLU-14          [-1, 16, 7, 7, 7]               0\n",
            "           Conv3d-15           [-1, 8, 3, 3, 3]          16,008\n",
            "        LeakyReLU-16           [-1, 8, 3, 3, 3]               0\n",
            "           Linear-17                  [-1, 128]          27,776\n",
            "        LeakyReLU-18                  [-1, 128]               0\n",
            "           Linear-19                    [-1, 1]             129\n",
            "          Sigmoid-20                    [-1, 1]               0\n",
            "================================================================\n",
            "Total params: 334,025\n",
            "Trainable params: 334,025\n",
            "Non-trainable params: 0\n",
            "----------------------------------------------------------------\n",
            "Input size (MB): 59.60\n",
            "Forward/backward pass size (MB): 4823.90\n",
            "Params size (MB): 1.27\n",
            "Estimated Total Size (MB): 4884.78\n",
            "----------------------------------------------------------------\n"
          ],
          "name": "stdout"
        }
      ]
    },
    {
      "cell_type": "markdown",
      "metadata": {
        "id": "fbrRSqnqK20W",
        "colab_type": "text"
      },
      "source": [
        "#functions for pytorch network"
      ]
    },
    {
      "cell_type": "code",
      "metadata": {
        "id": "rHZ9sGFVspXr",
        "colab_type": "code",
        "colab": {}
      },
      "source": [
        "#TODO: add train and test log\n",
        "def train_model(generator, discriminator, dataloader):   \n",
        "    #set seed\n",
        "    torch.manual_seed(config.seed)\n",
        "    # torch.backends.cudnn.deterministic = True\n",
        "\n",
        "    generator.to(device)\n",
        "    discriminator.to(device)\n",
        "    \n",
        "    #loss function\n",
        "    criterion = nn.BCELoss(reduction='sum')\n",
        "    #optimizer\n",
        "    dis_optimizer = optim.Adam(discriminator.parameters(), lr=config.d_lr)\n",
        "    gen_optimizer = optim.Adam(generator.parameters(), lr=config.g_lr)   \n",
        "\n",
        "    generator.train()\n",
        "    discriminator.train()\n",
        "\n",
        "    #log models\n",
        "    wandb.watch(generator, log=\"all\")\n",
        "    wandb.watch(discriminator, log=\"all\")\n",
        "\n",
        "    d_losses = []\n",
        "    g_losses = []\n",
        "    for epoch in range(config.epochs):\n",
        "        d_ep_loss = 0.\n",
        "        g_ep_loss = 0.\n",
        "        for dataset_batch in dataloader:\n",
        "            dataset_batch = dataset_batch[0]\n",
        "            dataset_batch = dataset_batch.float().to(device)\n",
        "            batch_size = dataset_batch.shape[0]\n",
        "            \n",
        "            #labels\n",
        "            real_label = torch.unsqueeze(torch.ones(batch_size),1).to(device)\n",
        "            fake_label = torch.unsqueeze(torch.zeros(batch_size),1).to(device)\n",
        "\n",
        "            \n",
        "            ############\n",
        "            #train discriminator\n",
        "            ############\n",
        "            #generate fake trees\n",
        "            z = torch.randn(batch_size, 128).to(device) #128-d noise vector\n",
        "            tree_fake = generator(z)\n",
        "\n",
        "            #real data (data from dataloader)\n",
        "            dout_real = discriminator(dataset_batch)\n",
        "            dloss_real = criterion(dout_real, real_label)\n",
        "            score_real = dout_real\n",
        "            #fake data (data from generator)            \n",
        "            dout_fake = discriminator(tree_fake.detach())   #detach so no double update on the same batch of tree_fake\n",
        "            dloss_fake = criterion(dout_fake, fake_label)\n",
        "            score_fake = dout_fake\n",
        "\n",
        "            #loss function (discriminator classify real data vs generated data)\n",
        "            dloss = dloss_real + dloss_fake\n",
        "\n",
        "            #optimize discriminator\n",
        "            dis_optimizer.zero_grad()\n",
        "            dloss.backward()\n",
        "            dis_optimizer.step()\n",
        "\n",
        "            #record loss\n",
        "            d_ep_loss += dloss.detach()\n",
        "\n",
        "            ############\n",
        "            #train generator\n",
        "            ############\n",
        "\n",
        "            #tree_fake is already computed above\n",
        "            dout_fake = discriminator(tree_fake)\n",
        "            #generator should generate trees that discriminator think they are real\n",
        "            gloss = criterion(dout_fake, real_label)    \n",
        "\n",
        "            #optimize generator\n",
        "            gen_optimizer.zero_grad() \n",
        "            gloss.backward()\n",
        "            gen_optimizer.step()\n",
        "\n",
        "            #record loss\n",
        "            g_ep_loss += gloss.detach()\n",
        "\n",
        "        #after each epoch, record total loss\n",
        "        d_losses.append(d_ep_loss)\n",
        "        g_losses.append(g_ep_loss)\n",
        "        print(\"discriminator, epoch\"+str(epoch)+\" : \"+str(d_ep_loss))\n",
        "        print(\"generator, epoch\"+str(epoch)+\" : \"+str(g_ep_loss))\n",
        "\n",
        "        #save model if necessary\n",
        "        if epoch % 10 == 0:\n",
        "            torch.save(generator.state_dict(), os.path.join(wandb.run.dir, 'generator.pth'))\n",
        "            torch.save(discriminator.state_dict(), os.path.join(wandb.run.dir, 'discriminator.pth'))\n",
        "    \n",
        "    #training end, save model again\n",
        "    torch.save(generator.state_dict(), os.path.join(wandb.run.dir, 'generator.pth'))\n",
        "    torch.save(discriminator.state_dict(), os.path.join(wandb.run.dir, 'discriminator.pth'))\n",
        "    print(d_losses)\n",
        "    print(g_losses)\n",
        "\n",
        "#this is the same as train_model, except it will only evaluate loss but not update model \n",
        "def loss_eval(generator, discriminator, dataloader):\n",
        "    torch.manual_seed(config.seed)\n",
        "    # torch.backends.cudnn.deterministic = True\n",
        "\n",
        "    generator.to(device)\n",
        "    discriminator.to(device)\n",
        "    \n",
        "    #loss function\n",
        "    criterion = nn.BCELoss(reduction='sum')   \n",
        "\n",
        "    generator.eval()\n",
        "    discriminator.eval()\n",
        "\n",
        "    d_ep_loss = 0.\n",
        "    g_ep_loss = 0.\n",
        "    for dataset_batch in dataloader:\n",
        "        dataset_batch = dataset_batch[0]\n",
        "        dataset_batch = dataset_batch.float().to(device)\n",
        "        batch_size = dataset_batch.shape[0]\n",
        "        \n",
        "        #labels\n",
        "        real_label = torch.unsqueeze(torch.ones(batch_size),1).to(device)\n",
        "        fake_label = torch.unsqueeze(torch.zeros(batch_size),1).to(device)\n",
        "\n",
        "        ############\n",
        "        #discriminator\n",
        "        ############\n",
        "        #generate fake trees\n",
        "        z = torch.randn(batch_size, 128).to(device) #128-d noise vector\n",
        "        tree_fake = generator(z)\n",
        "\n",
        "        #real data (data from dataloader)\n",
        "        dout_real = discriminator(dataset_batch)\n",
        "        dloss_real = criterion(dout_real, real_label)\n",
        "        score_real = dout_real\n",
        "        #fake data (data from generator)            \n",
        "        dout_fake = discriminator(tree_fake.detach())   #detach so no double update on the same batch of tree_fake\n",
        "        dloss_fake = criterion(dout_fake, fake_label)\n",
        "        score_fake = dout_fake\n",
        "\n",
        "        #loss function (discriminator classify real data vs generated data)\n",
        "        dloss = dloss_real + dloss_fake\n",
        "\n",
        "        #record loss\n",
        "        d_ep_loss += dloss.detach()\n",
        "\n",
        "        ############\n",
        "        #train generator\n",
        "        ############\n",
        "\n",
        "        #tree_fake is already computed above\n",
        "        dout_fake = discriminator(tree_fake)\n",
        "        #generator should generate trees that discriminator think they are real\n",
        "        gloss = criterion(dout_fake, real_label)    \n",
        "\n",
        "        #record loss\n",
        "        g_ep_loss += gloss.detach()\n",
        "\n",
        "    print(\"discriminator loss: \"+str(d_ep_loss))\n",
        "    print(\"generator loss: \"+str(g_ep_loss))\n",
        "\n",
        "\n",
        "def save_model(generator, discriminator, g_path = os.path.join(wandb.run.dir, 'generator.pth') , d_path = os.path.join(wandb.run.dir, 'discriminator.pth')):\n",
        "    torch.save(generator.state_dict(), g_path)\n",
        "    torch.save(discriminator.state_dict(), d_path)\n",
        "\n",
        "def load_model(g_path = os.path.join(wandb.run.dir, 'generator.pth'), d_path = os.path.join(wandb.run.dir, 'discriminator.pth')):\n",
        "    generator = Generator()\n",
        "    generator.load_state_dict(torch.load(g_path))\n",
        "    generator.eval()\n",
        "\n",
        "    discriminator = Discriminator()\n",
        "    discriminator.load_state_dict(torch.load(d_path))\n",
        "    discriminator.eval()\n",
        "    return generator, discriminator\n",
        "\n",
        "def generate_tree(generator, num_trees = 1):\n",
        "    torch.manual_seed(config.seed)\n",
        "    torch.backends.cudnn.deterministic = True\n",
        "    \n",
        "    #generate noise vector\n",
        "    z = torch.randn(num_trees, 128).to(device)\n",
        "    generator.to(device).eval()\n",
        "    tree_fake = generator(z)\n",
        "    return tree_fake.detach().cpu().numpy()"
      ],
      "execution_count": 18,
      "outputs": []
    },
    {
      "cell_type": "markdown",
      "metadata": {
        "id": "O1TU9N4Y8se3",
        "colab_type": "text"
      },
      "source": [
        "#train"
      ]
    },
    {
      "cell_type": "code",
      "metadata": {
        "id": "YFQWIWapYOsN",
        "colab_type": "code",
        "colab": {
          "base_uri": "https://localhost:8080/",
          "height": 1000
        },
        "outputId": "c6604d04-4c22-484a-f6c0-a5a18c2fea62"
      },
      "source": [
        "G = Generator()\n",
        "D = Discriminator()\n",
        "# loss_eval(G, D, dataloader)\n",
        "train_model(G, D, dataloader)        #given dataloader has only 1 model, the training time is 72s per epoch.\n",
        "# loss_eval(G, D, dataloader)"
      ],
      "execution_count": 19,
      "outputs": [
        {
          "output_type": "stream",
          "text": [
            "discriminator, epoch0 : tensor(9.1325, device='cuda:0')\n",
            "generator, epoch0 : tensor(8.1705, device='cuda:0')\n",
            "discriminator, epoch1 : tensor(6.5544, device='cuda:0')\n",
            "generator, epoch1 : tensor(20.3887, device='cuda:0')\n",
            "discriminator, epoch2 : tensor(1.7195, device='cuda:0')\n",
            "generator, epoch2 : tensor(47.6681, device='cuda:0')\n",
            "discriminator, epoch3 : tensor(0.0326, device='cuda:0')\n",
            "generator, epoch3 : tensor(84.7063, device='cuda:0')\n",
            "discriminator, epoch4 : tensor(3.3171, device='cuda:0')\n",
            "generator, epoch4 : tensor(28.2940, device='cuda:0')\n",
            "discriminator, epoch5 : tensor(14.8030, device='cuda:0')\n",
            "generator, epoch5 : tensor(6.3672, device='cuda:0')\n",
            "discriminator, epoch6 : tensor(1.1111, device='cuda:0')\n",
            "generator, epoch6 : tensor(38.3148, device='cuda:0')\n",
            "discriminator, epoch7 : tensor(0.2915, device='cuda:0')\n",
            "generator, epoch7 : tensor(23.6775, device='cuda:0')\n",
            "discriminator, epoch8 : tensor(0.3302, device='cuda:0')\n",
            "generator, epoch8 : tensor(21.9518, device='cuda:0')\n",
            "discriminator, epoch9 : tensor(0.1987, device='cuda:0')\n",
            "generator, epoch9 : tensor(25.9870, device='cuda:0')\n",
            "discriminator, epoch10 : tensor(0.0879, device='cuda:0')\n",
            "generator, epoch10 : tensor(31.7692, device='cuda:0')\n",
            "discriminator, epoch11 : tensor(0.0390, device='cuda:0')\n",
            "generator, epoch11 : tensor(37.2771, device='cuda:0')\n",
            "discriminator, epoch12 : tensor(0.0200, device='cuda:0')\n",
            "generator, epoch12 : tensor(41.7057, device='cuda:0')\n",
            "discriminator, epoch13 : tensor(0.0121, device='cuda:0')\n",
            "generator, epoch13 : tensor(45.0066, device='cuda:0')\n",
            "discriminator, epoch14 : tensor(0.0086, device='cuda:0')\n",
            "generator, epoch14 : tensor(47.2973, device='cuda:0')\n",
            "discriminator, epoch15 : tensor(0.0066, device='cuda:0')\n",
            "generator, epoch15 : tensor(48.9900, device='cuda:0')\n",
            "discriminator, epoch16 : tensor(0.0055, device='cuda:0')\n",
            "generator, epoch16 : tensor(50.2991, device='cuda:0')\n",
            "discriminator, epoch17 : tensor(0.0047, device='cuda:0')\n",
            "generator, epoch17 : tensor(51.2891, device='cuda:0')\n",
            "discriminator, epoch18 : tensor(0.0042, device='cuda:0')\n",
            "generator, epoch18 : tensor(52.1336, device='cuda:0')\n",
            "discriminator, epoch19 : tensor(0.0038, device='cuda:0')\n",
            "generator, epoch19 : tensor(52.8632, device='cuda:0')\n",
            "discriminator, epoch20 : tensor(0.0034, device='cuda:0')\n",
            "generator, epoch20 : tensor(53.5226, device='cuda:0')\n",
            "discriminator, epoch21 : tensor(0.0031, device='cuda:0')\n",
            "generator, epoch21 : tensor(54.1593, device='cuda:0')\n",
            "discriminator, epoch22 : tensor(0.0029, device='cuda:0')\n",
            "generator, epoch22 : tensor(54.7655, device='cuda:0')\n",
            "discriminator, epoch23 : tensor(0.0027, device='cuda:0')\n",
            "generator, epoch23 : tensor(55.2689, device='cuda:0')\n",
            "discriminator, epoch24 : tensor(0.0025, device='cuda:0')\n",
            "generator, epoch24 : tensor(55.8387, device='cuda:0')\n",
            "discriminator, epoch25 : tensor(0.0023, device='cuda:0')\n",
            "generator, epoch25 : tensor(56.2904, device='cuda:0')\n",
            "discriminator, epoch26 : tensor(0.0022, device='cuda:0')\n",
            "generator, epoch26 : tensor(56.7725, device='cuda:0')\n",
            "discriminator, epoch27 : tensor(0.0020, device='cuda:0')\n",
            "generator, epoch27 : tensor(57.2340, device='cuda:0')\n",
            "discriminator, epoch28 : tensor(0.0019, device='cuda:0')\n",
            "generator, epoch28 : tensor(57.7104, device='cuda:0')\n",
            "discriminator, epoch29 : tensor(0.0018, device='cuda:0')\n",
            "generator, epoch29 : tensor(58.1249, device='cuda:0')\n",
            "discriminator, epoch30 : tensor(0.0017, device='cuda:0')\n",
            "generator, epoch30 : tensor(58.5558, device='cuda:0')\n",
            "discriminator, epoch31 : tensor(0.0016, device='cuda:0')\n",
            "generator, epoch31 : tensor(58.9554, device='cuda:0')\n",
            "discriminator, epoch32 : tensor(0.0015, device='cuda:0')\n",
            "generator, epoch32 : tensor(59.3645, device='cuda:0')\n",
            "discriminator, epoch33 : tensor(0.0014, device='cuda:0')\n",
            "generator, epoch33 : tensor(59.7157, device='cuda:0')\n",
            "discriminator, epoch34 : tensor(0.0014, device='cuda:0')\n",
            "generator, epoch34 : tensor(60.0959, device='cuda:0')\n",
            "discriminator, epoch35 : tensor(0.0013, device='cuda:0')\n",
            "generator, epoch35 : tensor(60.4420, device='cuda:0')\n",
            "discriminator, epoch36 : tensor(0.0012, device='cuda:0')\n",
            "generator, epoch36 : tensor(60.7809, device='cuda:0')\n",
            "discriminator, epoch37 : tensor(0.0012, device='cuda:0')\n",
            "generator, epoch37 : tensor(61.1426, device='cuda:0')\n",
            "discriminator, epoch38 : tensor(0.0011, device='cuda:0')\n",
            "generator, epoch38 : tensor(61.4656, device='cuda:0')\n",
            "discriminator, epoch39 : tensor(0.0011, device='cuda:0')\n",
            "generator, epoch39 : tensor(61.7689, device='cuda:0')\n",
            "discriminator, epoch40 : tensor(0.0010, device='cuda:0')\n",
            "generator, epoch40 : tensor(62.0769, device='cuda:0')\n",
            "discriminator, epoch41 : tensor(0.0010, device='cuda:0')\n",
            "generator, epoch41 : tensor(62.3723, device='cuda:0')\n",
            "discriminator, epoch42 : tensor(0.0010, device='cuda:0')\n",
            "generator, epoch42 : tensor(62.6617, device='cuda:0')\n",
            "discriminator, epoch43 : tensor(0.0009, device='cuda:0')\n",
            "generator, epoch43 : tensor(62.9578, device='cuda:0')\n",
            "discriminator, epoch44 : tensor(0.0009, device='cuda:0')\n",
            "generator, epoch44 : tensor(63.2317, device='cuda:0')\n",
            "discriminator, epoch45 : tensor(0.0009, device='cuda:0')\n",
            "generator, epoch45 : tensor(63.5126, device='cuda:0')\n",
            "discriminator, epoch46 : tensor(0.0008, device='cuda:0')\n",
            "generator, epoch46 : tensor(63.7890, device='cuda:0')\n",
            "discriminator, epoch47 : tensor(0.0008, device='cuda:0')\n",
            "generator, epoch47 : tensor(64.0524, device='cuda:0')\n",
            "discriminator, epoch48 : tensor(0.0008, device='cuda:0')\n",
            "generator, epoch48 : tensor(64.2941, device='cuda:0')\n",
            "discriminator, epoch49 : tensor(0.0008, device='cuda:0')\n",
            "generator, epoch49 : tensor(64.5567, device='cuda:0')\n",
            "[tensor(9.1325, device='cuda:0'), tensor(6.5544, device='cuda:0'), tensor(1.7195, device='cuda:0'), tensor(0.0326, device='cuda:0'), tensor(3.3171, device='cuda:0'), tensor(14.8030, device='cuda:0'), tensor(1.1111, device='cuda:0'), tensor(0.2915, device='cuda:0'), tensor(0.3302, device='cuda:0'), tensor(0.1987, device='cuda:0'), tensor(0.0879, device='cuda:0'), tensor(0.0390, device='cuda:0'), tensor(0.0200, device='cuda:0'), tensor(0.0121, device='cuda:0'), tensor(0.0086, device='cuda:0'), tensor(0.0066, device='cuda:0'), tensor(0.0055, device='cuda:0'), tensor(0.0047, device='cuda:0'), tensor(0.0042, device='cuda:0'), tensor(0.0038, device='cuda:0'), tensor(0.0034, device='cuda:0'), tensor(0.0031, device='cuda:0'), tensor(0.0029, device='cuda:0'), tensor(0.0027, device='cuda:0'), tensor(0.0025, device='cuda:0'), tensor(0.0023, device='cuda:0'), tensor(0.0022, device='cuda:0'), tensor(0.0020, device='cuda:0'), tensor(0.0019, device='cuda:0'), tensor(0.0018, device='cuda:0'), tensor(0.0017, device='cuda:0'), tensor(0.0016, device='cuda:0'), tensor(0.0015, device='cuda:0'), tensor(0.0014, device='cuda:0'), tensor(0.0014, device='cuda:0'), tensor(0.0013, device='cuda:0'), tensor(0.0012, device='cuda:0'), tensor(0.0012, device='cuda:0'), tensor(0.0011, device='cuda:0'), tensor(0.0011, device='cuda:0'), tensor(0.0010, device='cuda:0'), tensor(0.0010, device='cuda:0'), tensor(0.0010, device='cuda:0'), tensor(0.0009, device='cuda:0'), tensor(0.0009, device='cuda:0'), tensor(0.0009, device='cuda:0'), tensor(0.0008, device='cuda:0'), tensor(0.0008, device='cuda:0'), tensor(0.0008, device='cuda:0'), tensor(0.0008, device='cuda:0')]\n",
            "[tensor(8.1705, device='cuda:0'), tensor(20.3887, device='cuda:0'), tensor(47.6681, device='cuda:0'), tensor(84.7063, device='cuda:0'), tensor(28.2940, device='cuda:0'), tensor(6.3672, device='cuda:0'), tensor(38.3148, device='cuda:0'), tensor(23.6775, device='cuda:0'), tensor(21.9518, device='cuda:0'), tensor(25.9870, device='cuda:0'), tensor(31.7692, device='cuda:0'), tensor(37.2771, device='cuda:0'), tensor(41.7057, device='cuda:0'), tensor(45.0066, device='cuda:0'), tensor(47.2973, device='cuda:0'), tensor(48.9900, device='cuda:0'), tensor(50.2991, device='cuda:0'), tensor(51.2891, device='cuda:0'), tensor(52.1336, device='cuda:0'), tensor(52.8632, device='cuda:0'), tensor(53.5226, device='cuda:0'), tensor(54.1593, device='cuda:0'), tensor(54.7655, device='cuda:0'), tensor(55.2689, device='cuda:0'), tensor(55.8387, device='cuda:0'), tensor(56.2904, device='cuda:0'), tensor(56.7725, device='cuda:0'), tensor(57.2340, device='cuda:0'), tensor(57.7104, device='cuda:0'), tensor(58.1249, device='cuda:0'), tensor(58.5558, device='cuda:0'), tensor(58.9554, device='cuda:0'), tensor(59.3645, device='cuda:0'), tensor(59.7157, device='cuda:0'), tensor(60.0959, device='cuda:0'), tensor(60.4420, device='cuda:0'), tensor(60.7809, device='cuda:0'), tensor(61.1426, device='cuda:0'), tensor(61.4656, device='cuda:0'), tensor(61.7689, device='cuda:0'), tensor(62.0769, device='cuda:0'), tensor(62.3723, device='cuda:0'), tensor(62.6617, device='cuda:0'), tensor(62.9578, device='cuda:0'), tensor(63.2317, device='cuda:0'), tensor(63.5126, device='cuda:0'), tensor(63.7890, device='cuda:0'), tensor(64.0524, device='cuda:0'), tensor(64.2941, device='cuda:0'), tensor(64.5567, device='cuda:0')]\n"
          ],
          "name": "stdout"
        }
      ]
    },
    {
      "cell_type": "code",
      "metadata": {
        "id": "gWwEILYbGFGX",
        "colab_type": "code",
        "colab": {
          "base_uri": "https://localhost:8080/",
          "height": 34
        },
        "outputId": "c626b4f8-4f95-4677-cf12-81cdb605ddeb"
      },
      "source": [
        "vox_array = generate_tree(G)\n",
        "vox_array = vox_array > 0.5\n",
        "print(vox_array.shape)"
      ],
      "execution_count": 20,
      "outputs": [
        {
          "output_type": "stream",
          "text": [
            "(1, 1, 250, 250, 250)\n"
          ],
          "name": "stdout"
        }
      ]
    },
    {
      "cell_type": "code",
      "metadata": {
        "id": "A4x5rr57Grol",
        "colab_type": "code",
        "colab": {
          "base_uri": "https://localhost:8080/",
          "height": 248
        },
        "outputId": "fa6f5902-c6bd-46ac-aaec-dc1fdc8e7899"
      },
      "source": [
        "from mpl_toolkits.mplot3d import Axes3D\n",
        "import numpy as np\n",
        "import matplotlib.pyplot as plt\n",
        "\n",
        "\n",
        "fig = plt.figure()\n",
        "ax = fig.gca(projection='3d')\n",
        "\n",
        "ax.voxels(vox_array[0,0], facecolors='red')\n",
        "\n",
        "plt.show()"
      ],
      "execution_count": 21,
      "outputs": [
        {
          "output_type": "display_data",
          "data": {
            "image/png": "[encoded data removed]",
            "text/plain": [
              "<Figure size 432x288 with 1 Axes>"
            ]
          },
          "metadata": {
            "tags": [],
            "needs_background": "light"
          }
        }
      ]
    }
  ]
}